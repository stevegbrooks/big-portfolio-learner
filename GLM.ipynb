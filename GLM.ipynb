{
  "cells": [
    {
      "cell_type": "markdown",
      "metadata": {
        "id": "view-in-github",
        "colab_type": "text"
      },
      "source": [
        "<a href=\"https://colab.research.google.com/github/stevegbrooks/big-portfolio-learner/blob/construct_portfolio/GLM.ipynb\" target=\"_parent\"><img src=\"https://colab.research.google.com/assets/colab-badge.svg\" alt=\"Open In Colab\"/></a>"
      ]
    },
    {
      "cell_type": "markdown",
      "metadata": {
        "id": "MuVdqztTGMiw"
      },
      "source": [
        "# CIS 545 Final Project\n",
        "\n",
        "## Big Portfolio Learner: Construct Portfolio by GLM\n",
        "\n",
        "### Team members: Steven Brooks & Chenlia Xu"
      ]
    },
    {
      "cell_type": "markdown",
      "source": [
        "# Section 1: Setting Up Environment"
      ],
      "metadata": {
        "id": "4yW0AkRlznO9"
      }
    },
    {
      "cell_type": "code",
      "execution_count": 125,
      "metadata": {
        "id": "ccEPNzH-QeHL"
      },
      "outputs": [],
      "source": [
        "import random\n",
        "import numpy as np \n",
        "import json\n",
        "import matplotlib\n",
        "import pandas as pd\n",
        "import matplotlib.pyplot as plt\n",
        "from matplotlib import cm\n",
        "from datetime import datetime\n",
        "import glob\n",
        "import seaborn as sns\n",
        "import re\n",
        "import os"
      ]
    },
    {
      "cell_type": "code",
      "execution_count": 126,
      "metadata": {
        "id": "3zaggIhAZzeK"
      },
      "outputs": [],
      "source": [
        "%%capture\n",
        "## If boto3 not already installed uncomment the following:\n",
        "!pip3 install boto3"
      ]
    },
    {
      "cell_type": "code",
      "execution_count": 127,
      "metadata": {
        "id": "dkkvY7IDQ-ou"
      },
      "outputs": [],
      "source": [
        "import boto3\n",
        "from botocore import UNSIGNED\n",
        "\n",
        "from botocore.config import Config\n",
        "\n",
        "s3 = boto3.resource('s3', config=Config(signature_version=UNSIGNED))\n",
        "s3.Bucket('cis545project').download_file('data/stock_data.zip', 'stock_data.zip')\n",
        "s3.Bucket('cis545project').download_file('data/technical_data.zip', 'technical_data.zip')"
      ]
    },
    {
      "cell_type": "code",
      "execution_count": 128,
      "metadata": {
        "id": "775OUJLwkKkn"
      },
      "outputs": [],
      "source": [
        "%%capture\n",
        "\n",
        "stock_dir = \"stock_data\"\n",
        "if not os.path.exists(stock_dir):\n",
        "  os.makedirs(stock_dir)\n",
        "!unzip /content/stock_data.zip -d /content/$stock_dir\n",
        "!rm -f $stock_dir/.gitempty\n",
        "\n",
        "tech_dir = \"technical_data\"\n",
        "if not os.path.exists(tech_dir):\n",
        "  os.makedirs(tech_dir)\n",
        "!unzip /content/technical_data.zip -d /content/$tech_dir\n",
        "!rm -f $tech_dir/.gitempty"
      ]
    },
    {
      "cell_type": "markdown",
      "metadata": {
        "id": "BXFVBKfoZR5V"
      },
      "source": [
        "# Section 2: Setup Spark Session"
      ]
    },
    {
      "cell_type": "code",
      "execution_count": 239,
      "metadata": {
        "id": "qvwYWLqRuc0Z"
      },
      "outputs": [],
      "source": [
        "%%capture\n",
        "\n",
        "!apt install libkrb5-dev\n",
        "!wget https://www-us.apache.org/dist/spark/spark-2.4.5/spark-2.4.5-bin-hadoop2.7.tgz\n",
        "!tar xf spark-2.4.5-bin-hadoop2.7.tgz\n",
        "!pip install findspark\n",
        "!pip install sparkmagic\n",
        "!pip install pyspark==2.4.5\n",
        "!pip install pyspark --user\n",
        "!pip install seaborn --user\n",
        "!pip install plotly --user\n",
        "!pip install imageio --user\n",
        "!pip install folium --user\n",
        "\n",
        "!apt update\n",
        "!apt install gcc python-dev libkrb5-dev\n"
      ]
    },
    {
      "cell_type": "code",
      "execution_count": 130,
      "metadata": {
        "id": "ygqKoO0Lusl3"
      },
      "outputs": [],
      "source": [
        "from pyspark.sql import SparkSession\n",
        "from pyspark.sql.types import *\n",
        "import pyspark.sql.functions as F\n",
        "\n",
        "import os\n",
        "\n",
        "spark = SparkSession.builder.getOrCreate()\n"
      ]
    },
    {
      "cell_type": "code",
      "execution_count": 131,
      "metadata": {
        "colab": {
          "base_uri": "https://localhost:8080/"
        },
        "id": "s4cFr7oquvNb",
        "outputId": "45f5b535-c2ac-458e-f4be-bfd6122d3287"
      },
      "outputs": [
        {
          "output_type": "stream",
          "name": "stdout",
          "text": [
            "The sparkmagic.magics extension is already loaded. To reload it, use:\n",
            "  %reload_ext sparkmagic.magics\n"
          ]
        }
      ],
      "source": [
        "%load_ext sparkmagic.magics"
      ]
    },
    {
      "cell_type": "code",
      "execution_count": 258,
      "metadata": {
        "id": "-hpTht6CZRKw"
      },
      "outputs": [],
      "source": [
        "#graph section\n",
        "import networkx as nx\n",
        "# SQLite RDBMS\n",
        "import sqlite3\n",
        "# Parallel processing\n",
        "# import swifter\n",
        "import pandas as pd\n",
        "# NoSQL DB\n",
        "from pymongo import MongoClient\n",
        "from pymongo.errors import DuplicateKeyError, OperationFailure\n",
        "\n",
        "import os\n",
        "os.environ['SPARK_HOME'] = '/content/spark-2.4.5-bin-hadoop2.7'\n",
        "os.environ[\"JAVA_HOME\"] = \"/usr/lib/jvm/java-8-openjdk-amd64\"\n",
        "import pyspark\n",
        "from pyspark.sql import SQLContext\n",
        "\n",
        "try:\n",
        "    if(spark == None):\n",
        "        spark = SparkSession.builder.appName('Initial').getOrCreate()\n",
        "        sqlContext=SQLContext(spark)\n",
        "except NameError:\n",
        "    spark = SparkSession.builder.appName('Initial').getOrCreate()\n",
        "    sqlContext=SQLContext(spark)"
      ]
    },
    {
      "cell_type": "markdown",
      "metadata": {
        "id": "YSmPBwAUnHlY"
      },
      "source": [
        "# Section 3: Load stock and technical data"
      ]
    },
    {
      "cell_type": "code",
      "execution_count": 135,
      "metadata": {
        "id": "C5iYQ3VZnGxp"
      },
      "outputs": [],
      "source": [
        "stock_data_sdf = spark.read.load(\n",
        "    'stock_data/*.csv', \n",
        "    format = 'csv', \n",
        "    header = 'true', \n",
        "    inferSchema = 'true', \n",
        "    sep = ','\n",
        ")"
      ]
    },
    {
      "cell_type": "markdown",
      "metadata": {
        "id": "pERX_hPE0634"
      },
      "source": [
        "First we'll set up the spark dataframe for stock prices using the work in `step1a`."
      ]
    },
    {
      "cell_type": "code",
      "execution_count": 268,
      "metadata": {
        "id": "_AfnFZqh06EY",
        "colab": {
          "base_uri": "https://localhost:8080/",
          "height": 796
        },
        "outputId": "954e4ec3-f6c8-45a1-8adc-0a77acc100d1"
      },
      "outputs": [
        {
          "output_type": "error",
          "ename": "ValueError",
          "evalue": "ignored",
          "traceback": [
            "\u001b[0;31m---------------------------------------------------------------------------\u001b[0m",
            "\u001b[0;31mPy4JError\u001b[0m                                 Traceback (most recent call last)",
            "\u001b[0;32m/usr/local/lib/python3.7/dist-packages/pyspark/sql/dataframe.py\u001b[0m in \u001b[0;36mschema\u001b[0;34m(self)\u001b[0m\n\u001b[1;32m    278\u001b[0m \u001b[0;34m\u001b[0m\u001b[0m\n\u001b[0;32m--> 279\u001b[0;31m         \u001b[0;34m>>\u001b[0m\u001b[0;34m>\u001b[0m \u001b[0mdf\u001b[0m\u001b[0;34m.\u001b[0m\u001b[0mexplain\u001b[0m\u001b[0;34m(\u001b[0m\u001b[0;34m)\u001b[0m\u001b[0;34m\u001b[0m\u001b[0;34m\u001b[0m\u001b[0m\n\u001b[0m\u001b[1;32m    280\u001b[0m         \u001b[0;34m==\u001b[0m \u001b[0mPhysical\u001b[0m \u001b[0mPlan\u001b[0m \u001b[0;34m==\u001b[0m\u001b[0;34m\u001b[0m\u001b[0;34m\u001b[0m\u001b[0m\n",
            "\u001b[0;32m/usr/local/lib/python3.7/dist-packages/py4j/java_gateway.py\u001b[0m in \u001b[0;36m__call__\u001b[0;34m(self, *args)\u001b[0m\n\u001b[1;32m   1309\u001b[0m                 self._gateway_client, self, display=False)\n\u001b[0;32m-> 1310\u001b[0;31m         \u001b[0;32mreturn\u001b[0m \u001b[0mself\u001b[0m\u001b[0;34m.\u001b[0m\u001b[0m_gateway_doc\u001b[0m\u001b[0;34m\u001b[0m\u001b[0;34m\u001b[0m\u001b[0m\n\u001b[0m\u001b[1;32m   1311\u001b[0m \u001b[0;34m\u001b[0m\u001b[0m\n",
            "\u001b[0;32m/usr/local/lib/python3.7/dist-packages/pyspark/sql/utils.py\u001b[0m in \u001b[0;36mdeco\u001b[0;34m(*a, **kw)\u001b[0m\n\u001b[1;32m    110\u001b[0m     \u001b[0;32mfor\u001b[0m \u001b[0mi\u001b[0m \u001b[0;32min\u001b[0m \u001b[0mrange\u001b[0m\u001b[0;34m(\u001b[0m\u001b[0;36m0\u001b[0m\u001b[0;34m,\u001b[0m \u001b[0mlen\u001b[0m\u001b[0;34m(\u001b[0m\u001b[0marr\u001b[0m\u001b[0;34m)\u001b[0m\u001b[0;34m)\u001b[0m\u001b[0;34m:\u001b[0m\u001b[0;34m\u001b[0m\u001b[0;34m\u001b[0m\u001b[0m\n\u001b[0;32m--> 111\u001b[0;31m         \u001b[0mjarr\u001b[0m\u001b[0;34m[\u001b[0m\u001b[0mi\u001b[0m\u001b[0;34m]\u001b[0m \u001b[0;34m=\u001b[0m \u001b[0marr\u001b[0m\u001b[0;34m[\u001b[0m\u001b[0mi\u001b[0m\u001b[0;34m]\u001b[0m\u001b[0;34m\u001b[0m\u001b[0;34m\u001b[0m\u001b[0m\n\u001b[0m\u001b[1;32m    112\u001b[0m     \u001b[0;32mreturn\u001b[0m \u001b[0mjarr\u001b[0m\u001b[0;34m\u001b[0m\u001b[0;34m\u001b[0m\u001b[0m\n",
            "\u001b[0;32m/usr/local/lib/python3.7/dist-packages/py4j/protocol.py\u001b[0m in \u001b[0;36mget_return_value\u001b[0;34m(answer, gateway_client, target_id, name)\u001b[0m\n\u001b[1;32m    331\u001b[0m                     \u001b[0;34m\"An error occurred while calling {0}{1}{2}. Trace:\\n{3}\\n\"\u001b[0m\u001b[0;34m.\u001b[0m\u001b[0;34m\u001b[0m\u001b[0;34m\u001b[0m\u001b[0m\n\u001b[0;32m--> 332\u001b[0;31m                     format(target_id, \".\", name, value))\n\u001b[0m\u001b[1;32m    333\u001b[0m         \u001b[0;32melse\u001b[0m\u001b[0;34m:\u001b[0m\u001b[0;34m\u001b[0m\u001b[0;34m\u001b[0m\u001b[0m\n",
            "\u001b[0;31mPy4JError\u001b[0m: An error occurred while calling o369.schema. Trace:\npy4j.Py4JException: Method schema([]) does not exist\n\tat py4j.reflection.ReflectionEngine.getMethod(ReflectionEngine.java:318)\n\tat py4j.reflection.ReflectionEngine.getMethod(ReflectionEngine.java:326)\n\tat py4j.Gateway.invoke(Gateway.java:274)\n\tat py4j.commands.AbstractCommand.invokeMethod(AbstractCommand.java:132)\n\tat py4j.commands.CallCommand.execute(CallCommand.java:79)\n\tat py4j.ClientServerConnection.waitForCommands(ClientServerConnection.java:182)\n\tat py4j.ClientServerConnection.run(ClientServerConnection.java:106)\n\tat java.base/java.lang.Thread.run(Thread.java:829)\n\n",
            "\nThe above exception was the direct cause of the following exception:\n",
            "\u001b[0;31mValueError\u001b[0m                                Traceback (most recent call last)",
            "\u001b[0;32m<ipython-input-268-0539b89d6bcb>\u001b[0m in \u001b[0;36m<module>\u001b[0;34m()\u001b[0m\n\u001b[1;32m      3\u001b[0m \u001b[0;34m\u001b[0m\u001b[0m\n\u001b[1;32m      4\u001b[0m \u001b[0;34m\u001b[0m\u001b[0m\n\u001b[0;32m----> 5\u001b[0;31m \u001b[0mstock_data_sdf\u001b[0m \u001b[0;34m=\u001b[0m \u001b[0mstock_data_sdf\u001b[0m\u001b[0;34m.\u001b[0m\u001b[0mwithColumn\u001b[0m\u001b[0;34m(\u001b[0m\u001b[0;34m\"timestamp_as_dt\"\u001b[0m\u001b[0;34m,\u001b[0m \u001b[0mto_timestamp\u001b[0m\u001b[0;34m(\u001b[0m\u001b[0mstock_data_sdf\u001b[0m\u001b[0;34m.\u001b[0m\u001b[0mtimestamp\u001b[0m\u001b[0;34m,\u001b[0m \u001b[0;34m'yyyy-MM-dd'\u001b[0m\u001b[0;34m)\u001b[0m\u001b[0;34m)\u001b[0m\u001b[0;34m\u001b[0m\u001b[0;34m\u001b[0m\u001b[0m\n\u001b[0m\u001b[1;32m      6\u001b[0m \u001b[0mstock_data_sdf\u001b[0m \u001b[0;34m=\u001b[0m \u001b[0mstock_data_sdf\u001b[0m\u001b[0;34m.\u001b[0m\u001b[0mwithColumn\u001b[0m\u001b[0;34m(\u001b[0m\u001b[0;34m\"year\"\u001b[0m\u001b[0;34m,\u001b[0m \u001b[0myear\u001b[0m\u001b[0;34m(\u001b[0m\u001b[0;34m'timestamp_as_dt'\u001b[0m\u001b[0;34m)\u001b[0m\u001b[0;34m)\u001b[0m\u001b[0;34m\u001b[0m\u001b[0;34m\u001b[0m\u001b[0m\n\u001b[1;32m      7\u001b[0m \u001b[0mstock_data_sdf\u001b[0m \u001b[0;34m=\u001b[0m \u001b[0mstock_data_sdf\u001b[0m\u001b[0;34m.\u001b[0m\u001b[0mfilter\u001b[0m\u001b[0;34m(\u001b[0m\u001b[0;34m\"year >= 2002 AND year <= 2019\"\u001b[0m\u001b[0;34m)\u001b[0m\u001b[0;34m\u001b[0m\u001b[0;34m\u001b[0m\u001b[0m\n",
            "\u001b[0;32m/usr/local/lib/python3.7/dist-packages/pyspark/sql/dataframe.py\u001b[0m in \u001b[0;36m__getattr__\u001b[0;34m(self, name)\u001b[0m\n\u001b[1;32m   1656\u001b[0m         \u001b[0;34m|\u001b[0m \u001b[0;36m50\u001b[0m\u001b[0;34m|\u001b[0m  \u001b[0mnull\u001b[0m\u001b[0;34m|\u001b[0m    \u001b[0mTom\u001b[0m\u001b[0;34m|\u001b[0m\u001b[0;34m\u001b[0m\u001b[0;34m\u001b[0m\u001b[0m\n\u001b[1;32m   1657\u001b[0m         \u001b[0;34m|\u001b[0m \u001b[0;36m50\u001b[0m\u001b[0;34m|\u001b[0m  \u001b[0mnull\u001b[0m\u001b[0;34m|\u001b[0m\u001b[0munknown\u001b[0m\u001b[0;34m|\u001b[0m\u001b[0;34m\u001b[0m\u001b[0;34m\u001b[0m\u001b[0m\n\u001b[0;32m-> 1658\u001b[0;31m         \u001b[0;34m+\u001b[0m\u001b[0;34m-\u001b[0m\u001b[0;34m-\u001b[0m\u001b[0;34m-\u001b[0m\u001b[0;34m+\u001b[0m\u001b[0;34m-\u001b[0m\u001b[0;34m-\u001b[0m\u001b[0;34m-\u001b[0m\u001b[0;34m-\u001b[0m\u001b[0;34m-\u001b[0m\u001b[0;34m-\u001b[0m\u001b[0;34m+\u001b[0m\u001b[0;34m-\u001b[0m\u001b[0;34m-\u001b[0m\u001b[0;34m-\u001b[0m\u001b[0;34m-\u001b[0m\u001b[0;34m-\u001b[0m\u001b[0;34m-\u001b[0m\u001b[0;34m-\u001b[0m\u001b[0;34m+\u001b[0m\u001b[0;34m\u001b[0m\u001b[0;34m\u001b[0m\u001b[0m\n\u001b[0m\u001b[1;32m   1659\u001b[0m         \"\"\"\n\u001b[1;32m   1660\u001b[0m         \u001b[0;32mif\u001b[0m \u001b[0;32mnot\u001b[0m \u001b[0misinstance\u001b[0m\u001b[0;34m(\u001b[0m\u001b[0mvalue\u001b[0m\u001b[0;34m,\u001b[0m \u001b[0;34m(\u001b[0m\u001b[0mfloat\u001b[0m\u001b[0;34m,\u001b[0m \u001b[0mint\u001b[0m\u001b[0;34m,\u001b[0m \u001b[0mlong\u001b[0m\u001b[0;34m,\u001b[0m \u001b[0mbasestring\u001b[0m\u001b[0;34m,\u001b[0m \u001b[0mbool\u001b[0m\u001b[0;34m,\u001b[0m \u001b[0mdict\u001b[0m\u001b[0;34m)\u001b[0m\u001b[0;34m)\u001b[0m\u001b[0;34m:\u001b[0m\u001b[0;34m\u001b[0m\u001b[0;34m\u001b[0m\u001b[0m\n",
            "\u001b[0;32m/usr/local/lib/python3.7/dist-packages/pyspark/sql/dataframe.py\u001b[0m in \u001b[0;36mcolumns\u001b[0;34m(self)\u001b[0m\n\u001b[1;32m   1213\u001b[0m         \u001b[0;34m|\u001b[0m  \u001b[0mcount\u001b[0m\u001b[0;34m|\u001b[0m  \u001b[0;36m2\u001b[0m\u001b[0;34m|\u001b[0m    \u001b[0;36m2\u001b[0m\u001b[0;34m|\u001b[0m\u001b[0;34m\u001b[0m\u001b[0;34m\u001b[0m\u001b[0m\n\u001b[1;32m   1214\u001b[0m         \u001b[0;34m|\u001b[0m    \u001b[0mmin\u001b[0m\u001b[0;34m|\u001b[0m  \u001b[0;36m2\u001b[0m\u001b[0;34m|\u001b[0m\u001b[0mAlice\u001b[0m\u001b[0;34m|\u001b[0m\u001b[0;34m\u001b[0m\u001b[0;34m\u001b[0m\u001b[0m\n\u001b[0;32m-> 1215\u001b[0;31m         \u001b[0;34m|\u001b[0m    \u001b[0;36m25\u001b[0m\u001b[0;34m%\u001b[0m\u001b[0;34m|\u001b[0m  \u001b[0;36m2\u001b[0m\u001b[0;34m|\u001b[0m \u001b[0mnull\u001b[0m\u001b[0;34m|\u001b[0m\u001b[0;34m\u001b[0m\u001b[0;34m\u001b[0m\u001b[0m\n\u001b[0m\u001b[1;32m   1216\u001b[0m         \u001b[0;34m|\u001b[0m    \u001b[0;36m75\u001b[0m\u001b[0;34m%\u001b[0m\u001b[0;34m|\u001b[0m  \u001b[0;36m5\u001b[0m\u001b[0;34m|\u001b[0m \u001b[0mnull\u001b[0m\u001b[0;34m|\u001b[0m\u001b[0;34m\u001b[0m\u001b[0;34m\u001b[0m\u001b[0m\n\u001b[1;32m   1217\u001b[0m         \u001b[0;34m|\u001b[0m    \u001b[0mmax\u001b[0m\u001b[0;34m|\u001b[0m  \u001b[0;36m5\u001b[0m\u001b[0;34m|\u001b[0m  \u001b[0mBob\u001b[0m\u001b[0;34m|\u001b[0m\u001b[0;34m\u001b[0m\u001b[0;34m\u001b[0m\u001b[0m\n",
            "\u001b[0;32m/usr/local/lib/python3.7/dist-packages/pyspark/sql/dataframe.py\u001b[0m in \u001b[0;36mschema\u001b[0;34m(self)\u001b[0m\n\u001b[1;32m    280\u001b[0m         \u001b[0;34m==\u001b[0m \u001b[0mPhysical\u001b[0m \u001b[0mPlan\u001b[0m \u001b[0;34m==\u001b[0m\u001b[0;34m\u001b[0m\u001b[0;34m\u001b[0m\u001b[0m\n\u001b[1;32m    281\u001b[0m         Scan ExistingRDD[age#0,name#1]\n\u001b[0;32m--> 282\u001b[0;31m \u001b[0;34m\u001b[0m\u001b[0m\n\u001b[0m\u001b[1;32m    283\u001b[0m         \u001b[0;34m>>\u001b[0m\u001b[0;34m>\u001b[0m \u001b[0mdf\u001b[0m\u001b[0;34m.\u001b[0m\u001b[0mexplain\u001b[0m\u001b[0;34m(\u001b[0m\u001b[0;32mTrue\u001b[0m\u001b[0;34m)\u001b[0m\u001b[0;34m\u001b[0m\u001b[0;34m\u001b[0m\u001b[0m\n\u001b[1;32m    284\u001b[0m         \u001b[0;34m==\u001b[0m \u001b[0mParsed\u001b[0m \u001b[0mLogical\u001b[0m \u001b[0mPlan\u001b[0m \u001b[0;34m==\u001b[0m\u001b[0;34m\u001b[0m\u001b[0;34m\u001b[0m\u001b[0m\n",
            "\u001b[0;31mValueError\u001b[0m: Unable to parse datatype from schema. An error occurred while calling o369.schema. Trace:\npy4j.Py4JException: Method schema([]) does not exist\n\tat py4j.reflection.ReflectionEngine.getMethod(ReflectionEngine.java:318)\n\tat py4j.reflection.ReflectionEngine.getMethod(ReflectionEngine.java:326)\n\tat py4j.Gateway.invoke(Gateway.java:274)\n\tat py4j.commands.AbstractCommand.invokeMethod(AbstractCommand.java:132)\n\tat py4j.commands.CallCommand.execute(CallCommand.java:79)\n\tat py4j.ClientServerConnection.waitForCommands(ClientServerConnection.java:182)\n\tat py4j.ClientServerConnection.run(ClientServerConnection.java:106)\n\tat java.base/java.lang.Thread.run(Thread.java:829)\n\n"
          ]
        }
      ],
      "source": [
        "from pyspark.sql.functions import to_timestamp\n",
        "from pyspark.sql.functions import year, month, date_format\n",
        "\n",
        "\n",
        "stock_data_sdf = stock_data_sdf.withColumn(\"timestamp_as_dt\", to_timestamp(stock_data_sdf.timestamp, 'yyyy-MM-dd'))\n",
        "stock_data_sdf = stock_data_sdf.withColumn(\"year\", year('timestamp_as_dt'))\n",
        "stock_data_sdf = stock_data_sdf.filter(\"year >= 2002 AND year <= 2019\")\n",
        "\n",
        "count_by_symbol_year_sdf = stock_data_sdf.groupBy([\"symbol\", \"year\"]).count()\n",
        "count_years_by_symbol_sdf = count_by_symbol_year_sdf.groupBy([\"symbol\"]).count()\n",
        "\n",
        "### Just grab stocks that have data in each of the 18 years from 2002 to 2019\n",
        "### AND remove the three outliers\n",
        "stocks_with_all_analysis_yrs_sdf = count_years_by_symbol_sdf.filter(\"count == 18\") #18 years of data from 2002 and 2019\n",
        "stocks_to_remove = ['DCTH', 'BRK-A', 'AIKI']\n",
        "stocks_with_all_analysis_yrs_sdf = stocks_with_all_analysis_yrs_sdf.filter(stocks_with_all_analysis_yrs_sdf.symbol.isin(stocks_to_remove) == False)\n",
        "\n",
        "stock_data_sdf.createOrReplaceTempView(\"stock_data\")\n",
        "stocks_with_all_analysis_yrs_sdf.createOrReplaceTempView(\"stocks_with_all_analysis_yrs\")\n",
        "\n",
        "stock_data_2002_2019_sdf = spark.sql(\n",
        "    \"\"\"\n",
        "    SELECT *\n",
        "    FROM stock_data\n",
        "    WHERE symbol IN (SELECT symbol FROM stocks_with_all_analysis_yrs)\n",
        "    \"\"\"\n",
        ")"
      ]
    },
    {
      "cell_type": "markdown",
      "source": [
        "Second, we set up the spark dataframe for technical indicators.  "
      ],
      "metadata": {
        "id": "aQHIU6XP0L2u"
      }
    },
    {
      "cell_type": "code",
      "source": [
        "technical_data_sdf = spark.read.load(\n",
        "    'technical_data/*.csv', \n",
        "    format = 'csv', \n",
        "    header = 'true', \n",
        "    inferSchema = 'true', \n",
        "    sep = ','\n",
        ")"
      ],
      "metadata": {
        "id": "-GpP2kuO0MKg"
      },
      "execution_count": null,
      "outputs": []
    },
    {
      "cell_type": "markdown",
      "metadata": {
        "id": "s7cU8zpR6JdR"
      },
      "source": [
        "Then we will reduce the technical data set to just those stocks that match up with the first dataset above."
      ]
    },
    {
      "cell_type": "code",
      "execution_count": null,
      "metadata": {
        "id": "GHI-HU7l6KjK"
      },
      "outputs": [],
      "source": [
        "technical_data_sdf = technical_data_sdf.withColumn(\"timestamp_as_dt\", to_timestamp(technical_data_sdf.timestamp, 'yyyy-MM-dd'))\n",
        "technical_data_sdf = technical_data_sdf.withColumn(\"year\", year('timestamp_as_dt'))\n",
        "technical_data_sdf = technical_data_sdf.filter(\"year >= 2002 AND year <= 2019\")\n",
        "\n",
        "technical_data_sdf.createOrReplaceTempView(\"technical_data\")\n",
        "\n",
        "technical_data_2002_2019_sdf = spark.sql(\n",
        "    \"\"\"\n",
        "    SELECT *\n",
        "    FROM technical_data\n",
        "    WHERE symbol IN (SELECT symbol FROM stocks_with_all_analysis_yrs)\n",
        "    \"\"\"\n",
        ")"
      ]
    },
    {
      "cell_type": "markdown",
      "source": [
        "# Section 4: Load Other Data.  "
      ],
      "metadata": {
        "id": "_HFodb100nCt"
      }
    },
    {
      "cell_type": "markdown",
      "source": [
        "### Step 1: Download other data from google drive.  "
      ],
      "metadata": {
        "id": "F8zlYS3D02iv"
      }
    },
    {
      "cell_type": "code",
      "source": [
        "from google.colab import drive\n",
        "drive.mount('/content/gdrive')\n",
        "\n",
        "os.mkdir('/content/other_data')\n",
        "!cp '/content/gdrive/My Drive/other_data/forex.csv' other_data/forex.csv\n",
        "!cp '/content/gdrive/My Drive/other_data/gdp.csv' other_data/gdp.csv\n",
        "!cp '/content/gdrive/My Drive/other_data/stockindex.csv' other_data/stockindex.csv\n",
        "!cp '/content/gdrive/My Drive/other_data/tbond.csv' other_data/tbond.csv\n",
        "!cp '/content/gdrive/My Drive/other_data/unemployment.csv' other_data/unemployment.csv\n"
      ],
      "metadata": {
        "id": "m6IUvrRW1Eds",
        "colab": {
          "base_uri": "https://localhost:8080/",
          "height": 252
        },
        "outputId": "77095eaa-4d81-4f70-9cc5-e1a08d527f59"
      },
      "execution_count": 259,
      "outputs": [
        {
          "output_type": "stream",
          "name": "stdout",
          "text": [
            "Drive already mounted at /content/gdrive; to attempt to forcibly remount, call drive.mount(\"/content/gdrive\", force_remount=True).\n"
          ]
        },
        {
          "output_type": "error",
          "ename": "FileExistsError",
          "evalue": "ignored",
          "traceback": [
            "\u001b[0;31m---------------------------------------------------------------------------\u001b[0m",
            "\u001b[0;31mFileExistsError\u001b[0m                           Traceback (most recent call last)",
            "\u001b[0;32m<ipython-input-259-f17fe804568a>\u001b[0m in \u001b[0;36m<module>\u001b[0;34m()\u001b[0m\n\u001b[1;32m      2\u001b[0m \u001b[0mdrive\u001b[0m\u001b[0;34m.\u001b[0m\u001b[0mmount\u001b[0m\u001b[0;34m(\u001b[0m\u001b[0;34m'/content/gdrive'\u001b[0m\u001b[0;34m)\u001b[0m\u001b[0;34m\u001b[0m\u001b[0;34m\u001b[0m\u001b[0m\n\u001b[1;32m      3\u001b[0m \u001b[0;34m\u001b[0m\u001b[0m\n\u001b[0;32m----> 4\u001b[0;31m \u001b[0mos\u001b[0m\u001b[0;34m.\u001b[0m\u001b[0mmkdir\u001b[0m\u001b[0;34m(\u001b[0m\u001b[0;34m'/content/other_data'\u001b[0m\u001b[0;34m)\u001b[0m\u001b[0;34m\u001b[0m\u001b[0;34m\u001b[0m\u001b[0m\n\u001b[0m\u001b[1;32m      5\u001b[0m \u001b[0mget_ipython\u001b[0m\u001b[0;34m(\u001b[0m\u001b[0;34m)\u001b[0m\u001b[0;34m.\u001b[0m\u001b[0msystem\u001b[0m\u001b[0;34m(\u001b[0m\u001b[0;34m\"cp '/content/gdrive/My Drive/other_data/forex.csv' other_data/forex.csv\"\u001b[0m\u001b[0;34m)\u001b[0m\u001b[0;34m\u001b[0m\u001b[0;34m\u001b[0m\u001b[0m\n\u001b[1;32m      6\u001b[0m \u001b[0mget_ipython\u001b[0m\u001b[0;34m(\u001b[0m\u001b[0;34m)\u001b[0m\u001b[0;34m.\u001b[0m\u001b[0msystem\u001b[0m\u001b[0;34m(\u001b[0m\u001b[0;34m\"cp '/content/gdrive/My Drive/other_data/gdp.csv' other_data/gdp.csv\"\u001b[0m\u001b[0;34m)\u001b[0m\u001b[0;34m\u001b[0m\u001b[0;34m\u001b[0m\u001b[0m\n",
            "\u001b[0;31mFileExistsError\u001b[0m: [Errno 17] File exists: '/content/other_data'"
          ]
        }
      ]
    },
    {
      "cell_type": "markdown",
      "source": [
        "### Step 2: Acquire overnight stock index performance of other major stock markets, e.g. FTSE, DAX, CAC, Nikkei, HKSE, SHSE."
      ],
      "metadata": {
        "id": "Xor1-lra-sw-"
      }
    },
    {
      "cell_type": "code",
      "source": [
        "stockindex_data = pd.read_csv('/content/other_data/stockindex.csv')\n",
        "\n",
        "stockindex_data = stockindex_data[['date', 'FTSE100', 'DAX', 'CAC', 'Nikkei225', 'Hang_Seng', 'SHSZ300']]\n",
        "stockindex_data['date'] = pd.to_datetime(stockindex_data.date)\n",
        "stockindex_data = stockindex_data[stockindex_data['date'] < pd.Timestamp(2020,1,1)]\n",
        "\n",
        "# filling missing data\n",
        "stockindex_data = stockindex_data.fillna(method='ffill')\n",
        "stockindex_data.iloc[0, stockindex_data.columns.get_loc('Nikkei225')] = 10871.49\n",
        "stockindex_data.iloc[1, stockindex_data.columns.get_loc('Nikkei225')] = 10871.49\n",
        "stockindex_data.iloc[0, stockindex_data.columns.get_loc('SHSZ300')] = 1316.46\n",
        "stockindex_data.iloc[1, stockindex_data.columns.get_loc('SHSZ300')] = 1316.46\n",
        "\n",
        "# add quarter / month column\n",
        "stockindex_data['quarter'] = stockindex_data['date'].dt.to_period('Q')\n",
        "stockindex_data['month'] = stockindex_data['date'].dt.to_period('M')\n",
        "\n",
        "# calculating day-over-day % price change\n",
        "stockindex_data['FTSE100_DoD'] = stockindex_data['FTSE100'].pct_change(1)\n",
        "stockindex_data['DAX_DoD'] = stockindex_data['DAX'].pct_change(1)\n",
        "stockindex_data['CAC_DoD'] = stockindex_data['CAC'].pct_change(1)\n",
        "stockindex_data['Nikkei225_DoD'] = stockindex_data['Nikkei225'].pct_change(1)\n",
        "stockindex_data['Hang_Seng_DoD'] = stockindex_data['Hang_Seng'].pct_change(1)\n",
        "stockindex_data['SHSZ300_DoD'] = stockindex_data['SHSZ300'].pct_change(1)\n",
        "stockindex_data = stockindex_data[['date', 'quarter', 'month', 'FTSE100_DoD', 'DAX_DoD', 'CAC_DoD', 'Nikkei225_DoD', 'Hang_Seng_DoD', 'SHSZ300_DoD']]\n",
        "                        \n",
        "stockindex_data.head()"
      ],
      "metadata": {
        "id": "0T7mUheI-tFB",
        "colab": {
          "base_uri": "https://localhost:8080/",
          "height": 206
        },
        "outputId": "6552cf77-ae8f-41d4-e284-370a70f37620"
      },
      "execution_count": 260,
      "outputs": [
        {
          "output_type": "execute_result",
          "data": {
            "text/html": [
              "\n",
              "  <div id=\"df-396e1fed-e452-4da6-afd3-2dd61cf9a81f\">\n",
              "    <div class=\"colab-df-container\">\n",
              "      <div>\n",
              "<style scoped>\n",
              "    .dataframe tbody tr th:only-of-type {\n",
              "        vertical-align: middle;\n",
              "    }\n",
              "\n",
              "    .dataframe tbody tr th {\n",
              "        vertical-align: top;\n",
              "    }\n",
              "\n",
              "    .dataframe thead th {\n",
              "        text-align: right;\n",
              "    }\n",
              "</style>\n",
              "<table border=\"1\" class=\"dataframe\">\n",
              "  <thead>\n",
              "    <tr style=\"text-align: right;\">\n",
              "      <th></th>\n",
              "      <th>date</th>\n",
              "      <th>quarter</th>\n",
              "      <th>month</th>\n",
              "      <th>FTSE100_DoD</th>\n",
              "      <th>DAX_DoD</th>\n",
              "      <th>CAC_DoD</th>\n",
              "      <th>Nikkei225_DoD</th>\n",
              "      <th>Hang_Seng_DoD</th>\n",
              "      <th>SHSZ300_DoD</th>\n",
              "    </tr>\n",
              "  </thead>\n",
              "  <tbody>\n",
              "    <tr>\n",
              "      <th>0</th>\n",
              "      <td>2002-01-02</td>\n",
              "      <td>2002Q1</td>\n",
              "      <td>2002-01</td>\n",
              "      <td>NaN</td>\n",
              "      <td>NaN</td>\n",
              "      <td>NaN</td>\n",
              "      <td>NaN</td>\n",
              "      <td>NaN</td>\n",
              "      <td>NaN</td>\n",
              "    </tr>\n",
              "    <tr>\n",
              "      <th>1</th>\n",
              "      <td>2002-01-03</td>\n",
              "      <td>2002Q1</td>\n",
              "      <td>2002-01</td>\n",
              "      <td>0.019259</td>\n",
              "      <td>0.019817</td>\n",
              "      <td>0.021998</td>\n",
              "      <td>0.000000</td>\n",
              "      <td>0.006402</td>\n",
              "      <td>0.000000</td>\n",
              "    </tr>\n",
              "    <tr>\n",
              "      <th>2</th>\n",
              "      <td>2002-01-04</td>\n",
              "      <td>2002Q1</td>\n",
              "      <td>2002-01</td>\n",
              "      <td>0.000940</td>\n",
              "      <td>0.009191</td>\n",
              "      <td>0.000340</td>\n",
              "      <td>0.000000</td>\n",
              "      <td>0.024391</td>\n",
              "      <td>0.000000</td>\n",
              "    </tr>\n",
              "    <tr>\n",
              "      <th>3</th>\n",
              "      <td>2002-01-07</td>\n",
              "      <td>2002Q1</td>\n",
              "      <td>2002-01</td>\n",
              "      <td>-0.005673</td>\n",
              "      <td>-0.016265</td>\n",
              "      <td>-0.014361</td>\n",
              "      <td>0.006519</td>\n",
              "      <td>0.016278</td>\n",
              "      <td>-0.010923</td>\n",
              "    </tr>\n",
              "    <tr>\n",
              "      <th>4</th>\n",
              "      <td>2002-01-08</td>\n",
              "      <td>2002Q1</td>\n",
              "      <td>2002-01</td>\n",
              "      <td>-0.008161</td>\n",
              "      <td>0.000793</td>\n",
              "      <td>-0.010280</td>\n",
              "      <td>-0.022551</td>\n",
              "      <td>-0.015045</td>\n",
              "      <td>-0.007196</td>\n",
              "    </tr>\n",
              "  </tbody>\n",
              "</table>\n",
              "</div>\n",
              "      <button class=\"colab-df-convert\" onclick=\"convertToInteractive('df-396e1fed-e452-4da6-afd3-2dd61cf9a81f')\"\n",
              "              title=\"Convert this dataframe to an interactive table.\"\n",
              "              style=\"display:none;\">\n",
              "        \n",
              "  <svg xmlns=\"http://www.w3.org/2000/svg\" height=\"24px\"viewBox=\"0 0 24 24\"\n",
              "       width=\"24px\">\n",
              "    <path d=\"M0 0h24v24H0V0z\" fill=\"none\"/>\n",
              "    <path d=\"M18.56 5.44l.94 2.06.94-2.06 2.06-.94-2.06-.94-.94-2.06-.94 2.06-2.06.94zm-11 1L8.5 8.5l.94-2.06 2.06-.94-2.06-.94L8.5 2.5l-.94 2.06-2.06.94zm10 10l.94 2.06.94-2.06 2.06-.94-2.06-.94-.94-2.06-.94 2.06-2.06.94z\"/><path d=\"M17.41 7.96l-1.37-1.37c-.4-.4-.92-.59-1.43-.59-.52 0-1.04.2-1.43.59L10.3 9.45l-7.72 7.72c-.78.78-.78 2.05 0 2.83L4 21.41c.39.39.9.59 1.41.59.51 0 1.02-.2 1.41-.59l7.78-7.78 2.81-2.81c.8-.78.8-2.07 0-2.86zM5.41 20L4 18.59l7.72-7.72 1.47 1.35L5.41 20z\"/>\n",
              "  </svg>\n",
              "      </button>\n",
              "      \n",
              "  <style>\n",
              "    .colab-df-container {\n",
              "      display:flex;\n",
              "      flex-wrap:wrap;\n",
              "      gap: 12px;\n",
              "    }\n",
              "\n",
              "    .colab-df-convert {\n",
              "      background-color: #E8F0FE;\n",
              "      border: none;\n",
              "      border-radius: 50%;\n",
              "      cursor: pointer;\n",
              "      display: none;\n",
              "      fill: #1967D2;\n",
              "      height: 32px;\n",
              "      padding: 0 0 0 0;\n",
              "      width: 32px;\n",
              "    }\n",
              "\n",
              "    .colab-df-convert:hover {\n",
              "      background-color: #E2EBFA;\n",
              "      box-shadow: 0px 1px 2px rgba(60, 64, 67, 0.3), 0px 1px 3px 1px rgba(60, 64, 67, 0.15);\n",
              "      fill: #174EA6;\n",
              "    }\n",
              "\n",
              "    [theme=dark] .colab-df-convert {\n",
              "      background-color: #3B4455;\n",
              "      fill: #D2E3FC;\n",
              "    }\n",
              "\n",
              "    [theme=dark] .colab-df-convert:hover {\n",
              "      background-color: #434B5C;\n",
              "      box-shadow: 0px 1px 3px 1px rgba(0, 0, 0, 0.15);\n",
              "      filter: drop-shadow(0px 1px 2px rgba(0, 0, 0, 0.3));\n",
              "      fill: #FFFFFF;\n",
              "    }\n",
              "  </style>\n",
              "\n",
              "      <script>\n",
              "        const buttonEl =\n",
              "          document.querySelector('#df-396e1fed-e452-4da6-afd3-2dd61cf9a81f button.colab-df-convert');\n",
              "        buttonEl.style.display =\n",
              "          google.colab.kernel.accessAllowed ? 'block' : 'none';\n",
              "\n",
              "        async function convertToInteractive(key) {\n",
              "          const element = document.querySelector('#df-396e1fed-e452-4da6-afd3-2dd61cf9a81f');\n",
              "          const dataTable =\n",
              "            await google.colab.kernel.invokeFunction('convertToInteractive',\n",
              "                                                     [key], {});\n",
              "          if (!dataTable) return;\n",
              "\n",
              "          const docLinkHtml = 'Like what you see? Visit the ' +\n",
              "            '<a target=\"_blank\" href=https://colab.research.google.com/notebooks/data_table.ipynb>data table notebook</a>'\n",
              "            + ' to learn more about interactive tables.';\n",
              "          element.innerHTML = '';\n",
              "          dataTable['output_type'] = 'display_data';\n",
              "          await google.colab.output.renderOutput(dataTable, element);\n",
              "          const docLink = document.createElement('div');\n",
              "          docLink.innerHTML = docLinkHtml;\n",
              "          element.appendChild(docLink);\n",
              "        }\n",
              "      </script>\n",
              "    </div>\n",
              "  </div>\n",
              "  "
            ],
            "text/plain": [
              "        date quarter    month  ...  Nikkei225_DoD  Hang_Seng_DoD  SHSZ300_DoD\n",
              "0 2002-01-02  2002Q1  2002-01  ...            NaN            NaN          NaN\n",
              "1 2002-01-03  2002Q1  2002-01  ...       0.000000       0.006402     0.000000\n",
              "2 2002-01-04  2002Q1  2002-01  ...       0.000000       0.024391     0.000000\n",
              "3 2002-01-07  2002Q1  2002-01  ...       0.006519       0.016278    -0.010923\n",
              "4 2002-01-08  2002Q1  2002-01  ...      -0.022551      -0.015045    -0.007196\n",
              "\n",
              "[5 rows x 9 columns]"
            ]
          },
          "metadata": {},
          "execution_count": 260
        }
      ]
    },
    {
      "cell_type": "markdown",
      "source": [
        "### Step 3: Acquire tresaury bond (1-yr, 3yr, 10-yr) market daily performance"
      ],
      "metadata": {
        "id": "e15HhL81-_H-"
      }
    },
    {
      "cell_type": "code",
      "source": [
        "tbond_data = pd.read_csv('/content/other_data/tbond.csv')\n",
        "\n",
        "tbond_data = tbond_data[['date', '3M', '1Y', '10Y']]\n",
        "tbond_data['date'] = pd.to_datetime(tbond_data.date)\n",
        "tbond_data = tbond_data[tbond_data['date'] < pd.Timestamp(2020,1,1)]\n",
        "\n",
        "tbond_data['3M_DoD'] = tbond_data['3M'].pct_change(1)\n",
        "tbond_data['1Y_DoD'] = tbond_data['1Y'].pct_change(1)\n",
        "tbond_data['10Y_DoD'] = tbond_data['10Y'].pct_change(1)\n",
        "tbond_data = tbond_data[['date', '3M_DoD', '1Y_DoD','10Y_DoD']]\n",
        "                        \n",
        "tbond_data.head()"
      ],
      "metadata": {
        "id": "d_OU3HDw-_O7",
        "colab": {
          "base_uri": "https://localhost:8080/",
          "height": 206
        },
        "outputId": "833899dc-c5db-4cec-9efa-0a45544be32a"
      },
      "execution_count": 261,
      "outputs": [
        {
          "output_type": "execute_result",
          "data": {
            "text/html": [
              "\n",
              "  <div id=\"df-f0a4b781-a761-45a2-88f1-1d4bf4ab9317\">\n",
              "    <div class=\"colab-df-container\">\n",
              "      <div>\n",
              "<style scoped>\n",
              "    .dataframe tbody tr th:only-of-type {\n",
              "        vertical-align: middle;\n",
              "    }\n",
              "\n",
              "    .dataframe tbody tr th {\n",
              "        vertical-align: top;\n",
              "    }\n",
              "\n",
              "    .dataframe thead th {\n",
              "        text-align: right;\n",
              "    }\n",
              "</style>\n",
              "<table border=\"1\" class=\"dataframe\">\n",
              "  <thead>\n",
              "    <tr style=\"text-align: right;\">\n",
              "      <th></th>\n",
              "      <th>date</th>\n",
              "      <th>3M_DoD</th>\n",
              "      <th>1Y_DoD</th>\n",
              "      <th>10Y_DoD</th>\n",
              "    </tr>\n",
              "  </thead>\n",
              "  <tbody>\n",
              "    <tr>\n",
              "      <th>0</th>\n",
              "      <td>2002-01-02</td>\n",
              "      <td>NaN</td>\n",
              "      <td>NaN</td>\n",
              "      <td>NaN</td>\n",
              "    </tr>\n",
              "    <tr>\n",
              "      <th>1</th>\n",
              "      <td>2002-01-03</td>\n",
              "      <td>-0.005747</td>\n",
              "      <td>-0.017544</td>\n",
              "      <td>-0.007692</td>\n",
              "    </tr>\n",
              "    <tr>\n",
              "      <th>2</th>\n",
              "      <td>2002-01-04</td>\n",
              "      <td>-0.005780</td>\n",
              "      <td>0.004464</td>\n",
              "      <td>0.003876</td>\n",
              "    </tr>\n",
              "    <tr>\n",
              "      <th>3</th>\n",
              "      <td>2002-01-07</td>\n",
              "      <td>-0.023256</td>\n",
              "      <td>-0.026667</td>\n",
              "      <td>-0.017375</td>\n",
              "    </tr>\n",
              "    <tr>\n",
              "      <th>4</th>\n",
              "      <td>2002-01-08</td>\n",
              "      <td>0.000000</td>\n",
              "      <td>0.000000</td>\n",
              "      <td>0.001965</td>\n",
              "    </tr>\n",
              "  </tbody>\n",
              "</table>\n",
              "</div>\n",
              "      <button class=\"colab-df-convert\" onclick=\"convertToInteractive('df-f0a4b781-a761-45a2-88f1-1d4bf4ab9317')\"\n",
              "              title=\"Convert this dataframe to an interactive table.\"\n",
              "              style=\"display:none;\">\n",
              "        \n",
              "  <svg xmlns=\"http://www.w3.org/2000/svg\" height=\"24px\"viewBox=\"0 0 24 24\"\n",
              "       width=\"24px\">\n",
              "    <path d=\"M0 0h24v24H0V0z\" fill=\"none\"/>\n",
              "    <path d=\"M18.56 5.44l.94 2.06.94-2.06 2.06-.94-2.06-.94-.94-2.06-.94 2.06-2.06.94zm-11 1L8.5 8.5l.94-2.06 2.06-.94-2.06-.94L8.5 2.5l-.94 2.06-2.06.94zm10 10l.94 2.06.94-2.06 2.06-.94-2.06-.94-.94-2.06-.94 2.06-2.06.94z\"/><path d=\"M17.41 7.96l-1.37-1.37c-.4-.4-.92-.59-1.43-.59-.52 0-1.04.2-1.43.59L10.3 9.45l-7.72 7.72c-.78.78-.78 2.05 0 2.83L4 21.41c.39.39.9.59 1.41.59.51 0 1.02-.2 1.41-.59l7.78-7.78 2.81-2.81c.8-.78.8-2.07 0-2.86zM5.41 20L4 18.59l7.72-7.72 1.47 1.35L5.41 20z\"/>\n",
              "  </svg>\n",
              "      </button>\n",
              "      \n",
              "  <style>\n",
              "    .colab-df-container {\n",
              "      display:flex;\n",
              "      flex-wrap:wrap;\n",
              "      gap: 12px;\n",
              "    }\n",
              "\n",
              "    .colab-df-convert {\n",
              "      background-color: #E8F0FE;\n",
              "      border: none;\n",
              "      border-radius: 50%;\n",
              "      cursor: pointer;\n",
              "      display: none;\n",
              "      fill: #1967D2;\n",
              "      height: 32px;\n",
              "      padding: 0 0 0 0;\n",
              "      width: 32px;\n",
              "    }\n",
              "\n",
              "    .colab-df-convert:hover {\n",
              "      background-color: #E2EBFA;\n",
              "      box-shadow: 0px 1px 2px rgba(60, 64, 67, 0.3), 0px 1px 3px 1px rgba(60, 64, 67, 0.15);\n",
              "      fill: #174EA6;\n",
              "    }\n",
              "\n",
              "    [theme=dark] .colab-df-convert {\n",
              "      background-color: #3B4455;\n",
              "      fill: #D2E3FC;\n",
              "    }\n",
              "\n",
              "    [theme=dark] .colab-df-convert:hover {\n",
              "      background-color: #434B5C;\n",
              "      box-shadow: 0px 1px 3px 1px rgba(0, 0, 0, 0.15);\n",
              "      filter: drop-shadow(0px 1px 2px rgba(0, 0, 0, 0.3));\n",
              "      fill: #FFFFFF;\n",
              "    }\n",
              "  </style>\n",
              "\n",
              "      <script>\n",
              "        const buttonEl =\n",
              "          document.querySelector('#df-f0a4b781-a761-45a2-88f1-1d4bf4ab9317 button.colab-df-convert');\n",
              "        buttonEl.style.display =\n",
              "          google.colab.kernel.accessAllowed ? 'block' : 'none';\n",
              "\n",
              "        async function convertToInteractive(key) {\n",
              "          const element = document.querySelector('#df-f0a4b781-a761-45a2-88f1-1d4bf4ab9317');\n",
              "          const dataTable =\n",
              "            await google.colab.kernel.invokeFunction('convertToInteractive',\n",
              "                                                     [key], {});\n",
              "          if (!dataTable) return;\n",
              "\n",
              "          const docLinkHtml = 'Like what you see? Visit the ' +\n",
              "            '<a target=\"_blank\" href=https://colab.research.google.com/notebooks/data_table.ipynb>data table notebook</a>'\n",
              "            + ' to learn more about interactive tables.';\n",
              "          element.innerHTML = '';\n",
              "          dataTable['output_type'] = 'display_data';\n",
              "          await google.colab.output.renderOutput(dataTable, element);\n",
              "          const docLink = document.createElement('div');\n",
              "          docLink.innerHTML = docLinkHtml;\n",
              "          element.appendChild(docLink);\n",
              "        }\n",
              "      </script>\n",
              "    </div>\n",
              "  </div>\n",
              "  "
            ],
            "text/plain": [
              "        date    3M_DoD    1Y_DoD   10Y_DoD\n",
              "0 2002-01-02       NaN       NaN       NaN\n",
              "1 2002-01-03 -0.005747 -0.017544 -0.007692\n",
              "2 2002-01-04 -0.005780  0.004464  0.003876\n",
              "3 2002-01-07 -0.023256 -0.026667 -0.017375\n",
              "4 2002-01-08  0.000000  0.000000  0.001965"
            ]
          },
          "metadata": {},
          "execution_count": 261
        }
      ]
    },
    {
      "cell_type": "markdown",
      "source": [
        "### Step 4: Acquire forex market (USD/EUR, USD/JPY, USD/AUD, etc.) daily performance.  "
      ],
      "metadata": {
        "id": "XkJQWz_k_Od1"
      }
    },
    {
      "cell_type": "code",
      "source": [
        "forex_data = pd.read_csv('/content/other_data/forex.csv')\n",
        "\n",
        "forex_data = forex_data[['date', 'USDGBP', 'USDEUR', 'USDJPY', 'USDHKD', 'USDAUD', 'USDCAD']]\n",
        "\n",
        "# filling missing data\n",
        "forex_data = forex_data.fillna(method='ffill')\n",
        "\n",
        "# convert data format\n",
        "forex_data['date'] = pd.to_datetime(forex_data.date)\n",
        "forex_data = forex_data[forex_data['date'] < pd.Timestamp(2020,1,1)]\n",
        "\n",
        "# calculating day-over-day % price change\n",
        "forex_data['USDGBP_DoD'] = forex_data['USDGBP'].pct_change(1)\n",
        "forex_data['USDEUR_DoD'] = forex_data['USDEUR'].pct_change(1)\n",
        "forex_data['USDJPY_DoD'] = forex_data['USDJPY'].pct_change(1)\n",
        "forex_data['USDHKD_DoD'] = forex_data['USDHKD'].pct_change(1)\n",
        "forex_data['USDAUD_DoD'] = forex_data['USDAUD'].pct_change(1)\n",
        "forex_data['USDCAD_DoD'] = forex_data['USDCAD'].pct_change(1)\n",
        "forex_data = forex_data[['date', 'USDGBP_DoD', 'USDEUR_DoD', 'USDJPY_DoD', 'USDHKD_DoD', 'USDAUD_DoD', 'USDCAD_DoD']]\n",
        "                        \n",
        "forex_data.head()"
      ],
      "metadata": {
        "id": "NPzR4Pho_T6m",
        "colab": {
          "base_uri": "https://localhost:8080/",
          "height": 206
        },
        "outputId": "cdb2101d-eb29-44dd-df48-4d970cbc798e"
      },
      "execution_count": 262,
      "outputs": [
        {
          "output_type": "execute_result",
          "data": {
            "text/html": [
              "\n",
              "  <div id=\"df-5ceb1717-dc18-4fc4-89a3-a09d73195aa4\">\n",
              "    <div class=\"colab-df-container\">\n",
              "      <div>\n",
              "<style scoped>\n",
              "    .dataframe tbody tr th:only-of-type {\n",
              "        vertical-align: middle;\n",
              "    }\n",
              "\n",
              "    .dataframe tbody tr th {\n",
              "        vertical-align: top;\n",
              "    }\n",
              "\n",
              "    .dataframe thead th {\n",
              "        text-align: right;\n",
              "    }\n",
              "</style>\n",
              "<table border=\"1\" class=\"dataframe\">\n",
              "  <thead>\n",
              "    <tr style=\"text-align: right;\">\n",
              "      <th></th>\n",
              "      <th>date</th>\n",
              "      <th>USDGBP_DoD</th>\n",
              "      <th>USDEUR_DoD</th>\n",
              "      <th>USDJPY_DoD</th>\n",
              "      <th>USDHKD_DoD</th>\n",
              "      <th>USDAUD_DoD</th>\n",
              "      <th>USDCAD_DoD</th>\n",
              "    </tr>\n",
              "  </thead>\n",
              "  <tbody>\n",
              "    <tr>\n",
              "      <th>0</th>\n",
              "      <td>2002-01-02</td>\n",
              "      <td>NaN</td>\n",
              "      <td>NaN</td>\n",
              "      <td>NaN</td>\n",
              "      <td>NaN</td>\n",
              "      <td>NaN</td>\n",
              "      <td>NaN</td>\n",
              "    </tr>\n",
              "    <tr>\n",
              "      <th>1</th>\n",
              "      <td>2002-01-03</td>\n",
              "      <td>0.005496</td>\n",
              "      <td>-0.003692</td>\n",
              "      <td>0.000304</td>\n",
              "      <td>-0.000026</td>\n",
              "      <td>-0.000412</td>\n",
              "      <td>0.001317</td>\n",
              "    </tr>\n",
              "    <tr>\n",
              "      <th>2</th>\n",
              "      <td>2002-01-04</td>\n",
              "      <td>-0.006185</td>\n",
              "      <td>0.009219</td>\n",
              "      <td>-0.004331</td>\n",
              "      <td>0.000038</td>\n",
              "      <td>-0.011121</td>\n",
              "      <td>-0.000626</td>\n",
              "    </tr>\n",
              "    <tr>\n",
              "      <th>3</th>\n",
              "      <td>2002-01-07</td>\n",
              "      <td>0.004921</td>\n",
              "      <td>0.002418</td>\n",
              "      <td>-0.001908</td>\n",
              "      <td>0.000077</td>\n",
              "      <td>0.004634</td>\n",
              "      <td>-0.000689</td>\n",
              "    </tr>\n",
              "    <tr>\n",
              "      <th>4</th>\n",
              "      <td>2002-01-08</td>\n",
              "      <td>0.000720</td>\n",
              "      <td>0.003484</td>\n",
              "      <td>0.014221</td>\n",
              "      <td>0.000013</td>\n",
              "      <td>-0.010158</td>\n",
              "      <td>0.004704</td>\n",
              "    </tr>\n",
              "  </tbody>\n",
              "</table>\n",
              "</div>\n",
              "      <button class=\"colab-df-convert\" onclick=\"convertToInteractive('df-5ceb1717-dc18-4fc4-89a3-a09d73195aa4')\"\n",
              "              title=\"Convert this dataframe to an interactive table.\"\n",
              "              style=\"display:none;\">\n",
              "        \n",
              "  <svg xmlns=\"http://www.w3.org/2000/svg\" height=\"24px\"viewBox=\"0 0 24 24\"\n",
              "       width=\"24px\">\n",
              "    <path d=\"M0 0h24v24H0V0z\" fill=\"none\"/>\n",
              "    <path d=\"M18.56 5.44l.94 2.06.94-2.06 2.06-.94-2.06-.94-.94-2.06-.94 2.06-2.06.94zm-11 1L8.5 8.5l.94-2.06 2.06-.94-2.06-.94L8.5 2.5l-.94 2.06-2.06.94zm10 10l.94 2.06.94-2.06 2.06-.94-2.06-.94-.94-2.06-.94 2.06-2.06.94z\"/><path d=\"M17.41 7.96l-1.37-1.37c-.4-.4-.92-.59-1.43-.59-.52 0-1.04.2-1.43.59L10.3 9.45l-7.72 7.72c-.78.78-.78 2.05 0 2.83L4 21.41c.39.39.9.59 1.41.59.51 0 1.02-.2 1.41-.59l7.78-7.78 2.81-2.81c.8-.78.8-2.07 0-2.86zM5.41 20L4 18.59l7.72-7.72 1.47 1.35L5.41 20z\"/>\n",
              "  </svg>\n",
              "      </button>\n",
              "      \n",
              "  <style>\n",
              "    .colab-df-container {\n",
              "      display:flex;\n",
              "      flex-wrap:wrap;\n",
              "      gap: 12px;\n",
              "    }\n",
              "\n",
              "    .colab-df-convert {\n",
              "      background-color: #E8F0FE;\n",
              "      border: none;\n",
              "      border-radius: 50%;\n",
              "      cursor: pointer;\n",
              "      display: none;\n",
              "      fill: #1967D2;\n",
              "      height: 32px;\n",
              "      padding: 0 0 0 0;\n",
              "      width: 32px;\n",
              "    }\n",
              "\n",
              "    .colab-df-convert:hover {\n",
              "      background-color: #E2EBFA;\n",
              "      box-shadow: 0px 1px 2px rgba(60, 64, 67, 0.3), 0px 1px 3px 1px rgba(60, 64, 67, 0.15);\n",
              "      fill: #174EA6;\n",
              "    }\n",
              "\n",
              "    [theme=dark] .colab-df-convert {\n",
              "      background-color: #3B4455;\n",
              "      fill: #D2E3FC;\n",
              "    }\n",
              "\n",
              "    [theme=dark] .colab-df-convert:hover {\n",
              "      background-color: #434B5C;\n",
              "      box-shadow: 0px 1px 3px 1px rgba(0, 0, 0, 0.15);\n",
              "      filter: drop-shadow(0px 1px 2px rgba(0, 0, 0, 0.3));\n",
              "      fill: #FFFFFF;\n",
              "    }\n",
              "  </style>\n",
              "\n",
              "      <script>\n",
              "        const buttonEl =\n",
              "          document.querySelector('#df-5ceb1717-dc18-4fc4-89a3-a09d73195aa4 button.colab-df-convert');\n",
              "        buttonEl.style.display =\n",
              "          google.colab.kernel.accessAllowed ? 'block' : 'none';\n",
              "\n",
              "        async function convertToInteractive(key) {\n",
              "          const element = document.querySelector('#df-5ceb1717-dc18-4fc4-89a3-a09d73195aa4');\n",
              "          const dataTable =\n",
              "            await google.colab.kernel.invokeFunction('convertToInteractive',\n",
              "                                                     [key], {});\n",
              "          if (!dataTable) return;\n",
              "\n",
              "          const docLinkHtml = 'Like what you see? Visit the ' +\n",
              "            '<a target=\"_blank\" href=https://colab.research.google.com/notebooks/data_table.ipynb>data table notebook</a>'\n",
              "            + ' to learn more about interactive tables.';\n",
              "          element.innerHTML = '';\n",
              "          dataTable['output_type'] = 'display_data';\n",
              "          await google.colab.output.renderOutput(dataTable, element);\n",
              "          const docLink = document.createElement('div');\n",
              "          docLink.innerHTML = docLinkHtml;\n",
              "          element.appendChild(docLink);\n",
              "        }\n",
              "      </script>\n",
              "    </div>\n",
              "  </div>\n",
              "  "
            ],
            "text/plain": [
              "        date  USDGBP_DoD  USDEUR_DoD  ...  USDHKD_DoD  USDAUD_DoD  USDCAD_DoD\n",
              "0 2002-01-02         NaN         NaN  ...         NaN         NaN         NaN\n",
              "1 2002-01-03    0.005496   -0.003692  ...   -0.000026   -0.000412    0.001317\n",
              "2 2002-01-04   -0.006185    0.009219  ...    0.000038   -0.011121   -0.000626\n",
              "3 2002-01-07    0.004921    0.002418  ...    0.000077    0.004634   -0.000689\n",
              "4 2002-01-08    0.000720    0.003484  ...    0.000013   -0.010158    0.004704\n",
              "\n",
              "[5 rows x 7 columns]"
            ]
          },
          "metadata": {},
          "execution_count": 262
        }
      ]
    },
    {
      "cell_type": "markdown",
      "source": [
        "### Step 5: Acquire economic data, including monthly unemployment rate, quarterly yoy GDP growth.  "
      ],
      "metadata": {
        "id": "bhOzemO8_Wk1"
      }
    },
    {
      "cell_type": "code",
      "source": [
        "gdp_data = pd.read_csv('/content/other_data/gdp.csv')\n",
        "\n",
        "gdp_data = gdp_data[['date', 'real_gdp']]\n",
        "\n",
        "# filling missing data\n",
        "gdp_data = gdp_data.fillna(method='ffill')\n",
        "\n",
        "# convert data format\n",
        "gdp_data['date'] = pd.to_datetime(gdp_data.date)\n",
        "gdp_data = gdp_data[gdp_data['date'] < pd.Timestamp(2020,1,1)]\n",
        "gdp_data['real_gdp_QoQ'] = gdp_data['real_gdp'].pct_change(1)\n",
        "gdp_data = gdp_data.drop(columns=['real_gdp'])\n",
        "\n",
        "# add quarter column\n",
        "gdp_data['quarter'] = gdp_data['date'].dt.to_period('Q')\n",
        "\n",
        "gdp_data.head()"
      ],
      "metadata": {
        "id": "cGv0hL31_Wxw",
        "colab": {
          "base_uri": "https://localhost:8080/",
          "height": 206
        },
        "outputId": "83ca371b-bdb2-4098-91e2-ca5fda708255"
      },
      "execution_count": 263,
      "outputs": [
        {
          "output_type": "execute_result",
          "data": {
            "text/html": [
              "\n",
              "  <div id=\"df-5505400b-81b6-4cce-8f5c-36cf52f45102\">\n",
              "    <div class=\"colab-df-container\">\n",
              "      <div>\n",
              "<style scoped>\n",
              "    .dataframe tbody tr th:only-of-type {\n",
              "        vertical-align: middle;\n",
              "    }\n",
              "\n",
              "    .dataframe tbody tr th {\n",
              "        vertical-align: top;\n",
              "    }\n",
              "\n",
              "    .dataframe thead th {\n",
              "        text-align: right;\n",
              "    }\n",
              "</style>\n",
              "<table border=\"1\" class=\"dataframe\">\n",
              "  <thead>\n",
              "    <tr style=\"text-align: right;\">\n",
              "      <th></th>\n",
              "      <th>date</th>\n",
              "      <th>real_gdp_QoQ</th>\n",
              "      <th>quarter</th>\n",
              "    </tr>\n",
              "  </thead>\n",
              "  <tbody>\n",
              "    <tr>\n",
              "      <th>0</th>\n",
              "      <td>2002-03-31</td>\n",
              "      <td>NaN</td>\n",
              "      <td>2002Q1</td>\n",
              "    </tr>\n",
              "    <tr>\n",
              "      <th>1</th>\n",
              "      <td>2002-06-30</td>\n",
              "      <td>0.006159</td>\n",
              "      <td>2002Q2</td>\n",
              "    </tr>\n",
              "    <tr>\n",
              "      <th>2</th>\n",
              "      <td>2002-09-30</td>\n",
              "      <td>0.004029</td>\n",
              "      <td>2002Q3</td>\n",
              "    </tr>\n",
              "    <tr>\n",
              "      <th>3</th>\n",
              "      <td>2002-12-31</td>\n",
              "      <td>0.001308</td>\n",
              "      <td>2002Q4</td>\n",
              "    </tr>\n",
              "    <tr>\n",
              "      <th>4</th>\n",
              "      <td>2003-03-31</td>\n",
              "      <td>0.005166</td>\n",
              "      <td>2003Q1</td>\n",
              "    </tr>\n",
              "  </tbody>\n",
              "</table>\n",
              "</div>\n",
              "      <button class=\"colab-df-convert\" onclick=\"convertToInteractive('df-5505400b-81b6-4cce-8f5c-36cf52f45102')\"\n",
              "              title=\"Convert this dataframe to an interactive table.\"\n",
              "              style=\"display:none;\">\n",
              "        \n",
              "  <svg xmlns=\"http://www.w3.org/2000/svg\" height=\"24px\"viewBox=\"0 0 24 24\"\n",
              "       width=\"24px\">\n",
              "    <path d=\"M0 0h24v24H0V0z\" fill=\"none\"/>\n",
              "    <path d=\"M18.56 5.44l.94 2.06.94-2.06 2.06-.94-2.06-.94-.94-2.06-.94 2.06-2.06.94zm-11 1L8.5 8.5l.94-2.06 2.06-.94-2.06-.94L8.5 2.5l-.94 2.06-2.06.94zm10 10l.94 2.06.94-2.06 2.06-.94-2.06-.94-.94-2.06-.94 2.06-2.06.94z\"/><path d=\"M17.41 7.96l-1.37-1.37c-.4-.4-.92-.59-1.43-.59-.52 0-1.04.2-1.43.59L10.3 9.45l-7.72 7.72c-.78.78-.78 2.05 0 2.83L4 21.41c.39.39.9.59 1.41.59.51 0 1.02-.2 1.41-.59l7.78-7.78 2.81-2.81c.8-.78.8-2.07 0-2.86zM5.41 20L4 18.59l7.72-7.72 1.47 1.35L5.41 20z\"/>\n",
              "  </svg>\n",
              "      </button>\n",
              "      \n",
              "  <style>\n",
              "    .colab-df-container {\n",
              "      display:flex;\n",
              "      flex-wrap:wrap;\n",
              "      gap: 12px;\n",
              "    }\n",
              "\n",
              "    .colab-df-convert {\n",
              "      background-color: #E8F0FE;\n",
              "      border: none;\n",
              "      border-radius: 50%;\n",
              "      cursor: pointer;\n",
              "      display: none;\n",
              "      fill: #1967D2;\n",
              "      height: 32px;\n",
              "      padding: 0 0 0 0;\n",
              "      width: 32px;\n",
              "    }\n",
              "\n",
              "    .colab-df-convert:hover {\n",
              "      background-color: #E2EBFA;\n",
              "      box-shadow: 0px 1px 2px rgba(60, 64, 67, 0.3), 0px 1px 3px 1px rgba(60, 64, 67, 0.15);\n",
              "      fill: #174EA6;\n",
              "    }\n",
              "\n",
              "    [theme=dark] .colab-df-convert {\n",
              "      background-color: #3B4455;\n",
              "      fill: #D2E3FC;\n",
              "    }\n",
              "\n",
              "    [theme=dark] .colab-df-convert:hover {\n",
              "      background-color: #434B5C;\n",
              "      box-shadow: 0px 1px 3px 1px rgba(0, 0, 0, 0.15);\n",
              "      filter: drop-shadow(0px 1px 2px rgba(0, 0, 0, 0.3));\n",
              "      fill: #FFFFFF;\n",
              "    }\n",
              "  </style>\n",
              "\n",
              "      <script>\n",
              "        const buttonEl =\n",
              "          document.querySelector('#df-5505400b-81b6-4cce-8f5c-36cf52f45102 button.colab-df-convert');\n",
              "        buttonEl.style.display =\n",
              "          google.colab.kernel.accessAllowed ? 'block' : 'none';\n",
              "\n",
              "        async function convertToInteractive(key) {\n",
              "          const element = document.querySelector('#df-5505400b-81b6-4cce-8f5c-36cf52f45102');\n",
              "          const dataTable =\n",
              "            await google.colab.kernel.invokeFunction('convertToInteractive',\n",
              "                                                     [key], {});\n",
              "          if (!dataTable) return;\n",
              "\n",
              "          const docLinkHtml = 'Like what you see? Visit the ' +\n",
              "            '<a target=\"_blank\" href=https://colab.research.google.com/notebooks/data_table.ipynb>data table notebook</a>'\n",
              "            + ' to learn more about interactive tables.';\n",
              "          element.innerHTML = '';\n",
              "          dataTable['output_type'] = 'display_data';\n",
              "          await google.colab.output.renderOutput(dataTable, element);\n",
              "          const docLink = document.createElement('div');\n",
              "          docLink.innerHTML = docLinkHtml;\n",
              "          element.appendChild(docLink);\n",
              "        }\n",
              "      </script>\n",
              "    </div>\n",
              "  </div>\n",
              "  "
            ],
            "text/plain": [
              "        date  real_gdp_QoQ quarter\n",
              "0 2002-03-31           NaN  2002Q1\n",
              "1 2002-06-30      0.006159  2002Q2\n",
              "2 2002-09-30      0.004029  2002Q3\n",
              "3 2002-12-31      0.001308  2002Q4\n",
              "4 2003-03-31      0.005166  2003Q1"
            ]
          },
          "metadata": {},
          "execution_count": 263
        }
      ]
    },
    {
      "cell_type": "markdown",
      "source": [
        "### Step 5: Acquire monthly unemployment data."
      ],
      "metadata": {
        "id": "XGtKY9_W_fh9"
      }
    },
    {
      "cell_type": "code",
      "source": [
        "unemployment_data = pd.read_csv('/content/other_data/unemployment.csv')\n",
        "\n",
        "unemployment_data = unemployment_data[['date', 'unemployment']]\n",
        "\n",
        "# filling missing data\n",
        "unemployment_data = unemployment_data.fillna(method='ffill')\n",
        "\n",
        "# convert data format\n",
        "unemployment_data['date'] = pd.to_datetime(unemployment_data.date)\n",
        "unemployment_data = unemployment_data[unemployment_data['date'] < pd.Timestamp(2020,1,1)]\n",
        "unemployment_data['unemployment_MoM'] = unemployment_data['unemployment'].pct_change(1)\n",
        "unemployment_data = unemployment_data.drop(columns=['unemployment'])\n",
        "\n",
        "# add month column\n",
        "unemployment_data['month'] = unemployment_data['date'].dt.to_period('M')\n",
        "\n",
        "unemployment_data.head()"
      ],
      "metadata": {
        "id": "EA6D5uiQ_foE",
        "colab": {
          "base_uri": "https://localhost:8080/",
          "height": 206
        },
        "outputId": "7ffc7f4d-2477-4e2d-a4fa-d5177e6e3dab"
      },
      "execution_count": 264,
      "outputs": [
        {
          "output_type": "execute_result",
          "data": {
            "text/html": [
              "\n",
              "  <div id=\"df-ea83117c-5343-4ae5-8189-4fbf9d148b95\">\n",
              "    <div class=\"colab-df-container\">\n",
              "      <div>\n",
              "<style scoped>\n",
              "    .dataframe tbody tr th:only-of-type {\n",
              "        vertical-align: middle;\n",
              "    }\n",
              "\n",
              "    .dataframe tbody tr th {\n",
              "        vertical-align: top;\n",
              "    }\n",
              "\n",
              "    .dataframe thead th {\n",
              "        text-align: right;\n",
              "    }\n",
              "</style>\n",
              "<table border=\"1\" class=\"dataframe\">\n",
              "  <thead>\n",
              "    <tr style=\"text-align: right;\">\n",
              "      <th></th>\n",
              "      <th>date</th>\n",
              "      <th>unemployment_MoM</th>\n",
              "      <th>month</th>\n",
              "    </tr>\n",
              "  </thead>\n",
              "  <tbody>\n",
              "    <tr>\n",
              "      <th>0</th>\n",
              "      <td>2002-01-31</td>\n",
              "      <td>NaN</td>\n",
              "      <td>2002-01</td>\n",
              "    </tr>\n",
              "    <tr>\n",
              "      <th>1</th>\n",
              "      <td>2002-02-28</td>\n",
              "      <td>0.000000</td>\n",
              "      <td>2002-02</td>\n",
              "    </tr>\n",
              "    <tr>\n",
              "      <th>2</th>\n",
              "      <td>2002-03-31</td>\n",
              "      <td>0.000000</td>\n",
              "      <td>2002-03</td>\n",
              "    </tr>\n",
              "    <tr>\n",
              "      <th>3</th>\n",
              "      <td>2002-04-30</td>\n",
              "      <td>0.035088</td>\n",
              "      <td>2002-04</td>\n",
              "    </tr>\n",
              "    <tr>\n",
              "      <th>4</th>\n",
              "      <td>2002-05-31</td>\n",
              "      <td>-0.016949</td>\n",
              "      <td>2002-05</td>\n",
              "    </tr>\n",
              "  </tbody>\n",
              "</table>\n",
              "</div>\n",
              "      <button class=\"colab-df-convert\" onclick=\"convertToInteractive('df-ea83117c-5343-4ae5-8189-4fbf9d148b95')\"\n",
              "              title=\"Convert this dataframe to an interactive table.\"\n",
              "              style=\"display:none;\">\n",
              "        \n",
              "  <svg xmlns=\"http://www.w3.org/2000/svg\" height=\"24px\"viewBox=\"0 0 24 24\"\n",
              "       width=\"24px\">\n",
              "    <path d=\"M0 0h24v24H0V0z\" fill=\"none\"/>\n",
              "    <path d=\"M18.56 5.44l.94 2.06.94-2.06 2.06-.94-2.06-.94-.94-2.06-.94 2.06-2.06.94zm-11 1L8.5 8.5l.94-2.06 2.06-.94-2.06-.94L8.5 2.5l-.94 2.06-2.06.94zm10 10l.94 2.06.94-2.06 2.06-.94-2.06-.94-.94-2.06-.94 2.06-2.06.94z\"/><path d=\"M17.41 7.96l-1.37-1.37c-.4-.4-.92-.59-1.43-.59-.52 0-1.04.2-1.43.59L10.3 9.45l-7.72 7.72c-.78.78-.78 2.05 0 2.83L4 21.41c.39.39.9.59 1.41.59.51 0 1.02-.2 1.41-.59l7.78-7.78 2.81-2.81c.8-.78.8-2.07 0-2.86zM5.41 20L4 18.59l7.72-7.72 1.47 1.35L5.41 20z\"/>\n",
              "  </svg>\n",
              "      </button>\n",
              "      \n",
              "  <style>\n",
              "    .colab-df-container {\n",
              "      display:flex;\n",
              "      flex-wrap:wrap;\n",
              "      gap: 12px;\n",
              "    }\n",
              "\n",
              "    .colab-df-convert {\n",
              "      background-color: #E8F0FE;\n",
              "      border: none;\n",
              "      border-radius: 50%;\n",
              "      cursor: pointer;\n",
              "      display: none;\n",
              "      fill: #1967D2;\n",
              "      height: 32px;\n",
              "      padding: 0 0 0 0;\n",
              "      width: 32px;\n",
              "    }\n",
              "\n",
              "    .colab-df-convert:hover {\n",
              "      background-color: #E2EBFA;\n",
              "      box-shadow: 0px 1px 2px rgba(60, 64, 67, 0.3), 0px 1px 3px 1px rgba(60, 64, 67, 0.15);\n",
              "      fill: #174EA6;\n",
              "    }\n",
              "\n",
              "    [theme=dark] .colab-df-convert {\n",
              "      background-color: #3B4455;\n",
              "      fill: #D2E3FC;\n",
              "    }\n",
              "\n",
              "    [theme=dark] .colab-df-convert:hover {\n",
              "      background-color: #434B5C;\n",
              "      box-shadow: 0px 1px 3px 1px rgba(0, 0, 0, 0.15);\n",
              "      filter: drop-shadow(0px 1px 2px rgba(0, 0, 0, 0.3));\n",
              "      fill: #FFFFFF;\n",
              "    }\n",
              "  </style>\n",
              "\n",
              "      <script>\n",
              "        const buttonEl =\n",
              "          document.querySelector('#df-ea83117c-5343-4ae5-8189-4fbf9d148b95 button.colab-df-convert');\n",
              "        buttonEl.style.display =\n",
              "          google.colab.kernel.accessAllowed ? 'block' : 'none';\n",
              "\n",
              "        async function convertToInteractive(key) {\n",
              "          const element = document.querySelector('#df-ea83117c-5343-4ae5-8189-4fbf9d148b95');\n",
              "          const dataTable =\n",
              "            await google.colab.kernel.invokeFunction('convertToInteractive',\n",
              "                                                     [key], {});\n",
              "          if (!dataTable) return;\n",
              "\n",
              "          const docLinkHtml = 'Like what you see? Visit the ' +\n",
              "            '<a target=\"_blank\" href=https://colab.research.google.com/notebooks/data_table.ipynb>data table notebook</a>'\n",
              "            + ' to learn more about interactive tables.';\n",
              "          element.innerHTML = '';\n",
              "          dataTable['output_type'] = 'display_data';\n",
              "          await google.colab.output.renderOutput(dataTable, element);\n",
              "          const docLink = document.createElement('div');\n",
              "          docLink.innerHTML = docLinkHtml;\n",
              "          element.appendChild(docLink);\n",
              "        }\n",
              "      </script>\n",
              "    </div>\n",
              "  </div>\n",
              "  "
            ],
            "text/plain": [
              "        date  unemployment_MoM    month\n",
              "0 2002-01-31               NaN  2002-01\n",
              "1 2002-02-28          0.000000  2002-02\n",
              "2 2002-03-31          0.000000  2002-03\n",
              "3 2002-04-30          0.035088  2002-04\n",
              "4 2002-05-31         -0.016949  2002-05"
            ]
          },
          "metadata": {},
          "execution_count": 264
        }
      ]
    },
    {
      "cell_type": "markdown",
      "source": [
        "### Step 6: Merge all other data into a single dataframe.  "
      ],
      "metadata": {
        "id": "cy945R7j_oSu"
      }
    },
    {
      "cell_type": "code",
      "source": [
        "all_other_data = stockindex_data.merge(tbond_data, left_on='date', right_on='date', how='left')\n",
        "all_other_data = all_other_data.merge(forex_data, left_on='date', right_on='date', how='left')\n",
        "all_other_data = all_other_data.merge(gdp_data, left_on='quarter', right_on='quarter', how='left')\n",
        "all_other_data = all_other_data.merge(unemployment_data, left_on='month', right_on='month', how='left')\n",
        "\n",
        "all_other_data = all_other_data.drop(columns=['date_x', 'date_y'])\n",
        "all_other_data = all_other_data.dropna()\n",
        "\n",
        "all_other_data.info()"
      ],
      "metadata": {
        "id": "rqBgWTdK_odY",
        "colab": {
          "base_uri": "https://localhost:8080/"
        },
        "outputId": "a9e7df1a-ddd6-4d30-d2ba-a1018115e6eb"
      },
      "execution_count": 265,
      "outputs": [
        {
          "output_type": "stream",
          "name": "stdout",
          "text": [
            "<class 'pandas.core.frame.DataFrame'>\n",
            "Int64Index: 4438 entries, 63 to 4682\n",
            "Data columns (total 20 columns):\n",
            " #   Column            Non-Null Count  Dtype         \n",
            "---  ------            --------------  -----         \n",
            " 0   quarter           4438 non-null   period[Q-DEC] \n",
            " 1   month             4438 non-null   period[M]     \n",
            " 2   FTSE100_DoD       4438 non-null   float64       \n",
            " 3   DAX_DoD           4438 non-null   float64       \n",
            " 4   CAC_DoD           4438 non-null   float64       \n",
            " 5   Nikkei225_DoD     4438 non-null   float64       \n",
            " 6   Hang_Seng_DoD     4438 non-null   float64       \n",
            " 7   SHSZ300_DoD       4438 non-null   float64       \n",
            " 8   3M_DoD            4438 non-null   float64       \n",
            " 9   1Y_DoD            4438 non-null   float64       \n",
            " 10  10Y_DoD           4438 non-null   float64       \n",
            " 11  USDGBP_DoD        4438 non-null   float64       \n",
            " 12  USDEUR_DoD        4438 non-null   float64       \n",
            " 13  USDJPY_DoD        4438 non-null   float64       \n",
            " 14  USDHKD_DoD        4438 non-null   float64       \n",
            " 15  USDAUD_DoD        4438 non-null   float64       \n",
            " 16  USDCAD_DoD        4438 non-null   float64       \n",
            " 17  real_gdp_QoQ      4438 non-null   float64       \n",
            " 18  date              4438 non-null   datetime64[ns]\n",
            " 19  unemployment_MoM  4438 non-null   float64       \n",
            "dtypes: datetime64[ns](1), float64(17), period[M](1), period[Q-DEC](1)\n",
            "memory usage: 728.1 KB\n"
          ]
        }
      ]
    },
    {
      "cell_type": "markdown",
      "source": [
        "# Section 5: Combine stock price with all other data to create mega_data.  "
      ],
      "metadata": {
        "id": "9MsN8589BM4b"
      }
    },
    {
      "cell_type": "markdown",
      "source": [
        "### Step 1: Prepare stock data for integration.  "
      ],
      "metadata": {
        "id": "1KSk49oWG6lG"
      }
    },
    {
      "cell_type": "code",
      "source": [
        "from pyspark.sql import functions as F\n",
        "from pyspark.sql.window import Window\n",
        "\n",
        "price_window = Window.partitionBy(\"symbol\").orderBy(\"symbol\")\n",
        "stock_data_2002_2019_sdf = stock_data_2002_2019_sdf.withColumn(\"prev_price\", F.lead(stock_data_2002_2019_sdf.adjusted_close).over(price_window))\n",
        "stock_data_2002_2019_sdf = stock_data_2002_2019_sdf.withColumn(\"price_DoD\", F.when(F.isnull(stock_data_2002_2019_sdf.adjusted_close - stock_data_2002_2019_sdf.prev_price), 0).otherwise((stock_data_2002_2019_sdf.adjusted_close - stock_data_2002_2019_sdf.prev_price)/stock_data_2002_2019_sdf.prev_price))\n",
        "\n",
        "stock_data_2002_2019_sdf.show()\n"
      ],
      "metadata": {
        "id": "JrbT7cyrBVkR",
        "colab": {
          "base_uri": "https://localhost:8080/",
          "height": 432
        },
        "outputId": "d8ce0f04-3e7a-42aa-85c4-0271a52c8177"
      },
      "execution_count": 266,
      "outputs": [
        {
          "output_type": "error",
          "ename": "Py4JError",
          "evalue": "ignored",
          "traceback": [
            "\u001b[0;31m---------------------------------------------------------------------------\u001b[0m",
            "\u001b[0;31mPy4JError\u001b[0m                                 Traceback (most recent call last)",
            "\u001b[0;32m<ipython-input-266-d3955a84e229>\u001b[0m in \u001b[0;36m<module>\u001b[0;34m()\u001b[0m\n\u001b[1;32m      2\u001b[0m \u001b[0;32mfrom\u001b[0m \u001b[0mpyspark\u001b[0m\u001b[0;34m.\u001b[0m\u001b[0msql\u001b[0m\u001b[0;34m.\u001b[0m\u001b[0mwindow\u001b[0m \u001b[0;32mimport\u001b[0m \u001b[0mWindow\u001b[0m\u001b[0;34m\u001b[0m\u001b[0;34m\u001b[0m\u001b[0m\n\u001b[1;32m      3\u001b[0m \u001b[0;34m\u001b[0m\u001b[0m\n\u001b[0;32m----> 4\u001b[0;31m \u001b[0mprice_window\u001b[0m \u001b[0;34m=\u001b[0m \u001b[0mWindow\u001b[0m\u001b[0;34m.\u001b[0m\u001b[0mpartitionBy\u001b[0m\u001b[0;34m(\u001b[0m\u001b[0;34m\"symbol\"\u001b[0m\u001b[0;34m)\u001b[0m\u001b[0;34m.\u001b[0m\u001b[0morderBy\u001b[0m\u001b[0;34m(\u001b[0m\u001b[0;34m\"symbol\"\u001b[0m\u001b[0;34m)\u001b[0m\u001b[0;34m\u001b[0m\u001b[0;34m\u001b[0m\u001b[0m\n\u001b[0m\u001b[1;32m      5\u001b[0m \u001b[0mstock_data_2002_2019_sdf\u001b[0m \u001b[0;34m=\u001b[0m \u001b[0mstock_data_2002_2019_sdf\u001b[0m\u001b[0;34m.\u001b[0m\u001b[0mwithColumn\u001b[0m\u001b[0;34m(\u001b[0m\u001b[0;34m\"prev_price\"\u001b[0m\u001b[0;34m,\u001b[0m \u001b[0mF\u001b[0m\u001b[0;34m.\u001b[0m\u001b[0mlead\u001b[0m\u001b[0;34m(\u001b[0m\u001b[0mstock_data_2002_2019_sdf\u001b[0m\u001b[0;34m.\u001b[0m\u001b[0madjusted_close\u001b[0m\u001b[0;34m)\u001b[0m\u001b[0;34m.\u001b[0m\u001b[0mover\u001b[0m\u001b[0;34m(\u001b[0m\u001b[0mprice_window\u001b[0m\u001b[0;34m)\u001b[0m\u001b[0;34m)\u001b[0m\u001b[0;34m\u001b[0m\u001b[0;34m\u001b[0m\u001b[0m\n\u001b[1;32m      6\u001b[0m \u001b[0mstock_data_2002_2019_sdf\u001b[0m \u001b[0;34m=\u001b[0m \u001b[0mstock_data_2002_2019_sdf\u001b[0m\u001b[0;34m.\u001b[0m\u001b[0mwithColumn\u001b[0m\u001b[0;34m(\u001b[0m\u001b[0;34m\"price_DoD\"\u001b[0m\u001b[0;34m,\u001b[0m \u001b[0mF\u001b[0m\u001b[0;34m.\u001b[0m\u001b[0mwhen\u001b[0m\u001b[0;34m(\u001b[0m\u001b[0mF\u001b[0m\u001b[0;34m.\u001b[0m\u001b[0misnull\u001b[0m\u001b[0;34m(\u001b[0m\u001b[0mstock_data_2002_2019_sdf\u001b[0m\u001b[0;34m.\u001b[0m\u001b[0madjusted_close\u001b[0m \u001b[0;34m-\u001b[0m \u001b[0mstock_data_2002_2019_sdf\u001b[0m\u001b[0;34m.\u001b[0m\u001b[0mprev_price\u001b[0m\u001b[0;34m)\u001b[0m\u001b[0;34m,\u001b[0m \u001b[0;36m0\u001b[0m\u001b[0;34m)\u001b[0m\u001b[0;34m.\u001b[0m\u001b[0motherwise\u001b[0m\u001b[0;34m(\u001b[0m\u001b[0;34m(\u001b[0m\u001b[0mstock_data_2002_2019_sdf\u001b[0m\u001b[0;34m.\u001b[0m\u001b[0madjusted_close\u001b[0m \u001b[0;34m-\u001b[0m \u001b[0mstock_data_2002_2019_sdf\u001b[0m\u001b[0;34m.\u001b[0m\u001b[0mprev_price\u001b[0m\u001b[0;34m)\u001b[0m\u001b[0;34m/\u001b[0m\u001b[0mstock_data_2002_2019_sdf\u001b[0m\u001b[0;34m.\u001b[0m\u001b[0mprev_price\u001b[0m\u001b[0;34m)\u001b[0m\u001b[0;34m)\u001b[0m\u001b[0;34m\u001b[0m\u001b[0;34m\u001b[0m\u001b[0m\n",
            "\u001b[0;32m/usr/local/lib/python3.7/dist-packages/pyspark/sql/window.py\u001b[0m in \u001b[0;36mpartitionBy\u001b[0;34m(*cols)\u001b[0m\n\u001b[1;32m     70\u001b[0m         \"\"\"\n\u001b[1;32m     71\u001b[0m         \u001b[0msc\u001b[0m \u001b[0;34m=\u001b[0m \u001b[0mSparkContext\u001b[0m\u001b[0;34m.\u001b[0m\u001b[0m_active_spark_context\u001b[0m\u001b[0;34m\u001b[0m\u001b[0;34m\u001b[0m\u001b[0m\n\u001b[0;32m---> 72\u001b[0;31m         \u001b[0mjspec\u001b[0m \u001b[0;34m=\u001b[0m \u001b[0msc\u001b[0m\u001b[0;34m.\u001b[0m\u001b[0m_jvm\u001b[0m\u001b[0;34m.\u001b[0m\u001b[0morg\u001b[0m\u001b[0;34m.\u001b[0m\u001b[0mapache\u001b[0m\u001b[0;34m.\u001b[0m\u001b[0mspark\u001b[0m\u001b[0;34m.\u001b[0m\u001b[0msql\u001b[0m\u001b[0;34m.\u001b[0m\u001b[0mexpressions\u001b[0m\u001b[0;34m.\u001b[0m\u001b[0mWindow\u001b[0m\u001b[0;34m.\u001b[0m\u001b[0mpartitionBy\u001b[0m\u001b[0;34m(\u001b[0m\u001b[0m_to_java_cols\u001b[0m\u001b[0;34m(\u001b[0m\u001b[0mcols\u001b[0m\u001b[0;34m)\u001b[0m\u001b[0;34m)\u001b[0m\u001b[0;34m\u001b[0m\u001b[0;34m\u001b[0m\u001b[0m\n\u001b[0m\u001b[1;32m     73\u001b[0m         \u001b[0;32mreturn\u001b[0m \u001b[0mWindowSpec\u001b[0m\u001b[0;34m(\u001b[0m\u001b[0mjspec\u001b[0m\u001b[0;34m)\u001b[0m\u001b[0;34m\u001b[0m\u001b[0;34m\u001b[0m\u001b[0m\n\u001b[1;32m     74\u001b[0m \u001b[0;34m\u001b[0m\u001b[0m\n",
            "\u001b[0;32m/usr/local/lib/python3.7/dist-packages/py4j/java_gateway.py\u001b[0m in \u001b[0;36m__getattr__\u001b[0;34m(self, name)\u001b[0m\n\u001b[1;32m   1708\u001b[0m         \u001b[0;34m:\u001b[0m\u001b[0mparam\u001b[0m \u001b[0mpython_server_entry_point\u001b[0m\u001b[0;34m:\u001b[0m \u001b[0mcan\u001b[0m \u001b[0mbe\u001b[0m \u001b[0mrequested\u001b[0m \u001b[0mby\u001b[0m \u001b[0mthe\u001b[0m \u001b[0mJava\u001b[0m \u001b[0mside\u001b[0m \u001b[0;32mif\u001b[0m\u001b[0;34m\u001b[0m\u001b[0;34m\u001b[0m\u001b[0m\n\u001b[1;32m   1709\u001b[0m             \u001b[0mJava\u001b[0m \u001b[0;32mis\u001b[0m \u001b[0mdriving\u001b[0m \u001b[0mthe\u001b[0m \u001b[0mcommunication\u001b[0m\u001b[0;34m.\u001b[0m\u001b[0;34m\u001b[0m\u001b[0;34m\u001b[0m\u001b[0m\n\u001b[0;32m-> 1710\u001b[0;31m         \"\"\"\n\u001b[0m\u001b[1;32m   1711\u001b[0m \u001b[0;34m\u001b[0m\u001b[0m\n\u001b[1;32m   1712\u001b[0m         \u001b[0mself\u001b[0m\u001b[0;34m.\u001b[0m\u001b[0mgateway_parameters\u001b[0m \u001b[0;34m=\u001b[0m \u001b[0mgateway_parameters\u001b[0m\u001b[0;34m\u001b[0m\u001b[0;34m\u001b[0m\u001b[0m\n",
            "\u001b[0;31mPy4JError\u001b[0m: org does not exist in the JVM"
          ]
        }
      ]
    },
    {
      "cell_type": "markdown",
      "source": [
        "### Step 2: Integration by joining stock data with all other data.  "
      ],
      "metadata": {
        "id": "uwbAqm84HCCd"
      }
    },
    {
      "cell_type": "code",
      "source": [
        "all_other_data_sdf = spark.createDataFrame(all_other_data) \n",
        "\n",
        "stock_data_2002_2019_sdf.createOrReplaceTempView(\"stock_data_0219_596\")\n",
        "all_other_data_sdf.createOrReplaceTempView(\"all_other_data\")\n",
        "\n",
        "mega_data_sdf = spark.sql(\n",
        "    \"\"\"\n",
        "    SELECT stock_data_0219_596.symbol, stock_data_0219_596.timestamp_as_dt, stock_data_0219_596.adjusted_close, stock_data_0219_596.price_DoD, all_other_data.*\n",
        "    FROM stock_data_0219_596\n",
        "    LEFT JOIN all_other_data\n",
        "      ON stock_data_0219_596.timestamp_as_dt = all_other_data.date;\n",
        "    \"\"\"\n",
        ")\n",
        "\n",
        "mega_data_sdf.show()\n"
      ],
      "metadata": {
        "id": "gBGRMoWVHCOt"
      },
      "execution_count": null,
      "outputs": []
    },
    {
      "cell_type": "markdown",
      "source": [
        "# Section 6: Run Linear Regression model on mega data.  "
      ],
      "metadata": {
        "id": "UxsKzNdtQSLU"
      }
    },
    {
      "cell_type": "markdown",
      "source": [
        "### Step 1: Split the data into features and label"
      ],
      "metadata": {
        "id": "Fgnw67-WQ5B-"
      }
    },
    {
      "cell_type": "code",
      "source": [
        "from pyspark.ml.feature import StringIndexer, VectorAssembler\n",
        "\n",
        "all_columns = [colName for colName in mega_data_sdf.columns]\n",
        "drop_columns = ['symbol', 'timestamp_as_dt', 'adjusted_close', 'price_DoD', 'quarter', 'month', 'date']\n",
        "columns_to_use = [i for i in all_columns if i not in drop_columns]\n",
        "\n",
        "assembler = VectorAssembler(inputCols=columns_to_use, outputCol=\"features\", handleInvalid=\"skip\")\n",
        "featured_sdf = assembler.transform(mega_data_sdf)\n",
        "\n",
        "from pyspark.ml import Pipeline\n",
        "\n",
        "mega_data_sdf = mega_data_sdf.drop(\"features\")\n",
        "pipeline = Pipeline(stages=[assembler])\n",
        "model = pipeline.fit(mega_data_sdf)\n",
        "modified_data_sdf = model.transform(mega_data_sdf)\n",
        "modified_data_sdf.show(5)\n",
        "\n",
        "train_sdf, test_sdf = modified_data_sdf.randomSplit([0.8, 0.2])\n"
      ],
      "metadata": {
        "id": "KlCSQ74HQ7WW"
      },
      "execution_count": null,
      "outputs": []
    },
    {
      "cell_type": "markdown",
      "source": [
        "### Step 2: Run linear regression model on spark"
      ],
      "metadata": {
        "id": "5_48GUBmSnXp"
      }
    },
    {
      "cell_type": "code",
      "source": [
        "from pyspark.ml.regression import LinearRegression\n",
        "\n",
        "lr = LinearRegression(featuresCol='features', labelCol='price_DoD')\n",
        "lr_model = lr.fit(train_sdf)\n",
        "\n",
        "trainingSummary = lr_model.summary\n",
        "\n",
        "print(\"RMSE: %f\" % trainingSummary.rootMeanSquaredError)\n",
        "print(\"r2: %f\" % trainingSummary.r2)\n"
      ],
      "metadata": {
        "id": "0E9ULtpvSs7b"
      },
      "execution_count": null,
      "outputs": []
    },
    {
      "cell_type": "markdown",
      "source": [
        "### Step3: Evaluate linear regression model.  "
      ],
      "metadata": {
        "id": "c1XrPgKcVUFC"
      }
    },
    {
      "cell_type": "code",
      "source": [
        "from pyspark.ml.evaluation import RegressionEvaluator\n",
        "from pyspark.sql.functions import col\n",
        "from sklearn.metrics import mean_squared_error\n",
        "\n",
        "predictions = lr_model.transform(test_sdf)\n",
        "\n",
        "# Compute root mean squared error on the test set\n",
        "y_test = predictions.select(col(\"label\")).collect()\n",
        "y_pred = predictions.select(col(\"prediction\")).collect()\n",
        "test_rmse_orig = mean_squared_error(y_test, y_pred, squared=False)\n",
        "print(test_rmse_orig)\n"
      ],
      "metadata": {
        "id": "WLxrZmknVY73"
      },
      "execution_count": null,
      "outputs": []
    },
    {
      "cell_type": "markdown",
      "source": [
        "# Section 7: Construct our portfolio with GLM.  "
      ],
      "metadata": {
        "id": "NPYfDBDOQYPs"
      }
    },
    {
      "cell_type": "markdown",
      "source": [
        "### Step 0: Set up assumptions.  "
      ],
      "metadata": {
        "id": "QewQDMKEV244"
      }
    },
    {
      "cell_type": "code",
      "source": [
        "# Initiating cash balance and portfolio\n",
        "\n",
        "cash_balance = 1000000\n",
        "portfolio_value = 0\n",
        "valuation_mark = cash_balance + portfolio_value\n",
        "\n",
        "portfolio = {\n",
        "  \"ADP\": 0\n",
        "}\n",
        "\n",
        "num_stock_to_buy = 20\n",
        "num_stock_to_sell = 50      # only if it's in our portfolio\n"
      ],
      "metadata": {
        "id": "SByEEUNpV_w0"
      },
      "execution_count": 235,
      "outputs": []
    },
    {
      "cell_type": "markdown",
      "source": [
        "### Step 1: Predict stock price using our model.  "
      ],
      "metadata": {
        "id": "gxSrF3gUWAFf"
      }
    },
    {
      "cell_type": "code",
      "source": [
        "# Run model to get projected share price change for each stock during 2018-2019.  \n",
        "\n",
        "real_world_sdf = spark.sql(\n",
        "    \"\"\"\n",
        "    SELECT stock_data_0219_596.symbol, stock_data_0219_596.timestamp_as_dt, stock_data_0219_596.adjusted_close, stock_data_0219_596.price_DoD, all_other_data.*\n",
        "    FROM stock_data_0219_596\n",
        "    LEFT JOIN all_other_data\n",
        "      ON stock_data_0219_596.timestamp_as_dt = all_other_data.date\n",
        "    WHERE stock_data_0219_596.timestamp_as_dt > pd.Timestamp(2017,12,31);\n",
        "    \"\"\"\n",
        ")\n",
        "\n",
        "featured_sdf = assembler.transform(real_world_sdf)\n",
        "real_world_predictions = lr_model.transform(featured_sdf)\n",
        "real_world_predictions.createOrReplaceTempView(\"real_world_predictions\")\n",
        "\n",
        "\n",
        "# Make prediction and select top 20 outperforming stocks and bottom 50 underperforming stocks.  \n",
        "# this shall return two lists: list of stock to buy and list of stock to sell for each day. \n",
        "\n",
        "starting_date = pd.Timestamp(2018, 1, 1)\n",
        "numdays = 500\n",
        "date_list = [starting_date + datetime.timedelta(days=x) for x in range(numdays)]\n",
        "list_of_stock_to_buy = {pd.Timestamp(2017, 12, 31): []}\n",
        "list_of_stock_to_sell = {pd.Timestamp(2017, 12, 31): []}\n",
        "\n",
        "for trading_date in date_list: \n",
        "  single_day_prediction_sdf = spark.sql(\n",
        "      \"\"\"\n",
        "      SELECT *\n",
        "      FROM real_world_predictions\n",
        "      WHERE date == trading_date\n",
        "      ORDER BY prediction DESC\n",
        "      \"\"\"\n",
        "  )\n",
        "  list_of_stock_to_buy[trading_date] = single_day_prediction_sdf.loc[0:19]['symbol']\n",
        "  list_of_stock_to_sell[trading_date] = single_day_prediction_sdf.loc[-50:]['symbol']\n"
      ],
      "metadata": {
        "id": "EqxIzH1kWFh3",
        "colab": {
          "base_uri": "https://localhost:8080/",
          "height": 640
        },
        "outputId": "d6aa6f21-308f-4064-9ec1-88de21b43681"
      },
      "execution_count": 267,
      "outputs": [
        {
          "output_type": "error",
          "ename": "Py4JError",
          "evalue": "ignored",
          "traceback": [
            "\u001b[0;31m---------------------------------------------------------------------------\u001b[0m",
            "\u001b[0;31mPy4JJavaError\u001b[0m                             Traceback (most recent call last)",
            "\u001b[0;32m/usr/local/lib/python3.7/dist-packages/pyspark/sql/utils.py\u001b[0m in \u001b[0;36mdeco\u001b[0;34m(*a, **kw)\u001b[0m\n\u001b[1;32m    110\u001b[0m     \u001b[0;32mfor\u001b[0m \u001b[0mi\u001b[0m \u001b[0;32min\u001b[0m \u001b[0mrange\u001b[0m\u001b[0;34m(\u001b[0m\u001b[0;36m0\u001b[0m\u001b[0;34m,\u001b[0m \u001b[0mlen\u001b[0m\u001b[0;34m(\u001b[0m\u001b[0marr\u001b[0m\u001b[0;34m)\u001b[0m\u001b[0;34m)\u001b[0m\u001b[0;34m:\u001b[0m\u001b[0;34m\u001b[0m\u001b[0;34m\u001b[0m\u001b[0m\n\u001b[0;32m--> 111\u001b[0;31m         \u001b[0mjarr\u001b[0m\u001b[0;34m[\u001b[0m\u001b[0mi\u001b[0m\u001b[0;34m]\u001b[0m \u001b[0;34m=\u001b[0m \u001b[0marr\u001b[0m\u001b[0;34m[\u001b[0m\u001b[0mi\u001b[0m\u001b[0;34m]\u001b[0m\u001b[0;34m\u001b[0m\u001b[0;34m\u001b[0m\u001b[0m\n\u001b[0m\u001b[1;32m    112\u001b[0m     \u001b[0;32mreturn\u001b[0m \u001b[0mjarr\u001b[0m\u001b[0;34m\u001b[0m\u001b[0;34m\u001b[0m\u001b[0m\n",
            "\u001b[0;32m/usr/local/lib/python3.7/dist-packages/py4j/protocol.py\u001b[0m in \u001b[0;36mget_return_value\u001b[0;34m(answer, gateway_client, target_id, name)\u001b[0m\n\u001b[1;32m    327\u001b[0m                     \u001b[0;34m\"An error occurred while calling {0}{1}{2}.\\n\"\u001b[0m\u001b[0;34m.\u001b[0m\u001b[0;34m\u001b[0m\u001b[0;34m\u001b[0m\u001b[0m\n\u001b[0;32m--> 328\u001b[0;31m                     format(target_id, \".\", name), value)\n\u001b[0m\u001b[1;32m    329\u001b[0m             \u001b[0;32melse\u001b[0m\u001b[0;34m:\u001b[0m\u001b[0;34m\u001b[0m\u001b[0;34m\u001b[0m\u001b[0m\n",
            "\u001b[0;31mPy4JJavaError\u001b[0m: An error occurred while calling o432.showString.\n: org.apache.spark.sql.AnalysisException: Undefined function: 'Timestamp'. This function is neither a registered temporary function nor a permanent function registered in the database 'pd'.; line 6 pos 48",
            "\nDuring handling of the above exception, another exception occurred:\n",
            "\u001b[0;31mPy4JError\u001b[0m                                 Traceback (most recent call last)",
            "\u001b[0;32m<ipython-input-267-0dc5de53dc5b>\u001b[0m in \u001b[0;36m<module>\u001b[0;34m()\u001b[0m\n\u001b[1;32m     12\u001b[0m )\n\u001b[1;32m     13\u001b[0m \u001b[0;34m\u001b[0m\u001b[0m\n\u001b[0;32m---> 14\u001b[0;31m \u001b[0mreal_world_sdf\u001b[0m\u001b[0;34m.\u001b[0m\u001b[0mshow\u001b[0m\u001b[0;34m(\u001b[0m\u001b[0;34m)\u001b[0m\u001b[0;34m\u001b[0m\u001b[0;34m\u001b[0m\u001b[0m\n\u001b[0m\u001b[1;32m     15\u001b[0m \u001b[0;34m\u001b[0m\u001b[0m\n\u001b[1;32m     16\u001b[0m \u001b[0mstock_to_buy\u001b[0m \u001b[0;34m=\u001b[0m \u001b[0;34m[\u001b[0m\u001b[0;34m'ADP'\u001b[0m\u001b[0;34m]\u001b[0m\u001b[0;34m\u001b[0m\u001b[0;34m\u001b[0m\u001b[0m\n",
            "\u001b[0;32m/usr/local/lib/python3.7/dist-packages/pyspark/sql/dataframe.py\u001b[0m in \u001b[0;36mshow\u001b[0;34m(self, n, truncate, vertical)\u001b[0m\n\u001b[1;32m    492\u001b[0m         \u001b[0;34m:\u001b[0m\u001b[0mparam\u001b[0m \u001b[0mparameters\u001b[0m\u001b[0;34m:\u001b[0m \u001b[0mOptional\u001b[0m \u001b[0mparameters\u001b[0m\u001b[0;34m.\u001b[0m\u001b[0;34m\u001b[0m\u001b[0;34m\u001b[0m\u001b[0m\n\u001b[1;32m    493\u001b[0m         \u001b[0;34m:\u001b[0m\u001b[0;32mreturn\u001b[0m\u001b[0;34m:\u001b[0m \u001b[0;34m:\u001b[0m\u001b[0;32mclass\u001b[0m\u001b[0;34m:\u001b[0m\u001b[0;31m`\u001b[0m\u001b[0mDataFrame\u001b[0m\u001b[0;31m`\u001b[0m\u001b[0;34m\u001b[0m\u001b[0;34m\u001b[0m\u001b[0m\n\u001b[0;32m--> 494\u001b[0;31m \u001b[0;34m\u001b[0m\u001b[0m\n\u001b[0m\u001b[1;32m    495\u001b[0m         \u001b[0;34m>>\u001b[0m\u001b[0;34m>\u001b[0m \u001b[0mdf\u001b[0m\u001b[0;34m.\u001b[0m\u001b[0mjoin\u001b[0m\u001b[0;34m(\u001b[0m\u001b[0mdf2\u001b[0m\u001b[0;34m.\u001b[0m\u001b[0mhint\u001b[0m\u001b[0;34m(\u001b[0m\u001b[0;34m\"broadcast\"\u001b[0m\u001b[0;34m)\u001b[0m\u001b[0;34m,\u001b[0m \u001b[0;34m\"name\"\u001b[0m\u001b[0;34m)\u001b[0m\u001b[0;34m.\u001b[0m\u001b[0mshow\u001b[0m\u001b[0;34m(\u001b[0m\u001b[0;34m)\u001b[0m\u001b[0;34m\u001b[0m\u001b[0;34m\u001b[0m\u001b[0m\n\u001b[1;32m    496\u001b[0m         \u001b[0;34m+\u001b[0m\u001b[0;34m-\u001b[0m\u001b[0;34m-\u001b[0m\u001b[0;34m-\u001b[0m\u001b[0;34m-\u001b[0m\u001b[0;34m+\u001b[0m\u001b[0;34m-\u001b[0m\u001b[0;34m-\u001b[0m\u001b[0;34m-\u001b[0m\u001b[0;34m+\u001b[0m\u001b[0;34m-\u001b[0m\u001b[0;34m-\u001b[0m\u001b[0;34m-\u001b[0m\u001b[0;34m-\u001b[0m\u001b[0;34m-\u001b[0m\u001b[0;34m-\u001b[0m\u001b[0;34m+\u001b[0m\u001b[0;34m\u001b[0m\u001b[0;34m\u001b[0m\u001b[0m\n",
            "\u001b[0;32m/usr/local/lib/python3.7/dist-packages/py4j/java_gateway.py\u001b[0m in \u001b[0;36m__call__\u001b[0;34m(self, *args)\u001b[0m\n\u001b[1;32m   1308\u001b[0m             self._gateway_doc = gateway_help(\n\u001b[1;32m   1309\u001b[0m                 self._gateway_client, self, display=False)\n\u001b[0;32m-> 1310\u001b[0;31m         \u001b[0;32mreturn\u001b[0m \u001b[0mself\u001b[0m\u001b[0;34m.\u001b[0m\u001b[0m_gateway_doc\u001b[0m\u001b[0;34m\u001b[0m\u001b[0;34m\u001b[0m\u001b[0m\n\u001b[0m\u001b[1;32m   1311\u001b[0m \u001b[0;34m\u001b[0m\u001b[0m\n\u001b[1;32m   1312\u001b[0m     \u001b[0;32mdef\u001b[0m \u001b[0m__getattr__\u001b[0m\u001b[0;34m(\u001b[0m\u001b[0mself\u001b[0m\u001b[0;34m,\u001b[0m \u001b[0mname\u001b[0m\u001b[0;34m)\u001b[0m\u001b[0;34m:\u001b[0m\u001b[0;34m\u001b[0m\u001b[0;34m\u001b[0m\u001b[0m\n",
            "\u001b[0;32m/usr/local/lib/python3.7/dist-packages/pyspark/sql/utils.py\u001b[0m in \u001b[0;36mdeco\u001b[0;34m(*a, **kw)\u001b[0m\n\u001b[1;32m    111\u001b[0m         \u001b[0mjarr\u001b[0m\u001b[0;34m[\u001b[0m\u001b[0mi\u001b[0m\u001b[0;34m]\u001b[0m \u001b[0;34m=\u001b[0m \u001b[0marr\u001b[0m\u001b[0;34m[\u001b[0m\u001b[0mi\u001b[0m\u001b[0;34m]\u001b[0m\u001b[0;34m\u001b[0m\u001b[0;34m\u001b[0m\u001b[0m\n\u001b[1;32m    112\u001b[0m     \u001b[0;32mreturn\u001b[0m \u001b[0mjarr\u001b[0m\u001b[0;34m\u001b[0m\u001b[0;34m\u001b[0m\u001b[0m\n\u001b[0;32m--> 113\u001b[0;31m \u001b[0;34m\u001b[0m\u001b[0m\n\u001b[0m\u001b[1;32m    114\u001b[0m \u001b[0;34m\u001b[0m\u001b[0m\n\u001b[1;32m    115\u001b[0m \u001b[0;32mdef\u001b[0m \u001b[0mrequire_minimum_pandas_version\u001b[0m\u001b[0;34m(\u001b[0m\u001b[0;34m)\u001b[0m\u001b[0;34m:\u001b[0m\u001b[0;34m\u001b[0m\u001b[0;34m\u001b[0m\u001b[0m\n",
            "\u001b[0;32m/usr/local/lib/python3.7/dist-packages/pyspark/sql/utils.py\u001b[0m in \u001b[0;36mconvert_exception\u001b[0;34m(e)\u001b[0m\n\u001b[1;32m     79\u001b[0m                 \u001b[0;32mraise\u001b[0m \u001b[0mIllegalArgumentException\u001b[0m\u001b[0;34m(\u001b[0m\u001b[0ms\u001b[0m\u001b[0;34m.\u001b[0m\u001b[0msplit\u001b[0m\u001b[0;34m(\u001b[0m\u001b[0;34m': '\u001b[0m\u001b[0;34m,\u001b[0m \u001b[0;36m1\u001b[0m\u001b[0;34m)\u001b[0m\u001b[0;34m[\u001b[0m\u001b[0;36m1\u001b[0m\u001b[0;34m]\u001b[0m\u001b[0;34m,\u001b[0m \u001b[0mstackTrace\u001b[0m\u001b[0;34m)\u001b[0m\u001b[0;34m\u001b[0m\u001b[0;34m\u001b[0m\u001b[0m\n\u001b[1;32m     80\u001b[0m             \u001b[0;32mraise\u001b[0m\u001b[0;34m\u001b[0m\u001b[0;34m\u001b[0m\u001b[0m\n\u001b[0;32m---> 81\u001b[0;31m     \u001b[0;32mreturn\u001b[0m \u001b[0mdeco\u001b[0m\u001b[0;34m\u001b[0m\u001b[0;34m\u001b[0m\u001b[0m\n\u001b[0m\u001b[1;32m     82\u001b[0m \u001b[0;34m\u001b[0m\u001b[0m\n\u001b[1;32m     83\u001b[0m \u001b[0;34m\u001b[0m\u001b[0m\n",
            "\u001b[0;32m/usr/local/lib/python3.7/dist-packages/py4j/java_gateway.py\u001b[0m in \u001b[0;36m__call__\u001b[0;34m(self, *args)\u001b[0m\n\u001b[1;32m   1308\u001b[0m             self._gateway_doc = gateway_help(\n\u001b[1;32m   1309\u001b[0m                 self._gateway_client, self, display=False)\n\u001b[0;32m-> 1310\u001b[0;31m         \u001b[0;32mreturn\u001b[0m \u001b[0mself\u001b[0m\u001b[0;34m.\u001b[0m\u001b[0m_gateway_doc\u001b[0m\u001b[0;34m\u001b[0m\u001b[0;34m\u001b[0m\u001b[0m\n\u001b[0m\u001b[1;32m   1311\u001b[0m \u001b[0;34m\u001b[0m\u001b[0m\n\u001b[1;32m   1312\u001b[0m     \u001b[0;32mdef\u001b[0m \u001b[0m__getattr__\u001b[0m\u001b[0;34m(\u001b[0m\u001b[0mself\u001b[0m\u001b[0;34m,\u001b[0m \u001b[0mname\u001b[0m\u001b[0;34m)\u001b[0m\u001b[0;34m:\u001b[0m\u001b[0;34m\u001b[0m\u001b[0;34m\u001b[0m\u001b[0m\n",
            "\u001b[0;32m/usr/local/lib/python3.7/dist-packages/pyspark/sql/utils.py\u001b[0m in \u001b[0;36mdeco\u001b[0;34m(*a, **kw)\u001b[0m\n\u001b[1;32m    109\u001b[0m     \u001b[0mjarr\u001b[0m \u001b[0;34m=\u001b[0m \u001b[0mgateway\u001b[0m\u001b[0;34m.\u001b[0m\u001b[0mnew_array\u001b[0m\u001b[0;34m(\u001b[0m\u001b[0mjtype\u001b[0m\u001b[0;34m,\u001b[0m \u001b[0mlen\u001b[0m\u001b[0;34m(\u001b[0m\u001b[0marr\u001b[0m\u001b[0;34m)\u001b[0m\u001b[0;34m)\u001b[0m\u001b[0;34m\u001b[0m\u001b[0;34m\u001b[0m\u001b[0m\n\u001b[1;32m    110\u001b[0m     \u001b[0;32mfor\u001b[0m \u001b[0mi\u001b[0m \u001b[0;32min\u001b[0m \u001b[0mrange\u001b[0m\u001b[0;34m(\u001b[0m\u001b[0;36m0\u001b[0m\u001b[0;34m,\u001b[0m \u001b[0mlen\u001b[0m\u001b[0;34m(\u001b[0m\u001b[0marr\u001b[0m\u001b[0;34m)\u001b[0m\u001b[0;34m)\u001b[0m\u001b[0;34m:\u001b[0m\u001b[0;34m\u001b[0m\u001b[0;34m\u001b[0m\u001b[0m\n\u001b[0;32m--> 111\u001b[0;31m         \u001b[0mjarr\u001b[0m\u001b[0;34m[\u001b[0m\u001b[0mi\u001b[0m\u001b[0;34m]\u001b[0m \u001b[0;34m=\u001b[0m \u001b[0marr\u001b[0m\u001b[0;34m[\u001b[0m\u001b[0mi\u001b[0m\u001b[0;34m]\u001b[0m\u001b[0;34m\u001b[0m\u001b[0;34m\u001b[0m\u001b[0m\n\u001b[0m\u001b[1;32m    112\u001b[0m     \u001b[0;32mreturn\u001b[0m \u001b[0mjarr\u001b[0m\u001b[0;34m\u001b[0m\u001b[0;34m\u001b[0m\u001b[0m\n\u001b[1;32m    113\u001b[0m \u001b[0;34m\u001b[0m\u001b[0m\n",
            "\u001b[0;32m/usr/local/lib/python3.7/dist-packages/py4j/protocol.py\u001b[0m in \u001b[0;36mget_return_value\u001b[0;34m(answer, gateway_client, target_id, name)\u001b[0m\n\u001b[1;32m    330\u001b[0m                 raise Py4JError(\n\u001b[1;32m    331\u001b[0m                     \u001b[0;34m\"An error occurred while calling {0}{1}{2}. Trace:\\n{3}\\n\"\u001b[0m\u001b[0;34m.\u001b[0m\u001b[0;34m\u001b[0m\u001b[0;34m\u001b[0m\u001b[0m\n\u001b[0;32m--> 332\u001b[0;31m                     format(target_id, \".\", name, value))\n\u001b[0m\u001b[1;32m    333\u001b[0m         \u001b[0;32melse\u001b[0m\u001b[0;34m:\u001b[0m\u001b[0;34m\u001b[0m\u001b[0;34m\u001b[0m\u001b[0m\n\u001b[1;32m    334\u001b[0m             raise Py4JError(\n",
            "\u001b[0;31mPy4JError\u001b[0m: An error occurred while calling o433.toString. Trace:\npy4j.Py4JException: Method showString([class java.lang.Integer, class java.lang.Integer, class java.lang.Boolean]) does not exist\n\tat py4j.reflection.ReflectionEngine.getMethod(ReflectionEngine.java:318)\n\tat py4j.reflection.ReflectionEngine.getMethod(ReflectionEngine.java:326)\n\tat py4j.Gateway.invoke(Gateway.java:274)\n\tat py4j.commands.AbstractCommand.invokeMethod(AbstractCommand.java:132)\n\tat py4j.commands.CallCommand.execute(CallCommand.java:79)\n\tat py4j.ClientServerConnection.waitForCommands(ClientServerConnection.java:182)\n\tat py4j.ClientServerConnection.run(ClientServerConnection.java:106)\n\tat java.base/java.lang.Thread.run(Thread.java:829)\n\n"
          ]
        }
      ]
    },
    {
      "cell_type": "markdown",
      "source": [
        "### Step 2: Do daily stock trades and update portfolio"
      ],
      "metadata": {
        "id": "P92_MdTXP53r"
      }
    },
    {
      "cell_type": "code",
      "source": [
        "def get_share_price(symbol, date):\n",
        "    stock_df = pd.read_csv(os.path.join('/content/stock_data/', symbol))\n",
        "    stock_df['date'] = pd.to_datetime(stock_df.timestamp)\n",
        "    result = len(stock_df.loc[stock_df.date == date]['adjusted_close'])\n",
        "    if result == 0: \n",
        "      date = date - datetime.timedelta(days=1)\n",
        "      price = get_share_price(symbol, date)\n",
        "    if result == 1:\n",
        "      price = stock_df.loc[stock_df.date == date]['adjusted_close'].iloc[0]\n",
        "    return price\n",
        "\n",
        "def get_SnPindex(date):\n",
        "    stock_df = pd.read_csv(os.path.join('/content/other_data/stockindex.csv'))\n",
        "    stock_df['date'] = pd.to_datetime(stock_df.date)\n",
        "    result = len(stock_df.loc[stock_df.date == date]['S&P'])\n",
        "    if result == 0: \n",
        "      date = date - datetime.timedelta(days=1)\n",
        "      price = get_SnPindex(date)\n",
        "    if result == 1:\n",
        "      price = stock_df.loc[stock_df.date == date]['S&P'].iloc[0]\n",
        "    return price\n",
        "\n",
        "def trade_stock(stock_to_buy, stock_to_sell, date):\n",
        "    cash_balance = 0\n",
        "    for symbol in stock_to_sell: \n",
        "        price = get_share_price(symbol+\".csv\", date)\n",
        "        volume_to_sell = portfolio[symbol]\n",
        "        proceeds = volume_to_sell * price\n",
        "        cash_balance = cash_balance + proceeds\n",
        "    amount_to_buy_each = cash_balance / len(stock_to_buy)\n",
        "    for symbol in stock_to_buy: \n",
        "        price = get_share_price(symbol+\".csv\", date)\n",
        "        volume_to_buy = amount_to_buy_each / price\n",
        "        portfolio[symbol] = portfolio[symbol] + volume_to_buy\n",
        "        cash_balance = cash_balance - amount_to_buy_each\n",
        "    return portfolio\n",
        "\n",
        "def calc_portfolio_value(portfolio, date): \n",
        "    portfolio_value = 0\n",
        "    for symbol, volume in portfolio.items(): \n",
        "        price = get_share_price(symbol+\".csv\", date)\n",
        "        value = price * volume\n",
        "        portfolio_value = portfolio_value + value\n",
        "    return portfolio_value\n",
        "\n",
        "# Apply strategy from 2018-1-1 to 2019-12-31.  \n",
        "import datetime\n",
        "\n",
        "cash_balance = 1000000\n",
        "portfolio_value = 0\n",
        "valuation_mark = cash_balance + portfolio_value\n",
        "\n",
        "starting_date = pd.Timestamp(2018, 1, 1)\n",
        "numdays = 500\n",
        "date_list = [starting_date + datetime.timedelta(days=x) for x in range(numdays)]\n",
        "valuation_marks = {pd.Timestamp(2017, 12, 31): valuation_mark}\n",
        "\n",
        "for trading_date in date_list: \n",
        "    stock_to_buy = list_of_stock_to_buy[trading_date]      \n",
        "    stock_to_sell = list_of_stock_to_sell[trading_date]         \n",
        "    portfolio = trade_stock(stock_to_buy, stock_to_sell, trading_date)\n",
        "    portfolio_value = calc_portfolio_value(portfolio, trading_date)\n",
        "    valuation_mark = cash_balance + portfolio_value\n",
        "    valuation_marks[trading_date] = valuation_mark\n",
        "\n",
        "print(valuation_marks)\n",
        "\n",
        "SnP_marks = {pd.Timestamp(2017, 12, 31): get_SnPindex(pd.Timestamp(2017, 12, 31))}\n",
        "for trading_date in date_list:\n",
        "    SnP_mark = get_SnPindex(trading_date)\n",
        "    SnP_marks[trading_date] = SnP_mark\n",
        "print(SnP_marks)\n",
        "\n",
        "final_portfolio_return = valuation_marks[list(valuation_marks)[-1]] / valuation_marks[list(valuation_marks)[0]]\n",
        "benchmark_return = SnP_marks[list(SnP_marks)[-1]] / SnP_marks[list(SnP_marks)[0]]\n",
        "\n",
        "print(\"Our model generates \", final_portfolio_return, \"over testing period\")\n",
        "print(\"While S&P500 as benchmark generated \", benchmark_return, \"over testing period\")\n"
      ],
      "metadata": {
        "colab": {
          "base_uri": "https://localhost:8080/"
        },
        "id": "wNsspfvSQAis",
        "outputId": "fcda117c-9fcd-43c2-e9c8-dd3158b78c22"
      },
      "execution_count": 256,
      "outputs": [
        {
          "output_type": "stream",
          "name": "stdout",
          "text": [
            "{Timestamp('2018-12-31 00:00:00'): 1000000, Timestamp('2019-01-01 00:00:00'): 1000000.0, Timestamp('2019-01-02 00:00:00'): 1000000.0, Timestamp('2019-01-03 00:00:00'): 1000000.0, Timestamp('2019-01-04 00:00:00'): 1000000.0, Timestamp('2019-01-05 00:00:00'): 1000000.0, Timestamp('2019-01-06 00:00:00'): 1000000.0, Timestamp('2019-01-07 00:00:00'): 1000000.0, Timestamp('2019-01-08 00:00:00'): 1000000.0, Timestamp('2019-01-09 00:00:00'): 1000000.0, Timestamp('2019-01-10 00:00:00'): 1000000.0, Timestamp('2019-01-11 00:00:00'): 1000000.0, Timestamp('2019-01-12 00:00:00'): 1000000.0, Timestamp('2019-01-13 00:00:00'): 1000000.0, Timestamp('2019-01-14 00:00:00'): 1000000.0, Timestamp('2019-01-15 00:00:00'): 1000000.0, Timestamp('2019-01-16 00:00:00'): 1000000.0, Timestamp('2019-01-17 00:00:00'): 1000000.0, Timestamp('2019-01-18 00:00:00'): 1000000.0, Timestamp('2019-01-19 00:00:00'): 1000000.0, Timestamp('2019-01-20 00:00:00'): 1000000.0, Timestamp('2019-01-21 00:00:00'): 1000000.0, Timestamp('2019-01-22 00:00:00'): 1000000.0, Timestamp('2019-01-23 00:00:00'): 1000000.0, Timestamp('2019-01-24 00:00:00'): 1000000.0, Timestamp('2019-01-25 00:00:00'): 1000000.0, Timestamp('2019-01-26 00:00:00'): 1000000.0, Timestamp('2019-01-27 00:00:00'): 1000000.0, Timestamp('2019-01-28 00:00:00'): 1000000.0, Timestamp('2019-01-29 00:00:00'): 1000000.0, Timestamp('2019-01-30 00:00:00'): 1000000.0, Timestamp('2019-01-31 00:00:00'): 1000000.0, Timestamp('2019-02-01 00:00:00'): 1000000.0, Timestamp('2019-02-02 00:00:00'): 1000000.0, Timestamp('2019-02-03 00:00:00'): 1000000.0, Timestamp('2019-02-04 00:00:00'): 1000000.0, Timestamp('2019-02-05 00:00:00'): 1000000.0, Timestamp('2019-02-06 00:00:00'): 1000000.0, Timestamp('2019-02-07 00:00:00'): 1000000.0, Timestamp('2019-02-08 00:00:00'): 1000000.0, Timestamp('2019-02-09 00:00:00'): 1000000.0, Timestamp('2019-02-10 00:00:00'): 1000000.0, Timestamp('2019-02-11 00:00:00'): 1000000.0, Timestamp('2019-02-12 00:00:00'): 1000000.0, Timestamp('2019-02-13 00:00:00'): 1000000.0, Timestamp('2019-02-14 00:00:00'): 1000000.0, Timestamp('2019-02-15 00:00:00'): 1000000.0, Timestamp('2019-02-16 00:00:00'): 1000000.0, Timestamp('2019-02-17 00:00:00'): 1000000.0, Timestamp('2019-02-18 00:00:00'): 1000000.0, Timestamp('2019-02-19 00:00:00'): 1000000.0, Timestamp('2019-02-20 00:00:00'): 1000000.0, Timestamp('2019-02-21 00:00:00'): 1000000.0, Timestamp('2019-02-22 00:00:00'): 1000000.0, Timestamp('2019-02-23 00:00:00'): 1000000.0, Timestamp('2019-02-24 00:00:00'): 1000000.0, Timestamp('2019-02-25 00:00:00'): 1000000.0, Timestamp('2019-02-26 00:00:00'): 1000000.0, Timestamp('2019-02-27 00:00:00'): 1000000.0, Timestamp('2019-02-28 00:00:00'): 1000000.0, Timestamp('2019-03-01 00:00:00'): 1000000.0, Timestamp('2019-03-02 00:00:00'): 1000000.0, Timestamp('2019-03-03 00:00:00'): 1000000.0, Timestamp('2019-03-04 00:00:00'): 1000000.0, Timestamp('2019-03-05 00:00:00'): 1000000.0, Timestamp('2019-03-06 00:00:00'): 1000000.0, Timestamp('2019-03-07 00:00:00'): 1000000.0, Timestamp('2019-03-08 00:00:00'): 1000000.0, Timestamp('2019-03-09 00:00:00'): 1000000.0, Timestamp('2019-03-10 00:00:00'): 1000000.0, Timestamp('2019-03-11 00:00:00'): 1000000.0, Timestamp('2019-03-12 00:00:00'): 1000000.0, Timestamp('2019-03-13 00:00:00'): 1000000.0, Timestamp('2019-03-14 00:00:00'): 1000000.0, Timestamp('2019-03-15 00:00:00'): 1000000.0, Timestamp('2019-03-16 00:00:00'): 1000000.0, Timestamp('2019-03-17 00:00:00'): 1000000.0, Timestamp('2019-03-18 00:00:00'): 1000000.0, Timestamp('2019-03-19 00:00:00'): 1000000.0, Timestamp('2019-03-20 00:00:00'): 1000000.0, Timestamp('2019-03-21 00:00:00'): 1000000.0, Timestamp('2019-03-22 00:00:00'): 1000000.0, Timestamp('2019-03-23 00:00:00'): 1000000.0, Timestamp('2019-03-24 00:00:00'): 1000000.0, Timestamp('2019-03-25 00:00:00'): 1000000.0, Timestamp('2019-03-26 00:00:00'): 1000000.0, Timestamp('2019-03-27 00:00:00'): 1000000.0, Timestamp('2019-03-28 00:00:00'): 1000000.0, Timestamp('2019-03-29 00:00:00'): 1000000.0, Timestamp('2019-03-30 00:00:00'): 1000000.0, Timestamp('2019-03-31 00:00:00'): 1000000.0, Timestamp('2019-04-01 00:00:00'): 1000000.0, Timestamp('2019-04-02 00:00:00'): 1000000.0, Timestamp('2019-04-03 00:00:00'): 1000000.0, Timestamp('2019-04-04 00:00:00'): 1000000.0, Timestamp('2019-04-05 00:00:00'): 1000000.0, Timestamp('2019-04-06 00:00:00'): 1000000.0, Timestamp('2019-04-07 00:00:00'): 1000000.0, Timestamp('2019-04-08 00:00:00'): 1000000.0, Timestamp('2019-04-09 00:00:00'): 1000000.0, Timestamp('2019-04-10 00:00:00'): 1000000.0, Timestamp('2019-04-11 00:00:00'): 1000000.0, Timestamp('2019-04-12 00:00:00'): 1000000.0, Timestamp('2019-04-13 00:00:00'): 1000000.0, Timestamp('2019-04-14 00:00:00'): 1000000.0, Timestamp('2019-04-15 00:00:00'): 1000000.0, Timestamp('2019-04-16 00:00:00'): 1000000.0, Timestamp('2019-04-17 00:00:00'): 1000000.0, Timestamp('2019-04-18 00:00:00'): 1000000.0, Timestamp('2019-04-19 00:00:00'): 1000000.0, Timestamp('2019-04-20 00:00:00'): 1000000.0, Timestamp('2019-04-21 00:00:00'): 1000000.0, Timestamp('2019-04-22 00:00:00'): 1000000.0, Timestamp('2019-04-23 00:00:00'): 1000000.0, Timestamp('2019-04-24 00:00:00'): 1000000.0, Timestamp('2019-04-25 00:00:00'): 1000000.0, Timestamp('2019-04-26 00:00:00'): 1000000.0, Timestamp('2019-04-27 00:00:00'): 1000000.0, Timestamp('2019-04-28 00:00:00'): 1000000.0, Timestamp('2019-04-29 00:00:00'): 1000000.0, Timestamp('2019-04-30 00:00:00'): 1000000.0, Timestamp('2019-05-01 00:00:00'): 1000000.0, Timestamp('2019-05-02 00:00:00'): 1000000.0, Timestamp('2019-05-03 00:00:00'): 1000000.0, Timestamp('2019-05-04 00:00:00'): 1000000.0, Timestamp('2019-05-05 00:00:00'): 1000000.0, Timestamp('2019-05-06 00:00:00'): 1000000.0, Timestamp('2019-05-07 00:00:00'): 1000000.0, Timestamp('2019-05-08 00:00:00'): 1000000.0, Timestamp('2019-05-09 00:00:00'): 1000000.0, Timestamp('2019-05-10 00:00:00'): 1000000.0, Timestamp('2019-05-11 00:00:00'): 1000000.0, Timestamp('2019-05-12 00:00:00'): 1000000.0, Timestamp('2019-05-13 00:00:00'): 1000000.0, Timestamp('2019-05-14 00:00:00'): 1000000.0, Timestamp('2019-05-15 00:00:00'): 1000000.0, Timestamp('2019-05-16 00:00:00'): 1000000.0, Timestamp('2019-05-17 00:00:00'): 1000000.0, Timestamp('2019-05-18 00:00:00'): 1000000.0, Timestamp('2019-05-19 00:00:00'): 1000000.0, Timestamp('2019-05-20 00:00:00'): 1000000.0, Timestamp('2019-05-21 00:00:00'): 1000000.0, Timestamp('2019-05-22 00:00:00'): 1000000.0, Timestamp('2019-05-23 00:00:00'): 1000000.0, Timestamp('2019-05-24 00:00:00'): 1000000.0, Timestamp('2019-05-25 00:00:00'): 1000000.0, Timestamp('2019-05-26 00:00:00'): 1000000.0, Timestamp('2019-05-27 00:00:00'): 1000000.0, Timestamp('2019-05-28 00:00:00'): 1000000.0, Timestamp('2019-05-29 00:00:00'): 1000000.0, Timestamp('2019-05-30 00:00:00'): 1000000.0, Timestamp('2019-05-31 00:00:00'): 1000000.0, Timestamp('2019-06-01 00:00:00'): 1000000.0, Timestamp('2019-06-02 00:00:00'): 1000000.0, Timestamp('2019-06-03 00:00:00'): 1000000.0, Timestamp('2019-06-04 00:00:00'): 1000000.0, Timestamp('2019-06-05 00:00:00'): 1000000.0, Timestamp('2019-06-06 00:00:00'): 1000000.0, Timestamp('2019-06-07 00:00:00'): 1000000.0, Timestamp('2019-06-08 00:00:00'): 1000000.0, Timestamp('2019-06-09 00:00:00'): 1000000.0, Timestamp('2019-06-10 00:00:00'): 1000000.0, Timestamp('2019-06-11 00:00:00'): 1000000.0, Timestamp('2019-06-12 00:00:00'): 1000000.0, Timestamp('2019-06-13 00:00:00'): 1000000.0, Timestamp('2019-06-14 00:00:00'): 1000000.0, Timestamp('2019-06-15 00:00:00'): 1000000.0, Timestamp('2019-06-16 00:00:00'): 1000000.0, Timestamp('2019-06-17 00:00:00'): 1000000.0, Timestamp('2019-06-18 00:00:00'): 1000000.0, Timestamp('2019-06-19 00:00:00'): 1000000.0, Timestamp('2019-06-20 00:00:00'): 1000000.0, Timestamp('2019-06-21 00:00:00'): 1000000.0, Timestamp('2019-06-22 00:00:00'): 1000000.0, Timestamp('2019-06-23 00:00:00'): 1000000.0, Timestamp('2019-06-24 00:00:00'): 1000000.0, Timestamp('2019-06-25 00:00:00'): 1000000.0, Timestamp('2019-06-26 00:00:00'): 1000000.0, Timestamp('2019-06-27 00:00:00'): 1000000.0, Timestamp('2019-06-28 00:00:00'): 1000000.0, Timestamp('2019-06-29 00:00:00'): 1000000.0, Timestamp('2019-06-30 00:00:00'): 1000000.0, Timestamp('2019-07-01 00:00:00'): 1000000.0, Timestamp('2019-07-02 00:00:00'): 1000000.0, Timestamp('2019-07-03 00:00:00'): 1000000.0, Timestamp('2019-07-04 00:00:00'): 1000000.0, Timestamp('2019-07-05 00:00:00'): 1000000.0, Timestamp('2019-07-06 00:00:00'): 1000000.0, Timestamp('2019-07-07 00:00:00'): 1000000.0, Timestamp('2019-07-08 00:00:00'): 1000000.0, Timestamp('2019-07-09 00:00:00'): 1000000.0, Timestamp('2019-07-10 00:00:00'): 1000000.0, Timestamp('2019-07-11 00:00:00'): 1000000.0, Timestamp('2019-07-12 00:00:00'): 1000000.0, Timestamp('2019-07-13 00:00:00'): 1000000.0, Timestamp('2019-07-14 00:00:00'): 1000000.0, Timestamp('2019-07-15 00:00:00'): 1000000.0, Timestamp('2019-07-16 00:00:00'): 1000000.0, Timestamp('2019-07-17 00:00:00'): 1000000.0, Timestamp('2019-07-18 00:00:00'): 1000000.0, Timestamp('2019-07-19 00:00:00'): 1000000.0, Timestamp('2019-07-20 00:00:00'): 1000000.0, Timestamp('2019-07-21 00:00:00'): 1000000.0, Timestamp('2019-07-22 00:00:00'): 1000000.0, Timestamp('2019-07-23 00:00:00'): 1000000.0, Timestamp('2019-07-24 00:00:00'): 1000000.0, Timestamp('2019-07-25 00:00:00'): 1000000.0, Timestamp('2019-07-26 00:00:00'): 1000000.0, Timestamp('2019-07-27 00:00:00'): 1000000.0, Timestamp('2019-07-28 00:00:00'): 1000000.0, Timestamp('2019-07-29 00:00:00'): 1000000.0, Timestamp('2019-07-30 00:00:00'): 1000000.0, Timestamp('2019-07-31 00:00:00'): 1000000.0, Timestamp('2019-08-01 00:00:00'): 1000000.0, Timestamp('2019-08-02 00:00:00'): 1000000.0, Timestamp('2019-08-03 00:00:00'): 1000000.0, Timestamp('2019-08-04 00:00:00'): 1000000.0, Timestamp('2019-08-05 00:00:00'): 1000000.0, Timestamp('2019-08-06 00:00:00'): 1000000.0, Timestamp('2019-08-07 00:00:00'): 1000000.0, Timestamp('2019-08-08 00:00:00'): 1000000.0, Timestamp('2019-08-09 00:00:00'): 1000000.0, Timestamp('2019-08-10 00:00:00'): 1000000.0, Timestamp('2019-08-11 00:00:00'): 1000000.0, Timestamp('2019-08-12 00:00:00'): 1000000.0, Timestamp('2019-08-13 00:00:00'): 1000000.0, Timestamp('2019-08-14 00:00:00'): 1000000.0, Timestamp('2019-08-15 00:00:00'): 1000000.0, Timestamp('2019-08-16 00:00:00'): 1000000.0, Timestamp('2019-08-17 00:00:00'): 1000000.0, Timestamp('2019-08-18 00:00:00'): 1000000.0, Timestamp('2019-08-19 00:00:00'): 1000000.0, Timestamp('2019-08-20 00:00:00'): 1000000.0, Timestamp('2019-08-21 00:00:00'): 1000000.0, Timestamp('2019-08-22 00:00:00'): 1000000.0, Timestamp('2019-08-23 00:00:00'): 1000000.0, Timestamp('2019-08-24 00:00:00'): 1000000.0, Timestamp('2019-08-25 00:00:00'): 1000000.0, Timestamp('2019-08-26 00:00:00'): 1000000.0, Timestamp('2019-08-27 00:00:00'): 1000000.0, Timestamp('2019-08-28 00:00:00'): 1000000.0, Timestamp('2019-08-29 00:00:00'): 1000000.0, Timestamp('2019-08-30 00:00:00'): 1000000.0, Timestamp('2019-08-31 00:00:00'): 1000000.0, Timestamp('2019-09-01 00:00:00'): 1000000.0, Timestamp('2019-09-02 00:00:00'): 1000000.0, Timestamp('2019-09-03 00:00:00'): 1000000.0, Timestamp('2019-09-04 00:00:00'): 1000000.0, Timestamp('2019-09-05 00:00:00'): 1000000.0, Timestamp('2019-09-06 00:00:00'): 1000000.0, Timestamp('2019-09-07 00:00:00'): 1000000.0, Timestamp('2019-09-08 00:00:00'): 1000000.0, Timestamp('2019-09-09 00:00:00'): 1000000.0, Timestamp('2019-09-10 00:00:00'): 1000000.0, Timestamp('2019-09-11 00:00:00'): 1000000.0, Timestamp('2019-09-12 00:00:00'): 1000000.0, Timestamp('2019-09-13 00:00:00'): 1000000.0, Timestamp('2019-09-14 00:00:00'): 1000000.0, Timestamp('2019-09-15 00:00:00'): 1000000.0, Timestamp('2019-09-16 00:00:00'): 1000000.0, Timestamp('2019-09-17 00:00:00'): 1000000.0, Timestamp('2019-09-18 00:00:00'): 1000000.0, Timestamp('2019-09-19 00:00:00'): 1000000.0, Timestamp('2019-09-20 00:00:00'): 1000000.0, Timestamp('2019-09-21 00:00:00'): 1000000.0, Timestamp('2019-09-22 00:00:00'): 1000000.0, Timestamp('2019-09-23 00:00:00'): 1000000.0, Timestamp('2019-09-24 00:00:00'): 1000000.0, Timestamp('2019-09-25 00:00:00'): 1000000.0, Timestamp('2019-09-26 00:00:00'): 1000000.0, Timestamp('2019-09-27 00:00:00'): 1000000.0, Timestamp('2019-09-28 00:00:00'): 1000000.0, Timestamp('2019-09-29 00:00:00'): 1000000.0, Timestamp('2019-09-30 00:00:00'): 1000000.0, Timestamp('2019-10-01 00:00:00'): 1000000.0, Timestamp('2019-10-02 00:00:00'): 1000000.0, Timestamp('2019-10-03 00:00:00'): 1000000.0, Timestamp('2019-10-04 00:00:00'): 1000000.0, Timestamp('2019-10-05 00:00:00'): 1000000.0, Timestamp('2019-10-06 00:00:00'): 1000000.0, Timestamp('2019-10-07 00:00:00'): 1000000.0, Timestamp('2019-10-08 00:00:00'): 1000000.0, Timestamp('2019-10-09 00:00:00'): 1000000.0, Timestamp('2019-10-10 00:00:00'): 1000000.0, Timestamp('2019-10-11 00:00:00'): 1000000.0, Timestamp('2019-10-12 00:00:00'): 1000000.0, Timestamp('2019-10-13 00:00:00'): 1000000.0, Timestamp('2019-10-14 00:00:00'): 1000000.0, Timestamp('2019-10-15 00:00:00'): 1000000.0, Timestamp('2019-10-16 00:00:00'): 1000000.0, Timestamp('2019-10-17 00:00:00'): 1000000.0, Timestamp('2019-10-18 00:00:00'): 1000000.0, Timestamp('2019-10-19 00:00:00'): 1000000.0, Timestamp('2019-10-20 00:00:00'): 1000000.0, Timestamp('2019-10-21 00:00:00'): 1000000.0, Timestamp('2019-10-22 00:00:00'): 1000000.0, Timestamp('2019-10-23 00:00:00'): 1000000.0, Timestamp('2019-10-24 00:00:00'): 1000000.0, Timestamp('2019-10-25 00:00:00'): 1000000.0, Timestamp('2019-10-26 00:00:00'): 1000000.0, Timestamp('2019-10-27 00:00:00'): 1000000.0, Timestamp('2019-10-28 00:00:00'): 1000000.0, Timestamp('2019-10-29 00:00:00'): 1000000.0, Timestamp('2019-10-30 00:00:00'): 1000000.0, Timestamp('2019-10-31 00:00:00'): 1000000.0, Timestamp('2019-11-01 00:00:00'): 1000000.0, Timestamp('2019-11-02 00:00:00'): 1000000.0, Timestamp('2019-11-03 00:00:00'): 1000000.0, Timestamp('2019-11-04 00:00:00'): 1000000.0, Timestamp('2019-11-05 00:00:00'): 1000000.0, Timestamp('2019-11-06 00:00:00'): 1000000.0, Timestamp('2019-11-07 00:00:00'): 1000000.0, Timestamp('2019-11-08 00:00:00'): 1000000.0, Timestamp('2019-11-09 00:00:00'): 1000000.0, Timestamp('2019-11-10 00:00:00'): 1000000.0, Timestamp('2019-11-11 00:00:00'): 1000000.0, Timestamp('2019-11-12 00:00:00'): 1000000.0, Timestamp('2019-11-13 00:00:00'): 1000000.0, Timestamp('2019-11-14 00:00:00'): 1000000.0, Timestamp('2019-11-15 00:00:00'): 1000000.0, Timestamp('2019-11-16 00:00:00'): 1000000.0, Timestamp('2019-11-17 00:00:00'): 1000000.0, Timestamp('2019-11-18 00:00:00'): 1000000.0, Timestamp('2019-11-19 00:00:00'): 1000000.0, Timestamp('2019-11-20 00:00:00'): 1000000.0, Timestamp('2019-11-21 00:00:00'): 1000000.0, Timestamp('2019-11-22 00:00:00'): 1000000.0, Timestamp('2019-11-23 00:00:00'): 1000000.0, Timestamp('2019-11-24 00:00:00'): 1000000.0, Timestamp('2019-11-25 00:00:00'): 1000000.0, Timestamp('2019-11-26 00:00:00'): 1000000.0, Timestamp('2019-11-27 00:00:00'): 1000000.0, Timestamp('2019-11-28 00:00:00'): 1000000.0, Timestamp('2019-11-29 00:00:00'): 1000000.0, Timestamp('2019-11-30 00:00:00'): 1000000.0, Timestamp('2019-12-01 00:00:00'): 1000000.0, Timestamp('2019-12-02 00:00:00'): 1000000.0, Timestamp('2019-12-03 00:00:00'): 1000000.0, Timestamp('2019-12-04 00:00:00'): 1000000.0, Timestamp('2019-12-05 00:00:00'): 1000000.0, Timestamp('2019-12-06 00:00:00'): 1000000.0, Timestamp('2019-12-07 00:00:00'): 1000000.0, Timestamp('2019-12-08 00:00:00'): 1000000.0, Timestamp('2019-12-09 00:00:00'): 1000000.0, Timestamp('2019-12-10 00:00:00'): 1000000.0, Timestamp('2019-12-11 00:00:00'): 1000000.0, Timestamp('2019-12-12 00:00:00'): 1000000.0, Timestamp('2019-12-13 00:00:00'): 1000000.0, Timestamp('2019-12-14 00:00:00'): 1000000.0, Timestamp('2019-12-15 00:00:00'): 1000000.0, Timestamp('2019-12-16 00:00:00'): 1000000.0, Timestamp('2019-12-17 00:00:00'): 1000000.0, Timestamp('2019-12-18 00:00:00'): 1000000.0, Timestamp('2019-12-19 00:00:00'): 1000000.0, Timestamp('2019-12-20 00:00:00'): 1000000.0, Timestamp('2019-12-21 00:00:00'): 1000000.0, Timestamp('2019-12-22 00:00:00'): 1000000.0, Timestamp('2019-12-23 00:00:00'): 1000000.0, Timestamp('2019-12-24 00:00:00'): 1000000.0, Timestamp('2019-12-25 00:00:00'): 1000000.0, Timestamp('2019-12-26 00:00:00'): 1000000.0, Timestamp('2019-12-27 00:00:00'): 1000000.0, Timestamp('2019-12-28 00:00:00'): 1000000.0, Timestamp('2019-12-29 00:00:00'): 1000000.0, Timestamp('2019-12-30 00:00:00'): 1000000.0, Timestamp('2019-12-31 00:00:00'): 1000000.0, Timestamp('2020-01-01 00:00:00'): 1000000.0, Timestamp('2020-01-02 00:00:00'): 1000000.0, Timestamp('2020-01-03 00:00:00'): 1000000.0, Timestamp('2020-01-04 00:00:00'): 1000000.0, Timestamp('2020-01-05 00:00:00'): 1000000.0, Timestamp('2020-01-06 00:00:00'): 1000000.0, Timestamp('2020-01-07 00:00:00'): 1000000.0, Timestamp('2020-01-08 00:00:00'): 1000000.0, Timestamp('2020-01-09 00:00:00'): 1000000.0, Timestamp('2020-01-10 00:00:00'): 1000000.0, Timestamp('2020-01-11 00:00:00'): 1000000.0, Timestamp('2020-01-12 00:00:00'): 1000000.0, Timestamp('2020-01-13 00:00:00'): 1000000.0, Timestamp('2020-01-14 00:00:00'): 1000000.0, Timestamp('2020-01-15 00:00:00'): 1000000.0, Timestamp('2020-01-16 00:00:00'): 1000000.0, Timestamp('2020-01-17 00:00:00'): 1000000.0, Timestamp('2020-01-18 00:00:00'): 1000000.0, Timestamp('2020-01-19 00:00:00'): 1000000.0, Timestamp('2020-01-20 00:00:00'): 1000000.0, Timestamp('2020-01-21 00:00:00'): 1000000.0, Timestamp('2020-01-22 00:00:00'): 1000000.0, Timestamp('2020-01-23 00:00:00'): 1000000.0, Timestamp('2020-01-24 00:00:00'): 1000000.0, Timestamp('2020-01-25 00:00:00'): 1000000.0, Timestamp('2020-01-26 00:00:00'): 1000000.0, Timestamp('2020-01-27 00:00:00'): 1000000.0, Timestamp('2020-01-28 00:00:00'): 1000000.0, Timestamp('2020-01-29 00:00:00'): 1000000.0, Timestamp('2020-01-30 00:00:00'): 1000000.0, Timestamp('2020-01-31 00:00:00'): 1000000.0, Timestamp('2020-02-01 00:00:00'): 1000000.0, Timestamp('2020-02-02 00:00:00'): 1000000.0, Timestamp('2020-02-03 00:00:00'): 1000000.0, Timestamp('2020-02-04 00:00:00'): 1000000.0, Timestamp('2020-02-05 00:00:00'): 1000000.0, Timestamp('2020-02-06 00:00:00'): 1000000.0, Timestamp('2020-02-07 00:00:00'): 1000000.0, Timestamp('2020-02-08 00:00:00'): 1000000.0, Timestamp('2020-02-09 00:00:00'): 1000000.0, Timestamp('2020-02-10 00:00:00'): 1000000.0, Timestamp('2020-02-11 00:00:00'): 1000000.0, Timestamp('2020-02-12 00:00:00'): 1000000.0, Timestamp('2020-02-13 00:00:00'): 1000000.0, Timestamp('2020-02-14 00:00:00'): 1000000.0, Timestamp('2020-02-15 00:00:00'): 1000000.0, Timestamp('2020-02-16 00:00:00'): 1000000.0, Timestamp('2020-02-17 00:00:00'): 1000000.0, Timestamp('2020-02-18 00:00:00'): 1000000.0, Timestamp('2020-02-19 00:00:00'): 1000000.0, Timestamp('2020-02-20 00:00:00'): 1000000.0, Timestamp('2020-02-21 00:00:00'): 1000000.0, Timestamp('2020-02-22 00:00:00'): 1000000.0, Timestamp('2020-02-23 00:00:00'): 1000000.0, Timestamp('2020-02-24 00:00:00'): 1000000.0, Timestamp('2020-02-25 00:00:00'): 1000000.0, Timestamp('2020-02-26 00:00:00'): 1000000.0, Timestamp('2020-02-27 00:00:00'): 1000000.0, Timestamp('2020-02-28 00:00:00'): 1000000.0, Timestamp('2020-02-29 00:00:00'): 1000000.0, Timestamp('2020-03-01 00:00:00'): 1000000.0, Timestamp('2020-03-02 00:00:00'): 1000000.0, Timestamp('2020-03-03 00:00:00'): 1000000.0, Timestamp('2020-03-04 00:00:00'): 1000000.0, Timestamp('2020-03-05 00:00:00'): 1000000.0, Timestamp('2020-03-06 00:00:00'): 1000000.0, Timestamp('2020-03-07 00:00:00'): 1000000.0, Timestamp('2020-03-08 00:00:00'): 1000000.0, Timestamp('2020-03-09 00:00:00'): 1000000.0, Timestamp('2020-03-10 00:00:00'): 1000000.0, Timestamp('2020-03-11 00:00:00'): 1000000.0, Timestamp('2020-03-12 00:00:00'): 1000000.0, Timestamp('2020-03-13 00:00:00'): 1000000.0, Timestamp('2020-03-14 00:00:00'): 1000000.0, Timestamp('2020-03-15 00:00:00'): 1000000.0, Timestamp('2020-03-16 00:00:00'): 1000000.0, Timestamp('2020-03-17 00:00:00'): 1000000.0, Timestamp('2020-03-18 00:00:00'): 1000000.0, Timestamp('2020-03-19 00:00:00'): 1000000.0, Timestamp('2020-03-20 00:00:00'): 1000000.0, Timestamp('2020-03-21 00:00:00'): 1000000.0, Timestamp('2020-03-22 00:00:00'): 1000000.0, Timestamp('2020-03-23 00:00:00'): 1000000.0, Timestamp('2020-03-24 00:00:00'): 1000000.0, Timestamp('2020-03-25 00:00:00'): 1000000.0, Timestamp('2020-03-26 00:00:00'): 1000000.0, Timestamp('2020-03-27 00:00:00'): 1000000.0, Timestamp('2020-03-28 00:00:00'): 1000000.0, Timestamp('2020-03-29 00:00:00'): 1000000.0, Timestamp('2020-03-30 00:00:00'): 1000000.0, Timestamp('2020-03-31 00:00:00'): 1000000.0, Timestamp('2020-04-01 00:00:00'): 1000000.0, Timestamp('2020-04-02 00:00:00'): 1000000.0, Timestamp('2020-04-03 00:00:00'): 1000000.0, Timestamp('2020-04-04 00:00:00'): 1000000.0, Timestamp('2020-04-05 00:00:00'): 1000000.0, Timestamp('2020-04-06 00:00:00'): 1000000.0, Timestamp('2020-04-07 00:00:00'): 1000000.0, Timestamp('2020-04-08 00:00:00'): 1000000.0, Timestamp('2020-04-09 00:00:00'): 1000000.0, Timestamp('2020-04-10 00:00:00'): 1000000.0, Timestamp('2020-04-11 00:00:00'): 1000000.0, Timestamp('2020-04-12 00:00:00'): 1000000.0, Timestamp('2020-04-13 00:00:00'): 1000000.0, Timestamp('2020-04-14 00:00:00'): 1000000.0, Timestamp('2020-04-15 00:00:00'): 1000000.0, Timestamp('2020-04-16 00:00:00'): 1000000.0, Timestamp('2020-04-17 00:00:00'): 1000000.0, Timestamp('2020-04-18 00:00:00'): 1000000.0, Timestamp('2020-04-19 00:00:00'): 1000000.0, Timestamp('2020-04-20 00:00:00'): 1000000.0, Timestamp('2020-04-21 00:00:00'): 1000000.0, Timestamp('2020-04-22 00:00:00'): 1000000.0, Timestamp('2020-04-23 00:00:00'): 1000000.0, Timestamp('2020-04-24 00:00:00'): 1000000.0, Timestamp('2020-04-25 00:00:00'): 1000000.0, Timestamp('2020-04-26 00:00:00'): 1000000.0, Timestamp('2020-04-27 00:00:00'): 1000000.0, Timestamp('2020-04-28 00:00:00'): 1000000.0, Timestamp('2020-04-29 00:00:00'): 1000000.0, Timestamp('2020-04-30 00:00:00'): 1000000.0, Timestamp('2020-05-01 00:00:00'): 1000000.0, Timestamp('2020-05-02 00:00:00'): 1000000.0, Timestamp('2020-05-03 00:00:00'): 1000000.0, Timestamp('2020-05-04 00:00:00'): 1000000.0, Timestamp('2020-05-05 00:00:00'): 1000000.0, Timestamp('2020-05-06 00:00:00'): 1000000.0, Timestamp('2020-05-07 00:00:00'): 1000000.0, Timestamp('2020-05-08 00:00:00'): 1000000.0, Timestamp('2020-05-09 00:00:00'): 1000000.0, Timestamp('2020-05-10 00:00:00'): 1000000.0, Timestamp('2020-05-11 00:00:00'): 1000000.0, Timestamp('2020-05-12 00:00:00'): 1000000.0, Timestamp('2020-05-13 00:00:00'): 1000000.0, Timestamp('2020-05-14 00:00:00'): 1000000.0}\n",
            "{Timestamp('2018-12-31 00:00:00'): 2506.85, Timestamp('2019-01-01 00:00:00'): 2506.85, Timestamp('2019-01-02 00:00:00'): 2510.03, Timestamp('2019-01-03 00:00:00'): 2447.89, Timestamp('2019-01-04 00:00:00'): 2531.94, Timestamp('2019-01-05 00:00:00'): 2531.94, Timestamp('2019-01-06 00:00:00'): 2531.94, Timestamp('2019-01-07 00:00:00'): 2549.69, Timestamp('2019-01-08 00:00:00'): 2574.41, Timestamp('2019-01-09 00:00:00'): 2584.96, Timestamp('2019-01-10 00:00:00'): 2596.64, Timestamp('2019-01-11 00:00:00'): 2596.26, Timestamp('2019-01-12 00:00:00'): 2596.26, Timestamp('2019-01-13 00:00:00'): 2596.26, Timestamp('2019-01-14 00:00:00'): 2582.61, Timestamp('2019-01-15 00:00:00'): 2610.3, Timestamp('2019-01-16 00:00:00'): 2616.1, Timestamp('2019-01-17 00:00:00'): 2635.96, Timestamp('2019-01-18 00:00:00'): 2670.71, Timestamp('2019-01-19 00:00:00'): 2670.71, Timestamp('2019-01-20 00:00:00'): 2670.71, Timestamp('2019-01-21 00:00:00'): nan, Timestamp('2019-01-22 00:00:00'): 2632.9, Timestamp('2019-01-23 00:00:00'): 2638.7, Timestamp('2019-01-24 00:00:00'): 2642.33, Timestamp('2019-01-25 00:00:00'): 2664.76, Timestamp('2019-01-26 00:00:00'): 2664.76, Timestamp('2019-01-27 00:00:00'): 2664.76, Timestamp('2019-01-28 00:00:00'): 2643.85, Timestamp('2019-01-29 00:00:00'): 2640.0, Timestamp('2019-01-30 00:00:00'): 2681.05, Timestamp('2019-01-31 00:00:00'): 2704.1, Timestamp('2019-02-01 00:00:00'): 2706.53, Timestamp('2019-02-02 00:00:00'): 2706.53, Timestamp('2019-02-03 00:00:00'): 2706.53, Timestamp('2019-02-04 00:00:00'): 2724.87, Timestamp('2019-02-05 00:00:00'): 2737.7, Timestamp('2019-02-06 00:00:00'): 2731.61, Timestamp('2019-02-07 00:00:00'): 2706.05, Timestamp('2019-02-08 00:00:00'): 2707.88, Timestamp('2019-02-09 00:00:00'): 2707.88, Timestamp('2019-02-10 00:00:00'): 2707.88, Timestamp('2019-02-11 00:00:00'): 2709.8, Timestamp('2019-02-12 00:00:00'): 2744.73, Timestamp('2019-02-13 00:00:00'): 2753.03, Timestamp('2019-02-14 00:00:00'): 2745.73, Timestamp('2019-02-15 00:00:00'): 2775.6, Timestamp('2019-02-16 00:00:00'): 2775.6, Timestamp('2019-02-17 00:00:00'): 2775.6, Timestamp('2019-02-18 00:00:00'): nan, Timestamp('2019-02-19 00:00:00'): 2779.76, Timestamp('2019-02-20 00:00:00'): 2784.7, Timestamp('2019-02-21 00:00:00'): 2774.88, Timestamp('2019-02-22 00:00:00'): 2792.67, Timestamp('2019-02-23 00:00:00'): 2792.67, Timestamp('2019-02-24 00:00:00'): 2792.67, Timestamp('2019-02-25 00:00:00'): 2796.11, Timestamp('2019-02-26 00:00:00'): 2793.9, Timestamp('2019-02-27 00:00:00'): 2792.38, Timestamp('2019-02-28 00:00:00'): 2784.49, Timestamp('2019-03-01 00:00:00'): 2803.69, Timestamp('2019-03-02 00:00:00'): 2803.69, Timestamp('2019-03-03 00:00:00'): 2803.69, Timestamp('2019-03-04 00:00:00'): 2792.81, Timestamp('2019-03-05 00:00:00'): 2789.65, Timestamp('2019-03-06 00:00:00'): 2771.45, Timestamp('2019-03-07 00:00:00'): 2748.93, Timestamp('2019-03-08 00:00:00'): 2743.07, Timestamp('2019-03-09 00:00:00'): 2743.07, Timestamp('2019-03-10 00:00:00'): 2743.07, Timestamp('2019-03-11 00:00:00'): 2783.3, Timestamp('2019-03-12 00:00:00'): 2791.52, Timestamp('2019-03-13 00:00:00'): 2810.92, Timestamp('2019-03-14 00:00:00'): 2808.48, Timestamp('2019-03-15 00:00:00'): 2822.48, Timestamp('2019-03-16 00:00:00'): 2822.48, Timestamp('2019-03-17 00:00:00'): 2822.48, Timestamp('2019-03-18 00:00:00'): 2832.94, Timestamp('2019-03-19 00:00:00'): 2832.57, Timestamp('2019-03-20 00:00:00'): 2824.23, Timestamp('2019-03-21 00:00:00'): 2854.88, Timestamp('2019-03-22 00:00:00'): 2800.71, Timestamp('2019-03-23 00:00:00'): 2800.71, Timestamp('2019-03-24 00:00:00'): 2800.71, Timestamp('2019-03-25 00:00:00'): 2798.36, Timestamp('2019-03-26 00:00:00'): 2818.46, Timestamp('2019-03-27 00:00:00'): 2805.37, Timestamp('2019-03-28 00:00:00'): 2815.44, Timestamp('2019-03-29 00:00:00'): 2834.4, Timestamp('2019-03-30 00:00:00'): 2834.4, Timestamp('2019-03-31 00:00:00'): 2834.4, Timestamp('2019-04-01 00:00:00'): 2867.19, Timestamp('2019-04-02 00:00:00'): 2867.24, Timestamp('2019-04-03 00:00:00'): 2873.4, Timestamp('2019-04-04 00:00:00'): 2879.39, Timestamp('2019-04-05 00:00:00'): 2892.74, Timestamp('2019-04-06 00:00:00'): 2892.74, Timestamp('2019-04-07 00:00:00'): 2892.74, Timestamp('2019-04-08 00:00:00'): 2895.77, Timestamp('2019-04-09 00:00:00'): 2878.2, Timestamp('2019-04-10 00:00:00'): 2888.21, Timestamp('2019-04-11 00:00:00'): 2888.32, Timestamp('2019-04-12 00:00:00'): 2907.41, Timestamp('2019-04-13 00:00:00'): 2907.41, Timestamp('2019-04-14 00:00:00'): 2907.41, Timestamp('2019-04-15 00:00:00'): 2905.58, Timestamp('2019-04-16 00:00:00'): 2907.06, Timestamp('2019-04-17 00:00:00'): 2900.45, Timestamp('2019-04-18 00:00:00'): 2905.03, Timestamp('2019-04-19 00:00:00'): nan, Timestamp('2019-04-20 00:00:00'): nan, Timestamp('2019-04-21 00:00:00'): nan, Timestamp('2019-04-22 00:00:00'): 2907.97, Timestamp('2019-04-23 00:00:00'): 2933.68, Timestamp('2019-04-24 00:00:00'): 2927.25, Timestamp('2019-04-25 00:00:00'): 2926.17, Timestamp('2019-04-26 00:00:00'): 2939.88, Timestamp('2019-04-27 00:00:00'): 2939.88, Timestamp('2019-04-28 00:00:00'): 2939.88, Timestamp('2019-04-29 00:00:00'): 2943.03, Timestamp('2019-04-30 00:00:00'): 2945.83, Timestamp('2019-05-01 00:00:00'): 2923.73, Timestamp('2019-05-02 00:00:00'): 2917.52, Timestamp('2019-05-03 00:00:00'): 2945.64, Timestamp('2019-05-04 00:00:00'): 2945.64, Timestamp('2019-05-05 00:00:00'): 2945.64, Timestamp('2019-05-06 00:00:00'): 2932.47, Timestamp('2019-05-07 00:00:00'): 2884.05, Timestamp('2019-05-08 00:00:00'): 2879.42, Timestamp('2019-05-09 00:00:00'): 2870.72, Timestamp('2019-05-10 00:00:00'): 2881.4, Timestamp('2019-05-11 00:00:00'): 2881.4, Timestamp('2019-05-12 00:00:00'): 2881.4, Timestamp('2019-05-13 00:00:00'): 2811.87, Timestamp('2019-05-14 00:00:00'): 2834.41, Timestamp('2019-05-15 00:00:00'): 2850.96, Timestamp('2019-05-16 00:00:00'): 2876.32, Timestamp('2019-05-17 00:00:00'): 2859.53, Timestamp('2019-05-18 00:00:00'): 2859.53, Timestamp('2019-05-19 00:00:00'): 2859.53, Timestamp('2019-05-20 00:00:00'): 2840.23, Timestamp('2019-05-21 00:00:00'): 2864.36, Timestamp('2019-05-22 00:00:00'): 2856.27, Timestamp('2019-05-23 00:00:00'): 2822.24, Timestamp('2019-05-24 00:00:00'): 2826.06, Timestamp('2019-05-25 00:00:00'): 2826.06, Timestamp('2019-05-26 00:00:00'): 2826.06, Timestamp('2019-05-27 00:00:00'): nan, Timestamp('2019-05-28 00:00:00'): 2802.39, Timestamp('2019-05-29 00:00:00'): 2783.02, Timestamp('2019-05-30 00:00:00'): 2788.86, Timestamp('2019-05-31 00:00:00'): 2752.06, Timestamp('2019-06-01 00:00:00'): 2752.06, Timestamp('2019-06-02 00:00:00'): 2752.06, Timestamp('2019-06-03 00:00:00'): 2744.45, Timestamp('2019-06-04 00:00:00'): 2803.27, Timestamp('2019-06-05 00:00:00'): 2826.15, Timestamp('2019-06-06 00:00:00'): 2843.49, Timestamp('2019-06-07 00:00:00'): 2873.34, Timestamp('2019-06-08 00:00:00'): 2873.34, Timestamp('2019-06-09 00:00:00'): 2873.34, Timestamp('2019-06-10 00:00:00'): 2886.73, Timestamp('2019-06-11 00:00:00'): 2885.72, Timestamp('2019-06-12 00:00:00'): 2879.84, Timestamp('2019-06-13 00:00:00'): 2891.64, Timestamp('2019-06-14 00:00:00'): 2886.98, Timestamp('2019-06-15 00:00:00'): 2886.98, Timestamp('2019-06-16 00:00:00'): 2886.98, Timestamp('2019-06-17 00:00:00'): 2889.67, Timestamp('2019-06-18 00:00:00'): 2917.75, Timestamp('2019-06-19 00:00:00'): 2926.46, Timestamp('2019-06-20 00:00:00'): 2954.18, Timestamp('2019-06-21 00:00:00'): 2950.46, Timestamp('2019-06-22 00:00:00'): 2950.46, Timestamp('2019-06-23 00:00:00'): 2950.46, Timestamp('2019-06-24 00:00:00'): 2945.35, Timestamp('2019-06-25 00:00:00'): 2917.38, Timestamp('2019-06-26 00:00:00'): 2913.78, Timestamp('2019-06-27 00:00:00'): 2924.92, Timestamp('2019-06-28 00:00:00'): 2941.76, Timestamp('2019-06-29 00:00:00'): 2941.76, Timestamp('2019-06-30 00:00:00'): 2941.76, Timestamp('2019-07-01 00:00:00'): 2964.33, Timestamp('2019-07-02 00:00:00'): 2973.01, Timestamp('2019-07-03 00:00:00'): 2995.82, Timestamp('2019-07-04 00:00:00'): nan, Timestamp('2019-07-05 00:00:00'): 2990.41, Timestamp('2019-07-06 00:00:00'): 2990.41, Timestamp('2019-07-07 00:00:00'): 2990.41, Timestamp('2019-07-08 00:00:00'): 2975.95, Timestamp('2019-07-09 00:00:00'): 2979.63, Timestamp('2019-07-10 00:00:00'): 2993.07, Timestamp('2019-07-11 00:00:00'): 2999.91, Timestamp('2019-07-12 00:00:00'): 3013.77, Timestamp('2019-07-13 00:00:00'): 3013.77, Timestamp('2019-07-14 00:00:00'): 3013.77, Timestamp('2019-07-15 00:00:00'): 3014.3, Timestamp('2019-07-16 00:00:00'): 3004.04, Timestamp('2019-07-17 00:00:00'): 2984.42, Timestamp('2019-07-18 00:00:00'): 2995.11, Timestamp('2019-07-19 00:00:00'): 2976.61, Timestamp('2019-07-20 00:00:00'): 2976.61, Timestamp('2019-07-21 00:00:00'): 2976.61, Timestamp('2019-07-22 00:00:00'): 2985.03, Timestamp('2019-07-23 00:00:00'): 3005.47, Timestamp('2019-07-24 00:00:00'): 3019.56, Timestamp('2019-07-25 00:00:00'): 3003.67, Timestamp('2019-07-26 00:00:00'): 3025.86, Timestamp('2019-07-27 00:00:00'): 3025.86, Timestamp('2019-07-28 00:00:00'): 3025.86, Timestamp('2019-07-29 00:00:00'): 3020.97, Timestamp('2019-07-30 00:00:00'): 3013.18, Timestamp('2019-07-31 00:00:00'): 2980.38, Timestamp('2019-08-01 00:00:00'): 2953.56, Timestamp('2019-08-02 00:00:00'): 2932.05, Timestamp('2019-08-03 00:00:00'): 2932.05, Timestamp('2019-08-04 00:00:00'): 2932.05, Timestamp('2019-08-05 00:00:00'): 2844.74, Timestamp('2019-08-06 00:00:00'): 2881.77, Timestamp('2019-08-07 00:00:00'): 2883.98, Timestamp('2019-08-08 00:00:00'): 2938.09, Timestamp('2019-08-09 00:00:00'): 2918.65, Timestamp('2019-08-10 00:00:00'): 2918.65, Timestamp('2019-08-11 00:00:00'): 2918.65, Timestamp('2019-08-12 00:00:00'): 2883.75, Timestamp('2019-08-13 00:00:00'): 2926.32, Timestamp('2019-08-14 00:00:00'): 2840.6, Timestamp('2019-08-15 00:00:00'): 2847.6, Timestamp('2019-08-16 00:00:00'): 2888.68, Timestamp('2019-08-17 00:00:00'): 2888.68, Timestamp('2019-08-18 00:00:00'): 2888.68, Timestamp('2019-08-19 00:00:00'): 2923.65, Timestamp('2019-08-20 00:00:00'): 2900.51, Timestamp('2019-08-21 00:00:00'): 2924.43, Timestamp('2019-08-22 00:00:00'): 2922.95, Timestamp('2019-08-23 00:00:00'): 2847.11, Timestamp('2019-08-24 00:00:00'): 2847.11, Timestamp('2019-08-25 00:00:00'): 2847.11, Timestamp('2019-08-26 00:00:00'): 2878.38, Timestamp('2019-08-27 00:00:00'): 2869.16, Timestamp('2019-08-28 00:00:00'): 2887.94, Timestamp('2019-08-29 00:00:00'): 2924.58, Timestamp('2019-08-30 00:00:00'): 2926.46, Timestamp('2019-08-31 00:00:00'): 2926.46, Timestamp('2019-09-01 00:00:00'): 2926.46, Timestamp('2019-09-02 00:00:00'): nan, Timestamp('2019-09-03 00:00:00'): 2906.27, Timestamp('2019-09-04 00:00:00'): 2937.78, Timestamp('2019-09-05 00:00:00'): 2976.0, Timestamp('2019-09-06 00:00:00'): 2978.71, Timestamp('2019-09-07 00:00:00'): 2978.71, Timestamp('2019-09-08 00:00:00'): 2978.71, Timestamp('2019-09-09 00:00:00'): 2978.43, Timestamp('2019-09-10 00:00:00'): 2979.39, Timestamp('2019-09-11 00:00:00'): 3000.93, Timestamp('2019-09-12 00:00:00'): 3009.57, Timestamp('2019-09-13 00:00:00'): 3007.39, Timestamp('2019-09-14 00:00:00'): 3007.39, Timestamp('2019-09-15 00:00:00'): 3007.39, Timestamp('2019-09-16 00:00:00'): 2997.96, Timestamp('2019-09-17 00:00:00'): 3005.7, Timestamp('2019-09-18 00:00:00'): 3006.73, Timestamp('2019-09-19 00:00:00'): 3006.79, Timestamp('2019-09-20 00:00:00'): 2992.07, Timestamp('2019-09-21 00:00:00'): 2992.07, Timestamp('2019-09-22 00:00:00'): 2992.07, Timestamp('2019-09-23 00:00:00'): 2991.78, Timestamp('2019-09-24 00:00:00'): 2966.6, Timestamp('2019-09-25 00:00:00'): 2984.87, Timestamp('2019-09-26 00:00:00'): 2977.62, Timestamp('2019-09-27 00:00:00'): 2961.79, Timestamp('2019-09-28 00:00:00'): 2961.79, Timestamp('2019-09-29 00:00:00'): 2961.79, Timestamp('2019-09-30 00:00:00'): 2976.74, Timestamp('2019-10-01 00:00:00'): 2940.25, Timestamp('2019-10-02 00:00:00'): 2887.61, Timestamp('2019-10-03 00:00:00'): 2910.63, Timestamp('2019-10-04 00:00:00'): 2952.01, Timestamp('2019-10-05 00:00:00'): 2952.01, Timestamp('2019-10-06 00:00:00'): 2952.01, Timestamp('2019-10-07 00:00:00'): 2938.79, Timestamp('2019-10-08 00:00:00'): 2893.06, Timestamp('2019-10-09 00:00:00'): 2919.4, Timestamp('2019-10-10 00:00:00'): 2938.13, Timestamp('2019-10-11 00:00:00'): 2970.27, Timestamp('2019-10-12 00:00:00'): 2970.27, Timestamp('2019-10-13 00:00:00'): 2970.27, Timestamp('2019-10-14 00:00:00'): 2966.15, Timestamp('2019-10-15 00:00:00'): 2995.68, Timestamp('2019-10-16 00:00:00'): 2989.69, Timestamp('2019-10-17 00:00:00'): 2997.95, Timestamp('2019-10-18 00:00:00'): 2986.2, Timestamp('2019-10-19 00:00:00'): 2986.2, Timestamp('2019-10-20 00:00:00'): 2986.2, Timestamp('2019-10-21 00:00:00'): 3006.72, Timestamp('2019-10-22 00:00:00'): 2995.99, Timestamp('2019-10-23 00:00:00'): 3004.52, Timestamp('2019-10-24 00:00:00'): 3010.29, Timestamp('2019-10-25 00:00:00'): 3022.55, Timestamp('2019-10-26 00:00:00'): 3022.55, Timestamp('2019-10-27 00:00:00'): 3022.55, Timestamp('2019-10-28 00:00:00'): 3039.42, Timestamp('2019-10-29 00:00:00'): 3036.89, Timestamp('2019-10-30 00:00:00'): 3046.77, Timestamp('2019-10-31 00:00:00'): 3037.56, Timestamp('2019-11-01 00:00:00'): 3066.91, Timestamp('2019-11-02 00:00:00'): 3066.91, Timestamp('2019-11-03 00:00:00'): 3066.91, Timestamp('2019-11-04 00:00:00'): 3078.27, Timestamp('2019-11-05 00:00:00'): 3074.62, Timestamp('2019-11-06 00:00:00'): 3076.78, Timestamp('2019-11-07 00:00:00'): 3085.18, Timestamp('2019-11-08 00:00:00'): 3093.08, Timestamp('2019-11-09 00:00:00'): 3093.08, Timestamp('2019-11-10 00:00:00'): 3093.08, Timestamp('2019-11-11 00:00:00'): 3087.01, Timestamp('2019-11-12 00:00:00'): 3091.84, Timestamp('2019-11-13 00:00:00'): 3094.04, Timestamp('2019-11-14 00:00:00'): 3096.63, Timestamp('2019-11-15 00:00:00'): 3120.46, Timestamp('2019-11-16 00:00:00'): 3120.46, Timestamp('2019-11-17 00:00:00'): 3120.46, Timestamp('2019-11-18 00:00:00'): 3122.03, Timestamp('2019-11-19 00:00:00'): 3120.18, Timestamp('2019-11-20 00:00:00'): 3108.46, Timestamp('2019-11-21 00:00:00'): 3103.54, Timestamp('2019-11-22 00:00:00'): 3110.29, Timestamp('2019-11-23 00:00:00'): 3110.29, Timestamp('2019-11-24 00:00:00'): 3110.29, Timestamp('2019-11-25 00:00:00'): 3133.64, Timestamp('2019-11-26 00:00:00'): 3140.52, Timestamp('2019-11-27 00:00:00'): 3153.63, Timestamp('2019-11-28 00:00:00'): nan, Timestamp('2019-11-29 00:00:00'): 3140.98, Timestamp('2019-11-30 00:00:00'): 3140.98, Timestamp('2019-12-01 00:00:00'): 3140.98, Timestamp('2019-12-02 00:00:00'): 3113.87, Timestamp('2019-12-03 00:00:00'): 3093.2, Timestamp('2019-12-04 00:00:00'): 3112.76, Timestamp('2019-12-05 00:00:00'): 3117.43, Timestamp('2019-12-06 00:00:00'): 3145.91, Timestamp('2019-12-07 00:00:00'): 3145.91, Timestamp('2019-12-08 00:00:00'): 3145.91, Timestamp('2019-12-09 00:00:00'): 3135.96, Timestamp('2019-12-10 00:00:00'): 3132.52, Timestamp('2019-12-11 00:00:00'): 3141.63, Timestamp('2019-12-12 00:00:00'): 3168.57, Timestamp('2019-12-13 00:00:00'): 3168.8, Timestamp('2019-12-14 00:00:00'): 3168.8, Timestamp('2019-12-15 00:00:00'): 3168.8, Timestamp('2019-12-16 00:00:00'): 3191.45, Timestamp('2019-12-17 00:00:00'): 3192.52, Timestamp('2019-12-18 00:00:00'): 3191.14, Timestamp('2019-12-19 00:00:00'): 3205.37, Timestamp('2019-12-20 00:00:00'): 3221.22, Timestamp('2019-12-21 00:00:00'): 3221.22, Timestamp('2019-12-22 00:00:00'): 3221.22, Timestamp('2019-12-23 00:00:00'): 3224.01, Timestamp('2019-12-24 00:00:00'): 3223.38, Timestamp('2019-12-25 00:00:00'): nan, Timestamp('2019-12-26 00:00:00'): 3239.91, Timestamp('2019-12-27 00:00:00'): 3240.02, Timestamp('2019-12-28 00:00:00'): 3240.02, Timestamp('2019-12-29 00:00:00'): 3240.02, Timestamp('2019-12-30 00:00:00'): 3221.29, Timestamp('2019-12-31 00:00:00'): 3230.78, Timestamp('2020-01-01 00:00:00'): 3230.78, Timestamp('2020-01-02 00:00:00'): 3257.85, Timestamp('2020-01-03 00:00:00'): 3234.85, Timestamp('2020-01-04 00:00:00'): 3234.85, Timestamp('2020-01-05 00:00:00'): 3234.85, Timestamp('2020-01-06 00:00:00'): 3246.28, Timestamp('2020-01-07 00:00:00'): 3237.18, Timestamp('2020-01-08 00:00:00'): 3253.05, Timestamp('2020-01-09 00:00:00'): 3274.7, Timestamp('2020-01-10 00:00:00'): 3265.35, Timestamp('2020-01-11 00:00:00'): 3265.35, Timestamp('2020-01-12 00:00:00'): 3265.35, Timestamp('2020-01-13 00:00:00'): 3288.13, Timestamp('2020-01-14 00:00:00'): 3283.15, Timestamp('2020-01-15 00:00:00'): 3289.29, Timestamp('2020-01-16 00:00:00'): 3316.81, Timestamp('2020-01-17 00:00:00'): 3329.62, Timestamp('2020-01-18 00:00:00'): 3329.62, Timestamp('2020-01-19 00:00:00'): 3329.62, Timestamp('2020-01-20 00:00:00'): nan, Timestamp('2020-01-21 00:00:00'): 3320.79, Timestamp('2020-01-22 00:00:00'): 3321.75, Timestamp('2020-01-23 00:00:00'): 3325.54, Timestamp('2020-01-24 00:00:00'): 3295.47, Timestamp('2020-01-25 00:00:00'): 3295.47, Timestamp('2020-01-26 00:00:00'): 3295.47, Timestamp('2020-01-27 00:00:00'): 3243.63, Timestamp('2020-01-28 00:00:00'): 3276.24, Timestamp('2020-01-29 00:00:00'): 3273.4, Timestamp('2020-01-30 00:00:00'): 3283.66, Timestamp('2020-01-31 00:00:00'): 3225.52, Timestamp('2020-02-01 00:00:00'): 3225.52, Timestamp('2020-02-02 00:00:00'): 3225.52, Timestamp('2020-02-03 00:00:00'): 3248.92, Timestamp('2020-02-04 00:00:00'): 3297.59, Timestamp('2020-02-05 00:00:00'): 3334.69, Timestamp('2020-02-06 00:00:00'): 3345.78, Timestamp('2020-02-07 00:00:00'): 3327.71, Timestamp('2020-02-08 00:00:00'): 3327.71, Timestamp('2020-02-09 00:00:00'): 3327.71, Timestamp('2020-02-10 00:00:00'): 3352.09, Timestamp('2020-02-11 00:00:00'): 3357.75, Timestamp('2020-02-12 00:00:00'): 3379.45, Timestamp('2020-02-13 00:00:00'): 3373.94, Timestamp('2020-02-14 00:00:00'): 3380.16, Timestamp('2020-02-15 00:00:00'): 3380.16, Timestamp('2020-02-16 00:00:00'): 3380.16, Timestamp('2020-02-17 00:00:00'): nan, Timestamp('2020-02-18 00:00:00'): 3370.29, Timestamp('2020-02-19 00:00:00'): 3386.15, Timestamp('2020-02-20 00:00:00'): 3373.23, Timestamp('2020-02-21 00:00:00'): 3337.75, Timestamp('2020-02-22 00:00:00'): 3337.75, Timestamp('2020-02-23 00:00:00'): 3337.75, Timestamp('2020-02-24 00:00:00'): 3225.89, Timestamp('2020-02-25 00:00:00'): 3128.21, Timestamp('2020-02-26 00:00:00'): 3116.39, Timestamp('2020-02-27 00:00:00'): 2978.76, Timestamp('2020-02-28 00:00:00'): 2954.22, Timestamp('2020-02-29 00:00:00'): 2954.22, Timestamp('2020-03-01 00:00:00'): 2954.22, Timestamp('2020-03-02 00:00:00'): 3090.23, Timestamp('2020-03-03 00:00:00'): 3003.37, Timestamp('2020-03-04 00:00:00'): 3130.12, Timestamp('2020-03-05 00:00:00'): 3023.94, Timestamp('2020-03-06 00:00:00'): 2972.37, Timestamp('2020-03-07 00:00:00'): 2972.37, Timestamp('2020-03-08 00:00:00'): 2972.37, Timestamp('2020-03-09 00:00:00'): 2746.56, Timestamp('2020-03-10 00:00:00'): 2882.23, Timestamp('2020-03-11 00:00:00'): 2741.38, Timestamp('2020-03-12 00:00:00'): 2480.64, Timestamp('2020-03-13 00:00:00'): 2711.02, Timestamp('2020-03-14 00:00:00'): 2711.02, Timestamp('2020-03-15 00:00:00'): 2711.02, Timestamp('2020-03-16 00:00:00'): 2386.13, Timestamp('2020-03-17 00:00:00'): 2529.19, Timestamp('2020-03-18 00:00:00'): 2398.1, Timestamp('2020-03-19 00:00:00'): 2409.39, Timestamp('2020-03-20 00:00:00'): 2304.92, Timestamp('2020-03-21 00:00:00'): 2304.92, Timestamp('2020-03-22 00:00:00'): 2304.92, Timestamp('2020-03-23 00:00:00'): 2237.4, Timestamp('2020-03-24 00:00:00'): 2447.33, Timestamp('2020-03-25 00:00:00'): 2475.56, Timestamp('2020-03-26 00:00:00'): 2630.07, Timestamp('2020-03-27 00:00:00'): 2541.47, Timestamp('2020-03-28 00:00:00'): 2541.47, Timestamp('2020-03-29 00:00:00'): 2541.47, Timestamp('2020-03-30 00:00:00'): 2626.65, Timestamp('2020-03-31 00:00:00'): 2584.59, Timestamp('2020-04-01 00:00:00'): 2470.5, Timestamp('2020-04-02 00:00:00'): 2526.9, Timestamp('2020-04-03 00:00:00'): 2488.65, Timestamp('2020-04-04 00:00:00'): 2488.65, Timestamp('2020-04-05 00:00:00'): 2488.65, Timestamp('2020-04-06 00:00:00'): 2663.68, Timestamp('2020-04-07 00:00:00'): 2659.41, Timestamp('2020-04-08 00:00:00'): 2749.98, Timestamp('2020-04-09 00:00:00'): 2789.82, Timestamp('2020-04-10 00:00:00'): nan, Timestamp('2020-04-11 00:00:00'): nan, Timestamp('2020-04-12 00:00:00'): nan, Timestamp('2020-04-13 00:00:00'): 2761.63, Timestamp('2020-04-14 00:00:00'): 2846.06, Timestamp('2020-04-15 00:00:00'): 2783.36, Timestamp('2020-04-16 00:00:00'): 2799.55, Timestamp('2020-04-17 00:00:00'): 2874.56, Timestamp('2020-04-18 00:00:00'): 2874.56, Timestamp('2020-04-19 00:00:00'): 2874.56, Timestamp('2020-04-20 00:00:00'): 2823.16, Timestamp('2020-04-21 00:00:00'): 2736.56, Timestamp('2020-04-22 00:00:00'): 2799.31, Timestamp('2020-04-23 00:00:00'): 2797.8, Timestamp('2020-04-24 00:00:00'): 2836.74, Timestamp('2020-04-25 00:00:00'): 2836.74, Timestamp('2020-04-26 00:00:00'): 2836.74, Timestamp('2020-04-27 00:00:00'): 2878.48, Timestamp('2020-04-28 00:00:00'): 2863.39, Timestamp('2020-04-29 00:00:00'): 2939.51, Timestamp('2020-04-30 00:00:00'): 2912.43, Timestamp('2020-05-01 00:00:00'): 2830.71, Timestamp('2020-05-02 00:00:00'): 2830.71, Timestamp('2020-05-03 00:00:00'): 2830.71, Timestamp('2020-05-04 00:00:00'): 2842.74, Timestamp('2020-05-05 00:00:00'): 2868.44, Timestamp('2020-05-06 00:00:00'): 2848.42, Timestamp('2020-05-07 00:00:00'): 2881.19, Timestamp('2020-05-08 00:00:00'): 2929.8, Timestamp('2020-05-09 00:00:00'): 2929.8, Timestamp('2020-05-10 00:00:00'): 2929.8, Timestamp('2020-05-11 00:00:00'): 2930.32, Timestamp('2020-05-12 00:00:00'): 2870.12, Timestamp('2020-05-13 00:00:00'): 2820.0, Timestamp('2020-05-14 00:00:00'): 2852.5}\n",
            "Our model generates  1.0 over testing period\n",
            "While S&P500 as benchmark generated  1.1378822027644255 over testing period\n"
          ]
        }
      ]
    }
  ],
  "metadata": {
    "colab": {
      "collapsed_sections": [],
      "name": "GLM.ipynb",
      "provenance": [],
      "toc_visible": true,
      "include_colab_link": true
    },
    "kernelspec": {
      "display_name": "Python 3",
      "name": "python3"
    },
    "language_info": {
      "name": "python"
    }
  },
  "nbformat": 4,
  "nbformat_minor": 0
}