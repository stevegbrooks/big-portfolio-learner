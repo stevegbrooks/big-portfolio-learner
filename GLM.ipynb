{
  "cells": [
    {
      "cell_type": "markdown",
      "metadata": {
        "id": "view-in-github",
        "colab_type": "text"
      },
      "source": [
        "<a href=\"https://colab.research.google.com/github/stevegbrooks/big-portfolio-learner/blob/data_integration/GLM.ipynb\" target=\"_parent\"><img src=\"https://colab.research.google.com/assets/colab-badge.svg\" alt=\"Open In Colab\"/></a>"
      ]
    },
    {
      "cell_type": "markdown",
      "metadata": {
        "id": "MuVdqztTGMiw"
      },
      "source": [
        "# CIS 545 Final Project\n",
        "\n",
        "## Big Portfolio Learner: Integrate Other Data\n",
        "\n",
        "### Team members: Steven Brooks & Chenlia Xu"
      ]
    },
    {
      "cell_type": "markdown",
      "source": [
        "# Section 1: Setting Up Environment"
      ],
      "metadata": {
        "id": "4yW0AkRlznO9"
      }
    },
    {
      "cell_type": "code",
      "execution_count": 2,
      "metadata": {
        "id": "ccEPNzH-QeHL"
      },
      "outputs": [],
      "source": [
        "import random\n",
        "import numpy as np \n",
        "import json\n",
        "import matplotlib\n",
        "import pandas as pd\n",
        "import matplotlib.pyplot as plt\n",
        "from matplotlib import cm\n",
        "from datetime import datetime\n",
        "import glob\n",
        "import seaborn as sns\n",
        "import re\n",
        "import os"
      ]
    },
    {
      "cell_type": "code",
      "execution_count": 3,
      "metadata": {
        "id": "3zaggIhAZzeK"
      },
      "outputs": [],
      "source": [
        "%%capture\n",
        "## If boto3 not already installed uncomment the following:\n",
        "!pip3 install boto3"
      ]
    },
    {
      "cell_type": "code",
      "execution_count": 4,
      "metadata": {
        "id": "dkkvY7IDQ-ou"
      },
      "outputs": [],
      "source": [
        "import boto3\n",
        "from botocore import UNSIGNED\n",
        "\n",
        "from botocore.config import Config\n",
        "\n",
        "s3 = boto3.resource('s3', config=Config(signature_version=UNSIGNED))\n",
        "s3.Bucket('cis545project').download_file('data/stock_data.zip', 'stock_data.zip')\n",
        "s3.Bucket('cis545project').download_file('data/technical_data.zip', 'technical_data.zip')"
      ]
    },
    {
      "cell_type": "code",
      "execution_count": 5,
      "metadata": {
        "id": "775OUJLwkKkn"
      },
      "outputs": [],
      "source": [
        "%%capture\n",
        "\n",
        "stock_dir = \"stock_data\"\n",
        "if not os.path.exists(stock_dir):\n",
        "  os.makedirs(stock_dir)\n",
        "!unzip /content/stock_data.zip -d /content/$stock_dir\n",
        "!rm -f $stock_dir/.gitempty\n",
        "\n",
        "# tech_dir = \"technical_data\"\n",
        "# if not os.path.exists(tech_dir):\n",
        "#   os.makedirs(tech_dir)\n",
        "# !unzip /content/technical_data.zip -d /content/$tech_dir\n",
        "# !rm -f $tech_dir/.gitempty"
      ]
    },
    {
      "cell_type": "markdown",
      "metadata": {
        "id": "BXFVBKfoZR5V"
      },
      "source": [
        "# Section 2: Setup Spark Session"
      ]
    },
    {
      "cell_type": "code",
      "execution_count": 6,
      "metadata": {
        "id": "qvwYWLqRuc0Z"
      },
      "outputs": [],
      "source": [
        "%%capture\n",
        "\n",
        "!apt install libkrb5-dev\n",
        "!pip install findspark\n",
        "!pip install sparkmagic\n",
        "!pip install pyspark\n",
        "!pip install pyspark --user\n",
        "!pip install seaborn --user\n",
        "!pip install imageio --user\n",
        "!pip install folium --user\n",
        "\n",
        "!apt update\n",
        "!apt install gcc python-dev libkrb5-dev"
      ]
    },
    {
      "cell_type": "code",
      "execution_count": 7,
      "metadata": {
        "id": "ygqKoO0Lusl3"
      },
      "outputs": [],
      "source": [
        "from pyspark.sql import SparkSession\n",
        "from pyspark.sql.types import *\n",
        "import pyspark.sql.functions as F\n",
        "\n",
        "import os\n",
        "\n",
        "spark = SparkSession.builder.getOrCreate()"
      ]
    },
    {
      "cell_type": "code",
      "execution_count": 8,
      "metadata": {
        "id": "s4cFr7oquvNb"
      },
      "outputs": [],
      "source": [
        "%load_ext sparkmagic.magics"
      ]
    },
    {
      "cell_type": "code",
      "execution_count": 9,
      "metadata": {
        "id": "-hpTht6CZRKw"
      },
      "outputs": [],
      "source": [
        "#graph section\n",
        "import networkx as nx\n",
        "# SQLite RDBMS\n",
        "import sqlite3\n",
        "# Parallel processing\n",
        "# import swifter\n",
        "import pandas as pd\n",
        "# NoSQL DB\n",
        "from pymongo import MongoClient\n",
        "from pymongo.errors import DuplicateKeyError, OperationFailure\n",
        "\n",
        "import os\n",
        "os.environ['SPARK_HOME'] = '/content/spark-2.4.5-bin-hadoop2.7'\n",
        "os.environ[\"JAVA_HOME\"] = \"/usr/lib/jvm/java-8-openjdk-amd64\"\n",
        "import pyspark\n",
        "from pyspark.sql import SQLContext\n",
        "\n",
        "try:\n",
        "    if(spark == None):\n",
        "        spark = SparkSession.builder.appName('Initial').getOrCreate()\n",
        "        sqlContext=SQLContext(spark)\n",
        "except NameError:\n",
        "    spark = SparkSession.builder.appName('Initial').getOrCreate()\n",
        "    sqlContext=SQLContext(spark)"
      ]
    },
    {
      "cell_type": "markdown",
      "metadata": {
        "id": "YSmPBwAUnHlY"
      },
      "source": [
        "# Section 3: Load stock and technical data"
      ]
    },
    {
      "cell_type": "code",
      "execution_count": 10,
      "metadata": {
        "id": "C5iYQ3VZnGxp"
      },
      "outputs": [],
      "source": [
        "stock_data_sdf = spark.read.load(\n",
        "    'stock_data/*.csv', \n",
        "    format = 'csv', \n",
        "    header = 'true', \n",
        "    inferSchema = 'true', \n",
        "    sep = ','\n",
        ")"
      ]
    },
    {
      "cell_type": "markdown",
      "metadata": {
        "id": "pERX_hPE0634"
      },
      "source": [
        "First we'll set up the spark dataframe for stock prices using the work in `step1a`."
      ]
    },
    {
      "cell_type": "code",
      "execution_count": 11,
      "metadata": {
        "id": "_AfnFZqh06EY"
      },
      "outputs": [],
      "source": [
        "from pyspark.sql.functions import to_timestamp\n",
        "from pyspark.sql.functions import year, month, date_format\n",
        "\n",
        "\n",
        "stock_data_sdf = stock_data_sdf.withColumn(\"timestamp_as_dt\", to_timestamp(stock_data_sdf.timestamp, 'yyyy-MM-dd'))\n",
        "stock_data_sdf = stock_data_sdf.withColumn(\"year\", year('timestamp_as_dt'))\n",
        "stock_data_sdf = stock_data_sdf.filter(\"year >= 2002 AND year <= 2019\")\n",
        "\n",
        "count_by_symbol_year_sdf = stock_data_sdf.groupBy([\"symbol\", \"year\"]).count()\n",
        "count_years_by_symbol_sdf = count_by_symbol_year_sdf.groupBy([\"symbol\"]).count()\n",
        "\n",
        "### Just grab stocks that have data in each of the 18 years from 2002 to 2019\n",
        "### AND remove the three outliers\n",
        "stocks_with_all_analysis_yrs_sdf = count_years_by_symbol_sdf.filter(\"count == 18\") #18 years of data from 2002 and 2019\n",
        "stocks_to_remove = ['DCTH', 'BRK-A', 'AIKI']\n",
        "stocks_with_all_analysis_yrs_sdf = stocks_with_all_analysis_yrs_sdf.filter(stocks_with_all_analysis_yrs_sdf.symbol.isin(stocks_to_remove) == False)\n",
        "\n",
        "stock_data_sdf.createOrReplaceTempView(\"stock_data\")\n",
        "stocks_with_all_analysis_yrs_sdf.createOrReplaceTempView(\"stocks_with_all_analysis_yrs\")\n",
        "\n",
        "stock_data_2002_2019_sdf = spark.sql(\n",
        "    \"\"\"\n",
        "    SELECT *\n",
        "    FROM stock_data\n",
        "    WHERE symbol IN (SELECT symbol FROM stocks_with_all_analysis_yrs)\n",
        "    \"\"\"\n",
        ")"
      ]
    },
    {
      "cell_type": "markdown",
      "source": [
        "Second, we set up the spark dataframe for technical indicators.  "
      ],
      "metadata": {
        "id": "aQHIU6XP0L2u"
      }
    },
    {
      "cell_type": "code",
      "source": [
        "# technical_data_sdf = spark.read.load(\n",
        "#     'technical_data/*.csv', \n",
        "#     format = 'csv', \n",
        "#     header = 'true', \n",
        "#     inferSchema = 'true', \n",
        "#     sep = ','\n",
        "# )"
      ],
      "metadata": {
        "id": "-GpP2kuO0MKg"
      },
      "execution_count": 12,
      "outputs": []
    },
    {
      "cell_type": "markdown",
      "metadata": {
        "id": "s7cU8zpR6JdR"
      },
      "source": [
        "Then we will reduce the technical data set to just those stocks that match up with the first dataset above."
      ]
    },
    {
      "cell_type": "code",
      "execution_count": 13,
      "metadata": {
        "id": "GHI-HU7l6KjK"
      },
      "outputs": [],
      "source": [
        "# technical_data_sdf = technical_data_sdf.withColumn(\"timestamp_as_dt\", to_timestamp(technical_data_sdf.timestamp, 'yyyy-MM-dd'))\n",
        "# technical_data_sdf = technical_data_sdf.withColumn(\"year\", year('timestamp_as_dt'))\n",
        "# technical_data_sdf = technical_data_sdf.filter(\"year >= 2002 AND year <= 2019\")\n",
        "\n",
        "# technical_data_sdf.createOrReplaceTempView(\"technical_data\")\n",
        "\n",
        "# technical_data_2002_2019_sdf = spark.sql(\n",
        "#     \"\"\"\n",
        "#     SELECT *\n",
        "#     FROM technical_data\n",
        "#     WHERE symbol IN (SELECT symbol FROM stocks_with_all_analysis_yrs)\n",
        "#     \"\"\"\n",
        "# )"
      ]
    },
    {
      "cell_type": "markdown",
      "metadata": {
        "id": "06Q9uomP8824"
      },
      "source": [
        "Next step is to clean up technical data (especially fixing the schema so its numeric instead of string) and then setting it up for modeling."
      ]
    },
    {
      "cell_type": "code",
      "execution_count": 13,
      "metadata": {
        "id": "LXt9KRZl6tCa"
      },
      "outputs": [],
      "source": [
        ""
      ]
    },
    {
      "cell_type": "markdown",
      "source": [
        "# Section 4: Load Other Data.  "
      ],
      "metadata": {
        "id": "_HFodb100nCt"
      }
    },
    {
      "cell_type": "markdown",
      "source": [
        "### Step 1: Download other data from google drive.  "
      ],
      "metadata": {
        "id": "F8zlYS3D02iv"
      }
    },
    {
      "cell_type": "code",
      "source": [
        "# from google.colab import drive\n",
        "# drive.mount('/content/gdrive')\n",
        "\n",
        "os.mkdir('/content/other_data')\n",
        "!cp '/content/gdrive/My Drive/other_data/forex.csv' other_data/forex.csv\n",
        "!cp '/content/gdrive/My Drive/other_data/gdp.csv' other_data/gdp.csv\n",
        "!cp '/content/gdrive/My Drive/other_data/stockindex.csv' other_data/stockindex.csv\n",
        "!cp '/content/gdrive/My Drive/other_data/tbond.csv' other_data/tbond.csv\n",
        "!cp '/content/gdrive/My Drive/other_data/unemployment.csv' other_data/unemployment.csv\n"
      ],
      "metadata": {
        "id": "m6IUvrRW1Eds"
      },
      "execution_count": 16,
      "outputs": []
    },
    {
      "cell_type": "markdown",
      "source": [
        "### Step 2: Acquire overnight stock index performance of other major stock markets, e.g. FTSE, DAX, CAC, Nikkei, HKSE, SHSE."
      ],
      "metadata": {
        "id": "Xor1-lra-sw-"
      }
    },
    {
      "cell_type": "code",
      "source": [
        "stockindex_data = pd.read_csv('/content/other_data/stockindex.csv')\n",
        "\n",
        "stockindex_data = stockindex_data[['date', 'FTSE100', 'DAX', 'CAC', 'Nikkei225', 'Hang_Seng', 'SHSZ300']]\n",
        "stockindex_data['date'] = pd.to_datetime(stockindex_data.date)\n",
        "stockindex_data = stockindex_data[stockindex_data['date'] < pd.Timestamp(2020,1,1)]\n",
        "\n",
        "# filling missing data\n",
        "stockindex_data = stockindex_data.fillna(method='ffill')\n",
        "stockindex_data.iloc[0, stockindex_data.columns.get_loc('Nikkei225')] = 10871.49\n",
        "stockindex_data.iloc[1, stockindex_data.columns.get_loc('Nikkei225')] = 10871.49\n",
        "stockindex_data.iloc[0, stockindex_data.columns.get_loc('SHSZ300')] = 1316.46\n",
        "stockindex_data.iloc[1, stockindex_data.columns.get_loc('SHSZ300')] = 1316.46\n",
        "\n",
        "# add quarter / month column\n",
        "stockindex_data['quarter'] = stockindex_data['date'].dt.to_period('Q')\n",
        "stockindex_data['month'] = stockindex_data['date'].dt.to_period('M')\n",
        "\n",
        "# calculating day-over-day % price change\n",
        "stockindex_data['FTSE100_DoD'] = stockindex_data['FTSE100'].pct_change(1)\n",
        "stockindex_data['DAX_DoD'] = stockindex_data['DAX'].pct_change(1)\n",
        "stockindex_data['CAC_DoD'] = stockindex_data['CAC'].pct_change(1)\n",
        "stockindex_data['Nikkei225_DoD'] = stockindex_data['Nikkei225'].pct_change(1)\n",
        "stockindex_data['Hang_Seng_DoD'] = stockindex_data['Hang_Seng'].pct_change(1)\n",
        "stockindex_data['SHSZ300_DoD'] = stockindex_data['SHSZ300'].pct_change(1)\n",
        "stockindex_data = stockindex_data[['date', 'quarter', 'month', 'FTSE100_DoD', 'DAX_DoD', 'CAC_DoD', 'Nikkei225_DoD', 'Hang_Seng_DoD', 'SHSZ300_DoD']]\n",
        "                        \n",
        "stockindex_data.head()"
      ],
      "metadata": {
        "colab": {
          "base_uri": "https://localhost:8080/",
          "height": 206
        },
        "id": "0T7mUheI-tFB",
        "outputId": "4b9a3ac9-0baa-46b2-dd0f-820f651d267e"
      },
      "execution_count": 17,
      "outputs": [
        {
          "output_type": "execute_result",
          "data": {
            "text/html": [
              "\n",
              "  <div id=\"df-67b2432f-d82c-4b54-bc45-a6679ed44885\">\n",
              "    <div class=\"colab-df-container\">\n",
              "      <div>\n",
              "<style scoped>\n",
              "    .dataframe tbody tr th:only-of-type {\n",
              "        vertical-align: middle;\n",
              "    }\n",
              "\n",
              "    .dataframe tbody tr th {\n",
              "        vertical-align: top;\n",
              "    }\n",
              "\n",
              "    .dataframe thead th {\n",
              "        text-align: right;\n",
              "    }\n",
              "</style>\n",
              "<table border=\"1\" class=\"dataframe\">\n",
              "  <thead>\n",
              "    <tr style=\"text-align: right;\">\n",
              "      <th></th>\n",
              "      <th>date</th>\n",
              "      <th>quarter</th>\n",
              "      <th>month</th>\n",
              "      <th>FTSE100_DoD</th>\n",
              "      <th>DAX_DoD</th>\n",
              "      <th>CAC_DoD</th>\n",
              "      <th>Nikkei225_DoD</th>\n",
              "      <th>Hang_Seng_DoD</th>\n",
              "      <th>SHSZ300_DoD</th>\n",
              "    </tr>\n",
              "  </thead>\n",
              "  <tbody>\n",
              "    <tr>\n",
              "      <th>0</th>\n",
              "      <td>2002-01-02</td>\n",
              "      <td>2002Q1</td>\n",
              "      <td>2002-01</td>\n",
              "      <td>NaN</td>\n",
              "      <td>NaN</td>\n",
              "      <td>NaN</td>\n",
              "      <td>NaN</td>\n",
              "      <td>NaN</td>\n",
              "      <td>NaN</td>\n",
              "    </tr>\n",
              "    <tr>\n",
              "      <th>1</th>\n",
              "      <td>2002-01-03</td>\n",
              "      <td>2002Q1</td>\n",
              "      <td>2002-01</td>\n",
              "      <td>0.019259</td>\n",
              "      <td>0.019817</td>\n",
              "      <td>0.021998</td>\n",
              "      <td>0.000000</td>\n",
              "      <td>0.006402</td>\n",
              "      <td>0.000000</td>\n",
              "    </tr>\n",
              "    <tr>\n",
              "      <th>2</th>\n",
              "      <td>2002-01-04</td>\n",
              "      <td>2002Q1</td>\n",
              "      <td>2002-01</td>\n",
              "      <td>0.000940</td>\n",
              "      <td>0.009191</td>\n",
              "      <td>0.000340</td>\n",
              "      <td>0.000000</td>\n",
              "      <td>0.024391</td>\n",
              "      <td>0.000000</td>\n",
              "    </tr>\n",
              "    <tr>\n",
              "      <th>3</th>\n",
              "      <td>2002-01-07</td>\n",
              "      <td>2002Q1</td>\n",
              "      <td>2002-01</td>\n",
              "      <td>-0.005673</td>\n",
              "      <td>-0.016265</td>\n",
              "      <td>-0.014361</td>\n",
              "      <td>0.006519</td>\n",
              "      <td>0.016278</td>\n",
              "      <td>-0.010923</td>\n",
              "    </tr>\n",
              "    <tr>\n",
              "      <th>4</th>\n",
              "      <td>2002-01-08</td>\n",
              "      <td>2002Q1</td>\n",
              "      <td>2002-01</td>\n",
              "      <td>-0.008161</td>\n",
              "      <td>0.000793</td>\n",
              "      <td>-0.010280</td>\n",
              "      <td>-0.022551</td>\n",
              "      <td>-0.015045</td>\n",
              "      <td>-0.007196</td>\n",
              "    </tr>\n",
              "  </tbody>\n",
              "</table>\n",
              "</div>\n",
              "      <button class=\"colab-df-convert\" onclick=\"convertToInteractive('df-67b2432f-d82c-4b54-bc45-a6679ed44885')\"\n",
              "              title=\"Convert this dataframe to an interactive table.\"\n",
              "              style=\"display:none;\">\n",
              "        \n",
              "  <svg xmlns=\"http://www.w3.org/2000/svg\" height=\"24px\"viewBox=\"0 0 24 24\"\n",
              "       width=\"24px\">\n",
              "    <path d=\"M0 0h24v24H0V0z\" fill=\"none\"/>\n",
              "    <path d=\"M18.56 5.44l.94 2.06.94-2.06 2.06-.94-2.06-.94-.94-2.06-.94 2.06-2.06.94zm-11 1L8.5 8.5l.94-2.06 2.06-.94-2.06-.94L8.5 2.5l-.94 2.06-2.06.94zm10 10l.94 2.06.94-2.06 2.06-.94-2.06-.94-.94-2.06-.94 2.06-2.06.94z\"/><path d=\"M17.41 7.96l-1.37-1.37c-.4-.4-.92-.59-1.43-.59-.52 0-1.04.2-1.43.59L10.3 9.45l-7.72 7.72c-.78.78-.78 2.05 0 2.83L4 21.41c.39.39.9.59 1.41.59.51 0 1.02-.2 1.41-.59l7.78-7.78 2.81-2.81c.8-.78.8-2.07 0-2.86zM5.41 20L4 18.59l7.72-7.72 1.47 1.35L5.41 20z\"/>\n",
              "  </svg>\n",
              "      </button>\n",
              "      \n",
              "  <style>\n",
              "    .colab-df-container {\n",
              "      display:flex;\n",
              "      flex-wrap:wrap;\n",
              "      gap: 12px;\n",
              "    }\n",
              "\n",
              "    .colab-df-convert {\n",
              "      background-color: #E8F0FE;\n",
              "      border: none;\n",
              "      border-radius: 50%;\n",
              "      cursor: pointer;\n",
              "      display: none;\n",
              "      fill: #1967D2;\n",
              "      height: 32px;\n",
              "      padding: 0 0 0 0;\n",
              "      width: 32px;\n",
              "    }\n",
              "\n",
              "    .colab-df-convert:hover {\n",
              "      background-color: #E2EBFA;\n",
              "      box-shadow: 0px 1px 2px rgba(60, 64, 67, 0.3), 0px 1px 3px 1px rgba(60, 64, 67, 0.15);\n",
              "      fill: #174EA6;\n",
              "    }\n",
              "\n",
              "    [theme=dark] .colab-df-convert {\n",
              "      background-color: #3B4455;\n",
              "      fill: #D2E3FC;\n",
              "    }\n",
              "\n",
              "    [theme=dark] .colab-df-convert:hover {\n",
              "      background-color: #434B5C;\n",
              "      box-shadow: 0px 1px 3px 1px rgba(0, 0, 0, 0.15);\n",
              "      filter: drop-shadow(0px 1px 2px rgba(0, 0, 0, 0.3));\n",
              "      fill: #FFFFFF;\n",
              "    }\n",
              "  </style>\n",
              "\n",
              "      <script>\n",
              "        const buttonEl =\n",
              "          document.querySelector('#df-67b2432f-d82c-4b54-bc45-a6679ed44885 button.colab-df-convert');\n",
              "        buttonEl.style.display =\n",
              "          google.colab.kernel.accessAllowed ? 'block' : 'none';\n",
              "\n",
              "        async function convertToInteractive(key) {\n",
              "          const element = document.querySelector('#df-67b2432f-d82c-4b54-bc45-a6679ed44885');\n",
              "          const dataTable =\n",
              "            await google.colab.kernel.invokeFunction('convertToInteractive',\n",
              "                                                     [key], {});\n",
              "          if (!dataTable) return;\n",
              "\n",
              "          const docLinkHtml = 'Like what you see? Visit the ' +\n",
              "            '<a target=\"_blank\" href=https://colab.research.google.com/notebooks/data_table.ipynb>data table notebook</a>'\n",
              "            + ' to learn more about interactive tables.';\n",
              "          element.innerHTML = '';\n",
              "          dataTable['output_type'] = 'display_data';\n",
              "          await google.colab.output.renderOutput(dataTable, element);\n",
              "          const docLink = document.createElement('div');\n",
              "          docLink.innerHTML = docLinkHtml;\n",
              "          element.appendChild(docLink);\n",
              "        }\n",
              "      </script>\n",
              "    </div>\n",
              "  </div>\n",
              "  "
            ],
            "text/plain": [
              "        date quarter    month  ...  Nikkei225_DoD  Hang_Seng_DoD  SHSZ300_DoD\n",
              "0 2002-01-02  2002Q1  2002-01  ...            NaN            NaN          NaN\n",
              "1 2002-01-03  2002Q1  2002-01  ...       0.000000       0.006402     0.000000\n",
              "2 2002-01-04  2002Q1  2002-01  ...       0.000000       0.024391     0.000000\n",
              "3 2002-01-07  2002Q1  2002-01  ...       0.006519       0.016278    -0.010923\n",
              "4 2002-01-08  2002Q1  2002-01  ...      -0.022551      -0.015045    -0.007196\n",
              "\n",
              "[5 rows x 9 columns]"
            ]
          },
          "metadata": {},
          "execution_count": 17
        }
      ]
    },
    {
      "cell_type": "markdown",
      "source": [
        "### Step 3: Acquire tresaury bond (1-yr, 3yr, 10-yr) market daily performance"
      ],
      "metadata": {
        "id": "e15HhL81-_H-"
      }
    },
    {
      "cell_type": "code",
      "source": [
        "tbond_data = pd.read_csv('/content/other_data/tbond.csv')\n",
        "\n",
        "tbond_data = tbond_data[['date', '3M', '1Y', '10Y']]\n",
        "tbond_data['date'] = pd.to_datetime(tbond_data.date)\n",
        "tbond_data = tbond_data[tbond_data['date'] < pd.Timestamp(2020,1,1)]\n",
        "\n",
        "tbond_data['3M_DoD'] = tbond_data['3M'].pct_change(1)\n",
        "tbond_data['1Y_DoD'] = tbond_data['1Y'].pct_change(1)\n",
        "tbond_data['10Y_DoD'] = tbond_data['10Y'].pct_change(1)\n",
        "tbond_data = tbond_data[['date', '3M_DoD', '1Y_DoD','10Y_DoD']]\n",
        "                        \n",
        "tbond_data.head()"
      ],
      "metadata": {
        "colab": {
          "base_uri": "https://localhost:8080/",
          "height": 206
        },
        "id": "d_OU3HDw-_O7",
        "outputId": "3b58dc6c-ab91-48e1-c83d-458a1452ccb4"
      },
      "execution_count": 18,
      "outputs": [
        {
          "output_type": "execute_result",
          "data": {
            "text/html": [
              "\n",
              "  <div id=\"df-a09cfa73-d54a-4993-a0e5-baebd3795eee\">\n",
              "    <div class=\"colab-df-container\">\n",
              "      <div>\n",
              "<style scoped>\n",
              "    .dataframe tbody tr th:only-of-type {\n",
              "        vertical-align: middle;\n",
              "    }\n",
              "\n",
              "    .dataframe tbody tr th {\n",
              "        vertical-align: top;\n",
              "    }\n",
              "\n",
              "    .dataframe thead th {\n",
              "        text-align: right;\n",
              "    }\n",
              "</style>\n",
              "<table border=\"1\" class=\"dataframe\">\n",
              "  <thead>\n",
              "    <tr style=\"text-align: right;\">\n",
              "      <th></th>\n",
              "      <th>date</th>\n",
              "      <th>3M_DoD</th>\n",
              "      <th>1Y_DoD</th>\n",
              "      <th>10Y_DoD</th>\n",
              "    </tr>\n",
              "  </thead>\n",
              "  <tbody>\n",
              "    <tr>\n",
              "      <th>0</th>\n",
              "      <td>2002-01-02</td>\n",
              "      <td>NaN</td>\n",
              "      <td>NaN</td>\n",
              "      <td>NaN</td>\n",
              "    </tr>\n",
              "    <tr>\n",
              "      <th>1</th>\n",
              "      <td>2002-01-03</td>\n",
              "      <td>-0.005747</td>\n",
              "      <td>-0.017544</td>\n",
              "      <td>-0.007692</td>\n",
              "    </tr>\n",
              "    <tr>\n",
              "      <th>2</th>\n",
              "      <td>2002-01-04</td>\n",
              "      <td>-0.005780</td>\n",
              "      <td>0.004464</td>\n",
              "      <td>0.003876</td>\n",
              "    </tr>\n",
              "    <tr>\n",
              "      <th>3</th>\n",
              "      <td>2002-01-07</td>\n",
              "      <td>-0.023256</td>\n",
              "      <td>-0.026667</td>\n",
              "      <td>-0.017375</td>\n",
              "    </tr>\n",
              "    <tr>\n",
              "      <th>4</th>\n",
              "      <td>2002-01-08</td>\n",
              "      <td>0.000000</td>\n",
              "      <td>0.000000</td>\n",
              "      <td>0.001965</td>\n",
              "    </tr>\n",
              "  </tbody>\n",
              "</table>\n",
              "</div>\n",
              "      <button class=\"colab-df-convert\" onclick=\"convertToInteractive('df-a09cfa73-d54a-4993-a0e5-baebd3795eee')\"\n",
              "              title=\"Convert this dataframe to an interactive table.\"\n",
              "              style=\"display:none;\">\n",
              "        \n",
              "  <svg xmlns=\"http://www.w3.org/2000/svg\" height=\"24px\"viewBox=\"0 0 24 24\"\n",
              "       width=\"24px\">\n",
              "    <path d=\"M0 0h24v24H0V0z\" fill=\"none\"/>\n",
              "    <path d=\"M18.56 5.44l.94 2.06.94-2.06 2.06-.94-2.06-.94-.94-2.06-.94 2.06-2.06.94zm-11 1L8.5 8.5l.94-2.06 2.06-.94-2.06-.94L8.5 2.5l-.94 2.06-2.06.94zm10 10l.94 2.06.94-2.06 2.06-.94-2.06-.94-.94-2.06-.94 2.06-2.06.94z\"/><path d=\"M17.41 7.96l-1.37-1.37c-.4-.4-.92-.59-1.43-.59-.52 0-1.04.2-1.43.59L10.3 9.45l-7.72 7.72c-.78.78-.78 2.05 0 2.83L4 21.41c.39.39.9.59 1.41.59.51 0 1.02-.2 1.41-.59l7.78-7.78 2.81-2.81c.8-.78.8-2.07 0-2.86zM5.41 20L4 18.59l7.72-7.72 1.47 1.35L5.41 20z\"/>\n",
              "  </svg>\n",
              "      </button>\n",
              "      \n",
              "  <style>\n",
              "    .colab-df-container {\n",
              "      display:flex;\n",
              "      flex-wrap:wrap;\n",
              "      gap: 12px;\n",
              "    }\n",
              "\n",
              "    .colab-df-convert {\n",
              "      background-color: #E8F0FE;\n",
              "      border: none;\n",
              "      border-radius: 50%;\n",
              "      cursor: pointer;\n",
              "      display: none;\n",
              "      fill: #1967D2;\n",
              "      height: 32px;\n",
              "      padding: 0 0 0 0;\n",
              "      width: 32px;\n",
              "    }\n",
              "\n",
              "    .colab-df-convert:hover {\n",
              "      background-color: #E2EBFA;\n",
              "      box-shadow: 0px 1px 2px rgba(60, 64, 67, 0.3), 0px 1px 3px 1px rgba(60, 64, 67, 0.15);\n",
              "      fill: #174EA6;\n",
              "    }\n",
              "\n",
              "    [theme=dark] .colab-df-convert {\n",
              "      background-color: #3B4455;\n",
              "      fill: #D2E3FC;\n",
              "    }\n",
              "\n",
              "    [theme=dark] .colab-df-convert:hover {\n",
              "      background-color: #434B5C;\n",
              "      box-shadow: 0px 1px 3px 1px rgba(0, 0, 0, 0.15);\n",
              "      filter: drop-shadow(0px 1px 2px rgba(0, 0, 0, 0.3));\n",
              "      fill: #FFFFFF;\n",
              "    }\n",
              "  </style>\n",
              "\n",
              "      <script>\n",
              "        const buttonEl =\n",
              "          document.querySelector('#df-a09cfa73-d54a-4993-a0e5-baebd3795eee button.colab-df-convert');\n",
              "        buttonEl.style.display =\n",
              "          google.colab.kernel.accessAllowed ? 'block' : 'none';\n",
              "\n",
              "        async function convertToInteractive(key) {\n",
              "          const element = document.querySelector('#df-a09cfa73-d54a-4993-a0e5-baebd3795eee');\n",
              "          const dataTable =\n",
              "            await google.colab.kernel.invokeFunction('convertToInteractive',\n",
              "                                                     [key], {});\n",
              "          if (!dataTable) return;\n",
              "\n",
              "          const docLinkHtml = 'Like what you see? Visit the ' +\n",
              "            '<a target=\"_blank\" href=https://colab.research.google.com/notebooks/data_table.ipynb>data table notebook</a>'\n",
              "            + ' to learn more about interactive tables.';\n",
              "          element.innerHTML = '';\n",
              "          dataTable['output_type'] = 'display_data';\n",
              "          await google.colab.output.renderOutput(dataTable, element);\n",
              "          const docLink = document.createElement('div');\n",
              "          docLink.innerHTML = docLinkHtml;\n",
              "          element.appendChild(docLink);\n",
              "        }\n",
              "      </script>\n",
              "    </div>\n",
              "  </div>\n",
              "  "
            ],
            "text/plain": [
              "        date    3M_DoD    1Y_DoD   10Y_DoD\n",
              "0 2002-01-02       NaN       NaN       NaN\n",
              "1 2002-01-03 -0.005747 -0.017544 -0.007692\n",
              "2 2002-01-04 -0.005780  0.004464  0.003876\n",
              "3 2002-01-07 -0.023256 -0.026667 -0.017375\n",
              "4 2002-01-08  0.000000  0.000000  0.001965"
            ]
          },
          "metadata": {},
          "execution_count": 18
        }
      ]
    },
    {
      "cell_type": "markdown",
      "source": [
        "### Step 4: Acquire forex market (USD/EUR, USD/JPY, USD/AUD, etc.) daily performance.  "
      ],
      "metadata": {
        "id": "XkJQWz_k_Od1"
      }
    },
    {
      "cell_type": "code",
      "source": [
        "forex_data = pd.read_csv('/content/other_data/forex.csv')\n",
        "\n",
        "forex_data = forex_data[['date', 'USDGBP', 'USDEUR', 'USDJPY', 'USDHKD', 'USDAUD', 'USDCAD']]\n",
        "\n",
        "# filling missing data\n",
        "forex_data = forex_data.fillna(method='ffill')\n",
        "\n",
        "# convert data format\n",
        "forex_data['date'] = pd.to_datetime(forex_data.date)\n",
        "forex_data = forex_data[forex_data['date'] < pd.Timestamp(2020,1,1)]\n",
        "\n",
        "# calculating day-over-day % price change\n",
        "forex_data['USDGBP_DoD'] = forex_data['USDGBP'].pct_change(1)\n",
        "forex_data['USDEUR_DoD'] = forex_data['USDEUR'].pct_change(1)\n",
        "forex_data['USDJPY_DoD'] = forex_data['USDJPY'].pct_change(1)\n",
        "forex_data['USDHKD_DoD'] = forex_data['USDHKD'].pct_change(1)\n",
        "forex_data['USDAUD_DoD'] = forex_data['USDAUD'].pct_change(1)\n",
        "forex_data['USDCAD_DoD'] = forex_data['USDCAD'].pct_change(1)\n",
        "forex_data = forex_data[['date', 'USDGBP_DoD', 'USDEUR_DoD', 'USDJPY_DoD', 'USDHKD_DoD', 'USDAUD_DoD', 'USDCAD_DoD']]\n",
        "                        \n",
        "forex_data.head()"
      ],
      "metadata": {
        "colab": {
          "base_uri": "https://localhost:8080/",
          "height": 206
        },
        "id": "NPzR4Pho_T6m",
        "outputId": "b9330b15-b26d-4c47-e910-dde37b67b757"
      },
      "execution_count": 19,
      "outputs": [
        {
          "output_type": "execute_result",
          "data": {
            "text/html": [
              "\n",
              "  <div id=\"df-bd2f779a-8bba-4a22-ab26-eaacbfd8e724\">\n",
              "    <div class=\"colab-df-container\">\n",
              "      <div>\n",
              "<style scoped>\n",
              "    .dataframe tbody tr th:only-of-type {\n",
              "        vertical-align: middle;\n",
              "    }\n",
              "\n",
              "    .dataframe tbody tr th {\n",
              "        vertical-align: top;\n",
              "    }\n",
              "\n",
              "    .dataframe thead th {\n",
              "        text-align: right;\n",
              "    }\n",
              "</style>\n",
              "<table border=\"1\" class=\"dataframe\">\n",
              "  <thead>\n",
              "    <tr style=\"text-align: right;\">\n",
              "      <th></th>\n",
              "      <th>date</th>\n",
              "      <th>USDGBP_DoD</th>\n",
              "      <th>USDEUR_DoD</th>\n",
              "      <th>USDJPY_DoD</th>\n",
              "      <th>USDHKD_DoD</th>\n",
              "      <th>USDAUD_DoD</th>\n",
              "      <th>USDCAD_DoD</th>\n",
              "    </tr>\n",
              "  </thead>\n",
              "  <tbody>\n",
              "    <tr>\n",
              "      <th>0</th>\n",
              "      <td>2002-01-02</td>\n",
              "      <td>NaN</td>\n",
              "      <td>NaN</td>\n",
              "      <td>NaN</td>\n",
              "      <td>NaN</td>\n",
              "      <td>NaN</td>\n",
              "      <td>NaN</td>\n",
              "    </tr>\n",
              "    <tr>\n",
              "      <th>1</th>\n",
              "      <td>2002-01-03</td>\n",
              "      <td>0.005496</td>\n",
              "      <td>-0.003692</td>\n",
              "      <td>0.000304</td>\n",
              "      <td>-0.000026</td>\n",
              "      <td>-0.000412</td>\n",
              "      <td>0.001317</td>\n",
              "    </tr>\n",
              "    <tr>\n",
              "      <th>2</th>\n",
              "      <td>2002-01-04</td>\n",
              "      <td>-0.006185</td>\n",
              "      <td>0.009219</td>\n",
              "      <td>-0.004331</td>\n",
              "      <td>0.000038</td>\n",
              "      <td>-0.011121</td>\n",
              "      <td>-0.000626</td>\n",
              "    </tr>\n",
              "    <tr>\n",
              "      <th>3</th>\n",
              "      <td>2002-01-07</td>\n",
              "      <td>0.004921</td>\n",
              "      <td>0.002418</td>\n",
              "      <td>-0.001908</td>\n",
              "      <td>0.000077</td>\n",
              "      <td>0.004634</td>\n",
              "      <td>-0.000689</td>\n",
              "    </tr>\n",
              "    <tr>\n",
              "      <th>4</th>\n",
              "      <td>2002-01-08</td>\n",
              "      <td>0.000720</td>\n",
              "      <td>0.003484</td>\n",
              "      <td>0.014221</td>\n",
              "      <td>0.000013</td>\n",
              "      <td>-0.010158</td>\n",
              "      <td>0.004704</td>\n",
              "    </tr>\n",
              "  </tbody>\n",
              "</table>\n",
              "</div>\n",
              "      <button class=\"colab-df-convert\" onclick=\"convertToInteractive('df-bd2f779a-8bba-4a22-ab26-eaacbfd8e724')\"\n",
              "              title=\"Convert this dataframe to an interactive table.\"\n",
              "              style=\"display:none;\">\n",
              "        \n",
              "  <svg xmlns=\"http://www.w3.org/2000/svg\" height=\"24px\"viewBox=\"0 0 24 24\"\n",
              "       width=\"24px\">\n",
              "    <path d=\"M0 0h24v24H0V0z\" fill=\"none\"/>\n",
              "    <path d=\"M18.56 5.44l.94 2.06.94-2.06 2.06-.94-2.06-.94-.94-2.06-.94 2.06-2.06.94zm-11 1L8.5 8.5l.94-2.06 2.06-.94-2.06-.94L8.5 2.5l-.94 2.06-2.06.94zm10 10l.94 2.06.94-2.06 2.06-.94-2.06-.94-.94-2.06-.94 2.06-2.06.94z\"/><path d=\"M17.41 7.96l-1.37-1.37c-.4-.4-.92-.59-1.43-.59-.52 0-1.04.2-1.43.59L10.3 9.45l-7.72 7.72c-.78.78-.78 2.05 0 2.83L4 21.41c.39.39.9.59 1.41.59.51 0 1.02-.2 1.41-.59l7.78-7.78 2.81-2.81c.8-.78.8-2.07 0-2.86zM5.41 20L4 18.59l7.72-7.72 1.47 1.35L5.41 20z\"/>\n",
              "  </svg>\n",
              "      </button>\n",
              "      \n",
              "  <style>\n",
              "    .colab-df-container {\n",
              "      display:flex;\n",
              "      flex-wrap:wrap;\n",
              "      gap: 12px;\n",
              "    }\n",
              "\n",
              "    .colab-df-convert {\n",
              "      background-color: #E8F0FE;\n",
              "      border: none;\n",
              "      border-radius: 50%;\n",
              "      cursor: pointer;\n",
              "      display: none;\n",
              "      fill: #1967D2;\n",
              "      height: 32px;\n",
              "      padding: 0 0 0 0;\n",
              "      width: 32px;\n",
              "    }\n",
              "\n",
              "    .colab-df-convert:hover {\n",
              "      background-color: #E2EBFA;\n",
              "      box-shadow: 0px 1px 2px rgba(60, 64, 67, 0.3), 0px 1px 3px 1px rgba(60, 64, 67, 0.15);\n",
              "      fill: #174EA6;\n",
              "    }\n",
              "\n",
              "    [theme=dark] .colab-df-convert {\n",
              "      background-color: #3B4455;\n",
              "      fill: #D2E3FC;\n",
              "    }\n",
              "\n",
              "    [theme=dark] .colab-df-convert:hover {\n",
              "      background-color: #434B5C;\n",
              "      box-shadow: 0px 1px 3px 1px rgba(0, 0, 0, 0.15);\n",
              "      filter: drop-shadow(0px 1px 2px rgba(0, 0, 0, 0.3));\n",
              "      fill: #FFFFFF;\n",
              "    }\n",
              "  </style>\n",
              "\n",
              "      <script>\n",
              "        const buttonEl =\n",
              "          document.querySelector('#df-bd2f779a-8bba-4a22-ab26-eaacbfd8e724 button.colab-df-convert');\n",
              "        buttonEl.style.display =\n",
              "          google.colab.kernel.accessAllowed ? 'block' : 'none';\n",
              "\n",
              "        async function convertToInteractive(key) {\n",
              "          const element = document.querySelector('#df-bd2f779a-8bba-4a22-ab26-eaacbfd8e724');\n",
              "          const dataTable =\n",
              "            await google.colab.kernel.invokeFunction('convertToInteractive',\n",
              "                                                     [key], {});\n",
              "          if (!dataTable) return;\n",
              "\n",
              "          const docLinkHtml = 'Like what you see? Visit the ' +\n",
              "            '<a target=\"_blank\" href=https://colab.research.google.com/notebooks/data_table.ipynb>data table notebook</a>'\n",
              "            + ' to learn more about interactive tables.';\n",
              "          element.innerHTML = '';\n",
              "          dataTable['output_type'] = 'display_data';\n",
              "          await google.colab.output.renderOutput(dataTable, element);\n",
              "          const docLink = document.createElement('div');\n",
              "          docLink.innerHTML = docLinkHtml;\n",
              "          element.appendChild(docLink);\n",
              "        }\n",
              "      </script>\n",
              "    </div>\n",
              "  </div>\n",
              "  "
            ],
            "text/plain": [
              "        date  USDGBP_DoD  USDEUR_DoD  ...  USDHKD_DoD  USDAUD_DoD  USDCAD_DoD\n",
              "0 2002-01-02         NaN         NaN  ...         NaN         NaN         NaN\n",
              "1 2002-01-03    0.005496   -0.003692  ...   -0.000026   -0.000412    0.001317\n",
              "2 2002-01-04   -0.006185    0.009219  ...    0.000038   -0.011121   -0.000626\n",
              "3 2002-01-07    0.004921    0.002418  ...    0.000077    0.004634   -0.000689\n",
              "4 2002-01-08    0.000720    0.003484  ...    0.000013   -0.010158    0.004704\n",
              "\n",
              "[5 rows x 7 columns]"
            ]
          },
          "metadata": {},
          "execution_count": 19
        }
      ]
    },
    {
      "cell_type": "markdown",
      "source": [
        "### Step 5: Acquire economic data, including monthly unemployment rate, quarterly yoy GDP growth.  "
      ],
      "metadata": {
        "id": "bhOzemO8_Wk1"
      }
    },
    {
      "cell_type": "code",
      "source": [
        "gdp_data = pd.read_csv('/content/other_data/gdp.csv')\n",
        "\n",
        "gdp_data = gdp_data[['date', 'real_gdp']]\n",
        "\n",
        "# filling missing data\n",
        "gdp_data = gdp_data.fillna(method='ffill')\n",
        "\n",
        "# convert data format\n",
        "gdp_data['date'] = pd.to_datetime(gdp_data.date)\n",
        "gdp_data = gdp_data[gdp_data['date'] < pd.Timestamp(2020,1,1)]\n",
        "gdp_data['real_gdp_QoQ'] = gdp_data['real_gdp'].pct_change(1)\n",
        "gdp_data = gdp_data.drop(columns=['real_gdp'])\n",
        "\n",
        "# add quarter column\n",
        "gdp_data['quarter'] = gdp_data['date'].dt.to_period('Q')\n",
        "\n",
        "gdp_data.head()"
      ],
      "metadata": {
        "colab": {
          "base_uri": "https://localhost:8080/",
          "height": 206
        },
        "id": "cGv0hL31_Wxw",
        "outputId": "ae52a4cd-b973-498f-8ce5-aff2cd01ae2a"
      },
      "execution_count": 20,
      "outputs": [
        {
          "output_type": "execute_result",
          "data": {
            "text/html": [
              "\n",
              "  <div id=\"df-a6bc6192-8894-4ba5-83cb-1b8a6bf50df5\">\n",
              "    <div class=\"colab-df-container\">\n",
              "      <div>\n",
              "<style scoped>\n",
              "    .dataframe tbody tr th:only-of-type {\n",
              "        vertical-align: middle;\n",
              "    }\n",
              "\n",
              "    .dataframe tbody tr th {\n",
              "        vertical-align: top;\n",
              "    }\n",
              "\n",
              "    .dataframe thead th {\n",
              "        text-align: right;\n",
              "    }\n",
              "</style>\n",
              "<table border=\"1\" class=\"dataframe\">\n",
              "  <thead>\n",
              "    <tr style=\"text-align: right;\">\n",
              "      <th></th>\n",
              "      <th>date</th>\n",
              "      <th>real_gdp_QoQ</th>\n",
              "      <th>quarter</th>\n",
              "    </tr>\n",
              "  </thead>\n",
              "  <tbody>\n",
              "    <tr>\n",
              "      <th>0</th>\n",
              "      <td>2002-03-31</td>\n",
              "      <td>NaN</td>\n",
              "      <td>2002Q1</td>\n",
              "    </tr>\n",
              "    <tr>\n",
              "      <th>1</th>\n",
              "      <td>2002-06-30</td>\n",
              "      <td>0.006159</td>\n",
              "      <td>2002Q2</td>\n",
              "    </tr>\n",
              "    <tr>\n",
              "      <th>2</th>\n",
              "      <td>2002-09-30</td>\n",
              "      <td>0.004029</td>\n",
              "      <td>2002Q3</td>\n",
              "    </tr>\n",
              "    <tr>\n",
              "      <th>3</th>\n",
              "      <td>2002-12-31</td>\n",
              "      <td>0.001308</td>\n",
              "      <td>2002Q4</td>\n",
              "    </tr>\n",
              "    <tr>\n",
              "      <th>4</th>\n",
              "      <td>2003-03-31</td>\n",
              "      <td>0.005166</td>\n",
              "      <td>2003Q1</td>\n",
              "    </tr>\n",
              "  </tbody>\n",
              "</table>\n",
              "</div>\n",
              "      <button class=\"colab-df-convert\" onclick=\"convertToInteractive('df-a6bc6192-8894-4ba5-83cb-1b8a6bf50df5')\"\n",
              "              title=\"Convert this dataframe to an interactive table.\"\n",
              "              style=\"display:none;\">\n",
              "        \n",
              "  <svg xmlns=\"http://www.w3.org/2000/svg\" height=\"24px\"viewBox=\"0 0 24 24\"\n",
              "       width=\"24px\">\n",
              "    <path d=\"M0 0h24v24H0V0z\" fill=\"none\"/>\n",
              "    <path d=\"M18.56 5.44l.94 2.06.94-2.06 2.06-.94-2.06-.94-.94-2.06-.94 2.06-2.06.94zm-11 1L8.5 8.5l.94-2.06 2.06-.94-2.06-.94L8.5 2.5l-.94 2.06-2.06.94zm10 10l.94 2.06.94-2.06 2.06-.94-2.06-.94-.94-2.06-.94 2.06-2.06.94z\"/><path d=\"M17.41 7.96l-1.37-1.37c-.4-.4-.92-.59-1.43-.59-.52 0-1.04.2-1.43.59L10.3 9.45l-7.72 7.72c-.78.78-.78 2.05 0 2.83L4 21.41c.39.39.9.59 1.41.59.51 0 1.02-.2 1.41-.59l7.78-7.78 2.81-2.81c.8-.78.8-2.07 0-2.86zM5.41 20L4 18.59l7.72-7.72 1.47 1.35L5.41 20z\"/>\n",
              "  </svg>\n",
              "      </button>\n",
              "      \n",
              "  <style>\n",
              "    .colab-df-container {\n",
              "      display:flex;\n",
              "      flex-wrap:wrap;\n",
              "      gap: 12px;\n",
              "    }\n",
              "\n",
              "    .colab-df-convert {\n",
              "      background-color: #E8F0FE;\n",
              "      border: none;\n",
              "      border-radius: 50%;\n",
              "      cursor: pointer;\n",
              "      display: none;\n",
              "      fill: #1967D2;\n",
              "      height: 32px;\n",
              "      padding: 0 0 0 0;\n",
              "      width: 32px;\n",
              "    }\n",
              "\n",
              "    .colab-df-convert:hover {\n",
              "      background-color: #E2EBFA;\n",
              "      box-shadow: 0px 1px 2px rgba(60, 64, 67, 0.3), 0px 1px 3px 1px rgba(60, 64, 67, 0.15);\n",
              "      fill: #174EA6;\n",
              "    }\n",
              "\n",
              "    [theme=dark] .colab-df-convert {\n",
              "      background-color: #3B4455;\n",
              "      fill: #D2E3FC;\n",
              "    }\n",
              "\n",
              "    [theme=dark] .colab-df-convert:hover {\n",
              "      background-color: #434B5C;\n",
              "      box-shadow: 0px 1px 3px 1px rgba(0, 0, 0, 0.15);\n",
              "      filter: drop-shadow(0px 1px 2px rgba(0, 0, 0, 0.3));\n",
              "      fill: #FFFFFF;\n",
              "    }\n",
              "  </style>\n",
              "\n",
              "      <script>\n",
              "        const buttonEl =\n",
              "          document.querySelector('#df-a6bc6192-8894-4ba5-83cb-1b8a6bf50df5 button.colab-df-convert');\n",
              "        buttonEl.style.display =\n",
              "          google.colab.kernel.accessAllowed ? 'block' : 'none';\n",
              "\n",
              "        async function convertToInteractive(key) {\n",
              "          const element = document.querySelector('#df-a6bc6192-8894-4ba5-83cb-1b8a6bf50df5');\n",
              "          const dataTable =\n",
              "            await google.colab.kernel.invokeFunction('convertToInteractive',\n",
              "                                                     [key], {});\n",
              "          if (!dataTable) return;\n",
              "\n",
              "          const docLinkHtml = 'Like what you see? Visit the ' +\n",
              "            '<a target=\"_blank\" href=https://colab.research.google.com/notebooks/data_table.ipynb>data table notebook</a>'\n",
              "            + ' to learn more about interactive tables.';\n",
              "          element.innerHTML = '';\n",
              "          dataTable['output_type'] = 'display_data';\n",
              "          await google.colab.output.renderOutput(dataTable, element);\n",
              "          const docLink = document.createElement('div');\n",
              "          docLink.innerHTML = docLinkHtml;\n",
              "          element.appendChild(docLink);\n",
              "        }\n",
              "      </script>\n",
              "    </div>\n",
              "  </div>\n",
              "  "
            ],
            "text/plain": [
              "        date  real_gdp_QoQ quarter\n",
              "0 2002-03-31           NaN  2002Q1\n",
              "1 2002-06-30      0.006159  2002Q2\n",
              "2 2002-09-30      0.004029  2002Q3\n",
              "3 2002-12-31      0.001308  2002Q4\n",
              "4 2003-03-31      0.005166  2003Q1"
            ]
          },
          "metadata": {},
          "execution_count": 20
        }
      ]
    },
    {
      "cell_type": "markdown",
      "source": [
        "### Step 5: Acquire monthly unemployment data."
      ],
      "metadata": {
        "id": "XGtKY9_W_fh9"
      }
    },
    {
      "cell_type": "code",
      "source": [
        "unemployment_data = pd.read_csv('/content/other_data/unemployment.csv')\n",
        "\n",
        "unemployment_data = unemployment_data[['date', 'unemployment']]\n",
        "\n",
        "# filling missing data\n",
        "unemployment_data = unemployment_data.fillna(method='ffill')\n",
        "\n",
        "# convert data format\n",
        "unemployment_data['date'] = pd.to_datetime(unemployment_data.date)\n",
        "unemployment_data = unemployment_data[unemployment_data['date'] < pd.Timestamp(2020,1,1)]\n",
        "unemployment_data['unemployment_MoM'] = unemployment_data['unemployment'].pct_change(1)\n",
        "unemployment_data = unemployment_data.drop(columns=['unemployment'])\n",
        "\n",
        "# add month column\n",
        "unemployment_data['month'] = unemployment_data['date'].dt.to_period('M')\n",
        "\n",
        "unemployment_data.head()"
      ],
      "metadata": {
        "colab": {
          "base_uri": "https://localhost:8080/",
          "height": 206
        },
        "id": "EA6D5uiQ_foE",
        "outputId": "20247b8e-6f83-442b-bac6-9b26a3c88366"
      },
      "execution_count": 21,
      "outputs": [
        {
          "output_type": "execute_result",
          "data": {
            "text/html": [
              "\n",
              "  <div id=\"df-cd4dc90a-89d5-4860-b429-87d598d37429\">\n",
              "    <div class=\"colab-df-container\">\n",
              "      <div>\n",
              "<style scoped>\n",
              "    .dataframe tbody tr th:only-of-type {\n",
              "        vertical-align: middle;\n",
              "    }\n",
              "\n",
              "    .dataframe tbody tr th {\n",
              "        vertical-align: top;\n",
              "    }\n",
              "\n",
              "    .dataframe thead th {\n",
              "        text-align: right;\n",
              "    }\n",
              "</style>\n",
              "<table border=\"1\" class=\"dataframe\">\n",
              "  <thead>\n",
              "    <tr style=\"text-align: right;\">\n",
              "      <th></th>\n",
              "      <th>date</th>\n",
              "      <th>unemployment_MoM</th>\n",
              "      <th>month</th>\n",
              "    </tr>\n",
              "  </thead>\n",
              "  <tbody>\n",
              "    <tr>\n",
              "      <th>0</th>\n",
              "      <td>2002-01-31</td>\n",
              "      <td>NaN</td>\n",
              "      <td>2002-01</td>\n",
              "    </tr>\n",
              "    <tr>\n",
              "      <th>1</th>\n",
              "      <td>2002-02-28</td>\n",
              "      <td>0.000000</td>\n",
              "      <td>2002-02</td>\n",
              "    </tr>\n",
              "    <tr>\n",
              "      <th>2</th>\n",
              "      <td>2002-03-31</td>\n",
              "      <td>0.000000</td>\n",
              "      <td>2002-03</td>\n",
              "    </tr>\n",
              "    <tr>\n",
              "      <th>3</th>\n",
              "      <td>2002-04-30</td>\n",
              "      <td>0.035088</td>\n",
              "      <td>2002-04</td>\n",
              "    </tr>\n",
              "    <tr>\n",
              "      <th>4</th>\n",
              "      <td>2002-05-31</td>\n",
              "      <td>-0.016949</td>\n",
              "      <td>2002-05</td>\n",
              "    </tr>\n",
              "  </tbody>\n",
              "</table>\n",
              "</div>\n",
              "      <button class=\"colab-df-convert\" onclick=\"convertToInteractive('df-cd4dc90a-89d5-4860-b429-87d598d37429')\"\n",
              "              title=\"Convert this dataframe to an interactive table.\"\n",
              "              style=\"display:none;\">\n",
              "        \n",
              "  <svg xmlns=\"http://www.w3.org/2000/svg\" height=\"24px\"viewBox=\"0 0 24 24\"\n",
              "       width=\"24px\">\n",
              "    <path d=\"M0 0h24v24H0V0z\" fill=\"none\"/>\n",
              "    <path d=\"M18.56 5.44l.94 2.06.94-2.06 2.06-.94-2.06-.94-.94-2.06-.94 2.06-2.06.94zm-11 1L8.5 8.5l.94-2.06 2.06-.94-2.06-.94L8.5 2.5l-.94 2.06-2.06.94zm10 10l.94 2.06.94-2.06 2.06-.94-2.06-.94-.94-2.06-.94 2.06-2.06.94z\"/><path d=\"M17.41 7.96l-1.37-1.37c-.4-.4-.92-.59-1.43-.59-.52 0-1.04.2-1.43.59L10.3 9.45l-7.72 7.72c-.78.78-.78 2.05 0 2.83L4 21.41c.39.39.9.59 1.41.59.51 0 1.02-.2 1.41-.59l7.78-7.78 2.81-2.81c.8-.78.8-2.07 0-2.86zM5.41 20L4 18.59l7.72-7.72 1.47 1.35L5.41 20z\"/>\n",
              "  </svg>\n",
              "      </button>\n",
              "      \n",
              "  <style>\n",
              "    .colab-df-container {\n",
              "      display:flex;\n",
              "      flex-wrap:wrap;\n",
              "      gap: 12px;\n",
              "    }\n",
              "\n",
              "    .colab-df-convert {\n",
              "      background-color: #E8F0FE;\n",
              "      border: none;\n",
              "      border-radius: 50%;\n",
              "      cursor: pointer;\n",
              "      display: none;\n",
              "      fill: #1967D2;\n",
              "      height: 32px;\n",
              "      padding: 0 0 0 0;\n",
              "      width: 32px;\n",
              "    }\n",
              "\n",
              "    .colab-df-convert:hover {\n",
              "      background-color: #E2EBFA;\n",
              "      box-shadow: 0px 1px 2px rgba(60, 64, 67, 0.3), 0px 1px 3px 1px rgba(60, 64, 67, 0.15);\n",
              "      fill: #174EA6;\n",
              "    }\n",
              "\n",
              "    [theme=dark] .colab-df-convert {\n",
              "      background-color: #3B4455;\n",
              "      fill: #D2E3FC;\n",
              "    }\n",
              "\n",
              "    [theme=dark] .colab-df-convert:hover {\n",
              "      background-color: #434B5C;\n",
              "      box-shadow: 0px 1px 3px 1px rgba(0, 0, 0, 0.15);\n",
              "      filter: drop-shadow(0px 1px 2px rgba(0, 0, 0, 0.3));\n",
              "      fill: #FFFFFF;\n",
              "    }\n",
              "  </style>\n",
              "\n",
              "      <script>\n",
              "        const buttonEl =\n",
              "          document.querySelector('#df-cd4dc90a-89d5-4860-b429-87d598d37429 button.colab-df-convert');\n",
              "        buttonEl.style.display =\n",
              "          google.colab.kernel.accessAllowed ? 'block' : 'none';\n",
              "\n",
              "        async function convertToInteractive(key) {\n",
              "          const element = document.querySelector('#df-cd4dc90a-89d5-4860-b429-87d598d37429');\n",
              "          const dataTable =\n",
              "            await google.colab.kernel.invokeFunction('convertToInteractive',\n",
              "                                                     [key], {});\n",
              "          if (!dataTable) return;\n",
              "\n",
              "          const docLinkHtml = 'Like what you see? Visit the ' +\n",
              "            '<a target=\"_blank\" href=https://colab.research.google.com/notebooks/data_table.ipynb>data table notebook</a>'\n",
              "            + ' to learn more about interactive tables.';\n",
              "          element.innerHTML = '';\n",
              "          dataTable['output_type'] = 'display_data';\n",
              "          await google.colab.output.renderOutput(dataTable, element);\n",
              "          const docLink = document.createElement('div');\n",
              "          docLink.innerHTML = docLinkHtml;\n",
              "          element.appendChild(docLink);\n",
              "        }\n",
              "      </script>\n",
              "    </div>\n",
              "  </div>\n",
              "  "
            ],
            "text/plain": [
              "        date  unemployment_MoM    month\n",
              "0 2002-01-31               NaN  2002-01\n",
              "1 2002-02-28          0.000000  2002-02\n",
              "2 2002-03-31          0.000000  2002-03\n",
              "3 2002-04-30          0.035088  2002-04\n",
              "4 2002-05-31         -0.016949  2002-05"
            ]
          },
          "metadata": {},
          "execution_count": 21
        }
      ]
    },
    {
      "cell_type": "markdown",
      "source": [
        "### Step 6: Merge all other data into a single dataframe.  "
      ],
      "metadata": {
        "id": "cy945R7j_oSu"
      }
    },
    {
      "cell_type": "code",
      "source": [
        "all_other_data = stockindex_data.merge(tbond_data, left_on='date', right_on='date', how='left')\n",
        "all_other_data = all_other_data.merge(forex_data, left_on='date', right_on='date', how='left')\n",
        "all_other_data = all_other_data.merge(gdp_data, left_on='quarter', right_on='quarter', how='left')\n",
        "all_other_data = all_other_data.merge(unemployment_data, left_on='month', right_on='month', how='left')\n",
        "\n",
        "all_other_data = all_other_data.drop(columns=['date_x', 'date_y'])\n",
        "all_other_data = all_other_data.dropna()\n",
        "\n",
        "all_other_data.info()"
      ],
      "metadata": {
        "colab": {
          "base_uri": "https://localhost:8080/"
        },
        "id": "rqBgWTdK_odY",
        "outputId": "f2ee52dd-8182-43f9-9fcb-ad92d5ccbc29"
      },
      "execution_count": 22,
      "outputs": [
        {
          "output_type": "stream",
          "name": "stdout",
          "text": [
            "<class 'pandas.core.frame.DataFrame'>\n",
            "Int64Index: 4438 entries, 63 to 4682\n",
            "Data columns (total 20 columns):\n",
            " #   Column            Non-Null Count  Dtype         \n",
            "---  ------            --------------  -----         \n",
            " 0   quarter           4438 non-null   period[Q-DEC] \n",
            " 1   month             4438 non-null   period[M]     \n",
            " 2   FTSE100_DoD       4438 non-null   float64       \n",
            " 3   DAX_DoD           4438 non-null   float64       \n",
            " 4   CAC_DoD           4438 non-null   float64       \n",
            " 5   Nikkei225_DoD     4438 non-null   float64       \n",
            " 6   Hang_Seng_DoD     4438 non-null   float64       \n",
            " 7   SHSZ300_DoD       4438 non-null   float64       \n",
            " 8   3M_DoD            4438 non-null   float64       \n",
            " 9   1Y_DoD            4438 non-null   float64       \n",
            " 10  10Y_DoD           4438 non-null   float64       \n",
            " 11  USDGBP_DoD        4438 non-null   float64       \n",
            " 12  USDEUR_DoD        4438 non-null   float64       \n",
            " 13  USDJPY_DoD        4438 non-null   float64       \n",
            " 14  USDHKD_DoD        4438 non-null   float64       \n",
            " 15  USDAUD_DoD        4438 non-null   float64       \n",
            " 16  USDCAD_DoD        4438 non-null   float64       \n",
            " 17  real_gdp_QoQ      4438 non-null   float64       \n",
            " 18  date              4438 non-null   datetime64[ns]\n",
            " 19  unemployment_MoM  4438 non-null   float64       \n",
            "dtypes: datetime64[ns](1), float64(17), period[M](1), period[Q-DEC](1)\n",
            "memory usage: 728.1 KB\n"
          ]
        }
      ]
    },
    {
      "cell_type": "markdown",
      "source": [
        "# Section 5: Combine stock price with all other data to create mega_data.  "
      ],
      "metadata": {
        "id": "9MsN8589BM4b"
      }
    },
    {
      "cell_type": "markdown",
      "source": [
        "### Step 1: Prepare stock data for integration.  "
      ],
      "metadata": {
        "id": "1KSk49oWG6lG"
      }
    },
    {
      "cell_type": "code",
      "source": [
        "from pyspark.sql import functions as F\n",
        "from pyspark.sql.window import Window\n",
        "\n",
        "price_window = Window.partitionBy(\"symbol\").orderBy(\"symbol\")\n",
        "stock_data_2002_2019_sdf = stock_data_2002_2019_sdf.withColumn(\"prev_price\", F.lead(stock_data_2002_2019_sdf.adjusted_close).over(price_window))\n",
        "stock_data_2002_2019_sdf = stock_data_2002_2019_sdf.withColumn(\"price_DoD\", F.when(F.isnull(stock_data_2002_2019_sdf.adjusted_close - stock_data_2002_2019_sdf.prev_price), 0).otherwise((stock_data_2002_2019_sdf.adjusted_close - stock_data_2002_2019_sdf.prev_price)/stock_data_2002_2019_sdf.prev_price))\n",
        "\n",
        "stock_data_2002_2019_sdf.show()\n"
      ],
      "metadata": {
        "colab": {
          "base_uri": "https://localhost:8080/"
        },
        "id": "JrbT7cyrBVkR",
        "outputId": "2b8cb791-5760-4bdf-a487-94d1b0ba526b"
      },
      "execution_count": 23,
      "outputs": [
        {
          "output_type": "stream",
          "name": "stdout",
          "text": [
            "+------+----------+--------------+-------+-------------------+----+-------------+--------------------+\n",
            "|symbol| timestamp|adjusted_close| volume|    timestamp_as_dt|year|   prev_price|           price_DoD|\n",
            "+------+----------+--------------+-------+-------------------+----+-------------+--------------------+\n",
            "|   ABM|2019-12-31| 36.4209157617| 285355|2019-12-31 00:00:00|2019|36.8774386535|-0.01237946312078...|\n",
            "|   ABM|2019-12-30| 36.8774386535| 226209|2019-12-30 00:00:00|2019|37.0023817608|-0.00337662337812...|\n",
            "|   ABM|2019-12-27| 37.0023817608| 241733|2019-12-27 00:00:00|2019|37.1177138598|-0.00310719834296...|\n",
            "|   ABM|2019-12-26| 37.1177138598| 357479|2019-12-26 00:00:00|2019|36.7140515133|0.010994764398414835|\n",
            "|   ABM|2019-12-24| 36.7140515133| 166650|2019-12-24 00:00:00|2019|36.2719451338|0.012188659248053945|\n",
            "|   ABM|2019-12-23| 36.2719451338| 519962|2019-12-23 00:00:00|2019|37.1946019258|-0.02480620155152132|\n",
            "|   ABM|2019-12-20| 37.1946019258|1423851|2019-12-20 00:00:00|2019|37.4444881402|-0.00667351129128...|\n",
            "|   ABM|2019-12-19| 37.4444881402|1099887|2019-12-19 00:00:00|2019|36.1470020266|0.035894708851516986|\n",
            "|   ABM|2019-12-18| 36.1470020266| 733004|2019-12-18 00:00:00|2019|35.6376185893|0.014293419635310362|\n",
            "|   ABM|2019-12-17| 35.6376185893| 463820|2019-12-17 00:00:00|2019|36.0220589193|-0.01067235859175...|\n",
            "|   ABM|2019-12-16| 36.0220589193| 443653|2019-12-16 00:00:00|2019|35.6472295976|0.010514963601133092|\n",
            "|   ABM|2019-12-13| 35.6472295976| 355037|2019-12-13 00:00:00|2019| 36.473776307|-0.02266139657278...|\n",
            "|   ABM|2019-12-12|  36.473776307| 263648|2019-12-12 00:00:00|2019|36.6467744555|-0.00472069236843...|\n",
            "|   ABM|2019-12-11| 36.6467744555| 185874|2019-12-11 00:00:00|2019| 36.589108406|0.001576044129310...|\n",
            "|   ABM|2019-12-10|  36.589108406| 197232|2019-12-10 00:00:00|2019|36.6756074803|-0.00235849056751...|\n",
            "|   ABM|2019-12-09| 36.6756074803| 322062|2019-12-09 00:00:00|2019|36.6563854638|5.243838490018341E-4|\n",
            "|   ABM|2019-12-06| 36.6563854638| 281670|2019-12-06 00:00:00|2019|36.1950570678|0.012745618694172688|\n",
            "|   ABM|2019-12-05| 36.1950570678| 239984|2019-12-05 00:00:00|2019|36.0989469853|0.002662406815886...|\n",
            "|   ABM|2019-12-04| 36.0989469853| 239344|2019-12-04 00:00:00|2019|36.1566130348|-0.00159489633181...|\n",
            "|   ABM|2019-12-03| 36.1566130348| 160156|2019-12-03 00:00:00|2019|36.2527231173|-0.00265111346778...|\n",
            "+------+----------+--------------+-------+-------------------+----+-------------+--------------------+\n",
            "only showing top 20 rows\n",
            "\n"
          ]
        }
      ]
    },
    {
      "cell_type": "markdown",
      "source": [
        "### Step 2: Integration by joining stock data with all other data.  "
      ],
      "metadata": {
        "id": "uwbAqm84HCCd"
      }
    },
    {
      "cell_type": "code",
      "source": [
        "all_other_data_sdf = spark.createDataFrame(all_other_data) \n",
        "\n",
        "stock_data_2002_2019_sdf.createOrReplaceTempView(\"stock_data_0219_596\")\n",
        "all_other_data_sdf.createOrReplaceTempView(\"all_other_data\")\n",
        "\n",
        "mega_data_sdf = spark.sql(\n",
        "    \"\"\"\n",
        "    SELECT stock_data_0219_596.symbol, stock_data_0219_596.timestamp_as_dt, stock_data_0219_596.adjusted_close, stock_data_0219_596.price_DoD, all_other_data.*\n",
        "    FROM stock_data_0219_596\n",
        "    LEFT JOIN all_other_data\n",
        "      ON stock_data_0219_596.timestamp_as_dt = all_other_data.date;\n",
        "    \"\"\"\n",
        ")\n",
        "\n",
        "mega_data_sdf.show()\n"
      ],
      "metadata": {
        "colab": {
          "base_uri": "https://localhost:8080/"
        },
        "id": "gBGRMoWVHCOt",
        "outputId": "d619b4ba-07d9-4c68-9977-a355c6b539cb"
      },
      "execution_count": 24,
      "outputs": [
        {
          "output_type": "stream",
          "name": "stdout",
          "text": [
            "+------+-------------------+--------------+--------------------+-------+-----+--------------------+--------------------+--------------------+--------------------+--------------------+--------------------+--------------------+--------------------+--------------------+--------------------+--------------------+--------------------+--------------------+--------------------+--------------------+--------------------+-------------------+----------------+\n",
            "|symbol|    timestamp_as_dt|adjusted_close|           price_DoD|quarter|month|         FTSE100_DoD|             DAX_DoD|             CAC_DoD|       Nikkei225_DoD|       Hang_Seng_DoD|         SHSZ300_DoD|              3M_DoD|              1Y_DoD|             10Y_DoD|          USDGBP_DoD|          USDEUR_DoD|          USDJPY_DoD|          USDHKD_DoD|          USDAUD_DoD|          USDCAD_DoD|        real_gdp_QoQ|               date|unemployment_MoM|\n",
            "+------+-------------------+--------------+--------------------+-------+-----+--------------------+--------------------+--------------------+--------------------+--------------------+--------------------+--------------------+--------------------+--------------------+--------------------+--------------------+--------------------+--------------------+--------------------+--------------------+--------------------+-------------------+----------------+\n",
            "|   ABM|2019-12-31 00:00:00| 36.4209157617|-0.01237946312078...|     {}|   {}|-0.00587975563624...|                 0.0|-6.95394017605433E-4|                 0.0|-0.00457778221917...|0.003662752380789...|-0.01273885350318471| 0.01273885350318471|0.010526315789473717|-0.00432900432900...|-0.00212670696216...|-0.00549752611324...|2.568548128167869E-5|-0.00216843872411...|-0.00283156041937...|0.004687982336352148|2019-12-31 00:00:00|             0.0|\n",
            "|   ABM|2019-12-31 00:00:00| 36.4209157617|-0.01237946312078...|     {}|   {}|-0.00756713626077...|-0.00660562895559...|-0.00913805468919...|-0.00759720308821...|0.003329268439584032| 0.01481838772957933|                 0.0|0.039735099337748325|0.010638297872340496|-0.00287769784172...|-0.00145300100592...|-0.00274122807017...|-7.70505066070015...|-0.00216374677182...|-9.17501338022819...|0.004687982336352148|2019-12-31 00:00:00|             0.0|\n",
            "|   ABM|2019-12-31 00:00:00| 36.4209157617|-0.01237946312078...|     {}|   {}|0.001658752869406...|0.002716341201926653|0.001300262872022...|-0.00364473528020...|0.012963224150263075|-9.83609000518970...|-0.00632911392405...|-0.01307189542483...|-0.01052631578947...|-0.00855920114122688|-0.00820308169825...|-0.00100410771337...|-2.56828425770905...|-0.00823757441506301|-0.00570168769955...|0.004687982336352148|2019-12-31 00:00:00|             0.0|\n",
            "|   ABM|2019-12-31 00:00:00| 36.4209157617|-0.01237946312078...|     {}|   {}|                 0.0|                 0.0|                 0.0|0.005972786295346255|                 0.0|0.008800086196744106|                 0.0|                 0.0|                 0.0|0.018895348837209225|7.765697803416849E-4|0.001371115173674...|-3.85094283917197...|-8.29990316779549...|-7.59647523549178...|0.004687982336352148|2019-12-31 00:00:00|             0.0|\n",
            "|   ABM|2019-12-31 00:00:00| 36.4209157617|-0.01237946312078...|     {}|   {}|0.001134636044173...|                 0.0|2.985386532916578...|3.975465458998517E-4|-0.00151219737687...|0.006518615613420...|-0.00628930817610...|                 0.0|-0.01554404145077...|0.002854918245523086|9.974509586612168E-4|1.828320687449203E-4|7.705446466421684E-5|4.844961240308976E-4|9.885179834234759E-4|0.004687982336352148|2019-12-31 00:00:00|             0.0|\n",
            "|   ABM|2019-12-31 00:00:00| 36.4209157617|-0.01237946312078...|     {}|   {}| 0.00542170899230876|-0.00134545645661...|0.001301994675771...|1.881038585223038...|0.001257922562057...|-0.01248366419814...|0.006329113924050667|0.006578947368421018|0.005208333333333259|0.001820072802912076|-4.43115099146962...|-4.56871345029252...|-0.00112885639150...|-0.00324249741290...|-7.59820682319056...|0.004687982336352148|2019-12-31 00:00:00|             0.0|\n",
            "|   ABM|2019-12-31 00:00:00| 36.4209157617|-0.01237946312078...|     {}|   {}|0.001143412439165381|0.008094181332671369|0.008246431848473179|-0.00202054485990...|0.002548875937078643|-0.00245831419241...|0.006369426751592355|                 0.0|                 0.0|0.007861635220125729|0.005905950523735104|-7.30460189919623...|-3.84689363339130...|-0.00336908690869...|0.003354425554623841|0.004687982336352148|2019-12-31 00:00:00|             0.0|\n",
            "|   ABM|2019-12-31 00:00:00| 36.4209157617|-0.01237946312078...|     {}|   {}|0.004385505420548386|-7.71432201697841...|0.002127659574467...|-0.00290710913107195|-0.00300241606271...|-0.00139605929408...|0.006410256410256...|-0.01298701298701...|                 0.0|-5.23834468307948...|-8.90670229347634...|5.481454412570308E-4|0.001181107416584...|-0.00315284441398...|-0.00243364514411...|0.004687982336352148|2019-12-31 00:00:00|             0.0|\n",
            "|   ABM|2019-12-31 00:00:00| 36.4209157617|-0.01237946312078...|     {}|   {}|0.002055737460931...|-0.00494211620708...|-0.00145100917185...|-0.00547200795142...|0.001454547544131...|-0.00223167895492...|                 0.0|0.006535947712418277|0.015873015873015817|0.008452192287374594|0.002343488449949...|-8.21542674577902E-4|                 0.0|-4.79550592587418...|-0.00159453302961...|0.004687982336352148|2019-12-31 00:00:00|             0.0|\n",
            "|   ABM|2019-12-31 00:00:00| 36.4209157617|-0.01237946312078...|     {}|   {}|8.285621188846015E-4|-0.00893742830590...|-0.00390542854567...|0.004749847092247794|0.012200774390370261|0.013604845080312566|-0.00636942675159...|-0.00649350649350...|                 0.0|0.012028869286287103|-0.00189351748719091|0.001188082617437...|-2.05367800895861...|0.004887787415668532|0.002817330389096151|0.004687982336352148|2019-12-31 00:00:00|             0.0|\n",
            "|   ABM|2019-12-31 00:00:00| 36.4209157617|-0.01237946312078...|     {}|   {}|0.022521432146043185|0.009406205957815938|0.012272301833749388|-0.00294508202521...|-0.00648914899580...| 0.00487120169748656|                 0.0|                 0.0|0.038461538461538325|-0.00279888044782...|-0.00144589033477...|3.656975681112229E-4|-8.07982352639458...|-0.00123762376237...|-0.00250645602308...|0.004687982336352148|2019-12-31 00:00:00|             0.0|\n",
            "|   ABM|2019-12-31 00:00:00| 36.4209157617|-0.01237946312078...|     {}|   {}|0.010994752160935484|0.004619699220369089|0.005907284858249...|0.025540868848028975| 0.02569520644110157| 0.01984055594676959|0.006410256410256...|-0.00645161290322...|-0.04210526315789...|-0.00989707046714...|5.564210994881691E-4|0.006718821905200123|-0.00111454156471...|0.001308089500860...|-3.03720577069066...|0.004687982336352148|2019-12-31 00:00:00|             0.0|\n",
            "|   ABM|2019-12-31 00:00:00| 36.4209157617|-0.01237946312078...|     {}|   {}|0.007929326173566675|0.005697229883605992|0.003989162037100202|0.001408609661651461|0.013087047197211543|-0.00300557299340...|-0.00636942675159...|                 0.0| 0.06145251396648033|-0.00315706393054...|-0.00410063171894...|-1.84043434250491...|-7.68058986930109...|-0.00704129067541...|-0.00506156984210937|0.004687982336352148|2019-12-31 00:00:00|             0.0|\n",
            "|   ABM|2019-12-31 00:00:00| 36.4209157617|-0.01237946312078...|     {}|   {}|3.451736681008288...|0.005816052979483954|0.002197321149173481|-7.82992363581813...|0.007898513501347848|6.076331024156278E-4|0.006410256410256...|-0.00641025641025...|-0.03243243243243...|0.001713005666095...|-5.53832521045682...|9.210647508519632E-4|-0.00177617623757...|-0.00313479623824...|-7.55401117993326...|0.004687982336352148|2019-12-31 00:00:00|             0.0|\n",
            "|   ABM|2019-12-31 00:00:00| 36.4209157617|-0.01237946312078...|     {}|   {}|-0.00278411368694...|-0.00266221869871...|0.001846760032549577|-8.75347300763662...|-0.00219326635900...|0.001265579073021...|0.012987012987013102|                 0.0|0.010928961748633892|-6.58414537792917...|-5.53525960367506...|8.296460176990816E-4|-2.81042411854892...|0.001569858712715...|-0.00158382985142...|0.004687982336352148|2019-12-31 00:00:00|             0.0|\n",
            "|   ABM|2019-12-31 00:00:00| 36.4209157617|-0.01237946312078...|     {}|   {}|-7.95617473748788...|-0.00463066339170...|-0.00590267902607...|0.003267050320282...|-1.37366939928718...|-0.00177839734111...|0.006535947712418277|-0.00636942675159...|-0.00543478260869...|-0.00210249671484...|-6.63790242283468...|-9.20979922637621...|-2.17121984239399E-4|0.002394636015325746|3.017729158809601E-4|0.004687982336352148|2019-12-31 00:00:00|             0.0|\n",
            "|   ABM|2019-12-31 00:00:00| 36.4209157617|-0.01237946312078...|     {}|   {}|  0.0142633986424483|0.008562367864693554|0.012127793434513201|0.002330892284107211|0.010730807139173626|0.005936546234430...|-0.00649350649350...|0.006410256410256...|0.022222222222222143|-3.94062787337445...|0.002328675981370...|-0.00330457132366...|7.663716135941634E-5|-0.00177571370031...|0.005690440060697...|0.004687982336352148|2019-12-31 00:00:00|             0.0|\n",
            "|   ABM|2019-12-31 00:00:00| 36.4209157617|-0.01237946312078...|     {}|   {}|-0.00704597621200...|-0.00652711412062...|3.224315824321699...|0.007125928724287...|0.005927276522337044|0.007673086014410968|-0.00645161290322...|                 0.0|0.016949152542372836|-0.00665448851774...|-0.00132890365448...|0.002576845205227274|3.832004904968933E-5|-6.82920166632516...|-0.00767956633037...|0.004687982336352148|2019-12-31 00:00:00|             0.0|\n",
            "|   ABM|2019-12-31 00:00:00| 36.4209157617|-0.01237946312078...|     {}|   {}|0.004154350753482472|0.011646518015996143|0.012651862509210465|-0.01046116285803...|-0.01245637766991392|-3.29776764500411...|-0.01273885350318471|-0.00636942675159...|0.029069767441860517|-0.00480457083495...|-1.10729708780898...|-0.00183722212015...|3.832151753213608...|0.002395947426067746|-0.00135338345864...|0.004687982336352148|2019-12-31 00:00:00|             0.0|\n",
            "|   ABM|2019-12-31 00:00:00| 36.4209157617|-0.01237946312078...|     {}|   {}|-0.01745553765197072|0.001898234279596...|-0.01028558393845...|-0.00636180114324...|-0.00202006298421...|0.003918082616017449|-0.01875000000000...|-0.01875000000000...|-0.06010928961748...|-0.00657894736842...|-0.00550600154168...|-0.00711419190076612|1.277400235033532...|-0.00821508588498876|0.001129092961987...|0.004687982336352148|2019-12-31 00:00:00|             0.0|\n",
            "+------+-------------------+--------------+--------------------+-------+-----+--------------------+--------------------+--------------------+--------------------+--------------------+--------------------+--------------------+--------------------+--------------------+--------------------+--------------------+--------------------+--------------------+--------------------+--------------------+--------------------+-------------------+----------------+\n",
            "only showing top 20 rows\n",
            "\n"
          ]
        }
      ]
    },
    {
      "cell_type": "markdown",
      "source": [
        "# Section 6: Run Linear Regression model on mega data.  "
      ],
      "metadata": {
        "id": "UxsKzNdtQSLU"
      }
    },
    {
      "cell_type": "markdown",
      "source": [
        "### Step 1: Split the data into features and label"
      ],
      "metadata": {
        "id": "Fgnw67-WQ5B-"
      }
    },
    {
      "cell_type": "code",
      "source": [
        "label = mega_data_sdf['price_DoD']\n",
        "features = mega_data_sdf['FTSE100_DoD', 'DAX_DoD', 'CAC_DoD', 'Nikkei225_DoD', 'Hang_Seng_DoD', 'SHSZ300_DoD', '3M_DoD', '1Y_DoD', '10Y_DoD', \n",
        "                           'USDGBP_DoD', 'USDEUR_DoD', 'USDJPY_DoD', 'USDHKD_DoD', 'USDAUD_DoD', 'USDCAD_DoD', 'real_gdp_QoQ', 'unemployment_MoM']\n",
        "\n",
        "train_sdf, test_sdf = mega_data_sdf.randomSplit([0.8, 0.2])\n",
        "\n",
        "from pyspark.ml.feature import StringIndexer, VectorAssembler\n",
        "assembler = VectorAssembler(inputCols=features, outputCol=\"features\", handleInvalid=\"skip\")\n",
        "featured_sdf = assembler.transform(mega_data_sdf)\n"
      ],
      "metadata": {
        "colab": {
          "base_uri": "https://localhost:8080/",
          "height": 518
        },
        "id": "KlCSQ74HQ7WW",
        "outputId": "daeea4f1-df4b-4c5a-ecdd-2cf285ea886d"
      },
      "execution_count": 33,
      "outputs": [
        {
          "output_type": "error",
          "ename": "TypeError",
          "evalue": "ignored",
          "traceback": [
            "\u001b[0;31m---------------------------------------------------------------------------\u001b[0m",
            "\u001b[0;31mTypeError\u001b[0m                                 Traceback (most recent call last)",
            "\u001b[0;32m/usr/local/lib/python3.7/dist-packages/pyspark/ml/param/__init__.py\u001b[0m in \u001b[0;36m_set\u001b[0;34m(self, **kwargs)\u001b[0m\n\u001b[1;32m    463\u001b[0m                 \u001b[0;32mtry\u001b[0m\u001b[0;34m:\u001b[0m\u001b[0;34m\u001b[0m\u001b[0;34m\u001b[0m\u001b[0m\n\u001b[0;32m--> 464\u001b[0;31m                     \u001b[0mvalue\u001b[0m \u001b[0;34m=\u001b[0m \u001b[0mp\u001b[0m\u001b[0;34m.\u001b[0m\u001b[0mtypeConverter\u001b[0m\u001b[0;34m(\u001b[0m\u001b[0mvalue\u001b[0m\u001b[0;34m)\u001b[0m\u001b[0;34m\u001b[0m\u001b[0;34m\u001b[0m\u001b[0m\n\u001b[0m\u001b[1;32m    465\u001b[0m                 \u001b[0;32mexcept\u001b[0m \u001b[0mTypeError\u001b[0m \u001b[0;32mas\u001b[0m \u001b[0me\u001b[0m\u001b[0;34m:\u001b[0m\u001b[0;34m\u001b[0m\u001b[0;34m\u001b[0m\u001b[0m\n",
            "\u001b[0;32m/usr/local/lib/python3.7/dist-packages/pyspark/ml/param/__init__.py\u001b[0m in \u001b[0;36mtoListString\u001b[0;34m(value)\u001b[0m\n\u001b[1;32m    158\u001b[0m                 \u001b[0;32mreturn\u001b[0m \u001b[0;34m[\u001b[0m\u001b[0mTypeConverters\u001b[0m\u001b[0;34m.\u001b[0m\u001b[0mtoString\u001b[0m\u001b[0;34m(\u001b[0m\u001b[0mv\u001b[0m\u001b[0;34m)\u001b[0m \u001b[0;32mfor\u001b[0m \u001b[0mv\u001b[0m \u001b[0;32min\u001b[0m \u001b[0mvalue\u001b[0m\u001b[0;34m]\u001b[0m\u001b[0;34m\u001b[0m\u001b[0;34m\u001b[0m\u001b[0m\n\u001b[0;32m--> 159\u001b[0;31m         \u001b[0;32mraise\u001b[0m \u001b[0mTypeError\u001b[0m\u001b[0;34m(\u001b[0m\u001b[0;34m\"Could not convert %s to list of strings\"\u001b[0m \u001b[0;34m%\u001b[0m \u001b[0mvalue\u001b[0m\u001b[0;34m)\u001b[0m\u001b[0;34m\u001b[0m\u001b[0;34m\u001b[0m\u001b[0m\n\u001b[0m\u001b[1;32m    160\u001b[0m \u001b[0;34m\u001b[0m\u001b[0m\n",
            "\u001b[0;31mTypeError\u001b[0m: Could not convert DataFrame[FTSE100_DoD: double, DAX_DoD: double, CAC_DoD: double, Nikkei225_DoD: double, Hang_Seng_DoD: double, SHSZ300_DoD: double, 3M_DoD: double, 1Y_DoD: double, 10Y_DoD: double, USDGBP_DoD: double, USDEUR_DoD: double, USDJPY_DoD: double, USDHKD_DoD: double, USDAUD_DoD: double, USDCAD_DoD: double, real_gdp_QoQ: double, unemployment_MoM: double] to list of strings",
            "\nDuring handling of the above exception, another exception occurred:\n",
            "\u001b[0;31mTypeError\u001b[0m                                 Traceback (most recent call last)",
            "\u001b[0;32m<ipython-input-33-68cb8d3e5187>\u001b[0m in \u001b[0;36m<module>\u001b[0;34m()\u001b[0m\n\u001b[1;32m      6\u001b[0m \u001b[0;34m\u001b[0m\u001b[0m\n\u001b[1;32m      7\u001b[0m \u001b[0;32mfrom\u001b[0m \u001b[0mpyspark\u001b[0m\u001b[0;34m.\u001b[0m\u001b[0mml\u001b[0m\u001b[0;34m.\u001b[0m\u001b[0mfeature\u001b[0m \u001b[0;32mimport\u001b[0m \u001b[0mStringIndexer\u001b[0m\u001b[0;34m,\u001b[0m \u001b[0mVectorAssembler\u001b[0m\u001b[0;34m\u001b[0m\u001b[0;34m\u001b[0m\u001b[0m\n\u001b[0;32m----> 8\u001b[0;31m \u001b[0massembler\u001b[0m \u001b[0;34m=\u001b[0m \u001b[0mVectorAssembler\u001b[0m\u001b[0;34m(\u001b[0m\u001b[0minputCols\u001b[0m\u001b[0;34m=\u001b[0m\u001b[0mfeatures\u001b[0m\u001b[0;34m,\u001b[0m \u001b[0moutputCol\u001b[0m\u001b[0;34m=\u001b[0m\u001b[0;34m\"features\"\u001b[0m\u001b[0;34m,\u001b[0m \u001b[0mhandleInvalid\u001b[0m\u001b[0;34m=\u001b[0m\u001b[0;34m\"skip\"\u001b[0m\u001b[0;34m)\u001b[0m\u001b[0;34m\u001b[0m\u001b[0;34m\u001b[0m\u001b[0m\n\u001b[0m\u001b[1;32m      9\u001b[0m \u001b[0mfeatured_sdf\u001b[0m \u001b[0;34m=\u001b[0m \u001b[0massembler\u001b[0m\u001b[0;34m.\u001b[0m\u001b[0mtransform\u001b[0m\u001b[0;34m(\u001b[0m\u001b[0mmega_data_sdf\u001b[0m\u001b[0;34m)\u001b[0m\u001b[0;34m\u001b[0m\u001b[0;34m\u001b[0m\u001b[0m\n",
            "\u001b[0;32m/usr/local/lib/python3.7/dist-packages/pyspark/__init__.py\u001b[0m in \u001b[0;36mwrapper\u001b[0;34m(self, *args, **kwargs)\u001b[0m\n\u001b[1;32m    112\u001b[0m             \u001b[0;32mraise\u001b[0m \u001b[0mTypeError\u001b[0m\u001b[0;34m(\u001b[0m\u001b[0;34m\"Method %s forces keyword arguments.\"\u001b[0m \u001b[0;34m%\u001b[0m \u001b[0mfunc\u001b[0m\u001b[0;34m.\u001b[0m\u001b[0m__name__\u001b[0m\u001b[0;34m)\u001b[0m\u001b[0;34m\u001b[0m\u001b[0;34m\u001b[0m\u001b[0m\n\u001b[1;32m    113\u001b[0m         \u001b[0mself\u001b[0m\u001b[0;34m.\u001b[0m\u001b[0m_input_kwargs\u001b[0m \u001b[0;34m=\u001b[0m \u001b[0mkwargs\u001b[0m\u001b[0;34m\u001b[0m\u001b[0;34m\u001b[0m\u001b[0m\n\u001b[0;32m--> 114\u001b[0;31m         \u001b[0;32mreturn\u001b[0m \u001b[0mfunc\u001b[0m\u001b[0;34m(\u001b[0m\u001b[0mself\u001b[0m\u001b[0;34m,\u001b[0m \u001b[0;34m**\u001b[0m\u001b[0mkwargs\u001b[0m\u001b[0;34m)\u001b[0m\u001b[0;34m\u001b[0m\u001b[0;34m\u001b[0m\u001b[0m\n\u001b[0m\u001b[1;32m    115\u001b[0m     \u001b[0;32mreturn\u001b[0m \u001b[0mwrapper\u001b[0m\u001b[0;34m\u001b[0m\u001b[0;34m\u001b[0m\u001b[0m\n\u001b[1;32m    116\u001b[0m \u001b[0;34m\u001b[0m\u001b[0m\n",
            "\u001b[0;32m/usr/local/lib/python3.7/dist-packages/pyspark/ml/feature.py\u001b[0m in \u001b[0;36m__init__\u001b[0;34m(self, inputCols, outputCol, handleInvalid)\u001b[0m\n\u001b[1;32m   4232\u001b[0m         \u001b[0mself\u001b[0m\u001b[0;34m.\u001b[0m\u001b[0m_setDefault\u001b[0m\u001b[0;34m(\u001b[0m\u001b[0mhandleInvalid\u001b[0m\u001b[0;34m=\u001b[0m\u001b[0;34m\"error\"\u001b[0m\u001b[0;34m)\u001b[0m\u001b[0;34m\u001b[0m\u001b[0;34m\u001b[0m\u001b[0m\n\u001b[1;32m   4233\u001b[0m         \u001b[0mkwargs\u001b[0m \u001b[0;34m=\u001b[0m \u001b[0mself\u001b[0m\u001b[0;34m.\u001b[0m\u001b[0m_input_kwargs\u001b[0m\u001b[0;34m\u001b[0m\u001b[0;34m\u001b[0m\u001b[0m\n\u001b[0;32m-> 4234\u001b[0;31m         \u001b[0mself\u001b[0m\u001b[0;34m.\u001b[0m\u001b[0msetParams\u001b[0m\u001b[0;34m(\u001b[0m\u001b[0;34m**\u001b[0m\u001b[0mkwargs\u001b[0m\u001b[0;34m)\u001b[0m\u001b[0;34m\u001b[0m\u001b[0;34m\u001b[0m\u001b[0m\n\u001b[0m\u001b[1;32m   4235\u001b[0m \u001b[0;34m\u001b[0m\u001b[0m\n\u001b[1;32m   4236\u001b[0m     \u001b[0;34m@\u001b[0m\u001b[0mkeyword_only\u001b[0m\u001b[0;34m\u001b[0m\u001b[0;34m\u001b[0m\u001b[0m\n",
            "\u001b[0;32m/usr/local/lib/python3.7/dist-packages/pyspark/__init__.py\u001b[0m in \u001b[0;36mwrapper\u001b[0;34m(self, *args, **kwargs)\u001b[0m\n\u001b[1;32m    112\u001b[0m             \u001b[0;32mraise\u001b[0m \u001b[0mTypeError\u001b[0m\u001b[0;34m(\u001b[0m\u001b[0;34m\"Method %s forces keyword arguments.\"\u001b[0m \u001b[0;34m%\u001b[0m \u001b[0mfunc\u001b[0m\u001b[0;34m.\u001b[0m\u001b[0m__name__\u001b[0m\u001b[0;34m)\u001b[0m\u001b[0;34m\u001b[0m\u001b[0;34m\u001b[0m\u001b[0m\n\u001b[1;32m    113\u001b[0m         \u001b[0mself\u001b[0m\u001b[0;34m.\u001b[0m\u001b[0m_input_kwargs\u001b[0m \u001b[0;34m=\u001b[0m \u001b[0mkwargs\u001b[0m\u001b[0;34m\u001b[0m\u001b[0;34m\u001b[0m\u001b[0m\n\u001b[0;32m--> 114\u001b[0;31m         \u001b[0;32mreturn\u001b[0m \u001b[0mfunc\u001b[0m\u001b[0;34m(\u001b[0m\u001b[0mself\u001b[0m\u001b[0;34m,\u001b[0m \u001b[0;34m**\u001b[0m\u001b[0mkwargs\u001b[0m\u001b[0;34m)\u001b[0m\u001b[0;34m\u001b[0m\u001b[0;34m\u001b[0m\u001b[0m\n\u001b[0m\u001b[1;32m    115\u001b[0m     \u001b[0;32mreturn\u001b[0m \u001b[0mwrapper\u001b[0m\u001b[0;34m\u001b[0m\u001b[0;34m\u001b[0m\u001b[0m\n\u001b[1;32m    116\u001b[0m \u001b[0;34m\u001b[0m\u001b[0m\n",
            "\u001b[0;32m/usr/local/lib/python3.7/dist-packages/pyspark/ml/feature.py\u001b[0m in \u001b[0;36msetParams\u001b[0;34m(self, inputCols, outputCol, handleInvalid)\u001b[0m\n\u001b[1;32m   4242\u001b[0m         \"\"\"\n\u001b[1;32m   4243\u001b[0m         \u001b[0mkwargs\u001b[0m \u001b[0;34m=\u001b[0m \u001b[0mself\u001b[0m\u001b[0;34m.\u001b[0m\u001b[0m_input_kwargs\u001b[0m\u001b[0;34m\u001b[0m\u001b[0;34m\u001b[0m\u001b[0m\n\u001b[0;32m-> 4244\u001b[0;31m         \u001b[0;32mreturn\u001b[0m \u001b[0mself\u001b[0m\u001b[0;34m.\u001b[0m\u001b[0m_set\u001b[0m\u001b[0;34m(\u001b[0m\u001b[0;34m**\u001b[0m\u001b[0mkwargs\u001b[0m\u001b[0;34m)\u001b[0m\u001b[0;34m\u001b[0m\u001b[0;34m\u001b[0m\u001b[0m\n\u001b[0m\u001b[1;32m   4245\u001b[0m \u001b[0;34m\u001b[0m\u001b[0m\n\u001b[1;32m   4246\u001b[0m     \u001b[0;32mdef\u001b[0m \u001b[0msetInputCols\u001b[0m\u001b[0;34m(\u001b[0m\u001b[0mself\u001b[0m\u001b[0;34m,\u001b[0m \u001b[0mvalue\u001b[0m\u001b[0;34m)\u001b[0m\u001b[0;34m:\u001b[0m\u001b[0;34m\u001b[0m\u001b[0;34m\u001b[0m\u001b[0m\n",
            "\u001b[0;32m/usr/local/lib/python3.7/dist-packages/pyspark/ml/param/__init__.py\u001b[0m in \u001b[0;36m_set\u001b[0;34m(self, **kwargs)\u001b[0m\n\u001b[1;32m    464\u001b[0m                     \u001b[0mvalue\u001b[0m \u001b[0;34m=\u001b[0m \u001b[0mp\u001b[0m\u001b[0;34m.\u001b[0m\u001b[0mtypeConverter\u001b[0m\u001b[0;34m(\u001b[0m\u001b[0mvalue\u001b[0m\u001b[0;34m)\u001b[0m\u001b[0;34m\u001b[0m\u001b[0;34m\u001b[0m\u001b[0m\n\u001b[1;32m    465\u001b[0m                 \u001b[0;32mexcept\u001b[0m \u001b[0mTypeError\u001b[0m \u001b[0;32mas\u001b[0m \u001b[0me\u001b[0m\u001b[0;34m:\u001b[0m\u001b[0;34m\u001b[0m\u001b[0;34m\u001b[0m\u001b[0m\n\u001b[0;32m--> 466\u001b[0;31m                     \u001b[0;32mraise\u001b[0m \u001b[0mTypeError\u001b[0m\u001b[0;34m(\u001b[0m\u001b[0;34m'Invalid param value given for param \"%s\". %s'\u001b[0m \u001b[0;34m%\u001b[0m \u001b[0;34m(\u001b[0m\u001b[0mp\u001b[0m\u001b[0;34m.\u001b[0m\u001b[0mname\u001b[0m\u001b[0;34m,\u001b[0m \u001b[0me\u001b[0m\u001b[0;34m)\u001b[0m\u001b[0;34m)\u001b[0m\u001b[0;34m\u001b[0m\u001b[0;34m\u001b[0m\u001b[0m\n\u001b[0m\u001b[1;32m    467\u001b[0m             \u001b[0mself\u001b[0m\u001b[0;34m.\u001b[0m\u001b[0m_paramMap\u001b[0m\u001b[0;34m[\u001b[0m\u001b[0mp\u001b[0m\u001b[0;34m]\u001b[0m \u001b[0;34m=\u001b[0m \u001b[0mvalue\u001b[0m\u001b[0;34m\u001b[0m\u001b[0;34m\u001b[0m\u001b[0m\n\u001b[1;32m    468\u001b[0m         \u001b[0;32mreturn\u001b[0m \u001b[0mself\u001b[0m\u001b[0;34m\u001b[0m\u001b[0;34m\u001b[0m\u001b[0m\n",
            "\u001b[0;31mTypeError\u001b[0m: Invalid param value given for param \"inputCols\". Could not convert DataFrame[FTSE100_DoD: double, DAX_DoD: double, CAC_DoD: double, Nikkei225_DoD: double, Hang_Seng_DoD: double, SHSZ300_DoD: double, 3M_DoD: double, 1Y_DoD: double, 10Y_DoD: double, USDGBP_DoD: double, USDEUR_DoD: double, USDJPY_DoD: double, USDHKD_DoD: double, USDAUD_DoD: double, USDCAD_DoD: double, real_gdp_QoQ: double, unemployment_MoM: double] to list of strings"
          ]
        }
      ]
    },
    {
      "cell_type": "markdown",
      "source": [
        "### Step: Run linear regression model.  "
      ],
      "metadata": {
        "id": "c1XrPgKcVUFC"
      }
    },
    {
      "cell_type": "code",
      "source": [
        "from pyspark.ml.regression import LinearRegression\n",
        "\n",
        "lr = LinearRegression(featuresCol=features, labelCol=label)\n",
        "lr_model = lr.fit(train_sdf)\n",
        "\n",
        "trainingSummary = lr_model.summary\n",
        "\n",
        "print(\"RMSE: %f\" % trainingSummary.rootMeanSquaredError)\n",
        "print(\"r2: %f\" % trainingSummary.r2)\n"
      ],
      "metadata": {
        "colab": {
          "base_uri": "https://localhost:8080/",
          "height": 432
        },
        "id": "WLxrZmknVY73",
        "outputId": "114bf739-6aed-46f5-ffea-1c50b0499a79"
      },
      "execution_count": 31,
      "outputs": [
        {
          "output_type": "error",
          "ename": "TypeError",
          "evalue": "ignored",
          "traceback": [
            "\u001b[0;31m---------------------------------------------------------------------------\u001b[0m",
            "\u001b[0;31mTypeError\u001b[0m                                 Traceback (most recent call last)",
            "\u001b[0;32m/usr/local/lib/python3.7/dist-packages/pyspark/ml/param/__init__.py\u001b[0m in \u001b[0;36m_set\u001b[0;34m(self, **kwargs)\u001b[0m\n\u001b[1;32m    463\u001b[0m                 \u001b[0;32mtry\u001b[0m\u001b[0;34m:\u001b[0m\u001b[0;34m\u001b[0m\u001b[0;34m\u001b[0m\u001b[0m\n\u001b[0;32m--> 464\u001b[0;31m                     \u001b[0mvalue\u001b[0m \u001b[0;34m=\u001b[0m \u001b[0mp\u001b[0m\u001b[0;34m.\u001b[0m\u001b[0mtypeConverter\u001b[0m\u001b[0;34m(\u001b[0m\u001b[0mvalue\u001b[0m\u001b[0;34m)\u001b[0m\u001b[0;34m\u001b[0m\u001b[0;34m\u001b[0m\u001b[0m\n\u001b[0m\u001b[1;32m    465\u001b[0m                 \u001b[0;32mexcept\u001b[0m \u001b[0mTypeError\u001b[0m \u001b[0;32mas\u001b[0m \u001b[0me\u001b[0m\u001b[0;34m:\u001b[0m\u001b[0;34m\u001b[0m\u001b[0;34m\u001b[0m\u001b[0m\n",
            "\u001b[0;32m/usr/local/lib/python3.7/dist-packages/pyspark/ml/param/__init__.py\u001b[0m in \u001b[0;36mtoString\u001b[0;34m(value)\u001b[0m\n\u001b[1;32m    212\u001b[0m         \u001b[0;32melse\u001b[0m\u001b[0;34m:\u001b[0m\u001b[0;34m\u001b[0m\u001b[0;34m\u001b[0m\u001b[0m\n\u001b[0;32m--> 213\u001b[0;31m             \u001b[0;32mraise\u001b[0m \u001b[0mTypeError\u001b[0m\u001b[0;34m(\u001b[0m\u001b[0;34m\"Could not convert %s to string type\"\u001b[0m \u001b[0;34m%\u001b[0m \u001b[0mtype\u001b[0m\u001b[0;34m(\u001b[0m\u001b[0mvalue\u001b[0m\u001b[0;34m)\u001b[0m\u001b[0;34m)\u001b[0m\u001b[0;34m\u001b[0m\u001b[0;34m\u001b[0m\u001b[0m\n\u001b[0m\u001b[1;32m    214\u001b[0m \u001b[0;34m\u001b[0m\u001b[0m\n",
            "\u001b[0;31mTypeError\u001b[0m: Could not convert <class 'pyspark.sql.dataframe.DataFrame'> to string type",
            "\nDuring handling of the above exception, another exception occurred:\n",
            "\u001b[0;31mTypeError\u001b[0m                                 Traceback (most recent call last)",
            "\u001b[0;32m<ipython-input-31-a41fbc68fdfb>\u001b[0m in \u001b[0;36m<module>\u001b[0;34m()\u001b[0m\n\u001b[1;32m      1\u001b[0m \u001b[0;32mfrom\u001b[0m \u001b[0mpyspark\u001b[0m\u001b[0;34m.\u001b[0m\u001b[0mml\u001b[0m\u001b[0;34m.\u001b[0m\u001b[0mregression\u001b[0m \u001b[0;32mimport\u001b[0m \u001b[0mLinearRegression\u001b[0m\u001b[0;34m\u001b[0m\u001b[0;34m\u001b[0m\u001b[0m\n\u001b[1;32m      2\u001b[0m \u001b[0;34m\u001b[0m\u001b[0m\n\u001b[0;32m----> 3\u001b[0;31m \u001b[0mlr\u001b[0m \u001b[0;34m=\u001b[0m \u001b[0mLinearRegression\u001b[0m\u001b[0;34m(\u001b[0m\u001b[0mfeaturesCol\u001b[0m\u001b[0;34m=\u001b[0m\u001b[0mfeatures\u001b[0m\u001b[0;34m,\u001b[0m \u001b[0mlabelCol\u001b[0m\u001b[0;34m=\u001b[0m\u001b[0mlabel\u001b[0m\u001b[0;34m)\u001b[0m\u001b[0;34m\u001b[0m\u001b[0;34m\u001b[0m\u001b[0m\n\u001b[0m\u001b[1;32m      4\u001b[0m \u001b[0mlr_model\u001b[0m \u001b[0;34m=\u001b[0m \u001b[0mlr\u001b[0m\u001b[0;34m.\u001b[0m\u001b[0mfit\u001b[0m\u001b[0;34m(\u001b[0m\u001b[0mtrain_sdf\u001b[0m\u001b[0;34m)\u001b[0m\u001b[0;34m\u001b[0m\u001b[0;34m\u001b[0m\u001b[0m\n\u001b[1;32m      5\u001b[0m \u001b[0;34m\u001b[0m\u001b[0m\n",
            "\u001b[0;32m/usr/local/lib/python3.7/dist-packages/pyspark/__init__.py\u001b[0m in \u001b[0;36mwrapper\u001b[0;34m(self, *args, **kwargs)\u001b[0m\n\u001b[1;32m    112\u001b[0m             \u001b[0;32mraise\u001b[0m \u001b[0mTypeError\u001b[0m\u001b[0;34m(\u001b[0m\u001b[0;34m\"Method %s forces keyword arguments.\"\u001b[0m \u001b[0;34m%\u001b[0m \u001b[0mfunc\u001b[0m\u001b[0;34m.\u001b[0m\u001b[0m__name__\u001b[0m\u001b[0;34m)\u001b[0m\u001b[0;34m\u001b[0m\u001b[0;34m\u001b[0m\u001b[0m\n\u001b[1;32m    113\u001b[0m         \u001b[0mself\u001b[0m\u001b[0;34m.\u001b[0m\u001b[0m_input_kwargs\u001b[0m \u001b[0;34m=\u001b[0m \u001b[0mkwargs\u001b[0m\u001b[0;34m\u001b[0m\u001b[0;34m\u001b[0m\u001b[0m\n\u001b[0;32m--> 114\u001b[0;31m         \u001b[0;32mreturn\u001b[0m \u001b[0mfunc\u001b[0m\u001b[0;34m(\u001b[0m\u001b[0mself\u001b[0m\u001b[0;34m,\u001b[0m \u001b[0;34m**\u001b[0m\u001b[0mkwargs\u001b[0m\u001b[0;34m)\u001b[0m\u001b[0;34m\u001b[0m\u001b[0;34m\u001b[0m\u001b[0m\n\u001b[0m\u001b[1;32m    115\u001b[0m     \u001b[0;32mreturn\u001b[0m \u001b[0mwrapper\u001b[0m\u001b[0;34m\u001b[0m\u001b[0;34m\u001b[0m\u001b[0m\n\u001b[1;32m    116\u001b[0m \u001b[0;34m\u001b[0m\u001b[0m\n",
            "\u001b[0;32m/usr/local/lib/python3.7/dist-packages/pyspark/ml/regression.py\u001b[0m in \u001b[0;36m__init__\u001b[0;34m(self, featuresCol, labelCol, predictionCol, maxIter, regParam, elasticNetParam, tol, fitIntercept, standardization, solver, weightCol, aggregationDepth, loss, epsilon, maxBlockSizeInMB)\u001b[0m\n\u001b[1;32m    217\u001b[0m             \"org.apache.spark.ml.regression.LinearRegression\", self.uid)\n\u001b[1;32m    218\u001b[0m         \u001b[0mkwargs\u001b[0m \u001b[0;34m=\u001b[0m \u001b[0mself\u001b[0m\u001b[0;34m.\u001b[0m\u001b[0m_input_kwargs\u001b[0m\u001b[0;34m\u001b[0m\u001b[0;34m\u001b[0m\u001b[0m\n\u001b[0;32m--> 219\u001b[0;31m         \u001b[0mself\u001b[0m\u001b[0;34m.\u001b[0m\u001b[0msetParams\u001b[0m\u001b[0;34m(\u001b[0m\u001b[0;34m**\u001b[0m\u001b[0mkwargs\u001b[0m\u001b[0;34m)\u001b[0m\u001b[0;34m\u001b[0m\u001b[0;34m\u001b[0m\u001b[0m\n\u001b[0m\u001b[1;32m    220\u001b[0m \u001b[0;34m\u001b[0m\u001b[0m\n\u001b[1;32m    221\u001b[0m     \u001b[0;34m@\u001b[0m\u001b[0mkeyword_only\u001b[0m\u001b[0;34m\u001b[0m\u001b[0;34m\u001b[0m\u001b[0m\n",
            "\u001b[0;32m/usr/local/lib/python3.7/dist-packages/pyspark/__init__.py\u001b[0m in \u001b[0;36mwrapper\u001b[0;34m(self, *args, **kwargs)\u001b[0m\n\u001b[1;32m    112\u001b[0m             \u001b[0;32mraise\u001b[0m \u001b[0mTypeError\u001b[0m\u001b[0;34m(\u001b[0m\u001b[0;34m\"Method %s forces keyword arguments.\"\u001b[0m \u001b[0;34m%\u001b[0m \u001b[0mfunc\u001b[0m\u001b[0;34m.\u001b[0m\u001b[0m__name__\u001b[0m\u001b[0;34m)\u001b[0m\u001b[0;34m\u001b[0m\u001b[0;34m\u001b[0m\u001b[0m\n\u001b[1;32m    113\u001b[0m         \u001b[0mself\u001b[0m\u001b[0;34m.\u001b[0m\u001b[0m_input_kwargs\u001b[0m \u001b[0;34m=\u001b[0m \u001b[0mkwargs\u001b[0m\u001b[0;34m\u001b[0m\u001b[0;34m\u001b[0m\u001b[0m\n\u001b[0;32m--> 114\u001b[0;31m         \u001b[0;32mreturn\u001b[0m \u001b[0mfunc\u001b[0m\u001b[0;34m(\u001b[0m\u001b[0mself\u001b[0m\u001b[0;34m,\u001b[0m \u001b[0;34m**\u001b[0m\u001b[0mkwargs\u001b[0m\u001b[0;34m)\u001b[0m\u001b[0;34m\u001b[0m\u001b[0;34m\u001b[0m\u001b[0m\n\u001b[0m\u001b[1;32m    115\u001b[0m     \u001b[0;32mreturn\u001b[0m \u001b[0mwrapper\u001b[0m\u001b[0;34m\u001b[0m\u001b[0;34m\u001b[0m\u001b[0m\n\u001b[1;32m    116\u001b[0m \u001b[0;34m\u001b[0m\u001b[0m\n",
            "\u001b[0;32m/usr/local/lib/python3.7/dist-packages/pyspark/ml/regression.py\u001b[0m in \u001b[0;36msetParams\u001b[0;34m(self, featuresCol, labelCol, predictionCol, maxIter, regParam, elasticNetParam, tol, fitIntercept, standardization, solver, weightCol, aggregationDepth, loss, epsilon, maxBlockSizeInMB)\u001b[0m\n\u001b[1;32m    233\u001b[0m         \"\"\"\n\u001b[1;32m    234\u001b[0m         \u001b[0mkwargs\u001b[0m \u001b[0;34m=\u001b[0m \u001b[0mself\u001b[0m\u001b[0;34m.\u001b[0m\u001b[0m_input_kwargs\u001b[0m\u001b[0;34m\u001b[0m\u001b[0;34m\u001b[0m\u001b[0m\n\u001b[0;32m--> 235\u001b[0;31m         \u001b[0;32mreturn\u001b[0m \u001b[0mself\u001b[0m\u001b[0;34m.\u001b[0m\u001b[0m_set\u001b[0m\u001b[0;34m(\u001b[0m\u001b[0;34m**\u001b[0m\u001b[0mkwargs\u001b[0m\u001b[0;34m)\u001b[0m\u001b[0;34m\u001b[0m\u001b[0;34m\u001b[0m\u001b[0m\n\u001b[0m\u001b[1;32m    236\u001b[0m \u001b[0;34m\u001b[0m\u001b[0m\n\u001b[1;32m    237\u001b[0m     \u001b[0;32mdef\u001b[0m \u001b[0m_create_model\u001b[0m\u001b[0;34m(\u001b[0m\u001b[0mself\u001b[0m\u001b[0;34m,\u001b[0m \u001b[0mjava_model\u001b[0m\u001b[0;34m)\u001b[0m\u001b[0;34m:\u001b[0m\u001b[0;34m\u001b[0m\u001b[0;34m\u001b[0m\u001b[0m\n",
            "\u001b[0;32m/usr/local/lib/python3.7/dist-packages/pyspark/ml/param/__init__.py\u001b[0m in \u001b[0;36m_set\u001b[0;34m(self, **kwargs)\u001b[0m\n\u001b[1;32m    464\u001b[0m                     \u001b[0mvalue\u001b[0m \u001b[0;34m=\u001b[0m \u001b[0mp\u001b[0m\u001b[0;34m.\u001b[0m\u001b[0mtypeConverter\u001b[0m\u001b[0;34m(\u001b[0m\u001b[0mvalue\u001b[0m\u001b[0;34m)\u001b[0m\u001b[0;34m\u001b[0m\u001b[0;34m\u001b[0m\u001b[0m\n\u001b[1;32m    465\u001b[0m                 \u001b[0;32mexcept\u001b[0m \u001b[0mTypeError\u001b[0m \u001b[0;32mas\u001b[0m \u001b[0me\u001b[0m\u001b[0;34m:\u001b[0m\u001b[0;34m\u001b[0m\u001b[0;34m\u001b[0m\u001b[0m\n\u001b[0;32m--> 466\u001b[0;31m                     \u001b[0;32mraise\u001b[0m \u001b[0mTypeError\u001b[0m\u001b[0;34m(\u001b[0m\u001b[0;34m'Invalid param value given for param \"%s\". %s'\u001b[0m \u001b[0;34m%\u001b[0m \u001b[0;34m(\u001b[0m\u001b[0mp\u001b[0m\u001b[0;34m.\u001b[0m\u001b[0mname\u001b[0m\u001b[0;34m,\u001b[0m \u001b[0me\u001b[0m\u001b[0;34m)\u001b[0m\u001b[0;34m)\u001b[0m\u001b[0;34m\u001b[0m\u001b[0;34m\u001b[0m\u001b[0m\n\u001b[0m\u001b[1;32m    467\u001b[0m             \u001b[0mself\u001b[0m\u001b[0;34m.\u001b[0m\u001b[0m_paramMap\u001b[0m\u001b[0;34m[\u001b[0m\u001b[0mp\u001b[0m\u001b[0;34m]\u001b[0m \u001b[0;34m=\u001b[0m \u001b[0mvalue\u001b[0m\u001b[0;34m\u001b[0m\u001b[0;34m\u001b[0m\u001b[0m\n\u001b[1;32m    468\u001b[0m         \u001b[0;32mreturn\u001b[0m \u001b[0mself\u001b[0m\u001b[0;34m\u001b[0m\u001b[0;34m\u001b[0m\u001b[0m\n",
            "\u001b[0;31mTypeError\u001b[0m: Invalid param value given for param \"featuresCol\". Could not convert <class 'pyspark.sql.dataframe.DataFrame'> to string type"
          ]
        }
      ]
    },
    {
      "cell_type": "markdown",
      "source": [
        "# Section 7: Construct our portfolio with GLM.  "
      ],
      "metadata": {
        "id": "NPYfDBDOQYPs"
      }
    }
  ],
  "metadata": {
    "colab": {
      "collapsed_sections": [],
      "name": "GLM.ipynb",
      "provenance": [],
      "include_colab_link": true
    },
    "kernelspec": {
      "display_name": "Python 3",
      "name": "python3"
    },
    "language_info": {
      "name": "python"
    }
  },
  "nbformat": 4,
  "nbformat_minor": 0
}