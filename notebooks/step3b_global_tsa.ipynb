{
  "cells": [
    {
      "cell_type": "markdown",
      "metadata": {
        "id": "view-in-github",
        "colab_type": "text"
      },
      "source": [
        "<a href=\"https://colab.research.google.com/github/stevegbrooks/big-portfolio-learner/blob/time-series/notebooks/step3b_global_tsa.ipynb\" target=\"_parent\"><img src=\"https://colab.research.google.com/assets/colab-badge.svg\" alt=\"Open In Colab\"/></a>"
      ]
    },
    {
      "cell_type": "markdown",
      "metadata": {
        "id": "MuVdqztTGMiw"
      },
      "source": [
        "# CIS 545 Final Project\n",
        "\n",
        "## Big Portfolio Learner: Time Series Analysis\n",
        "\n",
        "### Team members: Steven Brooks & Chenlia Xu"
      ]
    },
    {
      "cell_type": "code",
      "execution_count": 89,
      "metadata": {
        "id": "ccEPNzH-QeHL"
      },
      "outputs": [],
      "source": [
        "import random\n",
        "import numpy as np \n",
        "import json\n",
        "import matplotlib\n",
        "import pandas as pd\n",
        "import matplotlib.pyplot as plt\n",
        "from matplotlib import cm\n",
        "from datetime import datetime\n",
        "import glob\n",
        "import seaborn as sns\n",
        "import re\n",
        "import os"
      ]
    },
    {
      "cell_type": "code",
      "execution_count": 2,
      "metadata": {
        "id": "3zaggIhAZzeK"
      },
      "outputs": [],
      "source": [
        "%%capture\n",
        "## If boto3 not already installed uncomment the following:\n",
        "!pip3 install boto3"
      ]
    },
    {
      "cell_type": "code",
      "execution_count": 3,
      "metadata": {
        "id": "dkkvY7IDQ-ou"
      },
      "outputs": [],
      "source": [
        "import boto3\n",
        "from botocore import UNSIGNED\n",
        "\n",
        "from botocore.config import Config\n",
        "\n",
        "s3 = boto3.resource('s3', config=Config(signature_version=UNSIGNED))\n",
        "s3.Bucket('cis545project').download_file('data/stock_data.zip', 'stock_data.zip')\n",
        "s3.Bucket('cis545project').download_file('data/technical_data.zip', 'technical_data.zip')"
      ]
    },
    {
      "cell_type": "code",
      "execution_count": 4,
      "metadata": {
        "id": "775OUJLwkKkn"
      },
      "outputs": [],
      "source": [
        "%%capture\n",
        "\n",
        "if not os.path.exists(\"stock_data\"):\n",
        "  os.makedirs(\"stock_data\")\n",
        "!unzip /content/stock_data.zip -d /content/stock_data\n",
        "!rm -f stock_data/.gitempty\n",
        "\n",
        "if not os.path.exists(\"technical_data\"):\n",
        "  os.makedirs(\"technical_data\")\n",
        "!unzip /content/technical_data.zip -d /content/technical_data\n",
        "!rm -f technical_data/.gitempty"
      ]
    },
    {
      "cell_type": "markdown",
      "metadata": {
        "id": "BXFVBKfoZR5V"
      },
      "source": [
        "# Setup for Spark"
      ]
    },
    {
      "cell_type": "code",
      "execution_count": 5,
      "metadata": {
        "id": "qvwYWLqRuc0Z"
      },
      "outputs": [],
      "source": [
        "%%capture\n",
        "\n",
        "!wget -nc https://downloads.apache.org/spark/spark-3.1.2/spark-3.1.2-bin-hadoop3.2.tgz\n",
        "!tar xf spark-3.1.2-bin-hadoop3.2.tgz\n",
        "\n",
        "!apt install libkrb5-dev\n",
        "!pip install findspark\n",
        "!pip install sparkmagic\n",
        "!pip install pyspark\n",
        "!pip install pyspark --user\n",
        "\n",
        "!apt update\n",
        "!apt install gcc python-dev libkrb5-dev"
      ]
    },
    {
      "cell_type": "code",
      "execution_count": 6,
      "metadata": {
        "colab": {
          "base_uri": "https://localhost:8080/",
          "height": 52
        },
        "id": "ygqKoO0Lusl3",
        "outputId": "f0ea9c8f-f2b6-4e3a-875f-ba55db4b97b1"
      },
      "outputs": [
        {
          "output_type": "stream",
          "name": "stderr",
          "text": [
            "/usr/local/lib/python3.7/dist-packages/requests/__init__.py:91: RequestsDependencyWarning: urllib3 (1.26.7) or chardet (3.0.4) doesn't match a supported version!\n",
            "  RequestsDependencyWarning)\n"
          ]
        }
      ],
      "source": [
        "import pyspark\n",
        "from pyspark.sql import SQLContext\n",
        "from pyspark.sql import SparkSession\n",
        "from pyspark.sql.types import *\n",
        "import pyspark.sql.functions as F\n",
        "\n",
        "spark = SparkSession.builder.getOrCreate()\n",
        "\n",
        "%load_ext sparkmagic.magics\n",
        "\n",
        "os.environ['SPARK_HOME'] = '/content/spark-3.1.2-bin-hadoop3.2'\n",
        "os.environ[\"JAVA_HOME\"] = \"/usr/lib/jvm/java-8-openjdk-amd64\"\n",
        "\n",
        "try:\n",
        "    if(spark == None):\n",
        "        spark = SparkSession.builder.appName('Initial').getOrCreate()\n",
        "        sqlContext=SQLContext(spark)\n",
        "except NameError:\n",
        "    spark = SparkSession.builder.appName('Initial').getOrCreate()\n",
        "    sqlContext=SQLContext(spark)"
      ]
    },
    {
      "cell_type": "markdown",
      "metadata": {
        "id": "xj7s85BkJeuL"
      },
      "source": [
        "# Setup for Darts (Time Series Modeling)"
      ]
    },
    {
      "cell_type": "code",
      "execution_count": 7,
      "metadata": {
        "id": "SgZ6kv1fJr6E"
      },
      "outputs": [],
      "source": [
        "%%capture\n",
        "!pip install 'u8darts[all]'"
      ]
    },
    {
      "cell_type": "code",
      "execution_count": 68,
      "metadata": {
        "id": "WiUhAcQ-JeOp"
      },
      "outputs": [],
      "source": [
        "import torch\n",
        "\n",
        "from darts import TimeSeries\n",
        "from darts.utils.timeseries_generation import gaussian_timeseries, linear_timeseries, sine_timeseries\n",
        "from darts.models import RNNModel, TCNModel, TransformerModel, NBEATSModel, BlockRNNModel\n",
        "from darts.metrics import mape, smape\n",
        "from darts.dataprocessing.transformers import Scaler\n",
        "from darts.utils.timeseries_generation import datetime_attribute_timeseries\n",
        "from darts.datasets import AirPassengersDataset, MonthlyMilkDataset\n",
        "from darts.dataprocessing.transformers import Scaler, MissingValuesFiller\n",
        "\n",
        "torch.manual_seed(1); np.random.seed(1)  # for reproducibility"
      ]
    },
    {
      "cell_type": "markdown",
      "metadata": {
        "id": "YSmPBwAUnHlY"
      },
      "source": [
        "# Load the stock data"
      ]
    },
    {
      "cell_type": "code",
      "execution_count": 9,
      "metadata": {
        "id": "C5iYQ3VZnGxp"
      },
      "outputs": [],
      "source": [
        "stock_data_sdf = spark.read.load(\n",
        "    'stock_data/*.csv', \n",
        "    format = 'csv', \n",
        "    header = 'true', \n",
        "    inferSchema = 'true', \n",
        "    sep = ','\n",
        ")"
      ]
    },
    {
      "cell_type": "markdown",
      "source": [
        "## Clean"
      ],
      "metadata": {
        "id": "YZZAeYQicAvB"
      }
    },
    {
      "cell_type": "code",
      "source": [
        "from pyspark.sql.functions import log, to_timestamp\n",
        "from pyspark.sql.functions import year, month, date_format\n",
        "\n",
        "\n",
        "stock_data_sdf = stock_data_sdf.withColumn(\"timestamp_as_dt\", to_timestamp(stock_data_sdf.timestamp, 'yyyy-MM-dd'))\n",
        "stock_data_sdf = stock_data_sdf.withColumn(\"year\", year('timestamp_as_dt'))\n",
        "stock_data_sdf = stock_data_sdf.withColumn(\"year_mon\", date_format('timestamp_as_dt', 'yyyy-MM'))\n",
        "stock_data_sdf = stock_data_sdf.withColumn(\"adjusted_close_log\", log(\"adjusted_close\"))\n",
        "stock_data_sdf = stock_data_sdf.filter(\"year >= 2002 AND year <= 2019\")\n",
        "\n",
        "count_by_symbol_year_sdf = stock_data_sdf.groupBy([\"symbol\", \"year\"]).count()\n",
        "count_years_by_symbol_sdf = count_by_symbol_year_sdf.groupBy([\"symbol\"]).count()\n",
        "\n",
        "### Just grab stocks that have data in each of the 18 years from 2002 to 2019\n",
        "### AND remove the three outliers\n",
        "stocks_with_all_analysis_yrs_sdf = count_years_by_symbol_sdf.filter(\"count == 18\") #18 years of data from 2002 and 2019\n",
        "stocks_to_remove = ['DCTH', 'BRK-A', 'AIKI']\n",
        "stocks_with_all_analysis_yrs_sdf = stocks_with_all_analysis_yrs_sdf.filter(stocks_with_all_analysis_yrs_sdf.symbol.isin(stocks_to_remove) == False)\n",
        "\n",
        "stock_data_sdf.createOrReplaceTempView(\"stock_data\")\n",
        "stocks_with_all_analysis_yrs_sdf.createOrReplaceTempView(\"stocks_with_all_analysis_yrs\")\n",
        "\n",
        "stock_data_cleaned_sdf = spark.sql(\n",
        "    \"\"\"\n",
        "    SELECT *\n",
        "    FROM stock_data\n",
        "    WHERE symbol IN (SELECT symbol FROM stocks_with_all_analysis_yrs)\n",
        "    \"\"\"\n",
        ")"
      ],
      "metadata": {
        "id": "pzfpxewOcAjZ"
      },
      "execution_count": 10,
      "outputs": []
    },
    {
      "cell_type": "markdown",
      "source": [
        "## Transform the LAMR stock into a Darts TimeSeries and build a Model\n"
      ],
      "metadata": {
        "id": "geEWD9XmbwAf"
      }
    },
    {
      "cell_type": "code",
      "source": [
        "stock_data_series = stock_data_cleaned_sdf.limit(10000).toPandas()\n",
        "\n",
        "stock_time_series = stock_data_series.set_index(\"timestamp_as_dt\")\n",
        "stock_data_TS = TimeSeries.from_series(stock_time_series[stock_time_series.symbol == \"LAMR\"][\"adjusted_close_log\"].resample(\"1D\").last())\n",
        "\n",
        "filler = MissingValuesFiller()\n",
        "stock_data_TS_filled = filler.transform(stock_data_TS)"
      ],
      "metadata": {
        "id": "wsNHGCNEitNL"
      },
      "execution_count": 11,
      "outputs": []
    },
    {
      "cell_type": "code",
      "execution_count": 29,
      "metadata": {
        "id": "tAT_Ah63VZuW"
      },
      "outputs": [],
      "source": [
        "train, val = stock_data_TS_filled[:-500], stock_data_TS_filled[-500:]"
      ]
    },
    {
      "cell_type": "code",
      "source": [
        "device = torch.device('cuda' if torch.cuda.is_available() else 'cpu')\n",
        "device"
      ],
      "metadata": {
        "id": "Obu_ISfi-36k",
        "outputId": "c4038934-a647-4b72-8585-fbfb4e1e263a",
        "colab": {
          "base_uri": "https://localhost:8080/"
        }
      },
      "execution_count": 30,
      "outputs": [
        {
          "output_type": "execute_result",
          "data": {
            "text/plain": [
              "device(type='cuda')"
            ]
          },
          "metadata": {},
          "execution_count": 30
        }
      ]
    },
    {
      "cell_type": "code",
      "source": [
        "model = NBEATSModel(\n",
        "    input_chunk_length=2000, \n",
        "    output_chunk_length=500, \n",
        "    n_epochs=100, \n",
        "    random_state=15\n",
        ")"
      ],
      "metadata": {
        "id": "7P7Y0Dr5s6zx"
      },
      "execution_count": 31,
      "outputs": []
    },
    {
      "cell_type": "code",
      "source": [
        "model.fit(train, verbose=True)"
      ],
      "metadata": {
        "id": "sas8I87IxFZj",
        "outputId": "9ce6fded-866c-481b-e453-695d78ec0cdb",
        "colab": {
          "base_uri": "https://localhost:8080/"
        }
      },
      "execution_count": 32,
      "outputs": [
        {
          "output_type": "stream",
          "name": "stderr",
          "text": [
            "[2021-12-21 09:08:46,446] INFO | darts.models.forecasting.torch_forecasting_model | Train dataset contains 3574 samples.\n",
            "[2021-12-21 09:08:46,446] INFO | darts.models.forecasting.torch_forecasting_model | Train dataset contains 3574 samples.\n",
            "[2021-12-21 09:08:46,628] INFO | darts.models.forecasting.torch_forecasting_model | Time series values are 64-bits; casting model to float64.\n",
            "[2021-12-21 09:08:46,628] INFO | darts.models.forecasting.torch_forecasting_model | Time series values are 64-bits; casting model to float64.\n",
            "  1%|          | 1/100 [00:07<12:18,  7.46s/it]"
          ]
        },
        {
          "output_type": "stream",
          "name": "stdout",
          "text": [
            "Training loss: 1.5278\r"
          ]
        },
        {
          "output_type": "stream",
          "name": "stderr",
          "text": [
            " 11%|█         | 11/100 [01:23<11:22,  7.66s/it]"
          ]
        },
        {
          "output_type": "stream",
          "name": "stdout",
          "text": [
            "Training loss: 0.0200\r"
          ]
        },
        {
          "output_type": "stream",
          "name": "stderr",
          "text": [
            " 21%|██        | 21/100 [02:36<09:41,  7.36s/it]"
          ]
        },
        {
          "output_type": "stream",
          "name": "stdout",
          "text": [
            "Training loss: 1.9751\r"
          ]
        },
        {
          "output_type": "stream",
          "name": "stderr",
          "text": [
            " 31%|███       | 31/100 [03:54<09:19,  8.10s/it]"
          ]
        },
        {
          "output_type": "stream",
          "name": "stdout",
          "text": [
            "Training loss: 0.0161\r"
          ]
        },
        {
          "output_type": "stream",
          "name": "stderr",
          "text": [
            " 41%|████      | 41/100 [05:18<09:02,  9.20s/it]"
          ]
        },
        {
          "output_type": "stream",
          "name": "stdout",
          "text": [
            "Training loss: 0.0114\r"
          ]
        },
        {
          "output_type": "stream",
          "name": "stderr",
          "text": [
            " 51%|█████     | 51/100 [06:41<06:36,  8.09s/it]"
          ]
        },
        {
          "output_type": "stream",
          "name": "stdout",
          "text": [
            "Training loss: 0.0144\r"
          ]
        },
        {
          "output_type": "stream",
          "name": "stderr",
          "text": [
            " 61%|██████    | 61/100 [08:03<05:19,  8.20s/it]"
          ]
        },
        {
          "output_type": "stream",
          "name": "stdout",
          "text": [
            "Training loss: 0.0141\r"
          ]
        },
        {
          "output_type": "stream",
          "name": "stderr",
          "text": [
            " 71%|███████   | 71/100 [09:23<03:52,  8.01s/it]"
          ]
        },
        {
          "output_type": "stream",
          "name": "stdout",
          "text": [
            "Training loss: 0.0076\r"
          ]
        },
        {
          "output_type": "stream",
          "name": "stderr",
          "text": [
            " 81%|████████  | 81/100 [10:45<02:26,  7.71s/it]"
          ]
        },
        {
          "output_type": "stream",
          "name": "stdout",
          "text": [
            "Training loss: 102450774911085872.0000\r"
          ]
        },
        {
          "output_type": "stream",
          "name": "stderr",
          "text": [
            " 91%|█████████ | 91/100 [11:59<01:06,  7.41s/it]"
          ]
        },
        {
          "output_type": "stream",
          "name": "stdout",
          "text": [
            "Training loss: 7.8135\r"
          ]
        },
        {
          "output_type": "stream",
          "name": "stderr",
          "text": [
            "100%|██████████| 100/100 [13:05<00:00,  7.86s/it]\n"
          ]
        }
      ]
    },
    {
      "cell_type": "code",
      "source": [
        "from matplotlib import rcParams\n",
        "rcParams['figure.figsize'] = 15, 8\n",
        "\n",
        "pred = model.predict(n = 1000, series = train)\n",
        "stock_data_TS_filled.plot(label = \"actual\")\n",
        "pred.plot(label = \"forecasted\") # validation data set\n",
        "plt.legend()"
      ],
      "metadata": {
        "id": "2Do_L2bSxqXb",
        "outputId": "233eb6ba-1bbb-4bfa-9412-8ba32a2573a1",
        "colab": {
          "base_uri": "https://localhost:8080/",
          "height": 522
        }
      },
      "execution_count": 33,
      "outputs": [
        {
          "output_type": "execute_result",
          "data": {
            "text/plain": [
              "<matplotlib.legend.Legend at 0x7f4e10caf910>"
            ]
          },
          "metadata": {},
          "execution_count": 33
        },
        {
          "output_type": "display_data",
          "data": {
            "image/png": "[encoded data removed]",
            "text/plain": [
              "<Figure size 1080x576 with 1 Axes>"
            ]
          },
          "metadata": {
            "needs_background": "light"
          }
        }
      ]
    },
    {
      "cell_type": "markdown",
      "source": [
        "# Improve by adding technical indicators"
      ],
      "metadata": {
        "id": "95zbE_GIQwm-"
      }
    },
    {
      "cell_type": "code",
      "source": [
        "from pyspark.sql.types import StructField, DoubleType, StructType, StringType\n",
        "\n",
        "structs=[\n",
        "  StructField('symbol', StringType(), True),\n",
        "  StructField('timestamp', StringType(), True),\n",
        "  StructField('EMA', DoubleType(), True),\n",
        "  StructField('MACD', DoubleType(), True),\n",
        "  StructField('SlowD', DoubleType(), True),\n",
        "  StructField('RSI', DoubleType(), True),\n",
        "  StructField('Real_Middle_Band', DoubleType(), True)\n",
        "]\n",
        "\n",
        "schema = StructType(fields = structs)\n",
        "\n",
        "technical_data_sdf = spark.read.load(\n",
        "    'technical_data/*.csv', \n",
        "    format = 'csv', \n",
        "    header = 'true', \n",
        "    schema = schema, \n",
        "    sep = ','\n",
        ")"
      ],
      "metadata": {
        "id": "v_XiM86WQB9n"
      },
      "execution_count": 34,
      "outputs": []
    },
    {
      "cell_type": "code",
      "source": [
        "technical_data_sdf = technical_data_sdf.withColumn(\"timestamp_as_dt\", to_timestamp(technical_data_sdf.timestamp, 'yyyy-MM-dd'))\n",
        "technical_data_sdf = technical_data_sdf.withColumn(\"year\", year('timestamp_as_dt'))\n",
        "technical_data_sdf = technical_data_sdf.filter(\"year >= 2002 AND year <= 2019\")\n",
        "\n",
        "technical_data_sdf.createOrReplaceTempView(\"technical_data\")\n",
        "\n",
        "technical_data_cleaned_sdf = spark.sql(\n",
        "    \"\"\"\n",
        "    SELECT *\n",
        "    FROM technical_data\n",
        "    WHERE symbol IN (SELECT symbol FROM stocks_with_all_analysis_yrs)\n",
        "    \"\"\"\n",
        ")\n",
        "\n",
        "technical_data_cleaned_sdf.printSchema()"
      ],
      "metadata": {
        "id": "MCJwruTIQ1mU",
        "outputId": "58b9ee65-4c5a-42ed-a0e0-baafa46608a6",
        "colab": {
          "base_uri": "https://localhost:8080/"
        }
      },
      "execution_count": 35,
      "outputs": [
        {
          "output_type": "stream",
          "name": "stdout",
          "text": [
            "root\n",
            " |-- symbol: string (nullable = true)\n",
            " |-- timestamp: string (nullable = true)\n",
            " |-- EMA: double (nullable = true)\n",
            " |-- MACD: double (nullable = true)\n",
            " |-- SlowD: double (nullable = true)\n",
            " |-- RSI: double (nullable = true)\n",
            " |-- Real_Middle_Band: double (nullable = true)\n",
            " |-- timestamp_as_dt: timestamp (nullable = true)\n",
            " |-- year: integer (nullable = true)\n",
            "\n"
          ]
        }
      ]
    },
    {
      "cell_type": "code",
      "source": [
        "technical_data_cleaned_sdf.createOrReplaceTempView(\"technical_data_cleaned\")\n",
        "stock_data_cleaned_sdf.createOrReplaceTempView(\"stock_data_cleaned\")"
      ],
      "metadata": {
        "id": "tr0iSug1RMaV"
      },
      "execution_count": 36,
      "outputs": []
    },
    {
      "cell_type": "code",
      "source": [
        "spark.sql(\n",
        "    \"\"\"\n",
        "    SELECT T.symbol, T.timestamp_as_dt, S.adjusted_close_log, S.volume, T.EMA, T.MACD, T.SlowD, T.RSI, T.Real_Middle_Band\n",
        "    FROM technical_data_cleaned T JOIN stock_data_cleaned S\n",
        "    ON T.symbol = S.symbol AND T.timestamp_as_dt = S.timestamp_as_dt\n",
        "    \"\"\"\n",
        ").createOrReplaceTempView(\"combined_data_cleaned\")"
      ],
      "metadata": {
        "id": "Pe9Lcu1IQ6dI"
      },
      "execution_count": 37,
      "outputs": []
    },
    {
      "cell_type": "code",
      "source": [
        "combined_data_cleaned_sdf = spark.sql(\"SELECT * FROM combined_data_cleaned\")"
      ],
      "metadata": {
        "id": "b2oZw5wxRQ_D"
      },
      "execution_count": 38,
      "outputs": []
    },
    {
      "cell_type": "markdown",
      "source": [
        "## Transform to a Time Series"
      ],
      "metadata": {
        "id": "3h3BeAPHR98n"
      }
    },
    {
      "cell_type": "code",
      "source": [
        "#run spark stuff separately first\n",
        "combined_data_series = combined_data_cleaned_sdf.filter(combined_data_cleaned_sdf.symbol == \"LAMR\").toPandas()"
      ],
      "metadata": {
        "id": "eDZ2y8wnSADa"
      },
      "execution_count": 48,
      "outputs": []
    },
    {
      "cell_type": "code",
      "source": [
        "combined_time_series = combined_data_series.set_index(\"timestamp_as_dt\")\n",
        "combined_time_series.drop(columns = \"symbol\", inplace = True)"
      ],
      "metadata": {
        "id": "OtGoZ8lKVzv_"
      },
      "execution_count": 49,
      "outputs": []
    },
    {
      "cell_type": "code",
      "source": [
        "combined_data_TS = TimeSeries.from_series(combined_time_series.resample(\"1D\").last())\n",
        "\n",
        "filler = MissingValuesFiller()\n",
        "combined_data_TS_filled = filler.transform(combined_data_TS)"
      ],
      "metadata": {
        "id": "NSPOlTsAUYnG"
      },
      "execution_count": 54,
      "outputs": []
    },
    {
      "cell_type": "markdown",
      "source": [
        "# Train the model with covariates"
      ],
      "metadata": {
        "id": "zMK1vBrSYMNf"
      }
    },
    {
      "cell_type": "code",
      "source": [
        "covariates = combined_data_TS_filled['volume'].stack(combined_data_TS_filled['EMA'])\n",
        "covariates = covariates.stack(combined_data_TS_filled['MACD'])\n",
        "covariates = covariates.stack(combined_data_TS_filled['SlowD'])\n",
        "covariates = covariates.stack(combined_data_TS_filled['RSI'])\n",
        "covariates = covariates.stack(combined_data_TS_filled['Real_Middle_Band'])"
      ],
      "metadata": {
        "id": "1TomsT4zcaxT"
      },
      "execution_count": 80,
      "outputs": []
    },
    {
      "cell_type": "code",
      "source": [
        "covariates_train, covariates_val = covariates[:-500], covariates[-500:]"
      ],
      "metadata": {
        "id": "2bG8M7ydcvVT"
      },
      "execution_count": 82,
      "outputs": []
    },
    {
      "cell_type": "code",
      "source": [
        "y_train, y_val = combined_data_TS_filled['adjusted_close_log'][:-500], combined_data_TS_filled['adjusted_close_log'][-500:]"
      ],
      "metadata": {
        "id": "-GWvmejnSWLa"
      },
      "execution_count": 83,
      "outputs": []
    },
    {
      "cell_type": "code",
      "source": [
        "model_cov = BlockRNNModel(\n",
        "    model='LSTM', \n",
        "    input_chunk_length=2000, \n",
        "    output_chunk_length=500, \n",
        "    n_epochs=1, \n",
        "    random_state=0\n",
        ")"
      ],
      "metadata": {
        "id": "Q6emr5kCYUiK"
      },
      "execution_count": 84,
      "outputs": []
    },
    {
      "cell_type": "code",
      "source": [
        "model_cov.fit(\n",
        "    series=y_train,\n",
        "    past_covariates=covariates_train,\n",
        "    verbose=True\n",
        ")"
      ],
      "metadata": {
        "id": "8cZtn797YWRD",
        "outputId": "91bb905e-a91e-43f5-b996-d73fe3a5487d",
        "colab": {
          "base_uri": "https://localhost:8080/"
        }
      },
      "execution_count": 85,
      "outputs": [
        {
          "output_type": "stream",
          "name": "stderr",
          "text": [
            "[2021-12-21 10:05:46,524] INFO | darts.models.forecasting.torch_forecasting_model | Train dataset contains 3574 samples.\n",
            "[2021-12-21 10:05:46,524] INFO | darts.models.forecasting.torch_forecasting_model | Train dataset contains 3574 samples.\n",
            "[2021-12-21 10:05:46,535] INFO | darts.models.forecasting.torch_forecasting_model | Time series values are 64-bits; casting model to float64.\n",
            "[2021-12-21 10:05:46,535] INFO | darts.models.forecasting.torch_forecasting_model | Time series values are 64-bits; casting model to float64.\n",
            "100%|██████████| 1/1 [00:11<00:00, 11.43s/it]"
          ]
        },
        {
          "output_type": "stream",
          "name": "stdout",
          "text": [
            "Training loss: 9.5645\r"
          ]
        },
        {
          "output_type": "stream",
          "name": "stderr",
          "text": [
            "\n"
          ]
        }
      ]
    },
    {
      "cell_type": "code",
      "source": [
        "pred = model_cov.predict(\n",
        "    n=500,\n",
        "    series=y_train,\n",
        "    past_covariates=covariates\n",
        ")\n",
        "\n",
        "combined_data_TS_filled.plot(label = \"actual\")\n",
        "pred.plot(label = \"forecasted\")\n",
        "plt.legend()"
      ],
      "metadata": {
        "id": "755VyLn0Y3xw",
        "outputId": "9be3b9a7-0f18-4f4a-a153-0a8e1dfa626f",
        "colab": {
          "base_uri": "https://localhost:8080/",
          "height": 532
        }
      },
      "execution_count": 87,
      "outputs": [
        {
          "output_type": "execute_result",
          "data": {
            "text/plain": [
              "<matplotlib.legend.Legend at 0x7f4e112df4d0>"
            ]
          },
          "metadata": {},
          "execution_count": 87
        },
        {
          "output_type": "display_data",
          "data": {
            "image/png": "[encoded data removed]",
            "text/plain": [
              "<Figure size 1080x576 with 1 Axes>"
            ]
          },
          "metadata": {
            "needs_background": "light"
          }
        }
      ]
    },
    {
      "cell_type": "code",
      "source": [
        ""
      ],
      "metadata": {
        "id": "ostFvUO8ZD92"
      },
      "execution_count": null,
      "outputs": []
    }
  ],
  "metadata": {
    "colab": {
      "collapsed_sections": [],
      "name": "step3b_global_tsa.ipynb",
      "provenance": [],
      "include_colab_link": true
    },
    "kernelspec": {
      "display_name": "Python 3",
      "name": "python3"
    },
    "language_info": {
      "name": "python"
    },
    "accelerator": "GPU"
  },
  "nbformat": 4,
  "nbformat_minor": 0
}