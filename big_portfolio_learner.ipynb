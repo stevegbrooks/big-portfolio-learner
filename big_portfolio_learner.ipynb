{
  "nbformat": 4,
  "nbformat_minor": 0,
  "metadata": {
    "colab": {
      "name": "big-portfolio-learner.ipynb",
      "provenance": [],
      "collapsed_sections": [],
      "include_colab_link": true
    },
    "kernelspec": {
      "name": "python3",
      "display_name": "Python 3"
    },
    "language_info": {
      "name": "python"
    }
  },
  "cells": [
    {
      "cell_type": "markdown",
      "metadata": {
        "id": "view-in-github",
        "colab_type": "text"
      },
      "source": [
        "<a href=\"https://colab.research.google.com/github/stevegbrooks/big-portfolio-learner/blob/get_all_other_data/big_portfolio_learner.ipynb\" target=\"_parent\"><img src=\"https://colab.research.google.com/assets/colab-badge.svg\" alt=\"Open In Colab\"/></a>"
      ]
    },
    {
      "cell_type": "markdown",
      "metadata": {
        "id": "MuVdqztTGMiw"
      },
      "source": [
        "# CIS 545 Final Project\n",
        "\n",
        "## Big Portfolio Learner\n",
        "\n",
        "### Team members: Steven Brooks & Chenlia Xu"
      ]
    },
    {
      "cell_type": "code",
      "metadata": {
        "id": "ccEPNzH-QeHL"
      },
      "source": [
        "import numpy as np \n",
        "import json\n",
        "import matplotlib\n",
        "import pandas as pd\n",
        "import matplotlib.pyplot as plt\n",
        "from matplotlib import cm\n",
        "from datetime import datetime\n",
        "import glob\n",
        "import seaborn as sns\n",
        "import re\n",
        "import os"
      ],
      "execution_count": null,
      "outputs": []
    },
    {
      "cell_type": "code",
      "metadata": {
        "id": "j6wnsoAUQ4BJ",
        "colab": {
          "base_uri": "https://localhost:8080/"
        },
        "outputId": "ec375733-6fc3-44d0-d89c-6a57df963684"
      },
      "source": [
        "## If boto3 not already installed uncomment the following:\n",
        "!pip3 install boto3"
      ],
      "execution_count": null,
      "outputs": [
        {
          "output_type": "stream",
          "name": "stdout",
          "text": [
            "Collecting boto3\n",
            "  Downloading boto3-1.20.24-py3-none-any.whl (131 kB)\n",
            "\u001b[K     |████████████████████████████████| 131 kB 5.1 MB/s \n",
            "\u001b[?25hCollecting s3transfer<0.6.0,>=0.5.0\n",
            "  Downloading s3transfer-0.5.0-py3-none-any.whl (79 kB)\n",
            "\u001b[K     |████████████████████████████████| 79 kB 6.5 MB/s \n",
            "\u001b[?25hCollecting jmespath<1.0.0,>=0.7.1\n",
            "  Downloading jmespath-0.10.0-py2.py3-none-any.whl (24 kB)\n",
            "Collecting botocore<1.24.0,>=1.23.24\n",
            "  Downloading botocore-1.23.24-py3-none-any.whl (8.4 MB)\n",
            "\u001b[K     |████████████████████████████████| 8.4 MB 30.0 MB/s \n",
            "\u001b[?25hRequirement already satisfied: python-dateutil<3.0.0,>=2.1 in /usr/local/lib/python3.7/dist-packages (from botocore<1.24.0,>=1.23.24->boto3) (2.8.2)\n",
            "Collecting urllib3<1.27,>=1.25.4\n",
            "  Downloading urllib3-1.26.7-py2.py3-none-any.whl (138 kB)\n",
            "\u001b[K     |████████████████████████████████| 138 kB 9.6 MB/s \n",
            "\u001b[?25hRequirement already satisfied: six>=1.5 in /usr/local/lib/python3.7/dist-packages (from python-dateutil<3.0.0,>=2.1->botocore<1.24.0,>=1.23.24->boto3) (1.15.0)\n",
            "Installing collected packages: urllib3, jmespath, botocore, s3transfer, boto3\n",
            "  Attempting uninstall: urllib3\n",
            "    Found existing installation: urllib3 1.24.3\n",
            "    Uninstalling urllib3-1.24.3:\n",
            "      Successfully uninstalled urllib3-1.24.3\n",
            "\u001b[31mERROR: pip's dependency resolver does not currently take into account all the packages that are installed. This behaviour is the source of the following dependency conflicts.\n",
            "requests 2.23.0 requires urllib3!=1.25.0,!=1.25.1,<1.26,>=1.21.1, but you have urllib3 1.26.7 which is incompatible.\n",
            "datascience 0.10.6 requires folium==0.2.1, but you have folium 0.8.3 which is incompatible.\u001b[0m\n",
            "Successfully installed boto3-1.20.24 botocore-1.23.24 jmespath-0.10.0 s3transfer-0.5.0 urllib3-1.26.7\n"
          ]
        }
      ]
    },
    {
      "cell_type": "code",
      "metadata": {
        "id": "dkkvY7IDQ-ou"
      },
      "source": [
        "import boto3\n",
        "from botocore import UNSIGNED\n",
        "\n",
        "from botocore.config import Config\n",
        "\n",
        "s3 = boto3.resource('s3', config=Config(signature_version=UNSIGNED))\n",
        "s3.Bucket('cis545project').download_file('data/stock_data.zip', 'stock_data.zip')"
      ],
      "execution_count": null,
      "outputs": []
    },
    {
      "cell_type": "code",
      "metadata": {
        "id": "tOt0sxq1RGQR"
      },
      "source": [
        "%%capture\n",
        "\n",
        "in_dir = \"stock_data\"\n",
        "if not os.path.exists(in_dir):\n",
        "  os.makedirs(in_dir)\n",
        "!unzip /content/stock_data.zip -d /content/$in_dir\n",
        "!rm -f $in_dir/.gitempty\n",
        "\n",
        "\n",
        "tech_dir = \"technical_data\"\n",
        "if not os.path.exists(tech_dir):\n",
        "  os.makedirs(tech_dir)\n",
        "!unzip /content/technical_data.zip -d /content/$tech_dir\n",
        "!rm -f $tech_dir/.gitempty"
      ],
      "execution_count": null,
      "outputs": []
    },
    {
      "cell_type": "markdown",
      "metadata": {
        "id": "TcgsCH66oEfZ"
      },
      "source": [
        "# Section 1: Exploratory Data Analysis of the Stock Data\n",
        "\n",
        "The schema of the stock data is as below:"
      ]
    },
    {
      "cell_type": "code",
      "metadata": {
        "id": "ZAS3S42PbbuN",
        "colab": {
          "base_uri": "https://localhost:8080/",
          "height": 206
        },
        "outputId": "b5522bf3-5405-4157-fe08-b580698dff32"
      },
      "source": [
        "import random\n",
        "stock_data_files = os.listdir(in_dir)\n",
        "\n",
        "# head of a random file\n",
        "pd.read_csv(os.path.join(in_dir, stock_data_files[random.randrange(len(stock_data_files))])).head(5)"
      ],
      "execution_count": null,
      "outputs": [
        {
          "output_type": "execute_result",
          "data": {
            "text/html": [
              "<div>\n",
              "<style scoped>\n",
              "    .dataframe tbody tr th:only-of-type {\n",
              "        vertical-align: middle;\n",
              "    }\n",
              "\n",
              "    .dataframe tbody tr th {\n",
              "        vertical-align: top;\n",
              "    }\n",
              "\n",
              "    .dataframe thead th {\n",
              "        text-align: right;\n",
              "    }\n",
              "</style>\n",
              "<table border=\"1\" class=\"dataframe\">\n",
              "  <thead>\n",
              "    <tr style=\"text-align: right;\">\n",
              "      <th></th>\n",
              "      <th>symbol</th>\n",
              "      <th>timestamp</th>\n",
              "      <th>open</th>\n",
              "      <th>high</th>\n",
              "      <th>low</th>\n",
              "      <th>close</th>\n",
              "      <th>adjusted_close</th>\n",
              "      <th>volume</th>\n",
              "      <th>dividend_amount</th>\n",
              "      <th>split_coefficient</th>\n",
              "    </tr>\n",
              "  </thead>\n",
              "  <tbody>\n",
              "    <tr>\n",
              "      <th>0</th>\n",
              "      <td>ORA</td>\n",
              "      <td>2021-12-03</td>\n",
              "      <td>79.69</td>\n",
              "      <td>79.690</td>\n",
              "      <td>76.685</td>\n",
              "      <td>77.46</td>\n",
              "      <td>77.46</td>\n",
              "      <td>262547</td>\n",
              "      <td>0.0</td>\n",
              "      <td>1.0</td>\n",
              "    </tr>\n",
              "    <tr>\n",
              "      <th>1</th>\n",
              "      <td>ORA</td>\n",
              "      <td>2021-12-02</td>\n",
              "      <td>76.65</td>\n",
              "      <td>79.730</td>\n",
              "      <td>76.600</td>\n",
              "      <td>79.26</td>\n",
              "      <td>79.26</td>\n",
              "      <td>289599</td>\n",
              "      <td>0.0</td>\n",
              "      <td>1.0</td>\n",
              "    </tr>\n",
              "    <tr>\n",
              "      <th>2</th>\n",
              "      <td>ORA</td>\n",
              "      <td>2021-12-01</td>\n",
              "      <td>77.00</td>\n",
              "      <td>78.815</td>\n",
              "      <td>76.530</td>\n",
              "      <td>76.54</td>\n",
              "      <td>76.54</td>\n",
              "      <td>458277</td>\n",
              "      <td>0.0</td>\n",
              "      <td>1.0</td>\n",
              "    </tr>\n",
              "    <tr>\n",
              "      <th>3</th>\n",
              "      <td>ORA</td>\n",
              "      <td>2021-11-30</td>\n",
              "      <td>76.11</td>\n",
              "      <td>77.195</td>\n",
              "      <td>75.190</td>\n",
              "      <td>75.50</td>\n",
              "      <td>75.50</td>\n",
              "      <td>284256</td>\n",
              "      <td>0.0</td>\n",
              "      <td>1.0</td>\n",
              "    </tr>\n",
              "    <tr>\n",
              "      <th>4</th>\n",
              "      <td>ORA</td>\n",
              "      <td>2021-11-29</td>\n",
              "      <td>77.52</td>\n",
              "      <td>77.660</td>\n",
              "      <td>76.380</td>\n",
              "      <td>76.92</td>\n",
              "      <td>76.92</td>\n",
              "      <td>267751</td>\n",
              "      <td>0.0</td>\n",
              "      <td>1.0</td>\n",
              "    </tr>\n",
              "  </tbody>\n",
              "</table>\n",
              "</div>"
            ],
            "text/plain": [
              "  symbol   timestamp   open  ...  volume  dividend_amount  split_coefficient\n",
              "0    ORA  2021-12-03  79.69  ...  262547              0.0                1.0\n",
              "1    ORA  2021-12-02  76.65  ...  289599              0.0                1.0\n",
              "2    ORA  2021-12-01  77.00  ...  458277              0.0                1.0\n",
              "3    ORA  2021-11-30  76.11  ...  284256              0.0                1.0\n",
              "4    ORA  2021-11-29  77.52  ...  267751              0.0                1.0\n",
              "\n",
              "[5 rows x 10 columns]"
            ]
          },
          "metadata": {},
          "execution_count": 5
        }
      ]
    },
    {
      "cell_type": "markdown",
      "metadata": {
        "id": "JmGsqt_L4odU"
      },
      "source": [
        "### Step 0: Inspect the data\n",
        "\n",
        "First look at the number of rows of data across within each year for each stock.  "
      ]
    },
    {
      "cell_type": "code",
      "metadata": {
        "id": "C9K90Xa46IYJ"
      },
      "source": [
        "def add_year_col(df: pd.DataFrame, timestamp_col: str) -> pd.DataFrame:\n",
        "  \"\"\" \n",
        "  Assumes the input df has a column that needs to be converted into datetime\n",
        "  using datetime.strptime function and \"%Y-%m-%d\" format\n",
        "  \"\"\"\n",
        "  new_col_name = timestamp_col + '_as_dt'\n",
        "  df[new_col_name] = df[timestamp_col].apply(lambda x: datetime.strptime(x, \"%Y-%m-%d\"))\n",
        "  if len(df[new_col_name].unique()) != len(df[timestamp_col].unique()):\n",
        "    raise Exception(\"error in timestamp parsing\")\n",
        "  df['year'] = pd.to_numeric(df[new_col_name].dt.year)\n",
        "  return df\n"
      ],
      "execution_count": null,
      "outputs": []
    },
    {
      "cell_type": "code",
      "metadata": {
        "id": "BI8mTKEitrfw",
        "colab": {
          "base_uri": "https://localhost:8080/"
        },
        "outputId": "a67ec308-8890-46eb-8ebb-41a89e556b8c"
      },
      "source": [
        "rows_per_year = dict()\n",
        "\n",
        "for data_file in stock_data_files:\n",
        "  stock_data = pd.read_csv(os.path.join(in_dir, data_file))\n",
        "  stock_data = add_year_col(stock_data, \"timestamp\")\n",
        "  rows_per_year[data_file] = dict(stock_data.groupby(by = 'year').size())\n",
        "\n",
        "print(rows_per_year)"
      ],
      "execution_count": null,
      "outputs": [
        {
          "output_type": "stream",
          "name": "stdout",
          "text": [
            "{'ATAI.csv': {2021: 118}, 'KTTA.csv': {2021: 57}, 'SR.csv': {1999: 43, 2000: 252, 2001: 248, 2002: 252, 2003: 252, 2004: 252, 2005: 252, 2006: 251, 2007: 251, 2008: 253, 2009: 252, 2010: 252, 2011: 252, 2012: 250, 2013: 252, 2014: 252, 2015: 252, 2016: 252, 2017: 251, 2018: 251, 2019: 252, 2020: 253, 2021: 233}, 'SCOBW.csv': {2021: 168}, 'AMAO.csv': {2021: 149}, 'FUV.csv': {2017: 70, 2018: 251, 2019: 252, 2020: 253, 2021: 233}, 'KSU.csv': {1999: 43, 2000: 252, 2001: 248, 2002: 252, 2003: 252, 2004: 252, 2005: 252, 2006: 251, 2007: 251, 2008: 253, 2009: 252, 2010: 252, 2011: 252, 2012: 250, 2013: 252, 2014: 252, 2015: 252, 2016: 252, 2017: 251, 2018: 251, 2019: 252, 2020: 253, 2021: 233}, 'YSAC.csv': {2020: 17, 2021: 233}, 'MACC-U.csv': {2021: 192}, 'BHFAN.csv': {2020: 35, 2021: 233}, 'AFBI.csv': {2021: 221}, 'MGRB.csv': {2020: 66, 2021: 233}, 'FDBC.csv': {2001: 248, 2002: 252, 2003: 252, 2004: 251, 2005: 252, 2006: 251, 2007: 250, 2008: 252, 2009: 252, 2010: 252, 2011: 245, 2012: 250, 2013: 252, 2014: 252, 2015: 252, 2016: 252, 2017: 251, 2018: 251, 2019: 252, 2020: 253, 2021: 233}, 'CNI.csv': {1999: 43, 2000: 252, 2001: 248, 2002: 252, 2003: 252, 2004: 252, 2005: 252, 2006: 251, 2007: 251, 2008: 253, 2009: 252, 2010: 252, 2011: 252, 2012: 250, 2013: 252, 2014: 252, 2015: 252, 2016: 252, 2017: 251, 2018: 251, 2019: 252, 2020: 253, 2021: 233}, 'CIR.csv': {1999: 43, 2000: 252, 2001: 248, 2002: 252, 2003: 252, 2004: 252, 2005: 252, 2006: 251, 2007: 251, 2008: 253, 2009: 252, 2010: 252, 2011: 252, 2012: 250, 2013: 252, 2014: 252, 2015: 252, 2016: 252, 2017: 251, 2018: 251, 2019: 252, 2020: 253, 2021: 233}, 'CFMS.csv': {2015: 128, 2016: 252, 2017: 251, 2018: 251, 2019: 252, 2020: 253, 2021: 233}, 'MFH.csv': {2015: 187, 2016: 252, 2017: 251, 2018: 251, 2019: 252, 2020: 253, 2021: 233}, 'WWD.csv': {1999: 43, 2000: 252, 2001: 248, 2002: 252, 2003: 252, 2004: 252, 2005: 252, 2006: 251, 2007: 251, 2008: 253, 2009: 252, 2010: 252, 2011: 252, 2012: 250, 2013: 252, 2014: 252, 2015: 252, 2016: 252, 2017: 251, 2018: 251, 2019: 252, 2020: 253, 2021: 233}, 'HNDL.csv': {2018: 241, 2019: 252, 2020: 253, 2021: 233}, 'WPCA-WS.csv': {2021: 155}, 'CENQU.csv': {2021: 79}, 'WSBC.csv': {1999: 43, 2000: 252, 2001: 248, 2002: 252, 2003: 252, 2004: 252, 2005: 252, 2006: 251, 2007: 251, 2008: 253, 2009: 252, 2010: 252, 2011: 252, 2012: 250, 2013: 252, 2014: 252, 2015: 252, 2016: 252, 2017: 251, 2018: 251, 2019: 252, 2020: 253, 2021: 233}, 'FDEU.csv': {2015: 68, 2016: 252, 2017: 251, 2018: 251, 2019: 252, 2020: 253, 2021: 233}, 'VERV.csv': {2021: 119}, 'ANAC-WS.csv': {2021: 163}, 'YTPG.csv': {2021: 164}, 'PROCW.csv': {2021: 46}, 'DMAQU.csv': {2021: 25}, 'STNE.csv': {2018: 45, 2019: 252, 2020: 253, 2021: 233}, 'ALJJ.csv': {1999: 43, 2000: 252, 2001: 248, 2002: 252, 2003: 252, 2004: 252, 2005: 252, 2006: 251, 2007: 251, 2008: 253, 2009: 252, 2010: 252, 2011: 252, 2012: 250, 2013: 252, 2014: 252, 2015: 252, 2016: 252, 2017: 251, 2018: 251, 2019: 251, 2020: 253, 2021: 233}, 'HR.csv': {1999: 43, 2000: 252, 2001: 248, 2002: 252, 2003: 252, 2004: 252, 2005: 252, 2006: 251, 2007: 251, 2008: 253, 2009: 252, 2010: 252, 2011: 252, 2012: 250, 2013: 252, 2014: 252, 2015: 252, 2016: 252, 2017: 251, 2018: 251, 2019: 252, 2020: 253, 2021: 233}, 'MMAT.csv': {2010: 38, 2011: 252, 2012: 250, 2013: 252, 2014: 252, 2015: 252, 2016: 252, 2017: 251, 2018: 251, 2019: 252, 2020: 253, 2021: 233}, 'QRTEA.csv': {2006: 162, 2007: 250, 2008: 253, 2009: 252, 2010: 252, 2011: 252, 2012: 250, 2013: 252, 2014: 252, 2015: 252, 2016: 252, 2017: 251, 2018: 251, 2019: 252, 2020: 253, 2021: 233}, 'NSS.csv': {2013: 234, 2014: 252, 2015: 252, 2016: 252, 2017: 251, 2018: 251, 2019: 252, 2020: 253, 2021: 233}, 'GMBLP.csv': {2021: 12}, 'CRAI.csv': {1999: 43, 2000: 252, 2001: 248, 2002: 252, 2003: 252, 2004: 252, 2005: 252, 2006: 251, 2007: 251, 2008: 253, 2009: 252, 2010: 252, 2011: 252, 2012: 250, 2013: 252, 2014: 252, 2015: 252, 2016: 252, 2017: 251, 2018: 251, 2019: 252, 2020: 253, 2021: 233}, 'CINT.csv': {2021: 17}, 'PBA.csv': {2010: 61, 2011: 252, 2012: 250, 2013: 252, 2014: 252, 2015: 252, 2016: 252, 2017: 251, 2018: 251, 2019: 252, 2020: 253, 2021: 233}, 'GNTX.csv': {1999: 43, 2000: 252, 2001: 248, 2002: 252, 2003: 252, 2004: 252, 2005: 252, 2006: 251, 2007: 251, 2008: 253, 2009: 252, 2010: 252, 2011: 252, 2012: 250, 2013: 252, 2014: 252, 2015: 252, 2016: 252, 2017: 251, 2018: 251, 2019: 252, 2020: 253, 2021: 233}, 'CAC.csv': {1999: 43, 2000: 252, 2001: 248, 2002: 252, 2003: 252, 2004: 252, 2005: 252, 2006: 251, 2007: 251, 2008: 253, 2009: 252, 2010: 252, 2011: 252, 2012: 250, 2013: 252, 2014: 252, 2015: 252, 2016: 252, 2017: 251, 2018: 251, 2019: 252, 2020: 253, 2021: 233}, 'PSPC-WS.csv': {2021: 99}, 'ORA.csv': {2004: 35, 2005: 252, 2006: 251, 2007: 251, 2008: 253, 2009: 252, 2010: 252, 2011: 252, 2012: 250, 2013: 252, 2014: 252, 2015: 252, 2016: 252, 2017: 251, 2018: 251, 2019: 252, 2020: 253, 2021: 233}, 'GIIXU.csv': {2021: 197}, 'BSCQ.csv': {2016: 74, 2017: 251, 2018: 251, 2019: 252, 2020: 253, 2021: 233}, 'XFOR.csv': {2017: 30, 2018: 251, 2019: 252, 2020: 253, 2021: 233}, 'T.csv': {1999: 43, 2000: 252, 2001: 248, 2002: 252, 2003: 252, 2004: 252, 2005: 252, 2006: 251, 2007: 251, 2008: 253, 2009: 252, 2010: 252, 2011: 252, 2012: 250, 2013: 252, 2014: 252, 2015: 252, 2016: 252, 2017: 251, 2018: 251, 2019: 252, 2020: 253, 2021: 233}, 'MTB.csv': {1999: 43, 2000: 252, 2001: 248, 2002: 252, 2003: 252, 2004: 252, 2005: 252, 2006: 251, 2007: 251, 2008: 253, 2009: 252, 2010: 252, 2011: 252, 2012: 250, 2013: 252, 2014: 252, 2015: 252, 2016: 252, 2017: 251, 2018: 251, 2019: 252, 2020: 253, 2021: 233}, 'BSBE.csv': {2018: 53, 2019: 252, 2020: 253, 2021: 233}, 'PRVB.csv': {2018: 111, 2019: 252, 2020: 253, 2021: 233}, 'CLAQU.csv': {2021: 100}, 'QVCD.csv': {2018: 72, 2019: 252, 2020: 253, 2021: 233}, 'CNQ.csv': {2000: 107, 2001: 248, 2002: 252, 2003: 252, 2004: 252, 2005: 252, 2006: 251, 2007: 251, 2008: 253, 2009: 252, 2010: 252, 2011: 252, 2012: 250, 2013: 252, 2014: 252, 2015: 252, 2016: 252, 2017: 251, 2018: 251, 2019: 252, 2020: 253, 2021: 233}, 'SRZNW.csv': {2021: 80}, 'ATNX.csv': {2017: 139, 2018: 251, 2019: 252, 2020: 253, 2021: 233}, 'QCLR.csv': {2021: 70}, 'TVACU.csv': {2020: 14, 2021: 233}, 'OPP-P-B.csv': {2021: 12}, 'EPWR-U.csv': {2021: 229}, 'NPV.csv': {1999: 43, 2000: 252, 2001: 248, 2002: 252, 2003: 252, 2004: 252, 2005: 252, 2006: 251, 2007: 251, 2008: 253, 2009: 252, 2010: 252, 2011: 252, 2012: 250, 2013: 252, 2014: 252, 2015: 252, 2016: 252, 2017: 251, 2018: 251, 2019: 252, 2020: 253, 2021: 233}, 'FTAAU.csv': {2021: 199}, 'LUXAW.csv': {2020: 7, 2021: 233}, 'ANAT.csv': {1999: 43, 2000: 252, 2001: 248, 2002: 252, 2003: 252, 2004: 252, 2005: 252, 2006: 251, 2007: 251, 2008: 253, 2009: 252, 2010: 252, 2011: 252, 2012: 250, 2013: 252, 2014: 252, 2015: 252, 2016: 252, 2017: 251, 2018: 251, 2019: 252, 2020: 253, 2021: 233}, 'UMBF.csv': {1999: 43, 2000: 252, 2001: 248, 2002: 252, 2003: 252, 2004: 252, 2005: 252, 2006: 251, 2007: 251, 2008: 253, 2009: 252, 2010: 252, 2011: 252, 2012: 250, 2013: 252, 2014: 252, 2015: 252, 2016: 252, 2017: 251, 2018: 251, 2019: 252, 2020: 253, 2021: 233}, 'LADR.csv': {2014: 228, 2015: 252, 2016: 252, 2017: 251, 2018: 251, 2019: 252, 2020: 253, 2021: 233}, 'TEAM.csv': {2015: 15, 2016: 252, 2017: 251, 2018: 251, 2019: 252, 2020: 253, 2021: 233}, 'SCPL.csv': {2019: 168, 2020: 253, 2021: 233}, 'SRDX.csv': {1999: 43, 2000: 252, 2001: 248, 2002: 252, 2003: 252, 2004: 252, 2005: 252, 2006: 251, 2007: 251, 2008: 253, 2009: 252, 2010: 252, 2011: 252, 2012: 250, 2013: 252, 2014: 252, 2015: 252, 2016: 252, 2017: 251, 2018: 251, 2019: 252, 2020: 253, 2021: 233}, 'CSAN-W.csv': {2021: 3}, 'NSIT.csv': {1999: 43, 2000: 252, 2001: 248, 2002: 252, 2003: 252, 2004: 252, 2005: 252, 2006: 251, 2007: 251, 2008: 253, 2009: 252, 2010: 252, 2011: 252, 2012: 250, 2013: 252, 2014: 252, 2015: 252, 2016: 252, 2017: 251, 2018: 251, 2019: 252, 2020: 253, 2021: 233}, 'NRXPW.csv': {2017: 13, 2018: 64, 2019: 49, 2020: 198, 2021: 233}, 'CATC.csv': {2017: 231, 2018: 251, 2019: 252, 2020: 253, 2021: 233}, 'KVSC.csv': {2021: 178}, 'TVTX.csv': {2012: 36, 2013: 252, 2014: 252, 2015: 252, 2016: 252, 2017: 251, 2018: 251, 2019: 252, 2020: 253, 2021: 233}, 'OPFI.csv': {2020: 28, 2021: 233}, 'TMAC-WS.csv': {2021: 176}, 'ABEV.csv': {1999: 43, 2000: 252, 2001: 248, 2002: 252, 2003: 252, 2004: 252, 2005: 252, 2006: 251, 2007: 251, 2008: 253, 2009: 252, 2010: 252, 2011: 252, 2012: 250, 2013: 252, 2014: 252, 2015: 252, 2016: 252, 2017: 251, 2018: 251, 2019: 252, 2020: 253, 2021: 233}, 'AIZ.csv': {2004: 229, 2005: 252, 2006: 251, 2007: 251, 2008: 253, 2009: 252, 2010: 252, 2011: 252, 2012: 250, 2013: 252, 2014: 252, 2015: 252, 2016: 252, 2017: 251, 2018: 251, 2019: 252, 2020: 253, 2021: 233}, 'KLR-WS.csv': {2018: 233, 2019: 203, 2020: 226, 2021: 232}, 'AVACU.csv': {2021: 42}, 'LEVI.csv': {2019: 198, 2020: 253, 2021: 233}, 'GHY.csv': {2012: 5, 2013: 252, 2014: 252, 2015: 252, 2016: 252, 2017: 251, 2018: 251, 2019: 252, 2020: 253, 2021: 233}, 'USPH.csv': {1999: 43, 2000: 252, 2001: 248, 2002: 252, 2003: 252, 2004: 252, 2005: 252, 2006: 251, 2007: 251, 2008: 253, 2009: 252, 2010: 252, 2011: 252, 2012: 250, 2013: 252, 2014: 252, 2015: 252, 2016: 252, 2017: 251, 2018: 251, 2019: 252, 2020: 253, 2021: 233}, 'QGEN.csv': {1999: 43, 2000: 252, 2001: 248, 2002: 252, 2003: 252, 2004: 252, 2005: 252, 2006: 251, 2007: 251, 2008: 253, 2009: 252, 2010: 252, 2011: 252, 2012: 250, 2013: 252, 2014: 252, 2015: 252, 2016: 252, 2017: 251, 2018: 251, 2019: 252, 2020: 253, 2021: 233}, 'OUT.csv': {2014: 193, 2015: 252, 2016: 252, 2017: 251, 2018: 251, 2019: 252, 2020: 253, 2021: 233}, 'VMW.csv': {2007: 96, 2008: 253, 2009: 252, 2010: 252, 2011: 252, 2012: 250, 2013: 252, 2014: 252, 2015: 252, 2016: 252, 2017: 251, 2018: 251, 2019: 252, 2020: 253, 2021: 233}, 'EM.csv': {2021: 172}, 'NH.csv': {2016: 148, 2017: 251, 2018: 251, 2019: 252, 2020: 253, 2021: 233}, 'ANZUU.csv': {2021: 194}, 'CFR-P-A-CL.csv': {2020: 19}, 'PAYS.csv': {2007: 57, 2008: 253, 2009: 252, 2010: 252, 2011: 252, 2012: 250, 2013: 252, 2014: 252, 2015: 252, 2016: 252, 2017: 251, 2018: 251, 2019: 252, 2020: 253, 2021: 233}, 'QDEL.csv': {1999: 43, 2000: 252, 2001: 248, 2002: 252, 2003: 252, 2004: 252, 2005: 252, 2006: 251, 2007: 251, 2008: 253, 2009: 252, 2010: 252, 2011: 252, 2012: 250, 2013: 252, 2014: 252, 2015: 252, 2016: 252, 2017: 251, 2018: 251, 2019: 252, 2020: 253, 2021: 233}, 'EVT.csv': {2003: 67, 2004: 252, 2005: 252, 2006: 251, 2007: 251, 2008: 253, 2009: 252, 2010: 252, 2011: 252, 2012: 250, 2013: 252, 2014: 252, 2015: 252, 2016: 252, 2017: 251, 2018: 251, 2019: 252, 2020: 253, 2021: 233}, 'ASRVP.csv': {2021: 87}, 'NEPH.csv': {2009: 9, 2016: 200, 2017: 251, 2018: 250, 2019: 252, 2020: 253, 2021: 233}, 'LNN.csv': {1999: 43, 2000: 252, 2001: 248, 2002: 252, 2003: 252, 2004: 252, 2005: 252, 2006: 251, 2007: 251, 2008: 253, 2009: 252, 2010: 252, 2011: 252, 2012: 250, 2013: 252, 2014: 252, 2015: 252, 2016: 252, 2017: 251, 2018: 251, 2019: 252, 2020: 253, 2021: 233}, 'MNR-P-C.csv': {2016: 81, 2017: 251, 2018: 251, 2019: 252, 2020: 253, 2021: 233}, 'XRAY.csv': {1999: 43, 2000: 252, 2001: 248, 2002: 252, 2003: 252, 2004: 252, 2005: 252, 2006: 251, 2007: 251, 2008: 253, 2009: 252, 2010: 252, 2011: 252, 2012: 250, 2013: 252, 2014: 252, 2015: 252, 2016: 252, 2017: 251, 2018: 251, 2019: 252, 2020: 253, 2021: 233}, 'IRS.csv': {1999: 43, 2000: 252, 2001: 248, 2002: 252, 2003: 252, 2004: 252, 2005: 252, 2006: 251, 2007: 251, 2008: 253, 2009: 252, 2010: 252, 2011: 252, 2012: 250, 2013: 252, 2014: 252, 2015: 252, 2016: 252, 2017: 251, 2018: 251, 2019: 252, 2020: 253, 2021: 233}, 'CLNY-P-J.csv': {2017: 75, 2018: 251, 2019: 252, 2020: 253, 2021: 118}, 'PVL.csv': {2011: 40, 2012: 250, 2013: 252, 2014: 251, 2015: 252, 2016: 251, 2017: 251, 2018: 251, 2019: 252, 2020: 253, 2021: 233}}\n"
          ]
        }
      ]
    },
    {
      "cell_type": "markdown",
      "metadata": {
        "id": "XEZrL_B6_mWa"
      },
      "source": [
        "#### We'll just look at the data from the years we are interested in: 2002 to 2019."
      ]
    },
    {
      "cell_type": "code",
      "metadata": {
        "id": "CJZGnA2P_0Om"
      },
      "source": [
        "analysis_years = range(2002, 2020)"
      ],
      "execution_count": null,
      "outputs": []
    },
    {
      "cell_type": "code",
      "metadata": {
        "id": "b5PgWeycoJ0F",
        "colab": {
          "base_uri": "https://localhost:8080/",
          "height": 518
        },
        "outputId": "7fec9f5b-14d5-48e8-804a-5b7ea87ca467"
      },
      "source": [
        "from matplotlib import rcParams\n",
        "rcParams['figure.figsize'] = 15, 8\n",
        "\n",
        "count_unique = 1\n",
        "stocks_with_all_analysis_yrs = []\n",
        "last = None\n",
        "\n",
        "for i, (key, rows_dict) in enumerate(rows_per_year.items()):\n",
        "  if all(analysis_year in rows_dict for analysis_year in analysis_years):\n",
        "    stocks_with_all_analysis_yrs.append(key)\n",
        "    if last is None: last = rows_dict\n",
        "    elif rows_dict != last: count_unique += 1\n",
        "    as_list = sorted(rows_dict.items())\n",
        "    year, row_count = zip(*as_list)\n",
        "    plt.plot(year, row_count)\n",
        "\n",
        "print(len(stocks_with_all_analysis_yrs), \"stocks have data in each of the years in\", analysis_years)\n",
        "print(\"There are\", count_unique, \"unique rows-per-year patterns among those stocks\")"
      ],
      "execution_count": null,
      "outputs": [
        {
          "output_type": "stream",
          "name": "stdout",
          "text": [
            "27 stocks have data in each of the years in range(2002, 2020)\n",
            "There are 4 unique rows-per-year patterns among those stocks\n"
          ]
        },
        {
          "output_type": "display_data",
          "data": {
            "image/png": "[encoded data removed]",
            "text/plain": [
              "<Figure size 1080x576 with 1 Axes>"
            ]
          },
          "metadata": {
            "needs_background": "light"
          }
        }
      ]
    },
    {
      "cell_type": "markdown",
      "metadata": {
        "id": "KYhABv9ktmPh"
      },
      "source": [
        "### Step 1: Visualize the time series data of adjusted closing price per day over this span."
      ]
    },
    {
      "cell_type": "code",
      "metadata": {
        "id": "6BBSvJx42Kvz",
        "colab": {
          "base_uri": "https://localhost:8080/",
          "height": 500
        },
        "outputId": "018f12e4-9cd9-4e80-b8a9-3d5c557257db"
      },
      "source": [
        "for i, data_file in enumerate(stocks_with_all_analysis_yrs):\n",
        "  stock_data = pd.read_csv(os.path.join(in_dir, data_file))\n",
        "  stock_data = add_year_col(stock_data, \"timestamp\")\n",
        "  stock_data = stock_data[stock_data.year.isin(analysis_years)]\n",
        "  stock_data.reset_index(inplace = True)\n",
        "  plt.plot(stock_data.timestamp_as_dt, stock_data.adjusted_close, label = stock_data.symbol[0])\n",
        "plt.legend(loc='center left', bbox_to_anchor=(1, 0.5))"
      ],
      "execution_count": null,
      "outputs": [
        {
          "output_type": "execute_result",
          "data": {
            "text/plain": [
              "<matplotlib.legend.Legend at 0x7f05d0330fd0>"
            ]
          },
          "metadata": {},
          "execution_count": 11
        },
        {
          "output_type": "display_data",
          "data": {
            "image/png": "[encoded data removed]",
            "text/plain": [
              "<Figure size 1080x576 with 1 Axes>"
            ]
          },
          "metadata": {
            "needs_background": "light"
          }
        }
      ]
    },
    {
      "cell_type": "markdown",
      "metadata": {
        "id": "Id15z810Lf0t"
      },
      "source": [
        "### Step 2: Stationarize the series\n",
        "\n",
        "Next we'll have to check if our time series data is stationary, and stationarize it if it isnt"
      ]
    },
    {
      "cell_type": "code",
      "metadata": {
        "id": "bDyPPJwcOt_D"
      },
      "source": [
        "#check for stationarity\n"
      ],
      "execution_count": null,
      "outputs": []
    },
    {
      "cell_type": "markdown",
      "source": [
        "### Step 3: Add features to stock price\n",
        "\n",
        "Add independent variables into dataframe as features for one particular stock as an example.  \n",
        "Try using pandas before running huge data in spark.  "
      ],
      "metadata": {
        "id": "AZIMhDz8WCqX"
      }
    },
    {
      "cell_type": "code",
      "source": [
        "ticker = 'ABM.csv'                      # change ticker to try different stock\n",
        "\n",
        "stock_data = pd.read_csv(os.path.join(in_dir, ticker)).copy()\n",
        "stock_data = stock_data.drop(columns=['open', 'high', 'low', 'close', 'volume', 'dividend_amount', 'split_coefficient'])\n",
        "\n",
        "technical_data = pd.read_csv(os.path.join(tech_dir, ticker)).copy()\n",
        "technical_data = technical_data.drop(columns=['symbol'])\n",
        "\n",
        "stock_df = pd.merge(stock_data, technical_data, on='timestamp')\n",
        "stock_df.info()"
      ],
      "metadata": {
        "colab": {
          "base_uri": "https://localhost:8080/"
        },
        "id": "0pn-8VtOWSAH",
        "outputId": "f8e256aa-25b5-4fe0-d6ab-837281ee5209"
      },
      "execution_count": null,
      "outputs": [
        {
          "output_type": "stream",
          "name": "stdout",
          "text": [
            "<class 'pandas.core.frame.DataFrame'>\n",
            "Int64Index: 5501 entries, 0 to 5500\n",
            "Data columns (total 14 columns):\n",
            " #   Column            Non-Null Count  Dtype  \n",
            "---  ------            --------------  -----  \n",
            " 0   symbol            5501 non-null   object \n",
            " 1   timestamp         5501 non-null   object \n",
            " 2   adjusted_close    5501 non-null   float64\n",
            " 3   SMA               5501 non-null   float64\n",
            " 4   EMA               5501 non-null   float64\n",
            " 5   MACD              5501 non-null   float64\n",
            " 6   MACD_Hist         5501 non-null   float64\n",
            " 7   MACD_Signal       5501 non-null   float64\n",
            " 8   SlowD             5501 non-null   float64\n",
            " 9   SlowK             5501 non-null   float64\n",
            " 10  RSI               5501 non-null   float64\n",
            " 11  Real_Lower_Band   5501 non-null   float64\n",
            " 12  Real_Middle_Band  5501 non-null   float64\n",
            " 13  Real_Upper_Band   5501 non-null   float64\n",
            "dtypes: float64(12), object(2)\n",
            "memory usage: 644.6+ KB\n"
          ]
        }
      ]
    },
    {
      "cell_type": "markdown",
      "source": [
        "### Step 4: Check correlation of stock and technical data to find pattern.  \n",
        "\n",
        "Check correlation of stock and technical data.  \n",
        "Plot the correlation matrix.  "
      ],
      "metadata": {
        "id": "mJSAvAX6jy_R"
      }
    },
    {
      "cell_type": "code",
      "source": [
        "corr = stock_df.corr(method ='pearson')\n",
        "\n",
        "from string import ascii_letters\n",
        "\n",
        "sns.set(style = \"white\")\n",
        "\n",
        "# Generate a large random dataset\n",
        "rs = np.random.RandomState(33)\n",
        "d = pd.DataFrame(data=rs.normal(size=(100, 26)),\n",
        "                 columns=list(ascii_letters[26:]))\n",
        "\n",
        "# Generate a mask for the upper triangle\n",
        "mask = np.zeros_like(corr, dtype=np.bool)\n",
        "mask[np.triu_indices_from(mask)] = True\n",
        "\n",
        "# Set up the matplotlib figure\n",
        "f, ax = plt.subplots(figsize=(11, 9))\n",
        "\n",
        "# Generate a custom diverging colormap\n",
        "cmap = sns.diverging_palette(220, 10, as_cmap=True)\n",
        "\n",
        "# Draw the heatmap with the mask and correct aspect ratio\n",
        "sns.heatmap(corr, mask=mask, cmap=cmap, vmax=.3, center=0,\n",
        "            square=True, linewidths=.5, cbar_kws={\"shrink\": .5})\n",
        "plt.title(\"Correlation Heatmap: Stock & Technical Data\")\n",
        "plt.show()"
      ],
      "metadata": {
        "colab": {
          "base_uri": "https://localhost:8080/",
          "height": 645
        },
        "id": "LJaXMOffkO9t",
        "outputId": "e8da8fa6-fca8-49c5-ac72-b66062eefec2"
      },
      "execution_count": null,
      "outputs": [
        {
          "output_type": "display_data",
          "data": {
            "image/png": "[encoded data removed]",
            "text/plain": [
              "<Figure size 792x648 with 2 Axes>"
            ]
          },
          "metadata": {}
        }
      ]
    },
    {
      "cell_type": "markdown",
      "source": [
        "### Step 5: Run linear regression on adjusted_close with technical data \n",
        "features.  "
      ],
      "metadata": {
        "id": "C_J3ps41pUtk"
      }
    },
    {
      "cell_type": "code",
      "source": [
        "# ML\n",
        "from sklearn.linear_model import LinearRegression\n",
        "from sklearn.preprocessing import PolynomialFeatures\n",
        "\n",
        "# Statistics\n",
        "import statsmodels.formula.api as smf\n",
        "import statsmodels.api as sm\n",
        "\n",
        "# Evaluation Metrics\n",
        "from sklearn.metrics import mean_absolute_error\n",
        "from sklearn.metrics import mean_squared_error\n",
        "from sklearn.metrics import r2_score\n",
        "\n",
        "formula = 'adjusted_close ~ SMA + EMA + MACD + MACD_Hist + MACD_Signal + SlowD + SlowK + RSI + Real_Lower_Band + Real_Middle_Band + Real_Upper_Band'\n",
        "model1 = smf.ols(formula=formula, data=stock_df).fit()\n",
        "print(model1.params)\n",
        "model1.summary()\n",
        "\n"
      ],
      "metadata": {
        "colab": {
          "base_uri": "https://localhost:8080/",
          "height": 914
        },
        "id": "4I492hGrqUVb",
        "outputId": "e61c7abf-6dfe-402b-8946-44e40adbf65a"
      },
      "execution_count": null,
      "outputs": [
        {
          "output_type": "stream",
          "name": "stdout",
          "text": [
            "Intercept           -3.919292\n",
            "SMA                 44.312710\n",
            "EMA                  1.087606\n",
            "MACD                48.179520\n",
            "MACD_Hist          -44.804852\n",
            "MACD_Signal        -45.952384\n",
            "SlowD               -0.013489\n",
            "SlowK                0.015265\n",
            "RSI                  0.073288\n",
            "Real_Lower_Band    -44.345626\n",
            "Real_Middle_Band    44.312710\n",
            "Real_Upper_Band    -44.359599\n",
            "dtype: float64\n"
          ]
        },
        {
          "output_type": "execute_result",
          "data": {
            "text/html": [
              "<table class=\"simpletable\">\n",
              "<caption>OLS Regression Results</caption>\n",
              "<tr>\n",
              "  <th>Dep. Variable:</th>     <td>adjusted_close</td>  <th>  R-squared:         </th> <td>   0.999</td> \n",
              "</tr>\n",
              "<tr>\n",
              "  <th>Model:</th>                   <td>OLS</td>       <th>  Adj. R-squared:    </th> <td>   0.999</td> \n",
              "</tr>\n",
              "<tr>\n",
              "  <th>Method:</th>             <td>Least Squares</td>  <th>  F-statistic:       </th> <td>4.287e+05</td>\n",
              "</tr>\n",
              "<tr>\n",
              "  <th>Date:</th>             <td>Fri, 10 Dec 2021</td> <th>  Prob (F-statistic):</th>  <td>  0.00</td>  \n",
              "</tr>\n",
              "<tr>\n",
              "  <th>Time:</th>                 <td>15:19:50</td>     <th>  Log-Likelihood:    </th> <td> -2499.3</td> \n",
              "</tr>\n",
              "<tr>\n",
              "  <th>No. Observations:</th>      <td>  5501</td>      <th>  AIC:               </th> <td>   5021.</td> \n",
              "</tr>\n",
              "<tr>\n",
              "  <th>Df Residuals:</th>          <td>  5490</td>      <th>  BIC:               </th> <td>   5093.</td> \n",
              "</tr>\n",
              "<tr>\n",
              "  <th>Df Model:</th>              <td>    10</td>      <th>                     </th>     <td> </td>    \n",
              "</tr>\n",
              "<tr>\n",
              "  <th>Covariance Type:</th>      <td>nonrobust</td>    <th>                     </th>     <td> </td>    \n",
              "</tr>\n",
              "</table>\n",
              "<table class=\"simpletable\">\n",
              "<tr>\n",
              "          <td></td>            <th>coef</th>     <th>std err</th>      <th>t</th>      <th>P>|t|</th>  <th>[0.025</th>    <th>0.975]</th>  \n",
              "</tr>\n",
              "<tr>\n",
              "  <th>Intercept</th>        <td>   -3.9193</td> <td>    0.081</td> <td>  -48.256</td> <td> 0.000</td> <td>   -4.079</td> <td>   -3.760</td>\n",
              "</tr>\n",
              "<tr>\n",
              "  <th>SMA</th>              <td>   44.3127</td> <td>   73.101</td> <td>    0.606</td> <td> 0.544</td> <td>  -98.995</td> <td>  187.620</td>\n",
              "</tr>\n",
              "<tr>\n",
              "  <th>EMA</th>              <td>    1.0876</td> <td>    0.024</td> <td>   45.891</td> <td> 0.000</td> <td>    1.041</td> <td>    1.134</td>\n",
              "</tr>\n",
              "<tr>\n",
              "  <th>MACD</th>             <td>   48.1795</td> <td>  101.921</td> <td>    0.473</td> <td> 0.636</td> <td> -151.627</td> <td>  247.986</td>\n",
              "</tr>\n",
              "<tr>\n",
              "  <th>MACD_Hist</th>        <td>  -44.8049</td> <td>  101.921</td> <td>   -0.440</td> <td> 0.660</td> <td> -244.611</td> <td>  155.001</td>\n",
              "</tr>\n",
              "<tr>\n",
              "  <th>MACD_Signal</th>      <td>  -45.9524</td> <td>  101.922</td> <td>   -0.451</td> <td> 0.652</td> <td> -245.760</td> <td>  153.855</td>\n",
              "</tr>\n",
              "<tr>\n",
              "  <th>SlowD</th>            <td>   -0.0135</td> <td>    0.001</td> <td>  -25.652</td> <td> 0.000</td> <td>   -0.015</td> <td>   -0.012</td>\n",
              "</tr>\n",
              "<tr>\n",
              "  <th>SlowK</th>            <td>    0.0153</td> <td>    0.000</td> <td>   32.255</td> <td> 0.000</td> <td>    0.014</td> <td>    0.016</td>\n",
              "</tr>\n",
              "<tr>\n",
              "  <th>RSI</th>              <td>    0.0733</td> <td>    0.002</td> <td>   44.082</td> <td> 0.000</td> <td>    0.070</td> <td>    0.077</td>\n",
              "</tr>\n",
              "<tr>\n",
              "  <th>Real_Lower_Band</th>  <td>  -44.3456</td> <td>   73.101</td> <td>   -0.607</td> <td> 0.544</td> <td> -187.653</td> <td>   98.961</td>\n",
              "</tr>\n",
              "<tr>\n",
              "  <th>Real_Middle_Band</th> <td>   44.3127</td> <td>   73.101</td> <td>    0.606</td> <td> 0.544</td> <td>  -98.995</td> <td>  187.620</td>\n",
              "</tr>\n",
              "<tr>\n",
              "  <th>Real_Upper_Band</th>  <td>  -44.3596</td> <td>   73.101</td> <td>   -0.607</td> <td> 0.544</td> <td> -187.667</td> <td>   98.947</td>\n",
              "</tr>\n",
              "</table>\n",
              "<table class=\"simpletable\">\n",
              "<tr>\n",
              "  <th>Omnibus:</th>       <td>1089.517</td> <th>  Durbin-Watson:     </th> <td>   0.513</td> \n",
              "</tr>\n",
              "<tr>\n",
              "  <th>Prob(Omnibus):</th>  <td> 0.000</td>  <th>  Jarque-Bera (JB):  </th> <td>34536.237</td>\n",
              "</tr>\n",
              "<tr>\n",
              "  <th>Skew:</th>           <td> 0.103</td>  <th>  Prob(JB):          </th> <td>    0.00</td> \n",
              "</tr>\n",
              "<tr>\n",
              "  <th>Kurtosis:</th>       <td>15.273</td>  <th>  Cond. No.          </th> <td>1.36e+17</td> \n",
              "</tr>\n",
              "</table><br/><br/>Warnings:<br/>[1] Standard Errors assume that the covariance matrix of the errors is correctly specified.<br/>[2] The smallest eigenvalue is 3.35e-27. This might indicate that there are<br/>strong multicollinearity problems or that the design matrix is singular."
            ],
            "text/plain": [
              "<class 'statsmodels.iolib.summary.Summary'>\n",
              "\"\"\"\n",
              "                            OLS Regression Results                            \n",
              "==============================================================================\n",
              "Dep. Variable:         adjusted_close   R-squared:                       0.999\n",
              "Model:                            OLS   Adj. R-squared:                  0.999\n",
              "Method:                 Least Squares   F-statistic:                 4.287e+05\n",
              "Date:                Fri, 10 Dec 2021   Prob (F-statistic):               0.00\n",
              "Time:                        15:19:50   Log-Likelihood:                -2499.3\n",
              "No. Observations:                5501   AIC:                             5021.\n",
              "Df Residuals:                    5490   BIC:                             5093.\n",
              "Df Model:                          10                                         \n",
              "Covariance Type:            nonrobust                                         \n",
              "====================================================================================\n",
              "                       coef    std err          t      P>|t|      [0.025      0.975]\n",
              "------------------------------------------------------------------------------------\n",
              "Intercept           -3.9193      0.081    -48.256      0.000      -4.079      -3.760\n",
              "SMA                 44.3127     73.101      0.606      0.544     -98.995     187.620\n",
              "EMA                  1.0876      0.024     45.891      0.000       1.041       1.134\n",
              "MACD                48.1795    101.921      0.473      0.636    -151.627     247.986\n",
              "MACD_Hist          -44.8049    101.921     -0.440      0.660    -244.611     155.001\n",
              "MACD_Signal        -45.9524    101.922     -0.451      0.652    -245.760     153.855\n",
              "SlowD               -0.0135      0.001    -25.652      0.000      -0.015      -0.012\n",
              "SlowK                0.0153      0.000     32.255      0.000       0.014       0.016\n",
              "RSI                  0.0733      0.002     44.082      0.000       0.070       0.077\n",
              "Real_Lower_Band    -44.3456     73.101     -0.607      0.544    -187.653      98.961\n",
              "Real_Middle_Band    44.3127     73.101      0.606      0.544     -98.995     187.620\n",
              "Real_Upper_Band    -44.3596     73.101     -0.607      0.544    -187.667      98.947\n",
              "==============================================================================\n",
              "Omnibus:                     1089.517   Durbin-Watson:                   0.513\n",
              "Prob(Omnibus):                  0.000   Jarque-Bera (JB):            34536.237\n",
              "Skew:                           0.103   Prob(JB):                         0.00\n",
              "Kurtosis:                      15.273   Cond. No.                     1.36e+17\n",
              "==============================================================================\n",
              "\n",
              "Warnings:\n",
              "[1] Standard Errors assume that the covariance matrix of the errors is correctly specified.\n",
              "[2] The smallest eigenvalue is 3.35e-27. This might indicate that there are\n",
              "strong multicollinearity problems or that the design matrix is singular.\n",
              "\"\"\""
            ]
          },
          "metadata": {},
          "execution_count": 61
        }
      ]
    },
    {
      "cell_type": "markdown",
      "source": [
        "### Step 6: Divide the dataset into training and testing.  Run linear regression model on training dataset and evaluate the model on testing dataset.  "
      ],
      "metadata": {
        "id": "xgUloNd52OFr"
      }
    },
    {
      "cell_type": "code",
      "source": [
        "from sklearn.model_selection import train_test_split\n",
        "\n",
        "# Split the dataset into training and testing\n",
        "\n",
        "train, test = train_test_split(stock_df, test_size=0.20, random_state=42)\n",
        "\n",
        "list_of_features = ['SMA','EMA','MACD','MACD_Hist','MACD_Signal','SlowD','SlowK','RSI','Real_Lower_Band','Real_Middle_Band','Real_Upper_Band']\n",
        "X_train = train[list_of_features]\n",
        "y_train = train[['adjusted_close']]\n",
        "X_test = test[list_of_features]\n",
        "y_test = test[['adjusted_close']]\n",
        "\n",
        "# Run linear regression model on training dataset and then test model\n",
        "\n",
        "model2 = smf.ols(formula=formula, data=train).fit()\n",
        "y_pred = model2.predict(X_test)\n",
        "\n",
        "# Evaluate performance of linear regression model\n",
        "\n",
        "print('R Squared =', model2.rsquared)\n",
        "print('R Squared_adj =', model2.rsquared_adj)\n",
        "print('MAE =', mean_absolute_error(y_test, y_pred))\n",
        "print('MSE =', mean_squared_error(y_test, y_pred))\n",
        "print('RMSE =', np.sqrt(mean_squared_error(y_test, y_pred)))\n"
      ],
      "metadata": {
        "colab": {
          "base_uri": "https://localhost:8080/"
        },
        "id": "lY2mQp6T2ki3",
        "outputId": "962d4fdf-4833-4ce9-f0e6-4757c03c1a0b"
      },
      "execution_count": null,
      "outputs": [
        {
          "output_type": "stream",
          "name": "stdout",
          "text": [
            "R Squared = 0.9987284873094353\n",
            "R Squared_adj = 0.9987255902652554\n",
            "MAE = 0.2591705707442236\n",
            "MSE = 0.15748895276002223\n",
            "RMSE = 0.3968487782014986\n"
          ]
        }
      ]
    },
    {
      "cell_type": "markdown",
      "source": [
        "# Section 2: Structuring Data: Acquisition, Wrangling, Integration, Cleaning.  "
      ],
      "metadata": {
        "id": "yqflBPq6YuDq"
      }
    },
    {
      "cell_type": "markdown",
      "source": [
        "### Step 0: Setting up AWS environment"
      ],
      "metadata": {
        "id": "7qEh0yC2dHfY"
      }
    },
    {
      "cell_type": "code",
      "source": [
        "%%capture\n",
        "!apt update\n",
        "!apt install gcc python-dev libkrb5-dev\n",
        "!pip install sparkmagic\n",
        "\n",
        "%load_ext sparkmagic.magics \n",
        "\n",
        "%spark add -s spark_session -l python -u \thttp://ec2-54-146-11-159.compute-1.amazonaws.com -a cis545-livy -p 2wsxxsw2 -t Basic_Access\n",
        "\n",
        "from pyspark import SparkContext\n",
        "from pyspark.sql import SparkSession\n",
        "from pyspark.sql.types import *\n"
      ],
      "metadata": {
        "id": "OOSIIVa8dgFf",
        "colab": {
          "base_uri": "https://localhost:8080/",
          "height": 53
        },
        "outputId": "fe8f5e80-3db4-494b-8ff6-3dd67a671a35"
      },
      "execution_count": null,
      "outputs": [
        {
          "output_type": "stream",
          "name": "stderr",
          "text": [
            "An error was encountered:\n",
            "Error sending http request and maximum retry encountered.\n"
          ]
        }
      ]
    },
    {
      "cell_type": "markdown",
      "source": [
        "### Step 1: Acquire stock price data for 500 stocks over the period of 2002-2019.  "
      ],
      "metadata": {
        "id": "73SQVQlTX9bW"
      }
    },
    {
      "cell_type": "code",
      "source": [
        "import math\n",
        "\n",
        "stock_data_files = os.listdir(in_dir)\n",
        "print(len(stock_data_files))\n",
        "\n",
        "all_stock_data = pd.DataFrame()\n",
        "\n",
        "for file in stock_data_files: \n",
        "    stock_data = pd.read_csv(os.path.join(in_dir, file))\n",
        "    all_stock_data = all_stock_data.append(stock_data)\n",
        "\n",
        "all_stock_data = all_stock_data[['symbol', 'timestamp', 'adjusted_close']]\n",
        "all_stock_data['timestamp'] = pd.to_datetime(all_stock_data.timestamp)\n",
        "all_stock_data = all_stock_data[all_stock_data['timestamp'] < pd.Timestamp(2020,1,1)]\n",
        "all_stock_data['price_DoD'] = all_stock_data['adjusted_close'].pct_change(1)\n",
        "\n",
        "# add quarter / month column\n",
        "all_stock_data['quarter'] = all_stock_data['timestamp'].dt.to_period('Q')\n",
        "all_stock_data['month'] = all_stock_data['timestamp'].dt.to_period('M')\n",
        "\n",
        "all_stock_data.head()"
      ],
      "metadata": {
        "id": "Y9sMnBkKZQhT",
        "colab": {
          "base_uri": "https://localhost:8080/",
          "height": 224
        },
        "outputId": "9e09148f-d18b-4d36-ed4e-a3697322123c"
      },
      "execution_count": null,
      "outputs": [
        {
          "output_type": "stream",
          "name": "stdout",
          "text": [
            "100\n"
          ]
        },
        {
          "output_type": "execute_result",
          "data": {
            "text/html": [
              "\n",
              "  <div id=\"df-20ac23c0-bc89-4ba1-a76a-c977eae99f43\">\n",
              "    <div class=\"colab-df-container\">\n",
              "      <div>\n",
              "<style scoped>\n",
              "    .dataframe tbody tr th:only-of-type {\n",
              "        vertical-align: middle;\n",
              "    }\n",
              "\n",
              "    .dataframe tbody tr th {\n",
              "        vertical-align: top;\n",
              "    }\n",
              "\n",
              "    .dataframe thead th {\n",
              "        text-align: right;\n",
              "    }\n",
              "</style>\n",
              "<table border=\"1\" class=\"dataframe\">\n",
              "  <thead>\n",
              "    <tr style=\"text-align: right;\">\n",
              "      <th></th>\n",
              "      <th>symbol</th>\n",
              "      <th>timestamp</th>\n",
              "      <th>adjusted_close</th>\n",
              "      <th>price_DoD</th>\n",
              "      <th>quarter</th>\n",
              "      <th>month</th>\n",
              "    </tr>\n",
              "  </thead>\n",
              "  <tbody>\n",
              "    <tr>\n",
              "      <th>486</th>\n",
              "      <td>USPH</td>\n",
              "      <td>2019-12-31</td>\n",
              "      <td>112.408365</td>\n",
              "      <td>NaN</td>\n",
              "      <td>2019Q4</td>\n",
              "      <td>2019-12</td>\n",
              "    </tr>\n",
              "    <tr>\n",
              "      <th>487</th>\n",
              "      <td>USPH</td>\n",
              "      <td>2019-12-30</td>\n",
              "      <td>111.926685</td>\n",
              "      <td>-0.004285</td>\n",
              "      <td>2019Q4</td>\n",
              "      <td>2019-12</td>\n",
              "    </tr>\n",
              "    <tr>\n",
              "      <th>488</th>\n",
              "      <td>USPH</td>\n",
              "      <td>2019-12-27</td>\n",
              "      <td>112.064308</td>\n",
              "      <td>0.001230</td>\n",
              "      <td>2019Q4</td>\n",
              "      <td>2019-12</td>\n",
              "    </tr>\n",
              "    <tr>\n",
              "      <th>489</th>\n",
              "      <td>USPH</td>\n",
              "      <td>2019-12-26</td>\n",
              "      <td>112.044648</td>\n",
              "      <td>-0.000175</td>\n",
              "      <td>2019Q4</td>\n",
              "      <td>2019-12</td>\n",
              "    </tr>\n",
              "    <tr>\n",
              "      <th>490</th>\n",
              "      <td>USPH</td>\n",
              "      <td>2019-12-24</td>\n",
              "      <td>113.578159</td>\n",
              "      <td>0.013687</td>\n",
              "      <td>2019Q4</td>\n",
              "      <td>2019-12</td>\n",
              "    </tr>\n",
              "  </tbody>\n",
              "</table>\n",
              "</div>\n",
              "      <button class=\"colab-df-convert\" onclick=\"convertToInteractive('df-20ac23c0-bc89-4ba1-a76a-c977eae99f43')\"\n",
              "              title=\"Convert this dataframe to an interactive table.\"\n",
              "              style=\"display:none;\">\n",
              "        \n",
              "  <svg xmlns=\"http://www.w3.org/2000/svg\" height=\"24px\"viewBox=\"0 0 24 24\"\n",
              "       width=\"24px\">\n",
              "    <path d=\"M0 0h24v24H0V0z\" fill=\"none\"/>\n",
              "    <path d=\"M18.56 5.44l.94 2.06.94-2.06 2.06-.94-2.06-.94-.94-2.06-.94 2.06-2.06.94zm-11 1L8.5 8.5l.94-2.06 2.06-.94-2.06-.94L8.5 2.5l-.94 2.06-2.06.94zm10 10l.94 2.06.94-2.06 2.06-.94-2.06-.94-.94-2.06-.94 2.06-2.06.94z\"/><path d=\"M17.41 7.96l-1.37-1.37c-.4-.4-.92-.59-1.43-.59-.52 0-1.04.2-1.43.59L10.3 9.45l-7.72 7.72c-.78.78-.78 2.05 0 2.83L4 21.41c.39.39.9.59 1.41.59.51 0 1.02-.2 1.41-.59l7.78-7.78 2.81-2.81c.8-.78.8-2.07 0-2.86zM5.41 20L4 18.59l7.72-7.72 1.47 1.35L5.41 20z\"/>\n",
              "  </svg>\n",
              "      </button>\n",
              "      \n",
              "  <style>\n",
              "    .colab-df-container {\n",
              "      display:flex;\n",
              "      flex-wrap:wrap;\n",
              "      gap: 12px;\n",
              "    }\n",
              "\n",
              "    .colab-df-convert {\n",
              "      background-color: #E8F0FE;\n",
              "      border: none;\n",
              "      border-radius: 50%;\n",
              "      cursor: pointer;\n",
              "      display: none;\n",
              "      fill: #1967D2;\n",
              "      height: 32px;\n",
              "      padding: 0 0 0 0;\n",
              "      width: 32px;\n",
              "    }\n",
              "\n",
              "    .colab-df-convert:hover {\n",
              "      background-color: #E2EBFA;\n",
              "      box-shadow: 0px 1px 2px rgba(60, 64, 67, 0.3), 0px 1px 3px 1px rgba(60, 64, 67, 0.15);\n",
              "      fill: #174EA6;\n",
              "    }\n",
              "\n",
              "    [theme=dark] .colab-df-convert {\n",
              "      background-color: #3B4455;\n",
              "      fill: #D2E3FC;\n",
              "    }\n",
              "\n",
              "    [theme=dark] .colab-df-convert:hover {\n",
              "      background-color: #434B5C;\n",
              "      box-shadow: 0px 1px 3px 1px rgba(0, 0, 0, 0.15);\n",
              "      filter: drop-shadow(0px 1px 2px rgba(0, 0, 0, 0.3));\n",
              "      fill: #FFFFFF;\n",
              "    }\n",
              "  </style>\n",
              "\n",
              "      <script>\n",
              "        const buttonEl =\n",
              "          document.querySelector('#df-20ac23c0-bc89-4ba1-a76a-c977eae99f43 button.colab-df-convert');\n",
              "        buttonEl.style.display =\n",
              "          google.colab.kernel.accessAllowed ? 'block' : 'none';\n",
              "\n",
              "        async function convertToInteractive(key) {\n",
              "          const element = document.querySelector('#df-20ac23c0-bc89-4ba1-a76a-c977eae99f43');\n",
              "          const dataTable =\n",
              "            await google.colab.kernel.invokeFunction('convertToInteractive',\n",
              "                                                     [key], {});\n",
              "          if (!dataTable) return;\n",
              "\n",
              "          const docLinkHtml = 'Like what you see? Visit the ' +\n",
              "            '<a target=\"_blank\" href=https://colab.research.google.com/notebooks/data_table.ipynb>data table notebook</a>'\n",
              "            + ' to learn more about interactive tables.';\n",
              "          element.innerHTML = '';\n",
              "          dataTable['output_type'] = 'display_data';\n",
              "          await google.colab.output.renderOutput(dataTable, element);\n",
              "          const docLink = document.createElement('div');\n",
              "          docLink.innerHTML = docLinkHtml;\n",
              "          element.appendChild(docLink);\n",
              "        }\n",
              "      </script>\n",
              "    </div>\n",
              "  </div>\n",
              "  "
            ],
            "text/plain": [
              "    symbol  timestamp  adjusted_close  price_DoD quarter    month\n",
              "486   USPH 2019-12-31      112.408365        NaN  2019Q4  2019-12\n",
              "487   USPH 2019-12-30      111.926685  -0.004285  2019Q4  2019-12\n",
              "488   USPH 2019-12-27      112.064308   0.001230  2019Q4  2019-12\n",
              "489   USPH 2019-12-26      112.044648  -0.000175  2019Q4  2019-12\n",
              "490   USPH 2019-12-24      113.578159   0.013687  2019Q4  2019-12"
            ]
          },
          "metadata": {},
          "execution_count": 89
        }
      ]
    },
    {
      "cell_type": "markdown",
      "source": [
        "### Step 2: Acquire independent variable data.  "
      ],
      "metadata": {
        "id": "PUE6oTdNZRxe"
      }
    },
    {
      "cell_type": "markdown",
      "source": [
        "2(a) Acquire last-twelve-month (LTM) price-to-sales (P/S), price-to-earning (P/E), price-to-book (P/B), price-to-cashflow (P/CF) ratio of each quarter.  "
      ],
      "metadata": {
        "id": "dzRPU-Z7aA0K"
      }
    },
    {
      "cell_type": "code",
      "source": [
        ""
      ],
      "metadata": {
        "id": "g1VDACmkZdCu"
      },
      "execution_count": null,
      "outputs": []
    },
    {
      "cell_type": "markdown",
      "source": [
        "2(b) Acquire quarterly revenue, adjusted earning, cash flow yoy growth rate.  "
      ],
      "metadata": {
        "id": "hxA9_e9OaKoq"
      }
    },
    {
      "cell_type": "code",
      "source": [
        ""
      ],
      "metadata": {
        "id": "tTKX1zqXaO-o"
      },
      "execution_count": null,
      "outputs": []
    },
    {
      "cell_type": "markdown",
      "source": [
        "2(c) Acquire prior day technical indicators of respective stock, including SMA, EMA, VWAP, MACD, STOCH, RSI, ADX, CCI, AROON, BBANDS, AD, OBV.  "
      ],
      "metadata": {
        "id": "E69HjlsHaPSv"
      }
    },
    {
      "cell_type": "code",
      "source": [
        ""
      ],
      "metadata": {
        "id": "L0e6O8OVaUqs"
      },
      "execution_count": null,
      "outputs": []
    },
    {
      "cell_type": "markdown",
      "source": [
        "2(d) Acquire overnight stock index performance of other major stock markets, e.g. FTSE, DAX, CAC, Nikkei, HKSE, SHSE."
      ],
      "metadata": {
        "id": "RvzY6EgUaUz4"
      }
    },
    {
      "cell_type": "code",
      "source": [
        "stockindex_data = pd.read_csv('/content/other_data/stockindex.csv')\n",
        "\n",
        "stockindex_data = stockindex_data[['date', 'FTSE100', 'DAX', 'CAC', 'Nikkei225', 'Hang_Seng', 'SHSZ300']]\n",
        "stockindex_data['date'] = pd.to_datetime(stockindex_data.date)\n",
        "stockindex_data = stockindex_data[stockindex_data['date'] < pd.Timestamp(2020,1,1)]\n",
        "\n",
        "# filling missing data\n",
        "stockindex_data = stockindex_data.fillna(method='ffill')\n",
        "stockindex_data.iloc[0, stockindex_data.columns.get_loc('Nikkei225')] = 10871.49\n",
        "stockindex_data.iloc[1, stockindex_data.columns.get_loc('Nikkei225')] = 10871.49\n",
        "stockindex_data.iloc[0, stockindex_data.columns.get_loc('SHSZ300')] = 1316.46\n",
        "stockindex_data.iloc[1, stockindex_data.columns.get_loc('SHSZ300')] = 1316.46\n",
        "\n",
        "# calculating day-over-day % price change\n",
        "stockindex_data['FTSE100_DoD'] = stockindex_data['FTSE100'].pct_change(1)\n",
        "stockindex_data['DAX_DoD'] = stockindex_data['DAX'].pct_change(1)\n",
        "stockindex_data['CAC_DoD'] = stockindex_data['CAC'].pct_change(1)\n",
        "stockindex_data['Nikkei225_DoD'] = stockindex_data['Nikkei225'].pct_change(1)\n",
        "stockindex_data['Hang_Seng_DoD'] = stockindex_data['Hang_Seng'].pct_change(1)\n",
        "stockindex_data['SHSZ300_DoD'] = stockindex_data['SHSZ300'].pct_change(1)\n",
        "stockindex_data = stockindex_data[['date', 'FTSE100_DoD', 'DAX_DoD', 'CAC_DoD', 'Nikkei225_DoD', 'Hang_Seng_DoD', 'SHSZ300_DoD']]\n",
        "                        \n",
        "stockindex_data.head()"
      ],
      "metadata": {
        "colab": {
          "base_uri": "https://localhost:8080/",
          "height": 206
        },
        "id": "-z2rlZo7abxL",
        "outputId": "a254bae1-c127-4ff1-b254-4c51d2eeb856"
      },
      "execution_count": null,
      "outputs": [
        {
          "output_type": "execute_result",
          "data": {
            "text/html": [
              "\n",
              "  <div id=\"df-486d3294-f35f-4b7f-acdf-cc5e5596f911\">\n",
              "    <div class=\"colab-df-container\">\n",
              "      <div>\n",
              "<style scoped>\n",
              "    .dataframe tbody tr th:only-of-type {\n",
              "        vertical-align: middle;\n",
              "    }\n",
              "\n",
              "    .dataframe tbody tr th {\n",
              "        vertical-align: top;\n",
              "    }\n",
              "\n",
              "    .dataframe thead th {\n",
              "        text-align: right;\n",
              "    }\n",
              "</style>\n",
              "<table border=\"1\" class=\"dataframe\">\n",
              "  <thead>\n",
              "    <tr style=\"text-align: right;\">\n",
              "      <th></th>\n",
              "      <th>date</th>\n",
              "      <th>FTSE100_DoD</th>\n",
              "      <th>DAX_DoD</th>\n",
              "      <th>CAC_DoD</th>\n",
              "      <th>Nikkei225_DoD</th>\n",
              "      <th>Hang_Seng_DoD</th>\n",
              "      <th>SHSZ300_DoD</th>\n",
              "    </tr>\n",
              "  </thead>\n",
              "  <tbody>\n",
              "    <tr>\n",
              "      <th>0</th>\n",
              "      <td>2002-01-02</td>\n",
              "      <td>NaN</td>\n",
              "      <td>NaN</td>\n",
              "      <td>NaN</td>\n",
              "      <td>NaN</td>\n",
              "      <td>NaN</td>\n",
              "      <td>NaN</td>\n",
              "    </tr>\n",
              "    <tr>\n",
              "      <th>1</th>\n",
              "      <td>2002-01-03</td>\n",
              "      <td>0.019259</td>\n",
              "      <td>0.019817</td>\n",
              "      <td>0.021998</td>\n",
              "      <td>0.000000</td>\n",
              "      <td>0.006402</td>\n",
              "      <td>0.000000</td>\n",
              "    </tr>\n",
              "    <tr>\n",
              "      <th>2</th>\n",
              "      <td>2002-01-04</td>\n",
              "      <td>0.000940</td>\n",
              "      <td>0.009191</td>\n",
              "      <td>0.000340</td>\n",
              "      <td>0.000000</td>\n",
              "      <td>0.024391</td>\n",
              "      <td>0.000000</td>\n",
              "    </tr>\n",
              "    <tr>\n",
              "      <th>3</th>\n",
              "      <td>2002-01-07</td>\n",
              "      <td>-0.005673</td>\n",
              "      <td>-0.016265</td>\n",
              "      <td>-0.014361</td>\n",
              "      <td>0.006519</td>\n",
              "      <td>0.016278</td>\n",
              "      <td>-0.010923</td>\n",
              "    </tr>\n",
              "    <tr>\n",
              "      <th>4</th>\n",
              "      <td>2002-01-08</td>\n",
              "      <td>-0.008161</td>\n",
              "      <td>0.000793</td>\n",
              "      <td>-0.010280</td>\n",
              "      <td>-0.022551</td>\n",
              "      <td>-0.015045</td>\n",
              "      <td>-0.007196</td>\n",
              "    </tr>\n",
              "  </tbody>\n",
              "</table>\n",
              "</div>\n",
              "      <button class=\"colab-df-convert\" onclick=\"convertToInteractive('df-486d3294-f35f-4b7f-acdf-cc5e5596f911')\"\n",
              "              title=\"Convert this dataframe to an interactive table.\"\n",
              "              style=\"display:none;\">\n",
              "        \n",
              "  <svg xmlns=\"http://www.w3.org/2000/svg\" height=\"24px\"viewBox=\"0 0 24 24\"\n",
              "       width=\"24px\">\n",
              "    <path d=\"M0 0h24v24H0V0z\" fill=\"none\"/>\n",
              "    <path d=\"M18.56 5.44l.94 2.06.94-2.06 2.06-.94-2.06-.94-.94-2.06-.94 2.06-2.06.94zm-11 1L8.5 8.5l.94-2.06 2.06-.94-2.06-.94L8.5 2.5l-.94 2.06-2.06.94zm10 10l.94 2.06.94-2.06 2.06-.94-2.06-.94-.94-2.06-.94 2.06-2.06.94z\"/><path d=\"M17.41 7.96l-1.37-1.37c-.4-.4-.92-.59-1.43-.59-.52 0-1.04.2-1.43.59L10.3 9.45l-7.72 7.72c-.78.78-.78 2.05 0 2.83L4 21.41c.39.39.9.59 1.41.59.51 0 1.02-.2 1.41-.59l7.78-7.78 2.81-2.81c.8-.78.8-2.07 0-2.86zM5.41 20L4 18.59l7.72-7.72 1.47 1.35L5.41 20z\"/>\n",
              "  </svg>\n",
              "      </button>\n",
              "      \n",
              "  <style>\n",
              "    .colab-df-container {\n",
              "      display:flex;\n",
              "      flex-wrap:wrap;\n",
              "      gap: 12px;\n",
              "    }\n",
              "\n",
              "    .colab-df-convert {\n",
              "      background-color: #E8F0FE;\n",
              "      border: none;\n",
              "      border-radius: 50%;\n",
              "      cursor: pointer;\n",
              "      display: none;\n",
              "      fill: #1967D2;\n",
              "      height: 32px;\n",
              "      padding: 0 0 0 0;\n",
              "      width: 32px;\n",
              "    }\n",
              "\n",
              "    .colab-df-convert:hover {\n",
              "      background-color: #E2EBFA;\n",
              "      box-shadow: 0px 1px 2px rgba(60, 64, 67, 0.3), 0px 1px 3px 1px rgba(60, 64, 67, 0.15);\n",
              "      fill: #174EA6;\n",
              "    }\n",
              "\n",
              "    [theme=dark] .colab-df-convert {\n",
              "      background-color: #3B4455;\n",
              "      fill: #D2E3FC;\n",
              "    }\n",
              "\n",
              "    [theme=dark] .colab-df-convert:hover {\n",
              "      background-color: #434B5C;\n",
              "      box-shadow: 0px 1px 3px 1px rgba(0, 0, 0, 0.15);\n",
              "      filter: drop-shadow(0px 1px 2px rgba(0, 0, 0, 0.3));\n",
              "      fill: #FFFFFF;\n",
              "    }\n",
              "  </style>\n",
              "\n",
              "      <script>\n",
              "        const buttonEl =\n",
              "          document.querySelector('#df-486d3294-f35f-4b7f-acdf-cc5e5596f911 button.colab-df-convert');\n",
              "        buttonEl.style.display =\n",
              "          google.colab.kernel.accessAllowed ? 'block' : 'none';\n",
              "\n",
              "        async function convertToInteractive(key) {\n",
              "          const element = document.querySelector('#df-486d3294-f35f-4b7f-acdf-cc5e5596f911');\n",
              "          const dataTable =\n",
              "            await google.colab.kernel.invokeFunction('convertToInteractive',\n",
              "                                                     [key], {});\n",
              "          if (!dataTable) return;\n",
              "\n",
              "          const docLinkHtml = 'Like what you see? Visit the ' +\n",
              "            '<a target=\"_blank\" href=https://colab.research.google.com/notebooks/data_table.ipynb>data table notebook</a>'\n",
              "            + ' to learn more about interactive tables.';\n",
              "          element.innerHTML = '';\n",
              "          dataTable['output_type'] = 'display_data';\n",
              "          await google.colab.output.renderOutput(dataTable, element);\n",
              "          const docLink = document.createElement('div');\n",
              "          docLink.innerHTML = docLinkHtml;\n",
              "          element.appendChild(docLink);\n",
              "        }\n",
              "      </script>\n",
              "    </div>\n",
              "  </div>\n",
              "  "
            ],
            "text/plain": [
              "        date  FTSE100_DoD   DAX_DoD  ...  Nikkei225_DoD  Hang_Seng_DoD  SHSZ300_DoD\n",
              "0 2002-01-02          NaN       NaN  ...            NaN            NaN          NaN\n",
              "1 2002-01-03     0.019259  0.019817  ...       0.000000       0.006402     0.000000\n",
              "2 2002-01-04     0.000940  0.009191  ...       0.000000       0.024391     0.000000\n",
              "3 2002-01-07    -0.005673 -0.016265  ...       0.006519       0.016278    -0.010923\n",
              "4 2002-01-08    -0.008161  0.000793  ...      -0.022551      -0.015045    -0.007196\n",
              "\n",
              "[5 rows x 7 columns]"
            ]
          },
          "metadata": {},
          "execution_count": 37
        }
      ]
    },
    {
      "cell_type": "markdown",
      "source": [
        "2(e) Acquire tresaury bond (1-yr, 3yr, 10-yr) market daily performance"
      ],
      "metadata": {
        "id": "GWvXy4qvacOq"
      }
    },
    {
      "cell_type": "code",
      "source": [
        "tbond_data = pd.read_csv('/content/other_data/tbond.csv')\n",
        "\n",
        "tbond_data = tbond_data[['date', '3M', '1Y', '10Y']]\n",
        "tbond_data['date'] = pd.to_datetime(tbond_data.date)\n",
        "tbond_data = tbond_data[tbond_data['date'] < pd.Timestamp(2020,1,1)]\n",
        "\n",
        "tbond_data['3M_DoD'] = tbond_data['3M'].pct_change(1)\n",
        "tbond_data['1Y_DoD'] = tbond_data['1Y'].pct_change(1)\n",
        "tbond_data['10Y_DoD'] = tbond_data['10Y'].pct_change(1)\n",
        "tbond_data = tbond_data[['date', '3M_DoD', '1Y_DoD','10Y_DoD']]\n",
        "                        \n",
        "tbond_data.head()"
      ],
      "metadata": {
        "colab": {
          "base_uri": "https://localhost:8080/",
          "height": 206
        },
        "id": "wHlQIvh5agym",
        "outputId": "d3c19f7e-6536-410c-96c0-0be269e29e44"
      },
      "execution_count": null,
      "outputs": [
        {
          "output_type": "execute_result",
          "data": {
            "text/html": [
              "\n",
              "  <div id=\"df-565c2458-8823-4e74-82be-aaf2ab24bdb7\">\n",
              "    <div class=\"colab-df-container\">\n",
              "      <div>\n",
              "<style scoped>\n",
              "    .dataframe tbody tr th:only-of-type {\n",
              "        vertical-align: middle;\n",
              "    }\n",
              "\n",
              "    .dataframe tbody tr th {\n",
              "        vertical-align: top;\n",
              "    }\n",
              "\n",
              "    .dataframe thead th {\n",
              "        text-align: right;\n",
              "    }\n",
              "</style>\n",
              "<table border=\"1\" class=\"dataframe\">\n",
              "  <thead>\n",
              "    <tr style=\"text-align: right;\">\n",
              "      <th></th>\n",
              "      <th>date</th>\n",
              "      <th>3M_DoD</th>\n",
              "      <th>1Y_DoD</th>\n",
              "      <th>10Y_DoD</th>\n",
              "    </tr>\n",
              "  </thead>\n",
              "  <tbody>\n",
              "    <tr>\n",
              "      <th>0</th>\n",
              "      <td>2002-01-02</td>\n",
              "      <td>NaN</td>\n",
              "      <td>NaN</td>\n",
              "      <td>NaN</td>\n",
              "    </tr>\n",
              "    <tr>\n",
              "      <th>1</th>\n",
              "      <td>2002-01-03</td>\n",
              "      <td>-0.005747</td>\n",
              "      <td>-0.017544</td>\n",
              "      <td>-0.007692</td>\n",
              "    </tr>\n",
              "    <tr>\n",
              "      <th>2</th>\n",
              "      <td>2002-01-04</td>\n",
              "      <td>-0.005780</td>\n",
              "      <td>0.004464</td>\n",
              "      <td>0.003876</td>\n",
              "    </tr>\n",
              "    <tr>\n",
              "      <th>3</th>\n",
              "      <td>2002-01-07</td>\n",
              "      <td>-0.023256</td>\n",
              "      <td>-0.026667</td>\n",
              "      <td>-0.017375</td>\n",
              "    </tr>\n",
              "    <tr>\n",
              "      <th>4</th>\n",
              "      <td>2002-01-08</td>\n",
              "      <td>0.000000</td>\n",
              "      <td>0.000000</td>\n",
              "      <td>0.001965</td>\n",
              "    </tr>\n",
              "  </tbody>\n",
              "</table>\n",
              "</div>\n",
              "      <button class=\"colab-df-convert\" onclick=\"convertToInteractive('df-565c2458-8823-4e74-82be-aaf2ab24bdb7')\"\n",
              "              title=\"Convert this dataframe to an interactive table.\"\n",
              "              style=\"display:none;\">\n",
              "        \n",
              "  <svg xmlns=\"http://www.w3.org/2000/svg\" height=\"24px\"viewBox=\"0 0 24 24\"\n",
              "       width=\"24px\">\n",
              "    <path d=\"M0 0h24v24H0V0z\" fill=\"none\"/>\n",
              "    <path d=\"M18.56 5.44l.94 2.06.94-2.06 2.06-.94-2.06-.94-.94-2.06-.94 2.06-2.06.94zm-11 1L8.5 8.5l.94-2.06 2.06-.94-2.06-.94L8.5 2.5l-.94 2.06-2.06.94zm10 10l.94 2.06.94-2.06 2.06-.94-2.06-.94-.94-2.06-.94 2.06-2.06.94z\"/><path d=\"M17.41 7.96l-1.37-1.37c-.4-.4-.92-.59-1.43-.59-.52 0-1.04.2-1.43.59L10.3 9.45l-7.72 7.72c-.78.78-.78 2.05 0 2.83L4 21.41c.39.39.9.59 1.41.59.51 0 1.02-.2 1.41-.59l7.78-7.78 2.81-2.81c.8-.78.8-2.07 0-2.86zM5.41 20L4 18.59l7.72-7.72 1.47 1.35L5.41 20z\"/>\n",
              "  </svg>\n",
              "      </button>\n",
              "      \n",
              "  <style>\n",
              "    .colab-df-container {\n",
              "      display:flex;\n",
              "      flex-wrap:wrap;\n",
              "      gap: 12px;\n",
              "    }\n",
              "\n",
              "    .colab-df-convert {\n",
              "      background-color: #E8F0FE;\n",
              "      border: none;\n",
              "      border-radius: 50%;\n",
              "      cursor: pointer;\n",
              "      display: none;\n",
              "      fill: #1967D2;\n",
              "      height: 32px;\n",
              "      padding: 0 0 0 0;\n",
              "      width: 32px;\n",
              "    }\n",
              "\n",
              "    .colab-df-convert:hover {\n",
              "      background-color: #E2EBFA;\n",
              "      box-shadow: 0px 1px 2px rgba(60, 64, 67, 0.3), 0px 1px 3px 1px rgba(60, 64, 67, 0.15);\n",
              "      fill: #174EA6;\n",
              "    }\n",
              "\n",
              "    [theme=dark] .colab-df-convert {\n",
              "      background-color: #3B4455;\n",
              "      fill: #D2E3FC;\n",
              "    }\n",
              "\n",
              "    [theme=dark] .colab-df-convert:hover {\n",
              "      background-color: #434B5C;\n",
              "      box-shadow: 0px 1px 3px 1px rgba(0, 0, 0, 0.15);\n",
              "      filter: drop-shadow(0px 1px 2px rgba(0, 0, 0, 0.3));\n",
              "      fill: #FFFFFF;\n",
              "    }\n",
              "  </style>\n",
              "\n",
              "      <script>\n",
              "        const buttonEl =\n",
              "          document.querySelector('#df-565c2458-8823-4e74-82be-aaf2ab24bdb7 button.colab-df-convert');\n",
              "        buttonEl.style.display =\n",
              "          google.colab.kernel.accessAllowed ? 'block' : 'none';\n",
              "\n",
              "        async function convertToInteractive(key) {\n",
              "          const element = document.querySelector('#df-565c2458-8823-4e74-82be-aaf2ab24bdb7');\n",
              "          const dataTable =\n",
              "            await google.colab.kernel.invokeFunction('convertToInteractive',\n",
              "                                                     [key], {});\n",
              "          if (!dataTable) return;\n",
              "\n",
              "          const docLinkHtml = 'Like what you see? Visit the ' +\n",
              "            '<a target=\"_blank\" href=https://colab.research.google.com/notebooks/data_table.ipynb>data table notebook</a>'\n",
              "            + ' to learn more about interactive tables.';\n",
              "          element.innerHTML = '';\n",
              "          dataTable['output_type'] = 'display_data';\n",
              "          await google.colab.output.renderOutput(dataTable, element);\n",
              "          const docLink = document.createElement('div');\n",
              "          docLink.innerHTML = docLinkHtml;\n",
              "          element.appendChild(docLink);\n",
              "        }\n",
              "      </script>\n",
              "    </div>\n",
              "  </div>\n",
              "  "
            ],
            "text/plain": [
              "        date    3M_DoD    1Y_DoD   10Y_DoD\n",
              "0 2002-01-02       NaN       NaN       NaN\n",
              "1 2002-01-03 -0.005747 -0.017544 -0.007692\n",
              "2 2002-01-04 -0.005780  0.004464  0.003876\n",
              "3 2002-01-07 -0.023256 -0.026667 -0.017375\n",
              "4 2002-01-08  0.000000  0.000000  0.001965"
            ]
          },
          "metadata": {},
          "execution_count": 38
        }
      ]
    },
    {
      "cell_type": "markdown",
      "source": [
        "2(f) Acquire forex market (USD/EUR, USD/JPY, USD/AUD, etc.) daily performance"
      ],
      "metadata": {
        "id": "_JS9iwgV-Bap"
      }
    },
    {
      "cell_type": "code",
      "source": [
        "forex_data = pd.read_csv('/content/other_data/forex.csv')\n",
        "\n",
        "forex_data = forex_data[['date', 'USDGBP', 'USDEUR', 'USDJPY', 'USDHKD', 'USDAUD', 'USDCAD']]\n",
        "\n",
        "# filling missing data\n",
        "forex_data = forex_data.fillna(method='ffill')\n",
        "\n",
        "# convert data format\n",
        "forex_data['date'] = pd.to_datetime(forex_data.date)\n",
        "forex_data = forex_data[forex_data['date'] < pd.Timestamp(2020,1,1)]\n",
        "\n",
        "# calculating day-over-day % price change\n",
        "forex_data['USDGBP_DoD'] = forex_data['USDGBP'].pct_change(1)\n",
        "forex_data['USDEUR_DoD'] = forex_data['USDEUR'].pct_change(1)\n",
        "forex_data['USDJPY_DoD'] = forex_data['USDJPY'].pct_change(1)\n",
        "forex_data['USDHKD_DoD'] = forex_data['USDHKD'].pct_change(1)\n",
        "forex_data['USDAUD_DoD'] = forex_data['USDAUD'].pct_change(1)\n",
        "forex_data['USDCAD_DoD'] = forex_data['USDCAD'].pct_change(1)\n",
        "forex_data = forex_data[['date', 'USDGBP_DoD', 'USDEUR_DoD', 'USDJPY_DoD', 'USDHKD_DoD', 'USDAUD_DoD', 'USDCAD_DoD']]\n",
        "                        \n",
        "forex_data.head()"
      ],
      "metadata": {
        "colab": {
          "base_uri": "https://localhost:8080/",
          "height": 206
        },
        "id": "UqA0M0or-Bwb",
        "outputId": "9d119238-de71-4ca7-c7e6-9729562ec208"
      },
      "execution_count": null,
      "outputs": [
        {
          "output_type": "execute_result",
          "data": {
            "text/html": [
              "\n",
              "  <div id=\"df-1ac70061-2f26-46dc-a8da-bcc729dd0d3e\">\n",
              "    <div class=\"colab-df-container\">\n",
              "      <div>\n",
              "<style scoped>\n",
              "    .dataframe tbody tr th:only-of-type {\n",
              "        vertical-align: middle;\n",
              "    }\n",
              "\n",
              "    .dataframe tbody tr th {\n",
              "        vertical-align: top;\n",
              "    }\n",
              "\n",
              "    .dataframe thead th {\n",
              "        text-align: right;\n",
              "    }\n",
              "</style>\n",
              "<table border=\"1\" class=\"dataframe\">\n",
              "  <thead>\n",
              "    <tr style=\"text-align: right;\">\n",
              "      <th></th>\n",
              "      <th>date</th>\n",
              "      <th>USDGBP_DoD</th>\n",
              "      <th>USDEUR_DoD</th>\n",
              "      <th>USDJPY_DoD</th>\n",
              "      <th>USDHKD_DoD</th>\n",
              "      <th>USDAUD_DoD</th>\n",
              "      <th>USDCAD_DoD</th>\n",
              "    </tr>\n",
              "  </thead>\n",
              "  <tbody>\n",
              "    <tr>\n",
              "      <th>0</th>\n",
              "      <td>2002-01-02</td>\n",
              "      <td>NaN</td>\n",
              "      <td>NaN</td>\n",
              "      <td>NaN</td>\n",
              "      <td>NaN</td>\n",
              "      <td>NaN</td>\n",
              "      <td>NaN</td>\n",
              "    </tr>\n",
              "    <tr>\n",
              "      <th>1</th>\n",
              "      <td>2002-01-03</td>\n",
              "      <td>0.005496</td>\n",
              "      <td>-0.003692</td>\n",
              "      <td>0.000304</td>\n",
              "      <td>-0.000026</td>\n",
              "      <td>-0.000412</td>\n",
              "      <td>0.001317</td>\n",
              "    </tr>\n",
              "    <tr>\n",
              "      <th>2</th>\n",
              "      <td>2002-01-04</td>\n",
              "      <td>-0.006185</td>\n",
              "      <td>0.009219</td>\n",
              "      <td>-0.004331</td>\n",
              "      <td>0.000038</td>\n",
              "      <td>-0.011121</td>\n",
              "      <td>-0.000626</td>\n",
              "    </tr>\n",
              "    <tr>\n",
              "      <th>3</th>\n",
              "      <td>2002-01-07</td>\n",
              "      <td>0.004921</td>\n",
              "      <td>0.002418</td>\n",
              "      <td>-0.001908</td>\n",
              "      <td>0.000077</td>\n",
              "      <td>0.004634</td>\n",
              "      <td>-0.000689</td>\n",
              "    </tr>\n",
              "    <tr>\n",
              "      <th>4</th>\n",
              "      <td>2002-01-08</td>\n",
              "      <td>0.000720</td>\n",
              "      <td>0.003484</td>\n",
              "      <td>0.014221</td>\n",
              "      <td>0.000013</td>\n",
              "      <td>-0.010158</td>\n",
              "      <td>0.004704</td>\n",
              "    </tr>\n",
              "  </tbody>\n",
              "</table>\n",
              "</div>\n",
              "      <button class=\"colab-df-convert\" onclick=\"convertToInteractive('df-1ac70061-2f26-46dc-a8da-bcc729dd0d3e')\"\n",
              "              title=\"Convert this dataframe to an interactive table.\"\n",
              "              style=\"display:none;\">\n",
              "        \n",
              "  <svg xmlns=\"http://www.w3.org/2000/svg\" height=\"24px\"viewBox=\"0 0 24 24\"\n",
              "       width=\"24px\">\n",
              "    <path d=\"M0 0h24v24H0V0z\" fill=\"none\"/>\n",
              "    <path d=\"M18.56 5.44l.94 2.06.94-2.06 2.06-.94-2.06-.94-.94-2.06-.94 2.06-2.06.94zm-11 1L8.5 8.5l.94-2.06 2.06-.94-2.06-.94L8.5 2.5l-.94 2.06-2.06.94zm10 10l.94 2.06.94-2.06 2.06-.94-2.06-.94-.94-2.06-.94 2.06-2.06.94z\"/><path d=\"M17.41 7.96l-1.37-1.37c-.4-.4-.92-.59-1.43-.59-.52 0-1.04.2-1.43.59L10.3 9.45l-7.72 7.72c-.78.78-.78 2.05 0 2.83L4 21.41c.39.39.9.59 1.41.59.51 0 1.02-.2 1.41-.59l7.78-7.78 2.81-2.81c.8-.78.8-2.07 0-2.86zM5.41 20L4 18.59l7.72-7.72 1.47 1.35L5.41 20z\"/>\n",
              "  </svg>\n",
              "      </button>\n",
              "      \n",
              "  <style>\n",
              "    .colab-df-container {\n",
              "      display:flex;\n",
              "      flex-wrap:wrap;\n",
              "      gap: 12px;\n",
              "    }\n",
              "\n",
              "    .colab-df-convert {\n",
              "      background-color: #E8F0FE;\n",
              "      border: none;\n",
              "      border-radius: 50%;\n",
              "      cursor: pointer;\n",
              "      display: none;\n",
              "      fill: #1967D2;\n",
              "      height: 32px;\n",
              "      padding: 0 0 0 0;\n",
              "      width: 32px;\n",
              "    }\n",
              "\n",
              "    .colab-df-convert:hover {\n",
              "      background-color: #E2EBFA;\n",
              "      box-shadow: 0px 1px 2px rgba(60, 64, 67, 0.3), 0px 1px 3px 1px rgba(60, 64, 67, 0.15);\n",
              "      fill: #174EA6;\n",
              "    }\n",
              "\n",
              "    [theme=dark] .colab-df-convert {\n",
              "      background-color: #3B4455;\n",
              "      fill: #D2E3FC;\n",
              "    }\n",
              "\n",
              "    [theme=dark] .colab-df-convert:hover {\n",
              "      background-color: #434B5C;\n",
              "      box-shadow: 0px 1px 3px 1px rgba(0, 0, 0, 0.15);\n",
              "      filter: drop-shadow(0px 1px 2px rgba(0, 0, 0, 0.3));\n",
              "      fill: #FFFFFF;\n",
              "    }\n",
              "  </style>\n",
              "\n",
              "      <script>\n",
              "        const buttonEl =\n",
              "          document.querySelector('#df-1ac70061-2f26-46dc-a8da-bcc729dd0d3e button.colab-df-convert');\n",
              "        buttonEl.style.display =\n",
              "          google.colab.kernel.accessAllowed ? 'block' : 'none';\n",
              "\n",
              "        async function convertToInteractive(key) {\n",
              "          const element = document.querySelector('#df-1ac70061-2f26-46dc-a8da-bcc729dd0d3e');\n",
              "          const dataTable =\n",
              "            await google.colab.kernel.invokeFunction('convertToInteractive',\n",
              "                                                     [key], {});\n",
              "          if (!dataTable) return;\n",
              "\n",
              "          const docLinkHtml = 'Like what you see? Visit the ' +\n",
              "            '<a target=\"_blank\" href=https://colab.research.google.com/notebooks/data_table.ipynb>data table notebook</a>'\n",
              "            + ' to learn more about interactive tables.';\n",
              "          element.innerHTML = '';\n",
              "          dataTable['output_type'] = 'display_data';\n",
              "          await google.colab.output.renderOutput(dataTable, element);\n",
              "          const docLink = document.createElement('div');\n",
              "          docLink.innerHTML = docLinkHtml;\n",
              "          element.appendChild(docLink);\n",
              "        }\n",
              "      </script>\n",
              "    </div>\n",
              "  </div>\n",
              "  "
            ],
            "text/plain": [
              "        date  USDGBP_DoD  USDEUR_DoD  ...  USDHKD_DoD  USDAUD_DoD  USDCAD_DoD\n",
              "0 2002-01-02         NaN         NaN  ...         NaN         NaN         NaN\n",
              "1 2002-01-03    0.005496   -0.003692  ...   -0.000026   -0.000412    0.001317\n",
              "2 2002-01-04   -0.006185    0.009219  ...    0.000038   -0.011121   -0.000626\n",
              "3 2002-01-07    0.004921    0.002418  ...    0.000077    0.004634   -0.000689\n",
              "4 2002-01-08    0.000720    0.003484  ...    0.000013   -0.010158    0.004704\n",
              "\n",
              "[5 rows x 7 columns]"
            ]
          },
          "metadata": {},
          "execution_count": 39
        }
      ]
    },
    {
      "cell_type": "markdown",
      "source": [
        "2(g) Acquire economic data, including monthly unemployment rate, quarterly yoy GDP growth"
      ],
      "metadata": {
        "id": "7JjWUMtZag9-"
      }
    },
    {
      "cell_type": "code",
      "source": [
        "gdp_data = pd.read_csv('/content/other_data/gdp.csv')\n",
        "\n",
        "gdp_data = gdp_data[['date', 'real_gdp']]\n",
        "\n",
        "# filling missing data\n",
        "gdp_data = gdp_data.fillna(method='ffill')\n",
        "\n",
        "# convert data format\n",
        "gdp_data['date'] = pd.to_datetime(gdp_data.date)\n",
        "gdp_data = gdp_data[gdp_data['date'] < pd.Timestamp(2020,1,1)]\n",
        "gdp_data['real_gdp_QoQ'] = gdp_data['real_gdp'].pct_change(1)\n",
        "gdp_data = gdp_data.drop(columns=['real_gdp'])\n",
        "\n",
        "# add quarter column\n",
        "gdp_data['quarter'] = gdp_data['date'].dt.to_period('Q')\n",
        "\n",
        "gdp_data.head()"
      ],
      "metadata": {
        "id": "PPdhac8DakMW",
        "colab": {
          "base_uri": "https://localhost:8080/",
          "height": 206
        },
        "outputId": "d7bf107f-acac-463f-fbff-286e642285eb"
      },
      "execution_count": null,
      "outputs": [
        {
          "output_type": "execute_result",
          "data": {
            "text/html": [
              "\n",
              "  <div id=\"df-d0633dfe-3e05-4cc3-a45a-1d8cc76821a1\">\n",
              "    <div class=\"colab-df-container\">\n",
              "      <div>\n",
              "<style scoped>\n",
              "    .dataframe tbody tr th:only-of-type {\n",
              "        vertical-align: middle;\n",
              "    }\n",
              "\n",
              "    .dataframe tbody tr th {\n",
              "        vertical-align: top;\n",
              "    }\n",
              "\n",
              "    .dataframe thead th {\n",
              "        text-align: right;\n",
              "    }\n",
              "</style>\n",
              "<table border=\"1\" class=\"dataframe\">\n",
              "  <thead>\n",
              "    <tr style=\"text-align: right;\">\n",
              "      <th></th>\n",
              "      <th>date</th>\n",
              "      <th>real_gdp_QoQ</th>\n",
              "      <th>quarter</th>\n",
              "    </tr>\n",
              "  </thead>\n",
              "  <tbody>\n",
              "    <tr>\n",
              "      <th>0</th>\n",
              "      <td>2002-03-31</td>\n",
              "      <td>NaN</td>\n",
              "      <td>2002Q1</td>\n",
              "    </tr>\n",
              "    <tr>\n",
              "      <th>1</th>\n",
              "      <td>2002-06-30</td>\n",
              "      <td>0.006159</td>\n",
              "      <td>2002Q2</td>\n",
              "    </tr>\n",
              "    <tr>\n",
              "      <th>2</th>\n",
              "      <td>2002-09-30</td>\n",
              "      <td>0.004029</td>\n",
              "      <td>2002Q3</td>\n",
              "    </tr>\n",
              "    <tr>\n",
              "      <th>3</th>\n",
              "      <td>2002-12-31</td>\n",
              "      <td>0.001308</td>\n",
              "      <td>2002Q4</td>\n",
              "    </tr>\n",
              "    <tr>\n",
              "      <th>4</th>\n",
              "      <td>2003-03-31</td>\n",
              "      <td>0.005166</td>\n",
              "      <td>2003Q1</td>\n",
              "    </tr>\n",
              "  </tbody>\n",
              "</table>\n",
              "</div>\n",
              "      <button class=\"colab-df-convert\" onclick=\"convertToInteractive('df-d0633dfe-3e05-4cc3-a45a-1d8cc76821a1')\"\n",
              "              title=\"Convert this dataframe to an interactive table.\"\n",
              "              style=\"display:none;\">\n",
              "        \n",
              "  <svg xmlns=\"http://www.w3.org/2000/svg\" height=\"24px\"viewBox=\"0 0 24 24\"\n",
              "       width=\"24px\">\n",
              "    <path d=\"M0 0h24v24H0V0z\" fill=\"none\"/>\n",
              "    <path d=\"M18.56 5.44l.94 2.06.94-2.06 2.06-.94-2.06-.94-.94-2.06-.94 2.06-2.06.94zm-11 1L8.5 8.5l.94-2.06 2.06-.94-2.06-.94L8.5 2.5l-.94 2.06-2.06.94zm10 10l.94 2.06.94-2.06 2.06-.94-2.06-.94-.94-2.06-.94 2.06-2.06.94z\"/><path d=\"M17.41 7.96l-1.37-1.37c-.4-.4-.92-.59-1.43-.59-.52 0-1.04.2-1.43.59L10.3 9.45l-7.72 7.72c-.78.78-.78 2.05 0 2.83L4 21.41c.39.39.9.59 1.41.59.51 0 1.02-.2 1.41-.59l7.78-7.78 2.81-2.81c.8-.78.8-2.07 0-2.86zM5.41 20L4 18.59l7.72-7.72 1.47 1.35L5.41 20z\"/>\n",
              "  </svg>\n",
              "      </button>\n",
              "      \n",
              "  <style>\n",
              "    .colab-df-container {\n",
              "      display:flex;\n",
              "      flex-wrap:wrap;\n",
              "      gap: 12px;\n",
              "    }\n",
              "\n",
              "    .colab-df-convert {\n",
              "      background-color: #E8F0FE;\n",
              "      border: none;\n",
              "      border-radius: 50%;\n",
              "      cursor: pointer;\n",
              "      display: none;\n",
              "      fill: #1967D2;\n",
              "      height: 32px;\n",
              "      padding: 0 0 0 0;\n",
              "      width: 32px;\n",
              "    }\n",
              "\n",
              "    .colab-df-convert:hover {\n",
              "      background-color: #E2EBFA;\n",
              "      box-shadow: 0px 1px 2px rgba(60, 64, 67, 0.3), 0px 1px 3px 1px rgba(60, 64, 67, 0.15);\n",
              "      fill: #174EA6;\n",
              "    }\n",
              "\n",
              "    [theme=dark] .colab-df-convert {\n",
              "      background-color: #3B4455;\n",
              "      fill: #D2E3FC;\n",
              "    }\n",
              "\n",
              "    [theme=dark] .colab-df-convert:hover {\n",
              "      background-color: #434B5C;\n",
              "      box-shadow: 0px 1px 3px 1px rgba(0, 0, 0, 0.15);\n",
              "      filter: drop-shadow(0px 1px 2px rgba(0, 0, 0, 0.3));\n",
              "      fill: #FFFFFF;\n",
              "    }\n",
              "  </style>\n",
              "\n",
              "      <script>\n",
              "        const buttonEl =\n",
              "          document.querySelector('#df-d0633dfe-3e05-4cc3-a45a-1d8cc76821a1 button.colab-df-convert');\n",
              "        buttonEl.style.display =\n",
              "          google.colab.kernel.accessAllowed ? 'block' : 'none';\n",
              "\n",
              "        async function convertToInteractive(key) {\n",
              "          const element = document.querySelector('#df-d0633dfe-3e05-4cc3-a45a-1d8cc76821a1');\n",
              "          const dataTable =\n",
              "            await google.colab.kernel.invokeFunction('convertToInteractive',\n",
              "                                                     [key], {});\n",
              "          if (!dataTable) return;\n",
              "\n",
              "          const docLinkHtml = 'Like what you see? Visit the ' +\n",
              "            '<a target=\"_blank\" href=https://colab.research.google.com/notebooks/data_table.ipynb>data table notebook</a>'\n",
              "            + ' to learn more about interactive tables.';\n",
              "          element.innerHTML = '';\n",
              "          dataTable['output_type'] = 'display_data';\n",
              "          await google.colab.output.renderOutput(dataTable, element);\n",
              "          const docLink = document.createElement('div');\n",
              "          docLink.innerHTML = docLinkHtml;\n",
              "          element.appendChild(docLink);\n",
              "        }\n",
              "      </script>\n",
              "    </div>\n",
              "  </div>\n",
              "  "
            ],
            "text/plain": [
              "        date  real_gdp_QoQ quarter\n",
              "0 2002-03-31           NaN  2002Q1\n",
              "1 2002-06-30      0.006159  2002Q2\n",
              "2 2002-09-30      0.004029  2002Q3\n",
              "3 2002-12-31      0.001308  2002Q4\n",
              "4 2003-03-31      0.005166  2003Q1"
            ]
          },
          "metadata": {},
          "execution_count": 113
        }
      ]
    },
    {
      "cell_type": "markdown",
      "source": [
        "2(h) Acquire monthly unemployment data.  "
      ],
      "metadata": {
        "id": "yn0V9VrGuJ0z"
      }
    },
    {
      "cell_type": "code",
      "source": [
        "unemployment_data = pd.read_csv('/content/other_data/unemployment.csv')\n",
        "\n",
        "unemployment_data = unemployment_data[['date', 'unemployment']]\n",
        "\n",
        "# filling missing data\n",
        "unemployment_data = unemployment_data.fillna(method='ffill')\n",
        "\n",
        "# convert data format\n",
        "unemployment_data['date'] = pd.to_datetime(unemployment_data.date)\n",
        "unemployment_data = unemployment_data[unemployment_data['date'] < pd.Timestamp(2020,1,1)]\n",
        "unemployment_data['unemployment_MoM'] = unemployment_data['unemployment'].pct_change(1)\n",
        "unemployment_data = unemployment_data.drop(columns=['unemployment'])\n",
        "\n",
        "# add month column\n",
        "unemployment_data['month'] = unemployment_data['date'].dt.to_period('M')\n",
        "\n",
        "unemployment_data.head()"
      ],
      "metadata": {
        "colab": {
          "base_uri": "https://localhost:8080/",
          "height": 206
        },
        "id": "UtmoeCMouJ-X",
        "outputId": "0621b46c-ca2d-4125-ea69-456b478af3c1"
      },
      "execution_count": null,
      "outputs": [
        {
          "output_type": "execute_result",
          "data": {
            "text/html": [
              "\n",
              "  <div id=\"df-b5298654-6bef-4ff9-86ff-c81f4066f111\">\n",
              "    <div class=\"colab-df-container\">\n",
              "      <div>\n",
              "<style scoped>\n",
              "    .dataframe tbody tr th:only-of-type {\n",
              "        vertical-align: middle;\n",
              "    }\n",
              "\n",
              "    .dataframe tbody tr th {\n",
              "        vertical-align: top;\n",
              "    }\n",
              "\n",
              "    .dataframe thead th {\n",
              "        text-align: right;\n",
              "    }\n",
              "</style>\n",
              "<table border=\"1\" class=\"dataframe\">\n",
              "  <thead>\n",
              "    <tr style=\"text-align: right;\">\n",
              "      <th></th>\n",
              "      <th>date</th>\n",
              "      <th>unemployment_MoM</th>\n",
              "      <th>month</th>\n",
              "    </tr>\n",
              "  </thead>\n",
              "  <tbody>\n",
              "    <tr>\n",
              "      <th>0</th>\n",
              "      <td>2002-01-31</td>\n",
              "      <td>NaN</td>\n",
              "      <td>2002-01</td>\n",
              "    </tr>\n",
              "    <tr>\n",
              "      <th>1</th>\n",
              "      <td>2002-02-28</td>\n",
              "      <td>0.000000</td>\n",
              "      <td>2002-02</td>\n",
              "    </tr>\n",
              "    <tr>\n",
              "      <th>2</th>\n",
              "      <td>2002-03-31</td>\n",
              "      <td>0.000000</td>\n",
              "      <td>2002-03</td>\n",
              "    </tr>\n",
              "    <tr>\n",
              "      <th>3</th>\n",
              "      <td>2002-04-30</td>\n",
              "      <td>0.035088</td>\n",
              "      <td>2002-04</td>\n",
              "    </tr>\n",
              "    <tr>\n",
              "      <th>4</th>\n",
              "      <td>2002-05-31</td>\n",
              "      <td>-0.016949</td>\n",
              "      <td>2002-05</td>\n",
              "    </tr>\n",
              "  </tbody>\n",
              "</table>\n",
              "</div>\n",
              "      <button class=\"colab-df-convert\" onclick=\"convertToInteractive('df-b5298654-6bef-4ff9-86ff-c81f4066f111')\"\n",
              "              title=\"Convert this dataframe to an interactive table.\"\n",
              "              style=\"display:none;\">\n",
              "        \n",
              "  <svg xmlns=\"http://www.w3.org/2000/svg\" height=\"24px\"viewBox=\"0 0 24 24\"\n",
              "       width=\"24px\">\n",
              "    <path d=\"M0 0h24v24H0V0z\" fill=\"none\"/>\n",
              "    <path d=\"M18.56 5.44l.94 2.06.94-2.06 2.06-.94-2.06-.94-.94-2.06-.94 2.06-2.06.94zm-11 1L8.5 8.5l.94-2.06 2.06-.94-2.06-.94L8.5 2.5l-.94 2.06-2.06.94zm10 10l.94 2.06.94-2.06 2.06-.94-2.06-.94-.94-2.06-.94 2.06-2.06.94z\"/><path d=\"M17.41 7.96l-1.37-1.37c-.4-.4-.92-.59-1.43-.59-.52 0-1.04.2-1.43.59L10.3 9.45l-7.72 7.72c-.78.78-.78 2.05 0 2.83L4 21.41c.39.39.9.59 1.41.59.51 0 1.02-.2 1.41-.59l7.78-7.78 2.81-2.81c.8-.78.8-2.07 0-2.86zM5.41 20L4 18.59l7.72-7.72 1.47 1.35L5.41 20z\"/>\n",
              "  </svg>\n",
              "      </button>\n",
              "      \n",
              "  <style>\n",
              "    .colab-df-container {\n",
              "      display:flex;\n",
              "      flex-wrap:wrap;\n",
              "      gap: 12px;\n",
              "    }\n",
              "\n",
              "    .colab-df-convert {\n",
              "      background-color: #E8F0FE;\n",
              "      border: none;\n",
              "      border-radius: 50%;\n",
              "      cursor: pointer;\n",
              "      display: none;\n",
              "      fill: #1967D2;\n",
              "      height: 32px;\n",
              "      padding: 0 0 0 0;\n",
              "      width: 32px;\n",
              "    }\n",
              "\n",
              "    .colab-df-convert:hover {\n",
              "      background-color: #E2EBFA;\n",
              "      box-shadow: 0px 1px 2px rgba(60, 64, 67, 0.3), 0px 1px 3px 1px rgba(60, 64, 67, 0.15);\n",
              "      fill: #174EA6;\n",
              "    }\n",
              "\n",
              "    [theme=dark] .colab-df-convert {\n",
              "      background-color: #3B4455;\n",
              "      fill: #D2E3FC;\n",
              "    }\n",
              "\n",
              "    [theme=dark] .colab-df-convert:hover {\n",
              "      background-color: #434B5C;\n",
              "      box-shadow: 0px 1px 3px 1px rgba(0, 0, 0, 0.15);\n",
              "      filter: drop-shadow(0px 1px 2px rgba(0, 0, 0, 0.3));\n",
              "      fill: #FFFFFF;\n",
              "    }\n",
              "  </style>\n",
              "\n",
              "      <script>\n",
              "        const buttonEl =\n",
              "          document.querySelector('#df-b5298654-6bef-4ff9-86ff-c81f4066f111 button.colab-df-convert');\n",
              "        buttonEl.style.display =\n",
              "          google.colab.kernel.accessAllowed ? 'block' : 'none';\n",
              "\n",
              "        async function convertToInteractive(key) {\n",
              "          const element = document.querySelector('#df-b5298654-6bef-4ff9-86ff-c81f4066f111');\n",
              "          const dataTable =\n",
              "            await google.colab.kernel.invokeFunction('convertToInteractive',\n",
              "                                                     [key], {});\n",
              "          if (!dataTable) return;\n",
              "\n",
              "          const docLinkHtml = 'Like what you see? Visit the ' +\n",
              "            '<a target=\"_blank\" href=https://colab.research.google.com/notebooks/data_table.ipynb>data table notebook</a>'\n",
              "            + ' to learn more about interactive tables.';\n",
              "          element.innerHTML = '';\n",
              "          dataTable['output_type'] = 'display_data';\n",
              "          await google.colab.output.renderOutput(dataTable, element);\n",
              "          const docLink = document.createElement('div');\n",
              "          docLink.innerHTML = docLinkHtml;\n",
              "          element.appendChild(docLink);\n",
              "        }\n",
              "      </script>\n",
              "    </div>\n",
              "  </div>\n",
              "  "
            ],
            "text/plain": [
              "        date  unemployment_MoM    month\n",
              "0 2002-01-31               NaN  2002-01\n",
              "1 2002-02-28          0.000000  2002-02\n",
              "2 2002-03-31          0.000000  2002-03\n",
              "3 2002-04-30          0.035088  2002-04\n",
              "4 2002-05-31         -0.016949  2002-05"
            ]
          },
          "metadata": {},
          "execution_count": 112
        }
      ]
    },
    {
      "cell_type": "markdown",
      "source": [
        "### Step 3: Merge 2(a) - 2(h) into a single dataframe.  "
      ],
      "metadata": {
        "id": "YPAdUXqkalRZ"
      }
    },
    {
      "cell_type": "code",
      "source": [
        "mega_data = all_stock_data.merge(stockindex_data, left_on='timestamp', right_on='date', how='left')\n",
        "mega_data = mega_data.merge(tbond_data, left_on='timestamp', right_on='date', how='left')\n",
        "mega_data = mega_data.merge(forex_data, left_on='timestamp', right_on='date', how='left')\n",
        "mega_data = mega_data.merge(gdp_data, left_on='quarter', right_on='quarter', how='left')\n",
        "mega_data = mega_data.merge(unemployment_data, left_on='month', right_on='month', how='left')\n",
        "\n",
        "mega_data.info()"
      ],
      "metadata": {
        "id": "s_JYyma5aqKU",
        "colab": {
          "base_uri": "https://localhost:8080/"
        },
        "outputId": "547b2c14-4d36-4e55-958e-b92a372bf867"
      },
      "execution_count": null,
      "outputs": [
        {
          "output_type": "stream",
          "name": "stdout",
          "text": [
            "<class 'pandas.core.frame.DataFrame'>\n",
            "Int64Index: 186682 entries, 0 to 186681\n",
            "Data columns (total 28 columns):\n",
            " #   Column            Non-Null Count   Dtype         \n",
            "---  ------            --------------   -----         \n",
            " 0   symbol            186682 non-null  object        \n",
            " 1   timestamp         186682 non-null  datetime64[ns]\n",
            " 2   adjusted_close    186682 non-null  float64       \n",
            " 3   price_DoD         186681 non-null  float64       \n",
            " 4   quarter           186682 non-null  period[Q-DEC] \n",
            " 5   month             186682 non-null  period[M]     \n",
            " 6   date_x            172504 non-null  datetime64[ns]\n",
            " 7   FTSE100_DoD       172477 non-null  float64       \n",
            " 8   DAX_DoD           172477 non-null  float64       \n",
            " 9   CAC_DoD           172477 non-null  float64       \n",
            " 10  Nikkei225_DoD     172477 non-null  float64       \n",
            " 11  Hang_Seng_DoD     172477 non-null  float64       \n",
            " 12  SHSZ300_DoD       172477 non-null  float64       \n",
            " 13  date_y            171193 non-null  datetime64[ns]\n",
            " 14  3M_DoD            170954 non-null  float64       \n",
            " 15  1Y_DoD            171166 non-null  float64       \n",
            " 16  10Y_DoD           171166 non-null  float64       \n",
            " 17  date_x            172504 non-null  datetime64[ns]\n",
            " 18  USDGBP_DoD        172477 non-null  float64       \n",
            " 19  USDEUR_DoD        172477 non-null  float64       \n",
            " 20  USDJPY_DoD        172477 non-null  float64       \n",
            " 21  USDHKD_DoD        172477 non-null  float64       \n",
            " 22  USDAUD_DoD        172477 non-null  float64       \n",
            " 23  USDCAD_DoD        172477 non-null  float64       \n",
            " 24  date_y            172504 non-null  datetime64[ns]\n",
            " 25  real_gdp_QoQ      170884 non-null  float64       \n",
            " 26  date              172504 non-null  datetime64[ns]\n",
            " 27  unemployment_MoM  171937 non-null  float64       \n",
            "dtypes: datetime64[ns](6), float64(19), object(1), period[M](1), period[Q-DEC](1)\n",
            "memory usage: 41.3+ MB\n"
          ]
        }
      ]
    },
    {
      "cell_type": "markdown",
      "source": [
        "### Step 4:  Cleanning data"
      ],
      "metadata": {
        "id": "4guvgU8Nasqi"
      }
    },
    {
      "cell_type": "code",
      "source": [
        "mega_data = mega_data.drop(columns=['date_x', 'date_y', 'date'])\n",
        "mega_data = mega_data.dropna()\n",
        "mega_data.info()"
      ],
      "metadata": {
        "id": "2F4g9H4haxZZ",
        "colab": {
          "base_uri": "https://localhost:8080/"
        },
        "outputId": "8a58c647-09cf-40c3-dea5-c1b8311741a8"
      },
      "execution_count": null,
      "outputs": [
        {
          "output_type": "stream",
          "name": "stdout",
          "text": [
            "<class 'pandas.core.frame.DataFrame'>\n",
            "Int64Index: 169360 entries, 1 to 186681\n",
            "Data columns (total 23 columns):\n",
            " #   Column            Non-Null Count   Dtype         \n",
            "---  ------            --------------   -----         \n",
            " 0   symbol            169360 non-null  object        \n",
            " 1   timestamp         169360 non-null  datetime64[ns]\n",
            " 2   adjusted_close    169360 non-null  float64       \n",
            " 3   price_DoD         169360 non-null  float64       \n",
            " 4   quarter           169360 non-null  period[Q-DEC] \n",
            " 5   month             169360 non-null  period[M]     \n",
            " 6   FTSE100_DoD       169360 non-null  float64       \n",
            " 7   DAX_DoD           169360 non-null  float64       \n",
            " 8   CAC_DoD           169360 non-null  float64       \n",
            " 9   Nikkei225_DoD     169360 non-null  float64       \n",
            " 10  Hang_Seng_DoD     169360 non-null  float64       \n",
            " 11  SHSZ300_DoD       169360 non-null  float64       \n",
            " 12  3M_DoD            169360 non-null  float64       \n",
            " 13  1Y_DoD            169360 non-null  float64       \n",
            " 14  10Y_DoD           169360 non-null  float64       \n",
            " 15  USDGBP_DoD        169360 non-null  float64       \n",
            " 16  USDEUR_DoD        169360 non-null  float64       \n",
            " 17  USDJPY_DoD        169360 non-null  float64       \n",
            " 18  USDHKD_DoD        169360 non-null  float64       \n",
            " 19  USDAUD_DoD        169360 non-null  float64       \n",
            " 20  USDCAD_DoD        169360 non-null  float64       \n",
            " 21  real_gdp_QoQ      169360 non-null  float64       \n",
            " 22  unemployment_MoM  169360 non-null  float64       \n",
            "dtypes: datetime64[ns](1), float64(19), object(1), period[M](1), period[Q-DEC](1)\n",
            "memory usage: 31.0+ MB\n"
          ]
        }
      ]
    },
    {
      "cell_type": "markdown",
      "source": [
        "# Section 3: Run model"
      ],
      "metadata": {
        "id": "CTsRc6MyDMHD"
      }
    },
    {
      "cell_type": "markdown",
      "source": [
        "### Step 0: Set up environment"
      ],
      "metadata": {
        "id": "tQ52rr1JDPqU"
      }
    },
    {
      "cell_type": "code",
      "source": [
        "# ML\n",
        "from sklearn.linear_model import LinearRegression\n",
        "from sklearn.preprocessing import PolynomialFeatures\n",
        "\n",
        "# Statistics\n",
        "import statsmodels.formula.api as smf\n",
        "import statsmodels.api as sm\n",
        "\n",
        "# Evaluation Metrics\n",
        "from sklearn.metrics import mean_absolute_error\n",
        "from sklearn.metrics import mean_squared_error\n",
        "from sklearn.metrics import r2_score"
      ],
      "metadata": {
        "colab": {
          "base_uri": "https://localhost:8080/"
        },
        "id": "5Kp8TdAfDTU6",
        "outputId": "1fb0648e-75aa-4f55-9573-46abd959aaec"
      },
      "execution_count": null,
      "outputs": [
        {
          "output_type": "stream",
          "name": "stderr",
          "text": [
            "/usr/local/lib/python3.7/dist-packages/statsmodels/tools/_testing.py:19: FutureWarning: pandas.util.testing is deprecated. Use the functions in the public API at pandas.testing instead.\n",
            "  import pandas.util.testing as tm\n"
          ]
        }
      ]
    },
    {
      "cell_type": "markdown",
      "source": [
        "### Step 1: Try linear regression model"
      ],
      "metadata": {
        "id": "lNjak__hDUBn"
      }
    },
    {
      "cell_type": "code",
      "source": [
        "formula = '''price_DoD ~ FTSE100_DoD + DAX_DoD + CAC_DoD + Nikkei225_DoD + Hang_Seng_DoD + SHSZ300_DoD\n",
        "            + 3M_DoD + 1Y_DoD + 10Y_DoD + real_gdp_QoQ + unemployment_MoM\n",
        "            + USDGBP_DoD + USDEUR_DoD + USDJPY_DoD + USDHKD_DoD + USDAUD_DoD + USDCAD_DoD'''\n",
        "lr_model = smf.ols(formula=formula, data=mega_data).fit()\n",
        "print(lr_model.params)\n",
        "lr_model.summary()"
      ],
      "metadata": {
        "colab": {
          "base_uri": "https://localhost:8080/",
          "height": 133
        },
        "id": "5S53UBUBDVjs",
        "outputId": "731da5fc-80f5-44c5-9d2e-056ecc920e47"
      },
      "execution_count": null,
      "outputs": [
        {
          "output_type": "error",
          "ename": "SyntaxError",
          "evalue": "ignored",
          "traceback": [
            "\u001b[0;36m  File \u001b[0;32m\"<unknown>\"\u001b[0;36m, line \u001b[0;32m1\u001b[0m\n\u001b[0;31m    1 Y_DoD\u001b[0m\n\u001b[0m          ^\u001b[0m\n\u001b[0;31mSyntaxError\u001b[0m\u001b[0;31m:\u001b[0m invalid syntax\n"
          ]
        }
      ]
    },
    {
      "cell_type": "markdown",
      "source": [
        "### Step 2: "
      ],
      "metadata": {
        "id": "eCN0UOrUDWHB"
      }
    },
    {
      "cell_type": "code",
      "source": [
        ""
      ],
      "metadata": {
        "id": "6Tog8hdkDXb5"
      },
      "execution_count": null,
      "outputs": []
    },
    {
      "cell_type": "markdown",
      "source": [
        "# Section 4: Evaluate Model"
      ],
      "metadata": {
        "id": "hrB-Vp-ODYmw"
      }
    },
    {
      "cell_type": "markdown",
      "source": [
        "### Step 0: "
      ],
      "metadata": {
        "id": "Ng7R4LZVDbg4"
      }
    },
    {
      "cell_type": "code",
      "source": [
        ""
      ],
      "metadata": {
        "id": "aVc8Myp3Der2"
      },
      "execution_count": null,
      "outputs": []
    },
    {
      "cell_type": "markdown",
      "source": [
        "### Step 1: "
      ],
      "metadata": {
        "id": "xnmHGKnKDe7P"
      }
    },
    {
      "cell_type": "code",
      "source": [
        ""
      ],
      "metadata": {
        "id": "kHQJvhJNDgK1"
      },
      "execution_count": null,
      "outputs": []
    }
  ]
}